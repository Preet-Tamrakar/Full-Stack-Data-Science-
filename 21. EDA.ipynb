{
 "cells": [
  {
   "cell_type": "markdown",
   "id": "5031ba14-4cac-40a6-93c4-aef51ada786a",
   "metadata": {},
   "source": [
    "# EDA - Exploratory Data Analysis "
   ]
  },
  {
   "cell_type": "markdown",
   "id": "6686a08d-e3d3-497d-a410-4dc5338d211e",
   "metadata": {},
   "source": [
    "Exploratory Data Analysis (EDA) is the process of analyzing datasets to summarize which focuses on understanding patterns, trends and relationships through statistical tools and visualizations.\n",
    "+ EDA also called as **FEATURE ENGINEERING TECHENIQUE**\n",
    "\n",
    "It helps:\n",
    "\n",
    "+ Understand the structure` of data (types, distributions, relationships).\n",
    "+ Detect patterns, anomalies, or missing values.\n",
    "+ Guide feature engineering and model selection.\n",
    "\n",
    "👉 In short: EDA is about “getting to know your data before modeling.”"
   ]
  },
  {
   "cell_type": "markdown",
   "id": "4af499c9-948c-4bd9-a6e1-3b36b34606db",
   "metadata": {},
   "source": [
    "## ARCHITECTURE OF EDA "
   ]
  },
  {
   "cell_type": "markdown",
   "id": "b23beefd-21db-4ef6-a695-9ecd00c918a1",
   "metadata": {},
   "source": [
    "Input Source / Data Collection --> Collated Dataset (Data Integration) --> Data Cleaning --> Data Transformation --> Exploratory Analysis --> Feature Engineering --> Final Dataset"
   ]
  },
  {
   "cell_type": "markdown",
   "id": "bf78613f-f349-4fcf-879f-8c1c64077624",
   "metadata": {},
   "source": [
    "1. Input Source / Data Collection\n",
    "   + Get data from files, databases, APIs, sensors, etc"
   ]
  },
  {
   "cell_type": "markdown",
   "id": "2af30a26-574a-4a9b-a95f-fa0e4604f5b9",
   "metadata": {},
   "source": [
    "2. Collated Dataset (Data Integration)\n",
    "   + Combine data from multiple sources into one dataset.\n",
    "   + Handle duplicates, mismatched formats, etc."
   ]
  },
  {
   "cell_type": "markdown",
   "id": "a4e65a8d-d84f-40d0-b69c-409e88ce33c3",
   "metadata": {},
   "source": [
    "3. Data Cleaning\n",
    "   + Remove inconsistencies, duplicates, missing values, outliers."
   ]
  },
  {
   "cell_type": "markdown",
   "id": "9d6faf62-900e-4831-9c41-82c10d85a5c3",
   "metadata": {},
   "source": [
    "4. Data Transformation\n",
    "   + Encoding categorical variables, normalization/scaling, log transforms.\n",
    "   + Feature extraction if needed."
   ]
  },
  {
   "cell_type": "markdown",
   "id": "bbf40f88-3865-481d-9fb0-d1935e77535c",
   "metadata": {},
   "source": [
    "5. Exploratory Analysis\n",
    "   + Univariate & Bivariate analysis, visualization, summary statistics.\n",
    "   + Detect trends, distributions, correlations."
   ]
  },
  {
   "cell_type": "markdown",
   "id": "05530a2e-f39b-4cd9-962d-dda157179eb9",
   "metadata": {},
   "source": [
    "6. Feature Engineering\n",
    "   + Create new variables/features that help in prediction."
   ]
  },
  {
   "cell_type": "markdown",
   "id": "564ed3c1-51e8-4742-a955-56a07073b71b",
   "metadata": {},
   "source": [
    "7. Final Dataset\n",
    "   + Well-structured, cleaned, transformed, and feature-rich dataset.\n",
    "   + Ready for predictive modeling."
   ]
  },
  {
   "cell_type": "markdown",
   "id": "356c43c7-5aed-414c-82ea-769f169bc9a0",
   "metadata": {},
   "source": [
    "## EDA TECHENIQUE \n",
    "+ Convert from RAW - CLEAN"
   ]
  },
  {
   "cell_type": "markdown",
   "id": "6c3a4c07-997a-4874-9dbd-235f9534a119",
   "metadata": {},
   "source": [
    "1. Variable Identification\n",
    "2. Univariate Analysis\n",
    "3. Bivarite Analysis\n",
    "4. Outlier Treatment\n",
    "5. Missing Value Transformation\n",
    "6. Imputation or Transformer\n",
    "7. Variable Creation"
   ]
  },
  {
   "cell_type": "markdown",
   "id": "0c72e5da-1689-43a2-bfdf-2304a9164e06",
   "metadata": {},
   "source": [
    "### 1. Variable Identification\n",
    "\n",
    "+ Independent Variable == x1, x2, x3....  \n",
    "+ Dependent Variable == y\n",
    "+ Relevant attribute\n",
    "+ Irrelevant attribute\n",
    "\n",
    "Every time being Data Scientist we need to look relevant attribute  \n",
    "If you build the ml model with irrelevant attribute then **Overfitting** multicollinearity\n"
   ]
  },
  {
   "cell_type": "markdown",
   "id": "f10369a0-7d7c-41a3-ad11-64edb0c0f9cd",
   "metadata": {},
   "source": [
    "**Example**  \n",
    "Family (Loans, Kids education, House property)\n",
    "+ Father (GovtEmpy) -- dependent variable == target variable == predicted variable (y)\n",
    "+ Mother (Homemaker) -- independent variable == non target variable == non predicted attribute (x1)\n",
    "+ Son (2nd Class) -- independent variable == non target variable == non predicted attribute (x2)\n",
    "+ Daughter (5th Class) -- independent variable == non target variable == non predicted attribute (x3)\n",
    "\n",
    "y = x1 + x2 + x3  \n",
    "linear equation -- y = mx + c (Simple Linear Regression Algo)  \n",
    "y = m1x1 + m2x2 + m3x3 (Multiple Linear Regression Algo)  "
   ]
  },
  {
   "cell_type": "markdown",
   "id": "1fbf78ea-1294-465e-9537-31c4508bf6d3",
   "metadata": {},
   "source": [
    "### 2. Univariate Analysis\n",
    "--> **Plot the graph using 1 variable**\n",
    "+ Study of one variable at a time.\n",
    "+ Helps check distribution, central tendency, and spread.\n",
    "+ Tools: histograms, boxplots, frequency tables.\n",
    "+ Example: Looking at income distribution in a population."
   ]
  },
  {
   "cell_type": "markdown",
   "id": "0f4809e8-ed50-48a0-8dd0-620dc86ef0a5",
   "metadata": {},
   "source": [
    "### 3. Bivariate Analysis\n",
    "\n",
    "--> **Plot the graph using 2 variable**\n",
    "+ Study of relationship between two variables.\n",
    "+ Helps detect correlation, trends, and associations.\n",
    "+ Tools: scatterplots, correlation matrices, cross-tabulation.\n",
    "+ Example: Relationship between study hours and exam scores.\n",
    "\n",
    "Correlation - Relation among attributes in the dataset\n",
    "range of correlation is **-1 to 1**\n",
    " + +ve Correlation - Range (**0 to 1**)\n",
    " + -ve Correlation - Range (**-1 to 0**)\n",
    " + 0 Correlation - Range (**0**)"
   ]
  },
  {
   "cell_type": "markdown",
   "id": "ff70d5f0-2752-45de-be20-4164f9d8999a",
   "metadata": {},
   "source": [
    "### 4. Outlier Treatment\n",
    "\n",
    "+ Identifying data points that deviate significantly from the rest.\n",
    "+ Outliers can distort averages and models.\n",
    "+ Methods: IQR rule, Z-score, capping, transformation."
   ]
  },
  {
   "cell_type": "markdown",
   "id": "239d080b-092d-4b28-9efc-79975a352a12",
   "metadata": {},
   "source": [
    "### 5. Missing Value Transformation\n",
    "\n",
    "+ Checking for incomplete data and deciding how to handle it.\n",
    "+ Options: remove rows, impute values, flag missingness.\n",
    "+ Example: Missing age in a survey → replace with mean/median or keep as \"unknown.\""
   ]
  },
  {
   "cell_type": "markdown",
   "id": "04177c4e-597b-4934-bbb2-84844cb2237f",
   "metadata": {},
   "source": [
    "--> Dataset build with numberical data & categorical data\n",
    "\n",
    "If numerical data is messing then we need to implement\n",
    "+ mean strategy\n",
    "+ median strategy\n",
    "+ mode strategy\n",
    "\n",
    "If categorical data is messing then we need to implement \n",
    "+ mode strategy\n",
    "+ knn strategy(k nearest neighbour)"
   ]
  },
  {
   "cell_type": "markdown",
   "id": "72d54c75-8a9f-4e9e-8d47-6aeff654cd95",
   "metadata": {},
   "source": [
    "#### Example"
   ]
  },
  {
   "attachments": {
    "cdbab12c-452a-4687-ae8a-6c0822dcfec8.png": {
     "image/png": "[encoded data removed]"
    }
   },
   "cell_type": "markdown",
   "id": "b9d0ed77-8f89-45f4-a522-8553fcd6ba43",
   "metadata": {},
   "source": [
    "![Screenshot 2025-08-31 205424.png](attachment:cdbab12c-452a-4687-ae8a-6c0822dcfec8.png)"
   ]
  },
  {
   "cell_type": "markdown",
   "id": "d739a835-556d-46a5-a7da-483011f81f99",
   "metadata": {},
   "source": [
    "### Table 1: Mean Imputation for Numerical Data\n",
    "For the numerical 'NUMBERS' column, mean imputation is used.\n",
    "\n",
    "This method involves calculating the average (mean) of all the known values in the column and then using that average to fill in the missing spots. This is a quick and common technique for numerical data.\n",
    "\n",
    "+ Calculation: (5 + 10 + 23 + 33 + 20 + 50) / 6 = 141 / 6 = 23.5\n",
    "+ Result: Both missing values are replaced with 23.5.\n",
    "---\n",
    "### Table 2: Mode Imputation for Categorical Data\n",
    "For the categorical 'SEASON' column, mode imputation is applied.\n",
    "\n",
    "This technique involves finding the most frequently occurring value (the mode) in the column and using it to fill the missing entry. It's the most straightforward approach for categorical data.\n",
    "\n",
    "+ Analysis: \"Summer\" appears 3 times, while \"Winter\" and \"Rainy\" each appear twice.\n",
    "+ Result: The mode is \"Summer,\" so the missing value is imputed as \"Summer.\"\n",
    "---\n",
    "### Table 3: K-Nearest Neighbors (KNN) Imputation\n",
    "Here, the 'SEASON' column has a tie; \"Summer,\" \"Winter,\" and \"Rainy\" each appear twice. Simple mode imputation isn't effective. Therefore, a more advanced method, K-Nearest Neighbors (KNN) Imputation, is used.\n",
    "\n",
    "KNN imputation predicts the missing value by looking at its \"neighbors\"—the other data points that are most similar to it. In this case, similarity is determined by the 'TEMP' column.\n",
    "\n",
    "+ Goal: To find the missing 'SEASON' for the row where 'TEMP' is 18.\n",
    "+ Process (with k=1): The algorithm finds the single data point (k=1) with the 'TEMP' value closest to 18.\n",
    "    +  The temperature closest to 18 is 14.\n",
    "\n",
    "    + The season corresponding to the temperature 14 is \"Rainy.\"\n",
    "+ Result: Based on its nearest neighbor, the missing value is imputed as \"Rainy.\""
   ]
  },
  {
   "cell_type": "markdown",
   "id": "8b2112a9-2efb-4bb5-8cc0-24fb9807d90c",
   "metadata": {},
   "source": [
    "### 6. Imputation or Transformation\n",
    "\n",
    "+ Imputation = filling missing values (mean, median, regression, KNN).\n",
    "+ Transformation = applying mathematical changes (log, square root, scaling).\n",
    "+ Purpose: stabilize variance, improve normality, or reduce skewness."
   ]
  },
  {
   "cell_type": "markdown",
   "id": "a69222d6-2bed-4e9e-ad28-99774c8d73e6",
   "metadata": {},
   "source": [
    "TRANSFORMER -- Trasform categorical data numerical data to build ml model. Transformer also called as **IMPUTEATION TECHNIQUE**\n",
    "\n",
    "NLP -- This technique is called **EMBEDDING**.\n",
    "\n",
    "Transformer are of 3 types -->\n",
    "1. DUMMY VARIABLE \n",
    "2. LABEL ENCODER\n",
    "3. ONE HOT ENCODER"
   ]
  },
  {
   "cell_type": "markdown",
   "id": "b020faeb-2ca3-4ad2-9f8c-090f118fc5ec",
   "metadata": {},
   "source": [
    "### 7. Variable Creation (Feature Engineering)\n",
    "\n",
    "+ Creating new variables from existing ones to capture more information.\n",
    "+ Example: From “Date of Birth” → create “Age”\n",
    "+ Increases predictive power of models."
   ]
  }
 ],
 "metadata": {
  "kernelspec": {
   "display_name": "Python [conda env:base] *",
   "language": "python",
   "name": "conda-base-py"
  },
  "language_info": {
   "codemirror_mode": {
    "name": "ipython",
    "version": 3
   },
   "file_extension": ".py",
   "mimetype": "text/x-python",
   "name": "python",
   "nbconvert_exporter": "python",
   "pygments_lexer": "ipython3",
   "version": "3.12.4"
  }
 },
 "nbformat": 4,
 "nbformat_minor": 5
}
