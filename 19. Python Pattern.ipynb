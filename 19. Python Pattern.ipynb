{
 "cells": [
  {
   "cell_type": "markdown",
   "id": "88d918e8-6db6-4f1f-91e7-11bbd33e3ce3",
   "metadata": {},
   "source": [
    "# PYTHON PATTERNS "
   ]
  },
  {
   "cell_type": "markdown",
   "id": "38dd0bd8-11e4-4efc-84e6-daa86450c741",
   "metadata": {},
   "source": [
    "## 1. Right Angle Triangle Pattern"
   ]
  },
  {
   "cell_type": "code",
   "execution_count": 9,
   "id": "28a56a64-9c6e-4433-b6f9-d5ba53516baf",
   "metadata": {},
   "outputs": [
    {
     "name": "stdout",
     "output_type": "stream",
     "text": [
      " * \n",
      " *  * \n",
      " *  *  * \n",
      " *  *  *  * \n",
      " *  *  *  *  * \n"
     ]
    }
   ],
   "source": [
    "for i in range(1,6):\n",
    "    print(' * ' *i)"
   ]
  },
  {
   "cell_type": "markdown",
   "id": "5af614a0-d1d6-4c04-8971-784486629fc9",
   "metadata": {},
   "source": [
    "## 2. Inverted Right Angle Triangle Pattern"
   ]
  },
  {
   "cell_type": "code",
   "execution_count": 16,
   "id": "9425987f-9b12-4c72-8250-9b08cf378134",
   "metadata": {},
   "outputs": [
    {
     "name": "stdout",
     "output_type": "stream",
     "text": [
      " *  *  *  *  * \n",
      " *  *  *  * \n",
      " *  *  * \n",
      " *  * \n",
      " * \n"
     ]
    }
   ],
   "source": [
    "for i in range(5,0,-1):\n",
    "    print(' * ' *i)"
   ]
  },
  {
   "cell_type": "markdown",
   "id": "8100ce78-2bd6-4d1e-a4cc-846507d075fc",
   "metadata": {},
   "source": [
    "## 3. Pyramid Pattern"
   ]
  },
  {
   "cell_type": "code",
   "execution_count": 19,
   "id": "a6127069-2c65-4177-98d8-8a91eecacdcc",
   "metadata": {},
   "outputs": [
    {
     "name": "stdout",
     "output_type": "stream",
     "text": [
      " * \n",
      " *  *  * \n",
      " *  *  *  *  * \n",
      " *  *  *  *  *  *  * \n",
      " *  *  *  *  *  *  *  *  * \n"
     ]
    }
   ],
   "source": [
    "for i in range (1,6):\n",
    "    print(''*(5-i)+' * '*(2*i-1))"
   ]
  },
  {
   "cell_type": "markdown",
   "id": "135f74b5-c6f8-4582-8943-1d2eb8a0085c",
   "metadata": {},
   "source": [
    "## 4. Inverted Pyramid Pattern"
   ]
  },
  {
   "cell_type": "code",
   "execution_count": 28,
   "id": "106ad9cc-1a2a-4346-bc34-a6499106c244",
   "metadata": {},
   "outputs": [
    {
     "name": "stdout",
     "output_type": "stream",
     "text": [
      " *  *  *  *  *  *  *  *  * \n",
      " *  *  *  *  *  *  * \n",
      " *  *  *  *  * \n",
      " *  *  * \n",
      " * \n"
     ]
    }
   ],
   "source": [
    "for i in range (5,0,-1):\n",
    "    print(''*(5-i)+' * '*(2*i-1))"
   ]
  },
  {
   "cell_type": "markdown",
   "id": "3dda3fe7-a806-4697-961b-b19e886c27f2",
   "metadata": {},
   "source": [
    "## 5. Diamond Pattern"
   ]
  },
  {
   "cell_type": "code",
   "execution_count": 32,
   "id": "6911ef80-9deb-47fd-93fb-440bda9c5fac",
   "metadata": {},
   "outputs": [
    {
     "name": "stdout",
     "output_type": "stream",
     "text": [
      " * \n",
      " *  *  * \n",
      " *  *  *  *  * \n",
      " *  *  *  *  *  *  * \n",
      " *  *  *  *  *  *  *  *  * \n",
      " *  *  *  *  *  *  * \n",
      " *  *  *  *  * \n",
      " *  *  * \n",
      " * \n"
     ]
    }
   ],
   "source": [
    "for i in range (1,6):\n",
    "    print(''*(5-i)+' * '*(2*i-1))\n",
    "for i in range(4,0,-1):\n",
    "    print(''*(5-i)+' * '*(2*i-1))"
   ]
  },
  {
   "cell_type": "markdown",
   "id": "7ee76473-e108-43b0-8d13-e0329b2d8e30",
   "metadata": {},
   "source": [
    "## 6. Hallow Square Pattern"
   ]
  },
  {
   "cell_type": "code",
   "execution_count": 41,
   "id": "029d7e5f-bedb-4384-898a-1e388b548b62",
   "metadata": {},
   "outputs": [
    {
     "name": "stdout",
     "output_type": "stream",
     "text": [
      "*****\n",
      "*   *\n",
      "*   *\n",
      "*   *\n",
      "*****\n"
     ]
    }
   ],
   "source": [
    "for i in range(5):\n",
    "    for j in range(5):\n",
    "        if i == 0 or i == 4 or j == 0 or j == 4:\n",
    "            print('*', end='')\n",
    "        else:\n",
    "            print(' ', end='')\n",
    "    print()   "
   ]
  },
  {
   "cell_type": "markdown",
   "id": "f273a889-8ffe-42c2-bf87-5b7834cb291a",
   "metadata": {},
   "source": [
    "## 7.Full Square Pattern"
   ]
  },
  {
   "cell_type": "code",
   "execution_count": 44,
   "id": "45fd1a2f-23f6-423d-9f2b-79fcea1d8530",
   "metadata": {},
   "outputs": [
    {
     "name": "stdout",
     "output_type": "stream",
     "text": [
      " *  *  *  *  * \n",
      " *  *  *  *  * \n",
      " *  *  *  *  * \n",
      " *  *  *  *  * \n",
      " *  *  *  *  * \n"
     ]
    }
   ],
   "source": [
    "for i in range(5):\n",
    "    print(' * '*5)"
   ]
  },
  {
   "cell_type": "markdown",
   "id": "b4e23962-ddb6-47b7-bead-aed5db9db424",
   "metadata": {},
   "source": [
    "## 8.Right Angle triangle (Number Pattern)"
   ]
  },
  {
   "cell_type": "code",
   "execution_count": 49,
   "id": "2de14bc2-78ac-4c36-a818-021b7a07c26f",
   "metadata": {},
   "outputs": [
    {
     "name": "stdout",
     "output_type": "stream",
     "text": [
      "1\n",
      "1 2\n",
      "1 2 3\n",
      "1 2 3 4\n",
      "1 2 3 4 5\n"
     ]
    }
   ],
   "source": [
    "for i in range (1,6):\n",
    "    print(' '.join(str(x) for x in range(1,i+1)))"
   ]
  },
  {
   "cell_type": "markdown",
   "id": "5c8c8f4c-e1ca-4a3f-b11e-750ffc8a6b88",
   "metadata": {},
   "source": [
    "## 9. Inverted Right Angle Triangle (Number Pattern)"
   ]
  },
  {
   "cell_type": "code",
   "execution_count": 56,
   "id": "9dba94a1-2e16-4eaf-832b-5912603c317f",
   "metadata": {},
   "outputs": [
    {
     "name": "stdout",
     "output_type": "stream",
     "text": [
      "1 2 3 4 5\n",
      "1 2 3 4\n",
      "1 2 3\n",
      "1 2\n",
      "1\n"
     ]
    }
   ],
   "source": [
    "for i in range (5,0,-1):\n",
    "    print(' '.join(str(x) for x in range(1,i+1)))"
   ]
  },
  {
   "cell_type": "markdown",
   "id": "bc3acdab-8df1-4cc6-ad76-c72dc3390aad",
   "metadata": {},
   "source": [
    "## 10. Floyd's triangle"
   ]
  },
  {
   "cell_type": "code",
   "execution_count": 59,
   "id": "b36df378-a81b-4c38-b4bb-999a3784d6e1",
   "metadata": {},
   "outputs": [
    {
     "name": "stdout",
     "output_type": "stream",
     "text": [
      "1 \n",
      "2 3 \n",
      "4 5 6 \n",
      "7 8 9 10 \n",
      "11 12 13 14 15 \n"
     ]
    }
   ],
   "source": [
    "num=1 \n",
    "for i in range (1,6):\n",
    "    for j in range(1,i+1):\n",
    "        print(num,end=' ')\n",
    "        num+=1\n",
    "    print()     "
   ]
  },
  {
   "cell_type": "markdown",
   "id": "95081475-1eb9-4e16-b745-0e90af3e561e",
   "metadata": {},
   "source": [
    "## 11. Hallow Right Angle Triangle"
   ]
  },
  {
   "cell_type": "code",
   "execution_count": 65,
   "id": "67fdbe84-8975-47e9-9460-905f31afd628",
   "metadata": {},
   "outputs": [
    {
     "name": "stdout",
     "output_type": "stream",
     "text": [
      "* \n",
      "* * \n",
      "*   * \n",
      "*     * \n",
      "* * * * * \n"
     ]
    }
   ],
   "source": [
    "n = 5\n",
    "for i in range(1, n+1):\n",
    "    for j in range(1, i+1):\n",
    "        if j == 1 or j == i or i == n:\n",
    "            print('*', end=' ')\n",
    "        else:\n",
    "            print(' ', end=' ')\n",
    "    print()"
   ]
  },
  {
   "cell_type": "markdown",
   "id": "5816c23f-d5cb-4894-b9b9-a47f6b3b4b45",
   "metadata": {},
   "source": [
    "## 12. Hallow Pyramid Pattern"
   ]
  },
  {
   "cell_type": "code",
   "execution_count": 73,
   "id": "639bed4b-031c-4ade-9493-b855303d8b82",
   "metadata": {},
   "outputs": [
    {
     "name": "stdout",
     "output_type": "stream",
     "text": [
      "        * \n",
      "      *   * \n",
      "    *       * \n",
      "  *           * \n",
      "* * * * * * * * * \n"
     ]
    }
   ],
   "source": [
    "n = 5\n",
    "for i in range(1, n+1):\n",
    "    # print leading spaces\n",
    "    for j in range(n - i):\n",
    "        print(' ', end=' ')\n",
    "    \n",
    "    # print stars and spaces in between\n",
    "    for j in range(2 * i - 1):\n",
    "        if j == 0 or j == 2 * i - 2 or i == n:\n",
    "            print('*', end=' ')\n",
    "        else:\n",
    "            print(' ', end=' ')\n",
    "    print()"
   ]
  },
  {
   "cell_type": "markdown",
   "id": "6d64dc43-14ee-4ae3-8712-8bad36a6ac8d",
   "metadata": {},
   "source": [
    "## 13. Hallow Diamond Pattern"
   ]
  },
  {
   "cell_type": "code",
   "execution_count": 76,
   "id": "8f0b5947-fac9-4f0a-93c3-6e2c0d78e5d0",
   "metadata": {},
   "outputs": [
    {
     "name": "stdout",
     "output_type": "stream",
     "text": [
      "        * \n",
      "      *   * \n",
      "    *       * \n",
      "  *           * \n",
      "*               * \n",
      "  *           * \n",
      "    *       * \n",
      "      *   * \n",
      "        * \n"
     ]
    }
   ],
   "source": [
    "n = 5\n",
    "\n",
    "# Upper half (hollow pyramid)\n",
    "for i in range(1, n+1):\n",
    "    # spaces\n",
    "    for j in range(n - i):\n",
    "        print(' ', end=' ')\n",
    "    # stars and spaces\n",
    "    for j in range(2 * i - 1):\n",
    "        if j == 0 or j == 2 * i - 2:\n",
    "            print('*', end=' ')\n",
    "        else:\n",
    "            print(' ', end=' ')\n",
    "    print()\n",
    "\n",
    "# Lower half (inverted hollow pyramid)\n",
    "for i in range(n-1, 0, -1):\n",
    "    # spaces\n",
    "    for j in range(n - i):\n",
    "        print(' ', end=' ')\n",
    "    # stars and spaces\n",
    "    for j in range(2 * i - 1):\n",
    "        if j == 0 or j == 2 * i - 2:\n",
    "            print('*', end=' ')\n",
    "        else:\n",
    "            print(' ', end=' ')\n",
    "    print()"
   ]
  },
  {
   "cell_type": "markdown",
   "id": "63c23f72-96d7-4001-917f-9e7d5dd0cc53",
   "metadata": {},
   "source": [
    "## 14. Hallow Diamond (NumberPattern)"
   ]
  },
  {
   "cell_type": "code",
   "execution_count": 83,
   "id": "f32dda0a-935e-442c-8d80-cb3af7b63de2",
   "metadata": {},
   "outputs": [
    {
     "name": "stdout",
     "output_type": "stream",
     "text": [
      "        1 \n",
      "      2   2 \n",
      "    3       3 \n",
      "  4           4 \n",
      "5               5 \n",
      "  4           4 \n",
      "    3       3 \n",
      "      2   2 \n",
      "        1 \n"
     ]
    }
   ],
   "source": [
    "n = 5\n",
    "\n",
    "# Upper half\n",
    "for i in range(1, n+1):\n",
    "    # spaces\n",
    "    for j in range(n - i):\n",
    "        print(' ', end=' ')\n",
    "    # numbers + spaces\n",
    "    for j in range(2 * i - 1):\n",
    "        if j == 0 or j == 2 * i - 2:\n",
    "            print(i, end=' ')\n",
    "        else:\n",
    "            print(' ', end=' ')\n",
    "    print()\n",
    "\n",
    "# Lower half\n",
    "for i in range(n-1, 0, -1):\n",
    "    # spaces\n",
    "    for j in range(n - i):\n",
    "        print(' ', end=' ')\n",
    "    # numbers + spaces\n",
    "    for j in range(2 * i - 1):\n",
    "        if j == 0 or j == 2 * i - 2:\n",
    "            print(i, end=' ')\n",
    "        else:\n",
    "            print(' ', end=' ')\n",
    "    print()"
   ]
  },
  {
   "cell_type": "markdown",
   "id": "14b034f8-4ddb-4e2d-9c7b-36033d0ce8c4",
   "metadata": {},
   "source": [
    "## 15. Butterfly Pattern"
   ]
  },
  {
   "cell_type": "code",
   "execution_count": 87,
   "id": "7ac3f70b-4f8d-462b-b6c0-d0f0003332c3",
   "metadata": {},
   "outputs": [
    {
     "name": "stdout",
     "output_type": "stream",
     "text": [
      "*                 * \n",
      "* *             * * \n",
      "* * *         * * * \n",
      "* * * *     * * * * \n",
      "* * * * * * * * * * \n",
      "* * * * * * * * * * \n",
      "* * * *     * * * * \n",
      "* * *         * * * \n",
      "* *             * * \n",
      "*                 * \n"
     ]
    }
   ],
   "source": [
    "n = 5\n",
    "\n",
    "# Upper half\n",
    "for i in range(1, n+1):\n",
    "    # Left wing\n",
    "    for j in range(1, i+1):\n",
    "        print(\"*\", end=\" \")\n",
    "    # Spaces\n",
    "    for j in range(2*(n-i)):\n",
    "        print(\" \", end=\" \")\n",
    "    # Right wing\n",
    "    for j in range(1, i+1):\n",
    "        print(\"*\", end=\" \")\n",
    "    print()\n",
    "\n",
    "# Lower half\n",
    "for i in range(n, 0, -1):\n",
    "    # Left wing\n",
    "    for j in range(1, i+1):\n",
    "        print(\"*\", end=\" \")\n",
    "    # Spaces\n",
    "    for j in range(2*(n-i)):\n",
    "        print(\" \", end=\" \")\n",
    "    # Right wing\n",
    "    for j in range(1, i+1):\n",
    "        print(\"*\", end=\" \")\n",
    "    print()"
   ]
  },
  {
   "cell_type": "markdown",
   "id": "b50cd5b3-ab86-40ab-b959-e3a808623d8f",
   "metadata": {},
   "source": [
    "## 16. Hallow Number Pyramid"
   ]
  },
  {
   "cell_type": "code",
   "execution_count": 90,
   "id": "ff046b1d-c37f-442e-ae81-8d07d9b199ea",
   "metadata": {},
   "outputs": [
    {
     "name": "stdout",
     "output_type": "stream",
     "text": [
      "        1 \n",
      "      2   2 \n",
      "    3       3 \n",
      "  4           4 \n",
      "5 5 5 5 5 5 5 5 5 \n"
     ]
    }
   ],
   "source": [
    "n = 5\n",
    "\n",
    "for i in range(1, n+1):\n",
    "    # spaces before numbers\n",
    "    for j in range(n-i):\n",
    "        print(\" \", end=\" \")\n",
    "\n",
    "    # numbers with hollow inside\n",
    "    for j in range(1, 2*i):\n",
    "        if j == 1 or j == 2*i-1 or i == n:  \n",
    "            print(i, end=\" \")\n",
    "        else:\n",
    "            print(\" \", end=\" \")\n",
    "    print()"
   ]
  },
  {
   "cell_type": "markdown",
   "id": "0a99b931-de76-46cf-8a85-68d10873a67c",
   "metadata": {},
   "source": [
    "## 17. Full Star Pyramid"
   ]
  },
  {
   "cell_type": "code",
   "execution_count": 93,
   "id": "92bfdd83-c8a6-4278-b339-8b6980b87d00",
   "metadata": {},
   "outputs": [
    {
     "name": "stdout",
     "output_type": "stream",
     "text": [
      "        * \n",
      "      * * * \n",
      "    * * * * * \n",
      "  * * * * * * * \n",
      "* * * * * * * * * \n"
     ]
    }
   ],
   "source": [
    "n = 5\n",
    "\n",
    "for i in range(1, n+1):\n",
    "    # spaces before stars\n",
    "    for j in range(n-i):\n",
    "        print(\" \", end=\" \")\n",
    "\n",
    "    # stars in pyramid\n",
    "    for j in range(2*i-1):\n",
    "        print(\"*\", end=\" \")\n",
    "    print()"
   ]
  },
  {
   "cell_type": "markdown",
   "id": "8cc0d4cc-4c30-4c27-b792-70a0a0f15567",
   "metadata": {},
   "source": [
    "## 18.Inverted Full Star Pyramid"
   ]
  },
  {
   "cell_type": "code",
   "execution_count": 96,
   "id": "d6b2ff9d-2339-4ca9-84e0-55936aa2725d",
   "metadata": {},
   "outputs": [
    {
     "name": "stdout",
     "output_type": "stream",
     "text": [
      "* * * * * * * * * \n",
      "  * * * * * * * \n",
      "    * * * * * \n",
      "      * * * \n",
      "        * \n"
     ]
    }
   ],
   "source": [
    "n = 5\n",
    "\n",
    "for i in range(n, 0, -1):\n",
    "    # spaces before stars\n",
    "    for j in range(n-i):\n",
    "        print(\" \", end=\" \")\n",
    "\n",
    "    # stars in pyramid\n",
    "    for j in range(2*i-1):\n",
    "        print(\"*\", end=\" \")\n",
    "    print()"
   ]
  },
  {
   "cell_type": "markdown",
   "id": "3d94a021-b979-48a7-9d1a-1177b1f31a44",
   "metadata": {},
   "source": [
    "## 19. Left Aligned Pyramid pattern"
   ]
  },
  {
   "cell_type": "code",
   "execution_count": 103,
   "id": "632427ca-f4f5-47ec-8a59-9a99d32546ac",
   "metadata": {},
   "outputs": [
    {
     "name": "stdout",
     "output_type": "stream",
     "text": [
      "* \n",
      "* * \n",
      "* * * \n",
      "* * * * \n",
      "* * * * * \n",
      "1 \n",
      "1 2 \n",
      "1 2 3 \n",
      "1 2 3 4 \n",
      "1 2 3 4 5 \n"
     ]
    }
   ],
   "source": [
    "n = 5\n",
    "\n",
    "for i in range (1, n+1):\n",
    "\n",
    "    for j in range (i):\n",
    "        print('*',end=' ')\n",
    "    print()    \n",
    "\n",
    "\n",
    "n = 5\n",
    "\n",
    "for i in range (1, n+1):\n",
    "\n",
    "    for j in range (1, i+1):\n",
    "        print(j,end=' ')\n",
    "    print()"
   ]
  },
  {
   "cell_type": "markdown",
   "id": "6a79970e-0800-4218-92ea-3c58856a17e6",
   "metadata": {},
   "source": [
    "## 20. Right Aligned Pyramid Pattern"
   ]
  },
  {
   "cell_type": "code",
   "execution_count": 108,
   "id": "3311b108-781b-43cc-8f55-e44fdff30269",
   "metadata": {},
   "outputs": [
    {
     "name": "stdout",
     "output_type": "stream",
     "text": [
      "* * * * \n",
      "* * * * \n",
      "* * * * \n",
      "* * * * \n",
      "* * * * \n",
      "0 1 2 3 \n",
      "0 1 2 3 \n",
      "0 1 2 3 \n",
      "0 1 2 3 \n",
      "0 1 2 3 \n"
     ]
    }
   ],
   "source": [
    "n = 5\n",
    "\n",
    "for i in range (1, n+1):\n",
    "\n",
    "    for j in range (n - 1):\n",
    "        print('*',end=' ')\n",
    "    print()    \n",
    "\n",
    "\n",
    "n = 5\n",
    "\n",
    "for i in range (1, n+1):\n",
    "\n",
    "    for j in range (n -1):\n",
    "        print(j,end=' ')\n",
    "    print()"
   ]
  },
  {
   "cell_type": "code",
   "execution_count": null,
   "id": "d7fe79a9-0047-4d25-9a15-e8f53f80e3fb",
   "metadata": {},
   "outputs": [],
   "source": []
  }
 ],
 "metadata": {
  "kernelspec": {
   "display_name": "Python [conda env:base] *",
   "language": "python",
   "name": "conda-base-py"
  },
  "language_info": {
   "codemirror_mode": {
    "name": "ipython",
    "version": 3
   },
   "file_extension": ".py",
   "mimetype": "text/x-python",
   "name": "python",
   "nbconvert_exporter": "python",
   "pygments_lexer": "ipython3",
   "version": "3.12.4"
  }
 },
 "nbformat": 4,
 "nbformat_minor": 5
}
