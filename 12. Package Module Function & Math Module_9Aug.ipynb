{
 "cells": [
  {
   "cell_type": "markdown",
   "id": "7e078f04-5996-453e-8382-5e1fa56b94cf",
   "metadata": {},
   "source": [
    "# PACKAGE MODULE FUNCTION"
   ]
  },
  {
   "cell_type": "markdown",
   "id": "5f74460f-e5e0-4d8f-9ba6-c2ecd3bac044",
   "metadata": {},
   "source": [
    "package -- collection of modules  (package == library == framework)  \n",
    "module -- collection of function  \n",
    "function -- inbuild() & User Defined Function"
   ]
  },
  {
   "cell_type": "markdown",
   "id": "c6b3c5d2-c12c-47d0-863a-d437416c377c",
   "metadata": {},
   "source": [
    "## 📦 PACKAGE:\n",
    "- A package is a collection of Python modules organized in directories.\n",
    "- Identified by a special file __init__.p (can be empty) in the folder.\n",
    "- Example: numpy, pandas are Python packages.\n",
    "- Purpose: Organizes large codebases into manageable parts.\n",
    "\n",
    "## 📄 MODULE:\n",
    "- A single Python file (.py) that can contain variables, functions, and classes.\n",
    "- You can import it into other Python scripts using 'import'.\n",
    "- Example: math, random, os are modules.\n",
    "- Purpose: Reusability and separation of code.\n",
    "\n",
    "## ⚙️ FUNCTION:\n",
    "- A block of code that performs a specific task and can be reused.\n",
    "- Defined using the 'def' keyword.\n",
    "- Can take inputs (parameters) and return outputs.\n",
    "- Example:\n",
    "def greet(name):\n",
    "    return f\"Hello, {name}!\"\n",
    "print(greet(\"Python\"))  # Example function call\n"
   ]
  },
  {
   "cell_type": "markdown",
   "id": "1092d4c7-18ab-4c4c-86a0-722397d9d774",
   "metadata": {},
   "source": [
    "# MATH MODULE "
   ]
  },
  {
   "cell_type": "markdown",
   "id": "6f77faf3-0f90-4632-aebd-38e40c290708",
   "metadata": {},
   "source": [
    "- The math module provides access to mathematical functions and constants.\n",
    "- Contains functions for trigonometry, logarithms, factorials, powers, and more.\n",
    "- Must be imported before use:  import math"
   ]
  },
  {
   "cell_type": "code",
   "execution_count": 61,
   "id": "e3521e2e-e92d-4bd5-8297-c05cacd185fe",
   "metadata": {},
   "outputs": [],
   "source": [
    "import math\n",
    "# import math to use advanced, precise mathematical functions and constants not built into Python by default."
   ]
  },
  {
   "cell_type": "markdown",
   "id": "54c5b2c7-a3b0-4e34-b027-8452e39e73b0",
   "metadata": {},
   "source": [
    "### Common Constants"
   ]
  },
  {
   "cell_type": "code",
   "execution_count": 55,
   "id": "a48a01fa-0020-458c-9169-1a9afacb96a5",
   "metadata": {},
   "outputs": [
    {
     "name": "stdout",
     "output_type": "stream",
     "text": [
      "Pi: 3.141592653589793\n"
     ]
    }
   ],
   "source": [
    "print(\"Pi:\", math.pi) "
   ]
  },
  {
   "cell_type": "code",
   "execution_count": 26,
   "id": "cd0d92c5-318b-4570-804d-4949b04d37ce",
   "metadata": {},
   "outputs": [
    {
     "name": "stdout",
     "output_type": "stream",
     "text": [
      "Euler's Number: 2.718281828459045\n"
     ]
    }
   ],
   "source": [
    "print(\"Euler's Number:\", math.e) "
   ]
  },
  {
   "cell_type": "markdown",
   "id": "2d30dabd-041d-4585-b164-ca2f35465192",
   "metadata": {},
   "source": [
    "### Common Functions"
   ]
  },
  {
   "cell_type": "code",
   "execution_count": 29,
   "id": "16af4bba-5306-429a-9423-81d43556569d",
   "metadata": {},
   "outputs": [
    {
     "name": "stdout",
     "output_type": "stream",
     "text": [
      "Square root of 16: 4.0\n"
     ]
    }
   ],
   "source": [
    "print(\"Square root of 16:\", math.sqrt(16))"
   ]
  },
  {
   "cell_type": "code",
   "execution_count": 31,
   "id": "e6647bbd-0a8c-4e0f-bf82-94bb1b2d7bc9",
   "metadata": {},
   "outputs": [
    {
     "name": "stdout",
     "output_type": "stream",
     "text": [
      "5 factorial: 120\n"
     ]
    }
   ],
   "source": [
    "print(\"5 factorial:\", math.factorial(5)) "
   ]
  },
  {
   "cell_type": "code",
   "execution_count": 33,
   "id": "958aecf7-4156-4aa5-abf8-470fa92117ab",
   "metadata": {},
   "outputs": [
    {
     "name": "stdout",
     "output_type": "stream",
     "text": [
      "log base e of 10: 2.302585092994046\n"
     ]
    }
   ],
   "source": [
    "print(\"log base e of 10:\", math.log(10)) "
   ]
  },
  {
   "cell_type": "code",
   "execution_count": 35,
   "id": "859fbff3-a720-49d0-b69b-a5248eb38c20",
   "metadata": {},
   "outputs": [
    {
     "name": "stdout",
     "output_type": "stream",
     "text": [
      "log base 10 of 1000: 3.0\n"
     ]
    }
   ],
   "source": [
    "print(\"log base 10 of 1000:\", math.log10(1000))"
   ]
  },
  {
   "cell_type": "code",
   "execution_count": 37,
   "id": "cbd3a6fd-fd8a-439a-a5e2-ea015925b042",
   "metadata": {},
   "outputs": [
    {
     "name": "stdout",
     "output_type": "stream",
     "text": [
      "Ceiling of 4.2: 5\n"
     ]
    }
   ],
   "source": [
    "print(\"Ceiling of 4.2:\", math.ceil(4.2))  "
   ]
  },
  {
   "cell_type": "code",
   "execution_count": 39,
   "id": "96f2b900-de1b-4e4c-b58c-b3b5c52cd902",
   "metadata": {},
   "outputs": [
    {
     "name": "stdout",
     "output_type": "stream",
     "text": [
      "Floor of 4.8: 4\n"
     ]
    }
   ],
   "source": [
    "print(\"Floor of 4.8:\", math.floor(4.8))   "
   ]
  },
  {
   "cell_type": "markdown",
   "id": "35594891-6929-4de0-bbfe-a759d5840305",
   "metadata": {},
   "source": [
    "### Trigonometric Example"
   ]
  },
  {
   "cell_type": "code",
   "execution_count": 42,
   "id": "02ffc1ba-082a-486b-804b-5be1f307e2a1",
   "metadata": {},
   "outputs": [],
   "source": [
    "angle_deg = 45"
   ]
  },
  {
   "cell_type": "code",
   "execution_count": 44,
   "id": "5e463b2c-fcd7-4d30-9760-444f5261c9a0",
   "metadata": {},
   "outputs": [],
   "source": [
    "angle_rad = math.radians(angle_deg) # Convert degrees to radians"
   ]
  },
  {
   "cell_type": "code",
   "execution_count": 46,
   "id": "a5944f34-d0e5-4027-bd28-2b93e26e422c",
   "metadata": {},
   "outputs": [
    {
     "name": "stdout",
     "output_type": "stream",
     "text": [
      "sin(45°): 0.7071067811865476\n"
     ]
    }
   ],
   "source": [
    "print(\"sin(45°):\", math.sin(angle_rad))"
   ]
  },
  {
   "cell_type": "code",
   "execution_count": 48,
   "id": "104f3a2f-bf57-4b2b-9e11-d38cf8ba5b47",
   "metadata": {},
   "outputs": [
    {
     "name": "stdout",
     "output_type": "stream",
     "text": [
      "cos(45°): 0.7071067811865476\n"
     ]
    }
   ],
   "source": [
    "print(\"cos(45°):\", math.cos(angle_rad))"
   ]
  },
  {
   "cell_type": "code",
   "execution_count": 50,
   "id": "b0b0eac1-060c-4ded-b133-36f62fb7a03d",
   "metadata": {},
   "outputs": [
    {
     "name": "stdout",
     "output_type": "stream",
     "text": [
      "tan(45°): 0.9999999999999999\n"
     ]
    }
   ],
   "source": [
    "print(\"tan(45°):\", math.tan(angle_rad))"
   ]
  },
  {
   "cell_type": "code",
   "execution_count": 63,
   "id": "c0fc6dd4-b3fe-483d-a6b6-b46eec955440",
   "metadata": {},
   "outputs": [
    {
     "ename": "NameError",
     "evalue": "name 'm' is not defined",
     "output_type": "error",
     "traceback": [
      "\u001b[1;31m---------------------------------------------------------------------------\u001b[0m",
      "\u001b[1;31mNameError\u001b[0m                                 Traceback (most recent call last)",
      "Cell \u001b[1;32mIn[63], line 1\u001b[0m\n\u001b[1;32m----> 1\u001b[0m m\u001b[38;5;241m.\u001b[39msqrt(\u001b[38;5;241m25\u001b[39m)\n",
      "\u001b[1;31mNameError\u001b[0m: name 'm' is not defined"
     ]
    }
   ],
   "source": [
    "m.sqrt(25)"
   ]
  },
  {
   "cell_type": "code",
   "execution_count": 65,
   "id": "cd1978b9-5ce0-4f5a-a3cc-391ad19a68f7",
   "metadata": {},
   "outputs": [],
   "source": [
    "import math as m"
   ]
  },
  {
   "cell_type": "code",
   "execution_count": 67,
   "id": "8e73cd46-436d-45d5-84a4-e18e0e4285ca",
   "metadata": {},
   "outputs": [
    {
     "data": {
      "text/plain": [
       "5.0"
      ]
     },
     "execution_count": 67,
     "metadata": {},
     "output_type": "execute_result"
    }
   ],
   "source": [
    "m.sqrt(25)"
   ]
  },
  {
   "cell_type": "markdown",
   "id": "479cac00-c54e-4d9a-99e4-3ecb866043b3",
   "metadata": {},
   "source": [
    "input() -- Bydefault it understand string"
   ]
  },
  {
   "cell_type": "code",
   "execution_count": 69,
   "id": "aa549e24-825f-46d0-9807-10304bf780c4",
   "metadata": {},
   "outputs": [
    {
     "name": "stdin",
     "output_type": "stream",
     "text": [
      " 5\n",
      " 4\n"
     ]
    },
    {
     "name": "stdout",
     "output_type": "stream",
     "text": [
      "54\n"
     ]
    }
   ],
   "source": [
    "# Bydefault it understand string\n",
    "x = input() \n",
    "y = input()\n",
    "\n",
    "z = x + y\n",
    "print(z)"
   ]
  },
  {
   "cell_type": "code",
   "execution_count": 71,
   "id": "99fdd24e-8758-40e9-b5d4-ca7d6d006154",
   "metadata": {},
   "outputs": [
    {
     "name": "stdin",
     "output_type": "stream",
     "text": [
      "Enter the 1st Number 5\n",
      "Enter the 2st Number 4\n"
     ]
    },
    {
     "data": {
      "text/plain": [
       "9"
      ]
     },
     "execution_count": 71,
     "metadata": {},
     "output_type": "execute_result"
    }
   ],
   "source": [
    "# using int for to define\n",
    "x1 = int(input('Enter the 1st Number'))     \n",
    "y1 = int(input('Enter the 2st Number')) \n",
    "z2 = x1 + y1\n",
    "z2"
   ]
  }
 ],
 "metadata": {
  "kernelspec": {
   "display_name": "Python [conda env:base] *",
   "language": "python",
   "name": "conda-base-py"
  },
  "language_info": {
   "codemirror_mode": {
    "name": "ipython",
    "version": 3
   },
   "file_extension": ".py",
   "mimetype": "text/x-python",
   "name": "python",
   "nbconvert_exporter": "python",
   "pygments_lexer": "ipython3",
   "version": "3.12.4"
  }
 },
 "nbformat": 4,
 "nbformat_minor": 5
}
