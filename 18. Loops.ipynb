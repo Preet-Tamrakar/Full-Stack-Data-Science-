{
 "cells": [
  {
   "cell_type": "markdown",
   "id": "42486119-fb62-449e-9047-251d0b976edc",
   "metadata": {},
   "source": [
    "# LOOPS"
   ]
  },
  {
   "cell_type": "markdown",
   "id": "28e61807-dd6a-458d-b9f4-6db2cbf8f757",
   "metadata": {},
   "source": [
    "Loops in Python are used to repeat actions efficiently. The main types are: \n",
    "+ For loops (counting through items)\n",
    "+ While loops (based on conditions)"
   ]
  },
  {
   "cell_type": "markdown",
   "id": "b4ad79d3-e30e-4601-a56c-c6495475ad3f",
   "metadata": {},
   "source": [
    "# For Loop"
   ]
  },
  {
   "cell_type": "markdown",
   "id": "f0f77d74-6a11-4e72-99d1-4fbfceb19a71",
   "metadata": {},
   "source": [
    "+ For loops is used to iterate over a sequence such as a list, tuple, string or range. It allow to execute a block of code repeatedly, once for each item in the sequence."
   ]
  },
  {
   "cell_type": "code",
   "execution_count": 7,
   "id": "242d4edf-1358-416d-83df-6b41e47c4434",
   "metadata": {},
   "outputs": [
    {
     "name": "stdout",
     "output_type": "stream",
     "text": [
      "apple\n",
      "banana\n",
      "cherry\n"
     ]
    }
   ],
   "source": [
    "# Example\n",
    "\n",
    "fruits = [\"apple\" , \"banana\" , \"cherry\"]\n",
    "for x in fruits:\n",
    "    print(x)"
   ]
  },
  {
   "cell_type": "markdown",
   "id": "957fc14f-38e7-4f0e-b24d-01afaf46aae2",
   "metadata": {},
   "source": [
    "### Looping Through a String\n",
    "+ Even strings are iterable objects, they contain a sequence of characters:"
   ]
  },
  {
   "cell_type": "code",
   "execution_count": 11,
   "id": "87ca6677-6bcd-474b-8eed-ed9b1a5e44ae",
   "metadata": {},
   "outputs": [
    {
     "name": "stdout",
     "output_type": "stream",
     "text": [
      "b\n",
      "a\n",
      "n\n",
      "a\n",
      "n\n",
      "a\n"
     ]
    }
   ],
   "source": [
    "# Loop through the letters in the word \"banana\":\n",
    "for x in \"banana\":\n",
    "  print(x)"
   ]
  },
  {
   "cell_type": "markdown",
   "id": "01dda3a7-7437-426b-ba4d-c853b393637d",
   "metadata": {},
   "source": [
    "### The break Statement\n",
    "+ With the break statement we can stop the loop before it has looped through all the items:"
   ]
  },
  {
   "cell_type": "code",
   "execution_count": 17,
   "id": "5706b60a-c036-49e7-9086-6e1fefd128c1",
   "metadata": {},
   "outputs": [
    {
     "name": "stdout",
     "output_type": "stream",
     "text": [
      "apple\n",
      "banana\n",
      "mango\n"
     ]
    }
   ],
   "source": [
    "# BREAK STATEMENT \n",
    "\n",
    "fruits = [\"apple\" , \"banana\" , \"mango\" , \"grapes\" , \"cherry\"]\n",
    "\n",
    "for x in fruits:\n",
    "    print(x)\n",
    "    if x == \"mango\":\n",
    "        break"
   ]
  },
  {
   "cell_type": "code",
   "execution_count": 27,
   "id": "793389e5-2fc6-4691-8601-a9a759a9086e",
   "metadata": {},
   "outputs": [
    {
     "name": "stdout",
     "output_type": "stream",
     "text": [
      "apple\n",
      "banana\n"
     ]
    }
   ],
   "source": [
    "# Exit the loop when x is \"banana\", but this time the break comes before the print:\n",
    "\n",
    "fruits = [\"apple\" , \"banana\" , \"mango\" , \"grapes\" , \"cherry\"]\n",
    "\n",
    "for x in fruits:\n",
    "  if x == \"mango\":\n",
    "    break\n",
    "  print(x) "
   ]
  },
  {
   "cell_type": "markdown",
   "id": "4885086b-ec8e-4a96-87f4-7df725fced49",
   "metadata": {},
   "source": [
    "### The continue Statement"
   ]
  },
  {
   "cell_type": "markdown",
   "id": "70ab6b44-5094-4071-82e7-faad11f2da02",
   "metadata": {},
   "source": [
    "+ With the continue statement we can stop the current iteration of the loop, and continue with the next:"
   ]
  },
  {
   "cell_type": "code",
   "execution_count": 33,
   "id": "22183116-1fab-488a-86de-0a44b50a5517",
   "metadata": {},
   "outputs": [
    {
     "name": "stdout",
     "output_type": "stream",
     "text": [
      "apple\n",
      "mango\n",
      "grapes\n",
      "cherry\n"
     ]
    }
   ],
   "source": [
    "# Do not print banana:\n",
    "\n",
    "fruits = [\"apple\" , \"banana\" , \"mango\" , \"grapes\" , \"cherry\"]\n",
    "for x in fruits:\n",
    "    if x == \"banana\":\n",
    "        continue\n",
    "    print(x)    "
   ]
  },
  {
   "cell_type": "markdown",
   "id": "ca43e11d-009c-45e4-bcbc-34dbba6f10fd",
   "metadata": {},
   "source": [
    "### The range() Function"
   ]
  },
  {
   "cell_type": "markdown",
   "id": "34b046d4-ad86-4c53-99ba-458072523dcb",
   "metadata": {},
   "source": [
    "+ To loop through a set of code a specified number of times, we can use the range() function,\n",
    "+ The range() function returns a sequence of numbers, starting from 0 by default, and increments by 1 (by default), and ends at a specified number."
   ]
  },
  {
   "cell_type": "code",
   "execution_count": 39,
   "id": "c6895a7d-feeb-47b7-aecd-c67f86f97164",
   "metadata": {},
   "outputs": [
    {
     "name": "stdout",
     "output_type": "stream",
     "text": [
      "0\n",
      "1\n",
      "2\n",
      "3\n",
      "4\n",
      "5\n"
     ]
    }
   ],
   "source": [
    "# Using the range() function:\n",
    "\n",
    "for x in range(6):\n",
    "    print(x)"
   ]
  },
  {
   "cell_type": "markdown",
   "id": "47901b7e-8eb2-4095-8474-f72276ae0f83",
   "metadata": {},
   "source": [
    "The range() function defaults to 0 as a starting value, however it is possible to specify the starting value by adding a parameter: range(2, 6), which means values from 2 to 6 (but not including 6):"
   ]
  },
  {
   "cell_type": "code",
   "execution_count": 42,
   "id": "b7504eaf-8277-40cf-9474-5e166ce2117a",
   "metadata": {},
   "outputs": [
    {
     "name": "stdout",
     "output_type": "stream",
     "text": [
      "2\n",
      "3\n",
      "4\n",
      "5\n"
     ]
    }
   ],
   "source": [
    "# Using the start parameter:\n",
    "for x in range(2,6):\n",
    "    print(x)"
   ]
  },
  {
   "cell_type": "markdown",
   "id": "be480c1a-f901-4c2b-9b70-ec444c997814",
   "metadata": {},
   "source": [
    "The range() function defaults to increment the sequence by 1, however it is possible to specify the increment value by adding a third parameter: range(2, 30, 3):"
   ]
  },
  {
   "cell_type": "code",
   "execution_count": 45,
   "id": "f3ebf35f-c745-4007-be3e-a4a94beada08",
   "metadata": {},
   "outputs": [
    {
     "name": "stdout",
     "output_type": "stream",
     "text": [
      "2\n",
      "5\n",
      "8\n",
      "11\n",
      "14\n",
      "17\n",
      "20\n",
      "23\n",
      "26\n",
      "29\n"
     ]
    }
   ],
   "source": [
    "# Increment the sequence with 3 (default is 1):\n",
    "for x in range(2,30,3):\n",
    "    print(x)"
   ]
  },
  {
   "cell_type": "markdown",
   "id": "535d68b4-1960-4979-a871-ff1b660c5aa8",
   "metadata": {},
   "source": [
    "### Else in For Loop\n",
    "+ The else keyword in a for loop specifies a block of code to be executed when the loop is finished:"
   ]
  },
  {
   "cell_type": "code",
   "execution_count": 53,
   "id": "96dae523-7377-44fe-93f8-03415603d119",
   "metadata": {},
   "outputs": [
    {
     "name": "stdout",
     "output_type": "stream",
     "text": [
      "0\n",
      "1\n",
      "2\n",
      "3\n",
      "4\n",
      "5\n",
      "Finally Finished!\n"
     ]
    }
   ],
   "source": [
    "# Print all numbers from 0 to 5, and print a message when the loop has ended:\n",
    "\n",
    "for x in range(6):\n",
    "    print(x)\n",
    "else:\n",
    "    print(\"Finally Finished!\")    "
   ]
  },
  {
   "cell_type": "code",
   "execution_count": 55,
   "id": "36fa2be4-8018-4d7a-877c-d0aa104888e8",
   "metadata": {},
   "outputs": [
    {
     "name": "stdout",
     "output_type": "stream",
     "text": [
      "0\n",
      "1\n",
      "2\n"
     ]
    }
   ],
   "source": [
    "# Break the loop when x is 3, and see what happens with the else block:\n",
    "\n",
    "for x in range(6):\n",
    "    if x == 3:\n",
    "        break\n",
    "    print(x)   \n",
    "else:\n",
    "    print(\"Finally Finished!\")"
   ]
  },
  {
   "cell_type": "markdown",
   "id": "f9ce735c-dc82-4d17-aeb9-7bc3a6265f53",
   "metadata": {},
   "source": [
    "### Nested Loops\n",
    "+ A nested loop is a loop inside a loop.\r",
    "+ \r\n",
    "The \"inner loop\" will be executed one time for each iteration of the \"outer loop\":"
   ]
  },
  {
   "cell_type": "code",
   "execution_count": 58,
   "id": "1184b2d4-cfcc-4925-b9f7-d33361bc80c8",
   "metadata": {},
   "outputs": [
    {
     "name": "stdout",
     "output_type": "stream",
     "text": [
      "red apple\n",
      "red banana\n",
      "red cherry\n",
      "big apple\n",
      "big banana\n",
      "big cherry\n",
      "tasty apple\n",
      "tasty banana\n",
      "tasty cherry\n"
     ]
    }
   ],
   "source": [
    "# Print each adjective for every fruit:\n",
    "\n",
    "adj = [\"red\" , \"big\" , \"tasty\"]\n",
    "fruits = [\"apple\", \"banana\", \"cherry\"]\n",
    "\n",
    "for x in adj:\n",
    "    for y in fruits:\n",
    "        print(x,y)"
   ]
  },
  {
   "cell_type": "code",
   "execution_count": 62,
   "id": "ccd3d629-a06c-424b-a34e-0520bcb05685",
   "metadata": {},
   "outputs": [
    {
     "name": "stdout",
     "output_type": "stream",
     "text": [
      "1 2 3 4 5 6 7 8 9 10 \n",
      "2 4 6 8 10 12 14 16 18 20 \n",
      "3 6 9 12 15 18 21 24 27 30 \n",
      "4 8 12 16 20 24 28 32 36 40 \n",
      "5 10 15 20 25 30 35 40 45 50 \n",
      "6 12 18 24 30 36 42 48 54 60 \n",
      "7 14 21 28 35 42 49 56 63 70 \n",
      "8 16 24 32 40 48 56 64 72 80 \n",
      "9 18 27 36 45 54 63 72 81 90 \n",
      "10 20 30 40 50 60 70 80 90 100 \n"
     ]
    }
   ],
   "source": [
    "# print table from 1 to 10\n",
    "\n",
    "for i in range(1,11):\n",
    "    for j in range (i, i*10+1 , i):\n",
    "        print(j, end=\" \")\n",
    "    print()"
   ]
  },
  {
   "cell_type": "markdown",
   "id": "08b5c5fb-d62c-4f04-b859-06f2bcb5725f",
   "metadata": {},
   "source": [
    "### The pass Statement"
   ]
  },
  {
   "cell_type": "markdown",
   "id": "94fae14f-c47c-47cc-94d3-f4ff6643179d",
   "metadata": {},
   "source": [
    "+ for loops cannot be empty, but if you for some reason have a for loop with no content, put in the pass statement to avoid getting an error."
   ]
  },
  {
   "cell_type": "code",
   "execution_count": 5,
   "id": "20e7c7b5-e3b1-47a1-b71b-ad109570fb1b",
   "metadata": {},
   "outputs": [],
   "source": [
    "for x in [0, 1, 2]:\n",
    "  pass"
   ]
  },
  {
   "cell_type": "code",
   "execution_count": 11,
   "id": "bfb6152b-6018-40aa-954f-d2c12073a88f",
   "metadata": {},
   "outputs": [
    {
     "name": "stdout",
     "output_type": "stream",
     "text": [
      "Last Letter : e\n"
     ]
    }
   ],
   "source": [
    "for letter in 'DataScience':\n",
    "    pass\n",
    "print('Last Letter :', letter)"
   ]
  },
  {
   "cell_type": "markdown",
   "id": "c10d6b23-0f0c-40cd-901c-419733b62b99",
   "metadata": {},
   "source": [
    "# The while Loop"
   ]
  },
  {
   "cell_type": "markdown",
   "id": "7eb2baa6-39b4-401e-b926-9c3df2d49763",
   "metadata": {},
   "source": [
    "+ With the while loop we can execute a set of statements as long as a condition is true."
   ]
  },
  {
   "cell_type": "code",
   "execution_count": 16,
   "id": "d82c59fa-2fb9-4260-94cb-a5362d31cfdb",
   "metadata": {},
   "outputs": [
    {
     "name": "stdout",
     "output_type": "stream",
     "text": [
      "1\n",
      "2\n",
      "3\n",
      "4\n",
      "5\n"
     ]
    }
   ],
   "source": [
    "# Print i as long as i is less than 6:\n",
    "\n",
    "i = 1\n",
    "while i < 6:\n",
    "    print(i)\n",
    "    i += 1"
   ]
  },
  {
   "cell_type": "markdown",
   "id": "b0044232-ce27-4f54-9673-c7eccf6b54fd",
   "metadata": {},
   "source": [
    "### The break Statement\n",
    "+ With the break statement we can stop the loop even if the while condition is true:"
   ]
  },
  {
   "cell_type": "code",
   "execution_count": 23,
   "id": "6dce5034-1dbf-4aa8-a8b5-d3c9542515d6",
   "metadata": {},
   "outputs": [
    {
     "name": "stdout",
     "output_type": "stream",
     "text": [
      "1\n",
      "2\n",
      "3\n"
     ]
    }
   ],
   "source": [
    "# Exit the loop when i is 3:\n",
    "i = 1 \n",
    "while i < 6:\n",
    "    print(i)\n",
    "    if i == 3:\n",
    "        break\n",
    "    i += 1    "
   ]
  },
  {
   "cell_type": "markdown",
   "id": "d15d4abd-cbe3-4071-8e02-ef4d93d1e9ed",
   "metadata": {},
   "source": [
    "### The continue Statement\n",
    "+ With the continue statement we can stop the current iteration, and continue with the next:"
   ]
  },
  {
   "cell_type": "code",
   "execution_count": 26,
   "id": "1e29964a-6ec9-419f-8954-aafd461c61f0",
   "metadata": {},
   "outputs": [
    {
     "name": "stdout",
     "output_type": "stream",
     "text": [
      "1\n",
      "2\n",
      "4\n",
      "5\n",
      "6\n"
     ]
    }
   ],
   "source": [
    "# Continue to the next iteration if i is 3:\n",
    "i  = 0\n",
    "while i < 6:\n",
    "    i += 1\n",
    "    if i == 3:\n",
    "        continue\n",
    "    print(i)    "
   ]
  },
  {
   "cell_type": "markdown",
   "id": "d86af608-8b0e-4a7d-a9c8-1e6882bc40db",
   "metadata": {},
   "source": [
    "### The else Statement\n",
    "+ With the else statement we can run a block of code once when the condition no longer is true:"
   ]
  },
  {
   "cell_type": "code",
   "execution_count": 33,
   "id": "e904bcb6-f115-400e-b892-57a46db89613",
   "metadata": {},
   "outputs": [
    {
     "name": "stdout",
     "output_type": "stream",
     "text": [
      "1\n",
      "2\n",
      "3\n",
      "4\n",
      "5\n",
      "i is no longer less than 6\n"
     ]
    }
   ],
   "source": [
    "# Print a message once the condition is false:\n",
    "i = 1\n",
    "while i < 6:\n",
    "    print(i)\n",
    "    i += 1\n",
    "else: \n",
    "    print(\"i is no longer less than 6\")"
   ]
  }
 ],
 "metadata": {
  "kernelspec": {
   "display_name": "Python [conda env:base] *",
   "language": "python",
   "name": "conda-base-py"
  },
  "language_info": {
   "codemirror_mode": {
    "name": "ipython",
    "version": 3
   },
   "file_extension": ".py",
   "mimetype": "text/x-python",
   "name": "python",
   "nbconvert_exporter": "python",
   "pygments_lexer": "ipython3",
   "version": "3.12.4"
  }
 },
 "nbformat": 4,
 "nbformat_minor": 5
}
