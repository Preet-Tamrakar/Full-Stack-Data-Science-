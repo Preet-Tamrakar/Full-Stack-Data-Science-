{
 "cells": [
  {
   "cell_type": "markdown",
   "id": "492668ce-57eb-4803-8280-4859c4f9eef9",
   "metadata": {},
   "source": [
    "# RESERVED WORDS"
   ]
  },
  {
   "cell_type": "markdown",
   "id": "88fea340-316d-4187-a347-d1d580262852",
   "metadata": {},
   "source": [
    "In Python, some words are reserved to represent to some meaning or functionality such type of words are called reserved words."
   ]
  },
  {
   "cell_type": "markdown",
   "id": "3c25e853-7820-4921-a1cb-4f5045993af8",
   "metadata": {},
   "source": [
    "All Reserved words in python contain only alphabet symbols. "
   ]
  },
  {
   "cell_type": "markdown",
   "id": "e6db1308-83f8-41e5-93d3-5d76780733a2",
   "metadata": {},
   "source": [
    "Execpt the following 3 words TRUE, FALSE, NONE "
   ]
  },
  {
   "cell_type": "code",
   "execution_count": 14,
   "id": "265f84a0-914a-4502-82dc-674b8f9fe63c",
   "metadata": {},
   "outputs": [
    {
     "data": {
      "text/plain": [
       "['False',\n",
       " 'None',\n",
       " 'True',\n",
       " 'and',\n",
       " 'as',\n",
       " 'assert',\n",
       " 'async',\n",
       " 'await',\n",
       " 'break',\n",
       " 'class',\n",
       " 'continue',\n",
       " 'def',\n",
       " 'del',\n",
       " 'elif',\n",
       " 'else',\n",
       " 'except',\n",
       " 'finally',\n",
       " 'for',\n",
       " 'from',\n",
       " 'global',\n",
       " 'if',\n",
       " 'import',\n",
       " 'in',\n",
       " 'is',\n",
       " 'lambda',\n",
       " 'nonlocal',\n",
       " 'not',\n",
       " 'or',\n",
       " 'pass',\n",
       " 'raise',\n",
       " 'return',\n",
       " 'try',\n",
       " 'while',\n",
       " 'with',\n",
       " 'yield']"
      ]
     },
     "execution_count": 14,
     "metadata": {},
     "output_type": "execute_result"
    }
   ],
   "source": [
    "import keyword\n",
    "keyword.kwlist"
   ]
  },
  {
   "cell_type": "code",
   "execution_count": null,
   "id": "c3ff8f60-c9ee-4bc9-bcdb-7fa21e4b5e2a",
   "metadata": {},
   "outputs": [],
   "source": []
  }
 ],
 "metadata": {
  "kernelspec": {
   "display_name": "Python [conda env:base] *",
   "language": "python",
   "name": "conda-base-py"
  },
  "language_info": {
   "codemirror_mode": {
    "name": "ipython",
    "version": 3
   },
   "file_extension": ".py",
   "mimetype": "text/x-python",
   "name": "python",
   "nbconvert_exporter": "python",
   "pygments_lexer": "ipython3",
   "version": "3.12.4"
  }
 },
 "nbformat": 4,
 "nbformat_minor": 5
}
