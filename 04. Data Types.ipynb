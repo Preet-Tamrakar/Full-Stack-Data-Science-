{
 "cells": [
  {
   "cell_type": "markdown",
   "id": "7422b432-935b-4fe4-8a4c-48b16d394b09",
   "metadata": {},
   "source": [
    "# DATA TYPES"
   ]
  },
  {
   "cell_type": "markdown",
   "id": "a84ec3ef-2b0a-4e48-aed6-86670ebc6cd3",
   "metadata": {},
   "source": [
    "It represent the type of data represented by the variable."
   ]
  },
  {
   "cell_type": "markdown",
   "id": "bb8ad6ba-f27c-4d5e-80c1-6a6a89ec1387",
   "metadata": {},
   "source": [
    "In Python, we don't specify thr type explicitly based on the value provided. The type will be assigned automatically. Hence, python is dynamically typed language."
   ]
  },
  {
   "cell_type": "markdown",
   "id": "51e75f06-ea2d-47ce-bebc-d9c354e418b1",
   "metadata": {},
   "source": [
    "### Following Data Type\n",
    "1. int\n",
    "2. float\n",
    "3. complex\n",
    "4. bool\n",
    "5. str"
   ]
  },
  {
   "cell_type": "markdown",
   "id": "c58a5e36-508f-41b6-88b7-f04432b6af55",
   "metadata": {},
   "source": [
    "# int\n",
    "int = to represent integral value without decimal number"
   ]
  },
  {
   "cell_type": "code",
   "execution_count": 44,
   "id": "efeae4ad-2f10-4a89-855f-3d6ad1566a3d",
   "metadata": {},
   "outputs": [
    {
     "name": "stdout",
     "output_type": "stream",
     "text": [
      "10\n",
      "<class 'int'>\n"
     ]
    }
   ],
   "source": [
    "a = 10\n",
    "print(a)\n",
    "print(type(a))"
   ]
  },
  {
   "cell_type": "markdown",
   "id": "144f8e5b-1f98-4f3d-8ef1-74c6f754dfce",
   "metadata": {},
   "source": [
    "# float"
   ]
  },
  {
   "cell_type": "markdown",
   "id": "52702173-d2ef-4373-9af0-70e7982f61e4",
   "metadata": {},
   "source": [
    "float = to represent float value."
   ]
  },
  {
   "cell_type": "markdown",
   "id": "a64ef441-94e8-4727-913a-269bcf89687c",
   "metadata": {},
   "source": [
    "float value we should specify only in decimal form."
   ]
  },
  {
   "cell_type": "code",
   "execution_count": 46,
   "id": "b38b250d-6517-414e-bb86-a78c53922b3f",
   "metadata": {},
   "outputs": [
    {
     "name": "stdout",
     "output_type": "stream",
     "text": [
      "1.234\n",
      "<class 'float'>\n"
     ]
    }
   ],
   "source": [
    "f = 1.234\n",
    "print(f)\n",
    "print(type(f))"
   ]
  },
  {
   "cell_type": "markdown",
   "id": "47e6b828-a709-461c-a87b-a04aec3f87e2",
   "metadata": {},
   "source": [
    "float also represent exponential or scientific notation"
   ]
  },
  {
   "cell_type": "code",
   "execution_count": 51,
   "id": "c0b18120-50d7-41bc-8e98-7c93ae4717d1",
   "metadata": {},
   "outputs": [
    {
     "name": "stdout",
     "output_type": "stream",
     "text": [
      "1200.0\n",
      "<class 'float'>\n"
     ]
    }
   ],
   "source": [
    "f = 1.2e3 # 1.2*1000\n",
    "print(f)\n",
    "print(type(f))"
   ]
  },
  {
   "cell_type": "markdown",
   "id": "ac494a17-3918-4e9a-80a5-448ae20d69e5",
   "metadata": {},
   "source": [
    "### We can represent big values in less memory"
   ]
  },
  {
   "cell_type": "markdown",
   "id": "a27ec8a9-b329-4b68-997b-1bea52b818ae",
   "metadata": {},
   "source": [
    "# complex"
   ]
  },
  {
   "cell_type": "markdown",
   "id": "1b55f296-eef9-4974-ba64-116a38bf9275",
   "metadata": {},
   "source": [
    "a + bj"
   ]
  },
  {
   "cell_type": "markdown",
   "id": "2d492996-921c-40f0-a56d-8363e16c97a8",
   "metadata": {},
   "source": [
    "a = Real Part"
   ]
  },
  {
   "cell_type": "markdown",
   "id": "1b8d7ae1-621b-409b-9cb6-e336d28c06ad",
   "metadata": {},
   "source": [
    "b = imaginary part"
   ]
  },
  {
   "cell_type": "markdown",
   "id": "f7ce04e2-5ceb-43ba-b5d5-505b1eba1a66",
   "metadata": {},
   "source": [
    "j = fixed values (sqr root-1)"
   ]
  },
  {
   "cell_type": "code",
   "execution_count": 70,
   "id": "47969e2e-220b-46e9-80ab-af8bff76b924",
   "metadata": {},
   "outputs": [
    {
     "name": "stdout",
     "output_type": "stream",
     "text": [
      "(20+40j)\n",
      "(10.5+20.4j)\n",
      "<class 'complex'>\n",
      "<class 'complex'>\n"
     ]
    }
   ],
   "source": [
    "a_c = 20 + 40j\n",
    "b_c = 10.5 + 20.4j\n",
    "print(a_c)\n",
    "print(b_c)\n",
    "print(type(a_c))\n",
    "print(type(b_c))"
   ]
  },
  {
   "cell_type": "markdown",
   "id": "e7a722d7-141f-4d4b-a6e0-7e801561e8b3",
   "metadata": {},
   "source": [
    "to acess real part & imaginary part"
   ]
  },
  {
   "cell_type": "code",
   "execution_count": 74,
   "id": "dc8ac901-3d8d-4ee6-904d-1fc68e5d26e9",
   "metadata": {},
   "outputs": [
    {
     "name": "stdout",
     "output_type": "stream",
     "text": [
      "20.0\n",
      "40.0\n"
     ]
    }
   ],
   "source": [
    "print(a_c.real)\n",
    "print(a_c.imag)"
   ]
  },
  {
   "cell_type": "markdown",
   "id": "6ac6fe28-0cc3-4975-971b-70d4fdf127a8",
   "metadata": {},
   "source": [
    "# bool"
   ]
  },
  {
   "cell_type": "markdown",
   "id": "0170525c-348e-41d7-9b41-a882cb1bd732",
   "metadata": {},
   "source": [
    "To represent boolean value / logical values"
   ]
  },
  {
   "cell_type": "markdown",
   "id": "a19f0ff3-8c8a-4a29-91c4-6887b62c07d1",
   "metadata": {},
   "source": [
    "True( 1 )"
   ]
  },
  {
   "cell_type": "markdown",
   "id": "a1977b6f-fb9d-4fc2-b7a2-2899bcb7bb7c",
   "metadata": {},
   "source": [
    "False( 0 )"
   ]
  },
  {
   "cell_type": "code",
   "execution_count": 86,
   "id": "8e5f6092-799c-4cdf-a175-b5dd782ab891",
   "metadata": {},
   "outputs": [
    {
     "name": "stdout",
     "output_type": "stream",
     "text": [
      "True\n",
      "False\n",
      "<class 'bool'>\n",
      "<class 'bool'>\n"
     ]
    }
   ],
   "source": [
    "a = True\n",
    "b = False\n",
    "print(a)\n",
    "print(b)\n",
    "print(type(a))\n",
    "print(type(b))"
   ]
  },
  {
   "cell_type": "code",
   "execution_count": 90,
   "id": "c935c4f0-82cf-4ed9-9f6f-2312edbd53d3",
   "metadata": {},
   "outputs": [
    {
     "name": "stdout",
     "output_type": "stream",
     "text": [
      "2\n",
      "1\n",
      "0\n",
      "0\n"
     ]
    }
   ],
   "source": [
    "print(True + True)\n",
    "print(True + False)\n",
    "print(False + False)\n",
    "print(True * False)"
   ]
  },
  {
   "cell_type": "markdown",
   "id": "064f96b1-c8ae-4e82-83a5-e9afa2b0bc3f",
   "metadata": {},
   "source": [
    "# str"
   ]
  },
  {
   "cell_type": "markdown",
   "id": "8281920c-981d-4115-a1ab-9453d2cf9d8b",
   "metadata": {},
   "source": [
    "To represent any sequence of character within single or double quotes"
   ]
  },
  {
   "cell_type": "code",
   "execution_count": 96,
   "id": "a20e40a9-c2e5-4b59-a592-9029039ef72c",
   "metadata": {},
   "outputs": [
    {
     "name": "stdout",
     "output_type": "stream",
     "text": [
      "abc\n",
      "def\n",
      "<class 'str'>\n",
      "<class 'str'>\n"
     ]
    }
   ],
   "source": [
    "s1 = 'abc'\n",
    "s2 = 'def'\n",
    "print(s1)\n",
    "print(s2)\n",
    "print(type(s1))\n",
    "print(type(s2))"
   ]
  },
  {
   "cell_type": "code",
   "execution_count": 100,
   "id": "1f4cb37d-599f-461e-801a-ed35a7a5a26f",
   "metadata": {},
   "outputs": [],
   "source": [
    "s3 = ''' Full \n",
    "            Stack\n",
    "                Data Science'''\n"
   ]
  },
  {
   "cell_type": "code",
   "execution_count": null,
   "id": "2699f01c-4627-4257-9ca8-3619fcf663ce",
   "metadata": {},
   "outputs": [],
   "source": []
  }
 ],
 "metadata": {
  "kernelspec": {
   "display_name": "Python [conda env:base] *",
   "language": "python",
   "name": "conda-base-py"
  },
  "language_info": {
   "codemirror_mode": {
    "name": "ipython",
    "version": 3
   },
   "file_extension": ".py",
   "mimetype": "text/x-python",
   "name": "python",
   "nbconvert_exporter": "python",
   "pygments_lexer": "ipython3",
   "version": "3.12.4"
  }
 },
 "nbformat": 4,
 "nbformat_minor": 5
}
