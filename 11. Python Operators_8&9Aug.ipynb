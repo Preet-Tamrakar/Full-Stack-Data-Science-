{
 "cells": [
  {
   "cell_type": "markdown",
   "id": "b005c213-6afb-4eb6-bc2b-06e97ba66d38",
   "metadata": {},
   "source": [
    "# OPERATORS"
   ]
  },
  {
   "cell_type": "markdown",
   "id": "3f6cfff9-7eb3-41dc-b42e-c8559084f6ad",
   "metadata": {},
   "source": [
    "# 🐍 Python Operators – Quick Revision Table\n",
    "\n",
    "| **Type**       | **Operator(s)**                                                        | **1-Line Definition**                            | **Important Points**                                                    |                                                        |\n",
    "| -------------- | ---------------------------------------------------------------------- | ------------------------------------------------ | ----------------------------------------------------------------------- | ------------------------------------------------------ |\n",
    "| **Arithmetic** | `+`, `-`, `*`, `/`, `//`, `%`, `**`                                    | Perform basic math operations.                   | `/` → float, `//` → integer quotient, `%` → remainder, `**` → power.    |                                                        |\n",
    "| **Assignment** | `=`, `+=`, `-=`, `*=`, `/=`, `//=`, `%=`, `**=`                        | Assign values (with optional operation).         | `x += 3` → `x = x + 3`, updates in-place.                               |                                                        |\n",
    "| **Relational** | `==`, `!=`, `>`, `<`, `>=`, `<=`                                       | Compare values, return `True`/`False`.           | Used in conditions; `==` checks equality, `!=` inequality.              |                                                        |\n",
    "| **Logical**    | `and`, `or`, `not`                                                     | Combine/negate conditions.                       | `and`: both True, `or`: at least one True, `not`: reverses Boolean.     |                                                        |\n",
    "| **Bitwise**    | `&`, \\`                                                                | `, `^`, `\\~`, `<<`, `>>\\`                        | Operate at bit level.                                                   | `~x` = `-(x+1)`; shift operators move bits left/right. |\n",
    "| **Membership** | `in`, `not in`                                                         | Test if value exists in sequence.                | Works on strings, lists, tuples, sets, dicts.                           |                                                        |\n",
    "| **Identity**   | `is`, `is not`                                                         | Check if two objects share same memory location. | Use for `None` checks; different from `==`.                             |                                                        |\n",
    "| **Unary**      | `+` (positive), `-` (negation), `~` (bitwise NOT), `not` (logical NOT) | Work with a single operand.                      | `+x` no change, `-x` negates, `~x` flips bits, `not x` inverts Boolean. |                                                        |\n"
   ]
  },
  {
   "cell_type": "markdown",
   "id": "16f6c65d-a0c7-4ec4-817f-28bbde2237ad",
   "metadata": {},
   "source": [
    "## 1. ARTHMETIC OPERATORS"
   ]
  },
  {
   "cell_type": "markdown",
   "id": "85b2d0bb-cf44-48c3-a3f1-00d807ab2a6d",
   "metadata": {},
   "source": [
    "Perform basic mathematical operations."
   ]
  },
  {
   "cell_type": "markdown",
   "id": "4cf19b7a-cfcb-4df3-ac3a-dd93cdb6d362",
   "metadata": {},
   "source": [
    "'+' (add), - (subtract), * (multiply), / (divide), // (floor divide), % (modulus), ** (exponentiation)"
   ]
  },
  {
   "cell_type": "markdown",
   "id": "2d79cfc5-a612-4d23-8d5f-21dd5da39bde",
   "metadata": {},
   "source": [
    "+  / returns float, // returns integer quotient.\n",
    "+  % gives remainder.\n",
    "+  ** is power (e.g., 2**3 = 8)."
   ]
  },
  {
   "cell_type": "code",
   "execution_count": 24,
   "id": "19d43543-7f85-47d4-89e2-a5483c0b0414",
   "metadata": {},
   "outputs": [],
   "source": [
    "x1,y1 = 10,5"
   ]
  },
  {
   "cell_type": "code",
   "execution_count": 26,
   "id": "fb34c82c-38d0-4aaf-813a-c3bb6bd8bedb",
   "metadata": {},
   "outputs": [
    {
     "data": {
      "text/plain": [
       "15"
      ]
     },
     "execution_count": 26,
     "metadata": {},
     "output_type": "execute_result"
    }
   ],
   "source": [
    "x1 + y1 #Add"
   ]
  },
  {
   "cell_type": "code",
   "execution_count": 28,
   "id": "4f6d837f-79f1-4dcc-bad6-72a046a0c648",
   "metadata": {},
   "outputs": [
    {
     "data": {
      "text/plain": [
       "5"
      ]
     },
     "execution_count": 28,
     "metadata": {},
     "output_type": "execute_result"
    }
   ],
   "source": [
    "x1-y1 # SUbtract"
   ]
  },
  {
   "cell_type": "code",
   "execution_count": 30,
   "id": "45b62708-12be-4704-8052-3e448da473fe",
   "metadata": {},
   "outputs": [
    {
     "data": {
      "text/plain": [
       "50"
      ]
     },
     "execution_count": 30,
     "metadata": {},
     "output_type": "execute_result"
    }
   ],
   "source": [
    "x1*y1 # Mutliply"
   ]
  },
  {
   "cell_type": "code",
   "execution_count": 32,
   "id": "7fc9fc46-ef04-49ad-b774-f5ce8374dcb5",
   "metadata": {},
   "outputs": [
    {
     "data": {
      "text/plain": [
       "2.0"
      ]
     },
     "execution_count": 32,
     "metadata": {},
     "output_type": "execute_result"
    }
   ],
   "source": [
    "x1/y1 # Divide"
   ]
  },
  {
   "cell_type": "code",
   "execution_count": 34,
   "id": "ed96c1b3-04f9-41ad-a7cf-dc2544d588e9",
   "metadata": {},
   "outputs": [
    {
     "data": {
      "text/plain": [
       "2"
      ]
     },
     "execution_count": 34,
     "metadata": {},
     "output_type": "execute_result"
    }
   ],
   "source": [
    "x1//y1 # Floor Divide"
   ]
  },
  {
   "cell_type": "code",
   "execution_count": 36,
   "id": "ce739617-a84e-4976-b4d7-f2af078ca35f",
   "metadata": {},
   "outputs": [
    {
     "data": {
      "text/plain": [
       "0"
      ]
     },
     "execution_count": 36,
     "metadata": {},
     "output_type": "execute_result"
    }
   ],
   "source": [
    "x1%y1 # Modulus"
   ]
  },
  {
   "cell_type": "code",
   "execution_count": 43,
   "id": "4aea32ad-1d00-4f08-92f6-e5d9dd4943e2",
   "metadata": {},
   "outputs": [
    {
     "data": {
      "text/plain": [
       "100000"
      ]
     },
     "execution_count": 43,
     "metadata": {},
     "output_type": "execute_result"
    }
   ],
   "source": [
    "x1 ** y1 # Exponentiation"
   ]
  },
  {
   "cell_type": "code",
   "execution_count": 40,
   "id": "41a0ec6d-99d2-49eb-ac37-a2d2afee67f7",
   "metadata": {},
   "outputs": [
    {
     "data": {
      "text/plain": [
       "9"
      ]
     },
     "execution_count": 40,
     "metadata": {},
     "output_type": "execute_result"
    }
   ],
   "source": [
    "3 ** 2 "
   ]
  },
  {
   "cell_type": "markdown",
   "id": "b2dbb733-bb45-450a-a834-1f6a486b89fd",
   "metadata": {},
   "source": [
    "## 2. ASSIGNMENT OPERATOR"
   ]
  },
  {
   "cell_type": "markdown",
   "id": "78e43408-e330-4433-97f4-81d7193f526b",
   "metadata": {},
   "source": [
    "Assign values to variables (optionally with an operation)."
   ]
  },
  {
   "cell_type": "markdown",
   "id": "2bc816d1-c6b3-4eb5-97af-f7a62efb1d61",
   "metadata": {},
   "source": [
    "=, +=, -=, *=, /=, //=, %=, **="
   ]
  },
  {
   "cell_type": "markdown",
   "id": "11ad492e-a654-4a7f-b6cb-9729b1439f57",
   "metadata": {},
   "source": [
    "+ x += 3 is same as x = x + 3.\n",
    "+ Used to update values in-place."
   ]
  },
  {
   "cell_type": "code",
   "execution_count": 51,
   "id": "b2e7019f-1700-419f-b7d7-3d62c1916e3a",
   "metadata": {},
   "outputs": [
    {
     "data": {
      "text/plain": [
       "2"
      ]
     },
     "execution_count": 51,
     "metadata": {},
     "output_type": "execute_result"
    }
   ],
   "source": [
    "x  = 2\n",
    "x"
   ]
  },
  {
   "cell_type": "code",
   "execution_count": 53,
   "id": "26be7d27-17a7-448e-8f42-1c00376dbfd6",
   "metadata": {},
   "outputs": [],
   "source": [
    "x = x + 2"
   ]
  },
  {
   "cell_type": "code",
   "execution_count": 55,
   "id": "d90d21f3-165b-40fd-a000-75b15319b401",
   "metadata": {},
   "outputs": [
    {
     "data": {
      "text/plain": [
       "4"
      ]
     },
     "execution_count": 55,
     "metadata": {},
     "output_type": "execute_result"
    }
   ],
   "source": [
    "x"
   ]
  },
  {
   "cell_type": "code",
   "execution_count": 57,
   "id": "935b26ec-dc7e-41fb-a9e5-4519ba373a47",
   "metadata": {},
   "outputs": [
    {
     "data": {
      "text/plain": [
       "6"
      ]
     },
     "execution_count": 57,
     "metadata": {},
     "output_type": "execute_result"
    }
   ],
   "source": [
    "x += 2\n",
    "x"
   ]
  },
  {
   "cell_type": "code",
   "execution_count": 59,
   "id": "96258ac4-f4f1-4590-9000-71f65a87e10c",
   "metadata": {},
   "outputs": [
    {
     "data": {
      "text/plain": [
       "8"
      ]
     },
     "execution_count": 59,
     "metadata": {},
     "output_type": "execute_result"
    }
   ],
   "source": [
    "x += 2\n",
    "x"
   ]
  },
  {
   "cell_type": "code",
   "execution_count": 61,
   "id": "016fc9a5-915a-4f57-aaae-d17619c2f997",
   "metadata": {},
   "outputs": [
    {
     "data": {
      "text/plain": [
       "16"
      ]
     },
     "execution_count": 61,
     "metadata": {},
     "output_type": "execute_result"
    }
   ],
   "source": [
    "x *= 2\n",
    "x"
   ]
  },
  {
   "cell_type": "code",
   "execution_count": 63,
   "id": "04b8a4e3-eb60-4687-b165-5cf5a67e9bdb",
   "metadata": {},
   "outputs": [
    {
     "data": {
      "text/plain": [
       "14"
      ]
     },
     "execution_count": 63,
     "metadata": {},
     "output_type": "execute_result"
    }
   ],
   "source": [
    "x -= 2\n",
    "x"
   ]
  },
  {
   "cell_type": "code",
   "execution_count": 65,
   "id": "84b1d7b7-4bf5-440e-95d1-ce4da69555b0",
   "metadata": {},
   "outputs": [
    {
     "data": {
      "text/plain": [
       "7.0"
      ]
     },
     "execution_count": 65,
     "metadata": {},
     "output_type": "execute_result"
    }
   ],
   "source": [
    "x /= 2\n",
    "x"
   ]
  },
  {
   "cell_type": "code",
   "execution_count": 67,
   "id": "690c373a-817f-4431-af3b-59544ebabdc1",
   "metadata": {},
   "outputs": [
    {
     "data": {
      "text/plain": [
       "3.0"
      ]
     },
     "execution_count": 67,
     "metadata": {},
     "output_type": "execute_result"
    }
   ],
   "source": [
    "x //= 2\n",
    "x"
   ]
  },
  {
   "cell_type": "code",
   "execution_count": 69,
   "id": "8ce072b3-ce74-4cf3-9972-9adc8453bbb5",
   "metadata": {},
   "outputs": [
    {
     "name": "stdout",
     "output_type": "stream",
     "text": [
      "5\n",
      "6\n"
     ]
    }
   ],
   "source": [
    "a, b = 5, 6\n",
    "print(a)\n",
    "print(b)"
   ]
  },
  {
   "cell_type": "markdown",
   "id": "e38a0fcd-3d34-4411-bc62-9599e827abbd",
   "metadata": {},
   "source": [
    "## 3. UNARY OPERATORS"
   ]
  },
  {
   "cell_type": "markdown",
   "id": "6ae6f324-4063-4308-8e46-057d63a42c0f",
   "metadata": {},
   "source": [
    "Operators that work with only one operand."
   ]
  },
  {
   "cell_type": "markdown",
   "id": "679fb3d2-df47-4df5-bced-2ea4018b28ff",
   "metadata": {},
   "source": [
    "1. Unary Plus (+)\n",
    "+ Indicates a positive value (no actual change).\n",
    "+ Example: +5 → 5\n",
    "+ Mostly used for clarity in expressions.\n",
    "\n",
    "2. Unary Minus (-)\n",
    "+ Negates a value (changes sign).\n",
    "+ Example: -5 → -5, -(x) → negative of x.\n",
    "\n",
    "3. Bitwise NOT (~)\n",
    "+ Inverts all bits (2’s complement: ~x = -(x+1)).\n",
    "+ Example: ~5 → -6\n",
    "+ Works only on integers.\n",
    "\n",
    "4. Logical NOT (not)\n",
    "+ Reverses the Boolean value.\n",
    "+ Example: not True → False\n",
    "+ Used in conditional checks."
   ]
  },
  {
   "cell_type": "code",
   "execution_count": 12,
   "id": "be0cacf9-3d7f-472e-bebd-a1c6edf5b309",
   "metadata": {},
   "outputs": [
    {
     "data": {
      "text/plain": [
       "7"
      ]
     },
     "execution_count": 12,
     "metadata": {},
     "output_type": "execute_result"
    }
   ],
   "source": [
    "n = 7 \n",
    "n\r\n"
   ]
  },
  {
   "cell_type": "code",
   "execution_count": 14,
   "id": "3d50f2fa-db0e-4ce3-9df8-d067c246a438",
   "metadata": {},
   "outputs": [
    {
     "data": {
      "text/plain": [
       "-7"
      ]
     },
     "execution_count": 14,
     "metadata": {},
     "output_type": "execute_result"
    }
   ],
   "source": [
    "m = -(n)\n",
    "m"
   ]
  },
  {
   "cell_type": "code",
   "execution_count": 16,
   "id": "1fc2959f-6935-4052-81f6-39f5d7d78c59",
   "metadata": {},
   "outputs": [
    {
     "data": {
      "text/plain": [
       "-7"
      ]
     },
     "execution_count": 16,
     "metadata": {},
     "output_type": "execute_result"
    }
   ],
   "source": [
    "- n "
   ]
  },
  {
   "cell_type": "markdown",
   "id": "f2b9fa14-9570-42c7-aa1f-fb6797d83da2",
   "metadata": {},
   "source": [
    "## 4. Relational Operators (Comparison)"
   ]
  },
  {
   "cell_type": "markdown",
   "id": "d54352d7-089b-43c8-be63-dd3e199b6f5a",
   "metadata": {},
   "source": [
    "Compare two values and return Boolean (True/False)."
   ]
  },
  {
   "cell_type": "markdown",
   "id": "60af039e-2ade-4cb8-9403-1014ce830716",
   "metadata": {},
   "source": [
    "==, !=, >, <, >=, <="
   ]
  },
  {
   "cell_type": "markdown",
   "id": "b14ddb0b-074e-4331-93b5-87738b6bb7b3",
   "metadata": {},
   "source": [
    "+ Used in conditions (if, while).\n",
    "+ == checks equality, != checks inequality."
   ]
  },
  {
   "cell_type": "code",
   "execution_count": 23,
   "id": "83f757df-0b3a-4806-9457-d3f5a95618e2",
   "metadata": {},
   "outputs": [],
   "source": [
    "a = 5 \n",
    "b = 6 "
   ]
  },
  {
   "cell_type": "code",
   "execution_count": 25,
   "id": "15f767ca-d40f-4346-b5a4-36b012a0ff4f",
   "metadata": {},
   "outputs": [
    {
     "data": {
      "text/plain": [
       "True"
      ]
     },
     "execution_count": 25,
     "metadata": {},
     "output_type": "execute_result"
    }
   ],
   "source": [
    "a<b"
   ]
  },
  {
   "cell_type": "code",
   "execution_count": 27,
   "id": "f036c452-4cb9-4328-9198-a294903b165f",
   "metadata": {},
   "outputs": [
    {
     "data": {
      "text/plain": [
       "False"
      ]
     },
     "execution_count": 27,
     "metadata": {},
     "output_type": "execute_result"
    }
   ],
   "source": [
    "a>b"
   ]
  },
  {
   "cell_type": "code",
   "execution_count": 29,
   "id": "5ebf1214-4c8f-4430-9471-324eb794f613",
   "metadata": {},
   "outputs": [
    {
     "data": {
      "text/plain": [
       "False"
      ]
     },
     "execution_count": 29,
     "metadata": {},
     "output_type": "execute_result"
    }
   ],
   "source": [
    "a == b"
   ]
  },
  {
   "cell_type": "code",
   "execution_count": 31,
   "id": "04f2a8dc-535a-4a32-b8c8-8680415167dd",
   "metadata": {},
   "outputs": [
    {
     "data": {
      "text/plain": [
       "True"
      ]
     },
     "execution_count": 31,
     "metadata": {},
     "output_type": "execute_result"
    }
   ],
   "source": [
    "a != b "
   ]
  },
  {
   "cell_type": "code",
   "execution_count": 33,
   "id": "ef39a84b-6854-4f19-84d3-da31bc65e79a",
   "metadata": {},
   "outputs": [],
   "source": [
    "b = 5"
   ]
  },
  {
   "cell_type": "code",
   "execution_count": 37,
   "id": "1cc13bdd-6e71-4c60-b821-38d8fb9f281c",
   "metadata": {},
   "outputs": [
    {
     "data": {
      "text/plain": [
       "True"
      ]
     },
     "execution_count": 37,
     "metadata": {},
     "output_type": "execute_result"
    }
   ],
   "source": [
    "a == b # we have make b = 5 thats why now it od true"
   ]
  },
  {
   "cell_type": "code",
   "execution_count": 39,
   "id": "38e3207f-001c-4a17-8a41-edb85703db6f",
   "metadata": {},
   "outputs": [
    {
     "data": {
      "text/plain": [
       "False"
      ]
     },
     "execution_count": 39,
     "metadata": {},
     "output_type": "execute_result"
    }
   ],
   "source": [
    "a>b"
   ]
  },
  {
   "cell_type": "code",
   "execution_count": 41,
   "id": "eb1c58d3-d3fb-426d-bb44-d7756fcb30ea",
   "metadata": {},
   "outputs": [
    {
     "data": {
      "text/plain": [
       "True"
      ]
     },
     "execution_count": 41,
     "metadata": {},
     "output_type": "execute_result"
    }
   ],
   "source": [
    "a >= b"
   ]
  },
  {
   "cell_type": "code",
   "execution_count": 43,
   "id": "05d7afa3-48e3-474a-80cd-afbc26172e9d",
   "metadata": {},
   "outputs": [
    {
     "data": {
      "text/plain": [
       "True"
      ]
     },
     "execution_count": 43,
     "metadata": {},
     "output_type": "execute_result"
    }
   ],
   "source": [
    "a <= b"
   ]
  },
  {
   "cell_type": "code",
   "execution_count": 45,
   "id": "a3807aa8-2f52-43a1-855a-638451bbf750",
   "metadata": {},
   "outputs": [
    {
     "data": {
      "text/plain": [
       "False"
      ]
     },
     "execution_count": 45,
     "metadata": {},
     "output_type": "execute_result"
    }
   ],
   "source": [
    "a < b"
   ]
  },
  {
   "cell_type": "code",
   "execution_count": 47,
   "id": "68bccda4-6a4e-4121-87d7-259703375886",
   "metadata": {},
   "outputs": [
    {
     "data": {
      "text/plain": [
       "False"
      ]
     },
     "execution_count": 47,
     "metadata": {},
     "output_type": "execute_result"
    }
   ],
   "source": [
    "a > b"
   ]
  },
  {
   "cell_type": "markdown",
   "id": "7f4ef4f6-5409-47a2-8fc2-a2c475ae0e24",
   "metadata": {},
   "source": [
    "## 5. LOGICAL OPERATORS"
   ]
  },
  {
   "cell_type": "markdown",
   "id": "e803f9fc-13c5-4f7a-9cea-5be7683d08d8",
   "metadata": {},
   "source": [
    "Combine conditional statements."
   ]
  },
  {
   "cell_type": "markdown",
   "id": "7dce33a7-442f-4e27-88d7-0be07c764bab",
   "metadata": {},
   "source": [
    "and, or, not"
   ]
  },
  {
   "cell_type": "markdown",
   "id": "f3d4a2c0-be8f-4a81-aff2-d24c1f3f825a",
   "metadata": {},
   "source": [
    "+ and: True if both are True.\n",
    "+ or: True if at least one is True.\n",
    "+ not: Negates Boolean value."
   ]
  },
  {
   "cell_type": "markdown",
   "id": "c89c6a84-5a2c-4347-9900-b88ba06cd19e",
   "metadata": {},
   "source": [
    "#### AND\n",
    "\n",
    "| **A** | **B** | **A and B** |\r\n",
    "| ----- | ----- | ----------- |\r\n",
    "| True  | True  | True        |\r\n",
    "| True  | False | False       |\r\n",
    "| False | True  | False       |\r\n",
    "| False | False | False       |\r\n"
   ]
  },
  {
   "cell_type": "markdown",
   "id": "5f881b6d-1709-476f-81f9-e2075aa22587",
   "metadata": {},
   "source": [
    "### OR\n",
    "\n",
    "| **A** | **B** | **A or B** |\n",
    "| ----- | ----- | ---------- |\n",
    "| True  | True  | True       |\n",
    "| True  | False | True       |\n",
    "| False | True  | True       |\n",
    "| False | False | False      |\n"
   ]
  },
  {
   "cell_type": "markdown",
   "id": "d09e5d7c-f2c0-4920-b77e-9be06d13d192",
   "metadata": {},
   "source": [
    "#### NOT \n",
    "\n",
    "| **A** | **not A** |\n",
    "| ----- | --------- |\n",
    "| True  | False     |\n",
    "| False | True      |\n"
   ]
  },
  {
   "cell_type": "code",
   "execution_count": 69,
   "id": "ac4ed1eb-d76a-43ba-85ee-9aeeb8abe507",
   "metadata": {},
   "outputs": [],
   "source": [
    "a = 5\n",
    "b = 4"
   ]
  },
  {
   "cell_type": "code",
   "execution_count": 72,
   "id": "02fa1f33-e4ae-4fac-a7e4-3677ff94c685",
   "metadata": {},
   "outputs": [
    {
     "data": {
      "text/plain": [
       "True"
      ]
     },
     "execution_count": 72,
     "metadata": {},
     "output_type": "execute_result"
    }
   ],
   "source": [
    "a < 8 and b < 5 "
   ]
  },
  {
   "cell_type": "code",
   "execution_count": 74,
   "id": "1fa42985-4c12-45fe-89a4-63565ab6009e",
   "metadata": {},
   "outputs": [
    {
     "data": {
      "text/plain": [
       "False"
      ]
     },
     "execution_count": 74,
     "metadata": {},
     "output_type": "execute_result"
    }
   ],
   "source": [
    "a < 8 and b < 2"
   ]
  },
  {
   "cell_type": "code",
   "execution_count": 76,
   "id": "bb4e4118-0e11-4a5f-bec1-7baad2d4e9fa",
   "metadata": {},
   "outputs": [
    {
     "data": {
      "text/plain": [
       "True"
      ]
     },
     "execution_count": 76,
     "metadata": {},
     "output_type": "execute_result"
    }
   ],
   "source": [
    "a < 8 or b < 2"
   ]
  },
  {
   "cell_type": "code",
   "execution_count": 78,
   "id": "a569219f-da44-45c3-b484-9b4bceafc9c8",
   "metadata": {},
   "outputs": [
    {
     "data": {
      "text/plain": [
       "False"
      ]
     },
     "execution_count": 78,
     "metadata": {},
     "output_type": "execute_result"
    }
   ],
   "source": [
    "a > 8 or b < 2"
   ]
  },
  {
   "cell_type": "code",
   "execution_count": 88,
   "id": "fc8052e9-7288-4157-aca7-69a46fb89dc6",
   "metadata": {},
   "outputs": [
    {
     "data": {
      "text/plain": [
       "False"
      ]
     },
     "execution_count": 88,
     "metadata": {},
     "output_type": "execute_result"
    }
   ],
   "source": [
    "x  = False\n",
    "x"
   ]
  },
  {
   "cell_type": "code",
   "execution_count": 82,
   "id": "d65de150-5e09-4d56-ba36-737e036a1282",
   "metadata": {},
   "outputs": [
    {
     "data": {
      "text/plain": [
       "True"
      ]
     },
     "execution_count": 82,
     "metadata": {},
     "output_type": "execute_result"
    }
   ],
   "source": [
    "not x "
   ]
  },
  {
   "cell_type": "code",
   "execution_count": 84,
   "id": "6497b12b-a827-4cdf-9a87-c8d8ea2c3d28",
   "metadata": {},
   "outputs": [
    {
     "data": {
      "text/plain": [
       "True"
      ]
     },
     "execution_count": 84,
     "metadata": {},
     "output_type": "execute_result"
    }
   ],
   "source": [
    "x = not x\n",
    "x"
   ]
  },
  {
   "cell_type": "code",
   "execution_count": 86,
   "id": "4841f8d2-b062-4df8-ae63-95e64f8199d3",
   "metadata": {},
   "outputs": [
    {
     "data": {
      "text/plain": [
       "True"
      ]
     },
     "execution_count": 86,
     "metadata": {},
     "output_type": "execute_result"
    }
   ],
   "source": [
    "x"
   ]
  },
  {
   "cell_type": "markdown",
   "id": "b64060be-1810-43f7-a202-84aff0e5dacd",
   "metadata": {},
   "source": [
    "## 6. BITWISE OPERATORS"
   ]
  },
  {
   "cell_type": "markdown",
   "id": "c699491f-d6cd-4c3f-9753-acd32c0a310c",
   "metadata": {},
   "source": [
    "Operate on binary representations of integers."
   ]
  },
  {
   "cell_type": "markdown",
   "id": "762dbccd-a706-4136-bd1d-69880c4b0859",
   "metadata": {},
   "source": [
    "+ Works at bit level.\n",
    "+ Useful in low-level programming."
   ]
  },
  {
   "cell_type": "markdown",
   "id": "f8c84f2b-c202-4f37-9329-cee7a7c069c8",
   "metadata": {},
   "source": [
    "#### TYPES OF BITWISE OPERATORS  "
   ]
  },
  {
   "cell_type": "markdown",
   "id": "4c86dc50-96f4-42a9-86ae-99de062ab985",
   "metadata": {},
   "source": [
    "We have 6 Bitwise Operators\n",
    "\n",
    "+ COMPLEMENT (~) --> [ SOME WHERE THIS IS ALSO CALLED 'NOT' ]\n",
    "+ AND (&)\n",
    "+ OR (|)\n",
    "+ XOR (^)\n",
    "+ LEFT SHIFT (<<)\n",
    "+ RIGHT SHIFT (>>)"
   ]
  },
  {
   "cell_type": "markdown",
   "id": "bb6be8a3-9747-4027-a8a2-8d6aef171973",
   "metadata": {},
   "source": [
    "### 1) Complement (~)"
   ]
  },
  {
   "cell_type": "markdown",
   "id": "85fcbb86-ecb1-4ce0-bfa6-77b8e65ae4e6",
   "metadata": {},
   "source": [
    "+ Inverts each bit \n",
    "+ Also called \"NOT\" in some contexts\n",
    "+ Example: ~5 = -(5+1) = -6"
   ]
  },
  {
   "cell_type": "code",
   "execution_count": 172,
   "id": "749339a8-7a9e-4651-aef8-9f6aa3872061",
   "metadata": {},
   "outputs": [
    {
     "data": {
      "text/plain": [
       "-13"
      ]
     },
     "execution_count": 172,
     "metadata": {},
     "output_type": "execute_result"
    }
   ],
   "source": [
    "~12"
   ]
  },
  {
   "cell_type": "code",
   "execution_count": 174,
   "id": "a004ac4e-d6a9-420a-9117-0f9ddcc228e5",
   "metadata": {},
   "outputs": [
    {
     "data": {
      "text/plain": [
       "-1"
      ]
     },
     "execution_count": 174,
     "metadata": {},
     "output_type": "execute_result"
    }
   ],
   "source": [
    "~0"
   ]
  },
  {
   "cell_type": "code",
   "execution_count": 178,
   "id": "404cf529-4f73-4aef-9b65-d41693d84878",
   "metadata": {},
   "outputs": [
    {
     "data": {
      "text/plain": [
       "-47"
      ]
     },
     "execution_count": 178,
     "metadata": {},
     "output_type": "execute_result"
    }
   ],
   "source": [
    "~46"
   ]
  },
  {
   "cell_type": "code",
   "execution_count": 180,
   "id": "62dc54ba-e2db-404f-9777-7c7183fd0c77",
   "metadata": {},
   "outputs": [
    {
     "data": {
      "text/plain": [
       "-55"
      ]
     },
     "execution_count": 180,
     "metadata": {},
     "output_type": "execute_result"
    }
   ],
   "source": [
    "~54"
   ]
  },
  {
   "cell_type": "code",
   "execution_count": 182,
   "id": "2bb15480-fab4-4809-9b1f-501bea1abeec",
   "metadata": {},
   "outputs": [
    {
     "data": {
      "text/plain": [
       "-11"
      ]
     },
     "execution_count": 182,
     "metadata": {},
     "output_type": "execute_result"
    }
   ],
   "source": [
    "~10"
   ]
  },
  {
   "cell_type": "markdown",
   "id": "5d3db642-abf2-4588-ab49-520387237f58",
   "metadata": {},
   "source": [
    "### 2) AND (&)"
   ]
  },
  {
   "cell_type": "markdown",
   "id": "1c8f1308-98c6-4a9b-bc38-4df07570df53",
   "metadata": {},
   "source": [
    "+ Sets bit to 1 if both bits are 1\n",
    "+ Example: 5 & 3 = 1   (0101 & 0011 = 0001)"
   ]
  },
  {
   "cell_type": "markdown",
   "id": "c4167481-47f4-4b5c-a379-f63df7dc35fa",
   "metadata": {},
   "source": [
    "AND TABLE  \n",
    "| A | B | A & B |\n",
    "| - | - | ----- |\n",
    "| 0 | 0 |  0    |\n",
    "| 0 | 1 |  0    |\n",
    "| 1 | 0 |  0    |\n",
    "| 1 | 1 |  1    |\n"
   ]
  },
  {
   "cell_type": "code",
   "execution_count": 192,
   "id": "1c726059-e59d-43a2-b849-b14aa45265d3",
   "metadata": {},
   "outputs": [
    {
     "data": {
      "text/plain": [
       "12"
      ]
     },
     "execution_count": 192,
     "metadata": {},
     "output_type": "execute_result"
    }
   ],
   "source": [
    "12 & 13"
   ]
  },
  {
   "cell_type": "markdown",
   "id": "59e28f25-9b55-4c52-8ef6-9a14f8ad1448",
   "metadata": {},
   "source": [
    "2|12  \n",
    "2| 6- 0  \n",
    "2| 3- 0  \n",
    "2| 1- 1  \n",
    "Therefore : 1100  \n",
    "\n",
    "2|13  \n",
    "2| 6- 1  \n",
    "2| 3- 0  \n",
    "2| 1- 1  \n",
    "Therefore : 1101\n",
    "\n",
    "1100 (Applying AND)   \n",
    "&  \n",
    "1101  \n",
    "_____  \n",
    "1100  \n",
    "That's why it is 12 "
   ]
  },
  {
   "cell_type": "code",
   "execution_count": 225,
   "id": "ecb5bf8b-e830-4230-a635-e920249f0030",
   "metadata": {},
   "outputs": [
    {
     "data": {
      "text/plain": [
       "32"
      ]
     },
     "execution_count": 225,
     "metadata": {},
     "output_type": "execute_result"
    }
   ],
   "source": [
    "35 & 40"
   ]
  },
  {
   "cell_type": "markdown",
   "id": "5c94229f-b3b9-4049-a303-373e90792a86",
   "metadata": {},
   "source": [
    "2|35  \n",
    "2|17- 1  \n",
    "2| 8- 1  \n",
    "2| 4- 0  \n",
    "2| 2- 0  \n",
    " | 1- 0   \n",
    "Therefor:35 = 100011\n",
    "\n",
    "2|40  \n",
    "2|20- 0  \n",
    "2|10- 0  \n",
    "2| 5- 0  \n",
    "2| 2- 1  \n",
    " | 1- 0    \n",
    "Therefore: 40 = 101000\n",
    "\n",
    "100011 (Applying AND)  \n",
    "&  \n",
    "101000  \n",
    "____\n",
    "100000\n",
    "\n",
    "100000 =  \n",
    "(1x2^5) + (0×2⁴) + (0×2³) + (0×2²) + (0×2¹) + (0×2⁰)  \n",
    "32 + 0 + 0 + 0 + 0 + 0  \n",
    "32"
   ]
  },
  {
   "cell_type": "markdown",
   "id": "7ee6f862-3bea-46f3-860c-1df58bd4ef66",
   "metadata": {},
   "source": [
    "### 3) OR (|) "
   ]
  },
  {
   "cell_type": "markdown",
   "id": "dcbe5130-9775-48c8-9dd1-91a4fe24e1de",
   "metadata": {},
   "source": [
    "+ Sets bit to 1 if at least one bit is 1\n",
    "+  Example: 5 | 3 = 7   (0101 | 0011 = 0111)"
   ]
  },
  {
   "cell_type": "markdown",
   "id": "245aa979-4404-48a0-b4c6-3feabd949812",
   "metadata": {},
   "source": [
    "OR TABLE  \n",
    "| A | B | A \\| B |\r\n",
    "| - | - | ------ |\r\n",
    "| 0 | 0 | 0      |\r\n",
    "| 0 | 1 | 1      |\r\n",
    "| 1 | 0 | 1      |\r\n",
    "| 1 | 1 | 1      |\r\n",
    "   |\r\n"
   ]
  },
  {
   "cell_type": "code",
   "execution_count": 220,
   "id": "a3986259-64c6-4d90-a6b5-91ea604d8fd2",
   "metadata": {},
   "outputs": [
    {
     "data": {
      "text/plain": [
       "13"
      ]
     },
     "execution_count": 220,
     "metadata": {},
     "output_type": "execute_result"
    }
   ],
   "source": [
    "12  | 13"
   ]
  },
  {
   "cell_type": "markdown",
   "id": "a430251f-51fe-4866-aaf7-5b613a9ad930",
   "metadata": {},
   "source": [
    "12 : 1100  \n",
    "13 : 1101  \n",
    "\n",
    "1100  (Applying OR)  \n",
    "|    \n",
    "1101  \n",
    "____\n",
    "1101\n",
    "That's why it os 13"
   ]
  },
  {
   "cell_type": "code",
   "execution_count": 244,
   "id": "cf95e633-00d5-43db-88ba-f64c591092c1",
   "metadata": {},
   "outputs": [
    {
     "data": {
      "text/plain": [
       "43"
      ]
     },
     "execution_count": 244,
     "metadata": {},
     "output_type": "execute_result"
    }
   ],
   "source": [
    "35 | 40"
   ]
  },
  {
   "cell_type": "markdown",
   "id": "6fa02804-b88e-4011-9de7-9cbcb0f2f3f9",
   "metadata": {},
   "source": [
    "2|35  \n",
    "2|17- 1  \n",
    "2| 8- 1  \n",
    "2| 4- 0  \n",
    "2| 2- 0  \n",
    " | 1- 0   \n",
    "Therefor:35 = 100011\n",
    "\n",
    "2|40  \n",
    "2|20- 0  \n",
    "2|10- 0  \n",
    "2| 5- 0  \n",
    "2| 2- 1  \n",
    " | 1- 0    \n",
    "Therefore: 40 = 101000\n",
    "\n",
    "100011 (Applying OR)  \n",
    "|  \n",
    "101000  \n",
    "____\n",
    "101011  \n",
    "\n",
    "101011 =  \n",
    "(1x2^5) + (0×2⁴) + (1×2³) + (0×2²) + (1×2¹) + (1×2⁰)  \n",
    "32 + 0 + 8 + 0 + 2 + 1  \n",
    "43"
   ]
  },
  {
   "cell_type": "markdown",
   "id": "78685623-58e1-4d34-a35c-fec3fb8025f0",
   "metadata": {},
   "source": [
    "### 4) XOR (^)"
   ]
  },
  {
   "cell_type": "markdown",
   "id": "3bcf3fa0-b128-44c8-b1da-385abcf5b15d",
   "metadata": {},
   "source": [
    "+ Sets bit to 1 if bits are different\n",
    "+ Example: 5 ^ 3 = 6   (0101 ^ 0011 = 0110)\n"
   ]
  },
  {
   "cell_type": "markdown",
   "id": "06e403e8-747c-4e36-a06d-8ac0ef860119",
   "metadata": {},
   "source": [
    "XOR TABLE \n",
    "| A | B | A ^ B |\n",
    "| - | - | ----- |\n",
    "| 0 | 0 | 0     |\n",
    "| 0 | 1 | 1     |\n",
    "| 1 | 0 | 1     |\n",
    "| 1 | 1 | 0     |"
   ]
  },
  {
   "cell_type": "code",
   "execution_count": 6,
   "id": "6f7f0dc8-90e0-4055-b82d-c72e4344c4da",
   "metadata": {},
   "outputs": [
    {
     "data": {
      "text/plain": [
       "1"
      ]
     },
     "execution_count": 6,
     "metadata": {},
     "output_type": "execute_result"
    }
   ],
   "source": [
    "12  ^ 13"
   ]
  },
  {
   "cell_type": "markdown",
   "id": "daa92d22-0765-4b84-b81f-0586a3e43897",
   "metadata": {},
   "source": [
    "12 : 1100  \n",
    "13 : 1101  \n",
    "\n",
    "1100  (Applying XOR)  \n",
    "^    \n",
    "1101  \n",
    "____\n",
    "0001 \n",
    "\n",
    "00001 = (1×2⁰) = 1x1 = 1  \n",
    "That's why the ans is 1"
   ]
  },
  {
   "cell_type": "code",
   "execution_count": 15,
   "id": "26c2dd12-5d36-4576-9242-940d12b5d876",
   "metadata": {},
   "outputs": [
    {
     "data": {
      "text/plain": [
       "11"
      ]
     },
     "execution_count": 15,
     "metadata": {},
     "output_type": "execute_result"
    }
   ],
   "source": [
    "35 ^ 40 "
   ]
  },
  {
   "cell_type": "markdown",
   "id": "fc251f4e-9ab1-4a0a-96b3-ac12d49f9a2e",
   "metadata": {},
   "source": [
    "2|35  \n",
    "2|17- 1  \n",
    "2| 8- 1  \n",
    "2| 4- 0  \n",
    "2| 2- 0  \n",
    " | 1- 0   \n",
    "Therefor:35 = 100011\n",
    "\n",
    "2|40  \n",
    "2|20- 0  \n",
    "2|10- 0  \n",
    "2| 5- 0  \n",
    "2| 2- 1  \n",
    " | 1- 0    \n",
    "Therefore: 40 = 101000\n",
    "\n",
    "100011 (Applying XOR)  \n",
    "^  \n",
    "101000  \n",
    "____\n",
    "001011  \n",
    "\n",
    "001011  \n",
    "(0x2^5) + (0×2⁴) + (1×2³) + (0×2²) + (1×2¹) + (1×2⁰)  \n",
    "0 + 0 + 8 + 0 + 2 + 1  \n",
    "11  \n"
   ]
  },
  {
   "cell_type": "markdown",
   "id": "5c4d5239-f0d5-46d7-aaff-687d168e1eb2",
   "metadata": {},
   "source": [
    "### 5) LEFT SHIFT (<<)"
   ]
  },
  {
   "cell_type": "markdown",
   "id": "b2c77de8-0b86-43cb-9082-83d65c5b3016",
   "metadata": {},
   "source": [
    "+ Shifts bits to the left, filling with 0\n",
    "+ Equivalent to multiplying by 2^n\n",
    "+ Example: 5 << 1 = 10  (0101 → 1010)"
   ]
  },
  {
   "cell_type": "code",
   "execution_count": 22,
   "id": "6bdbfb4f-6e45-4954-acad-5a8a461a4736",
   "metadata": {},
   "outputs": [
    {
     "data": {
      "text/plain": [
       "20"
      ]
     },
     "execution_count": 22,
     "metadata": {},
     "output_type": "execute_result"
    }
   ],
   "source": [
    "10 << 1"
   ]
  },
  {
   "cell_type": "markdown",
   "id": "5fbaf37e-5313-450a-8c8c-c94cde8ef71f",
   "metadata": {},
   "source": [
    "2|10  \n",
    "2| 5- 0  \n",
    "2| 2- 1  \n",
    " | 1- 0  \n",
    "10 = 1010  \n",
    "\n",
    "Applying left shit (1)\n",
    "\n",
    "1010 ---> 10100  \n",
    "(1×2⁴) + (0×2³) + (1×2²) + (0×2¹) + (0×2⁰)  \n",
    "16 + 0 + 4 + 0 + 0  \n",
    "20"
   ]
  },
  {
   "cell_type": "code",
   "execution_count": 31,
   "id": "eff17594-d1af-44cf-a09a-9294c4308072",
   "metadata": {},
   "outputs": [
    {
     "data": {
      "text/plain": [
       "40"
      ]
     },
     "execution_count": 31,
     "metadata": {},
     "output_type": "execute_result"
    }
   ],
   "source": [
    "10 << 2"
   ]
  },
  {
   "cell_type": "markdown",
   "id": "4046fa3c-3114-4631-9880-cce1a97247c7",
   "metadata": {},
   "source": [
    "2|10  \n",
    "2| 5- 0  \n",
    "2| 2- 1  \n",
    "| 1- 0  \n",
    "10 = 1010  \n",
    "\n",
    "Applying left shit (2)\n",
    "\n",
    "1010 ---> 101000  \n",
    "101000  \n",
    "(1x2^5) + (0×2⁴) + (1×2³) + (0×2²) + (0×2¹) + (0×2⁰)  \n",
    "32 + 0 + 8 + 0 + 0 + 0  \n",
    "40"
   ]
  },
  {
   "cell_type": "code",
   "execution_count": 35,
   "id": "757d0d34-dab8-41a4-9b11-45d30e1166e1",
   "metadata": {},
   "outputs": [
    {
     "data": {
      "text/plain": [
       "80"
      ]
     },
     "execution_count": 35,
     "metadata": {},
     "output_type": "execute_result"
    }
   ],
   "source": [
    "10 << 3"
   ]
  },
  {
   "cell_type": "code",
   "execution_count": 37,
   "id": "540795f0-4e44-4f34-87f3-1a5d4e628d18",
   "metadata": {},
   "outputs": [
    {
     "data": {
      "text/plain": [
       "160"
      ]
     },
     "execution_count": 37,
     "metadata": {},
     "output_type": "execute_result"
    }
   ],
   "source": [
    "10 << 4"
   ]
  },
  {
   "cell_type": "markdown",
   "id": "1baba025-b1e5-4fd7-bb00-07692e4fd331",
   "metadata": {},
   "source": [
    "### 6) RIGHT SHIFT (>>)"
   ]
  },
  {
   "cell_type": "code",
   "execution_count": 40,
   "id": "eaa4f8db-867e-4122-a5b4-64e2b358721f",
   "metadata": {},
   "outputs": [
    {
     "data": {
      "text/plain": [
       "5"
      ]
     },
     "execution_count": 40,
     "metadata": {},
     "output_type": "execute_result"
    }
   ],
   "source": [
    "10 >>  1"
   ]
  },
  {
   "cell_type": "markdown",
   "id": "98159dcc-2343-4c41-8a38-c6aa75dab37d",
   "metadata": {},
   "source": [
    "2|10  \n",
    "2| 5- 0  \n",
    "2| 2- 1  \n",
    "| 1- 0  \n",
    "10 = 1010  \n",
    "\n",
    "Applying right shit (1)\n",
    "\n",
    "1010 ---> 101  \n",
    "101  \n",
    "(1×2²) + (0×2¹) + (1×2⁰)  \n",
    "4 + 0 + 1  \n",
    "5"
   ]
  },
  {
   "cell_type": "code",
   "execution_count": 46,
   "id": "1b3c351a-0d6e-49e6-9aa5-c5ecc163801c",
   "metadata": {},
   "outputs": [
    {
     "data": {
      "text/plain": [
       "1"
      ]
     },
     "execution_count": 46,
     "metadata": {},
     "output_type": "execute_result"
    }
   ],
   "source": [
    "10 >> 3 "
   ]
  },
  {
   "cell_type": "markdown",
   "id": "5c843d5e-b5f2-432d-9bbc-75fe9c97bacc",
   "metadata": {},
   "source": [
    "Right shift (3)\n",
    "1010 ---> 1  \n",
    "1  \n",
    "(1×2⁰)  \n",
    "1"
   ]
  },
  {
   "cell_type": "code",
   "execution_count": null,
   "id": "ed22811b-e5e5-46ec-94cb-f1e355e9693d",
   "metadata": {},
   "outputs": [],
   "source": []
  }
 ],
 "metadata": {
  "kernelspec": {
   "display_name": "Python [conda env:base] *",
   "language": "python",
   "name": "conda-base-py"
  },
  "language_info": {
   "codemirror_mode": {
    "name": "ipython",
    "version": 3
   },
   "file_extension": ".py",
   "mimetype": "text/x-python",
   "name": "python",
   "nbconvert_exporter": "python",
   "pygments_lexer": "ipython3",
   "version": "3.12.4"
  }
 },
 "nbformat": 4,
 "nbformat_minor": 5
}
