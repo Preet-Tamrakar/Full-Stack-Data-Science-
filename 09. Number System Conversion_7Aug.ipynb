{
 "cells": [
  {
   "cell_type": "markdown",
   "id": "252e519e-682e-453d-953c-d723bf501660",
   "metadata": {},
   "source": [
    "# NUMBER SYSTEM CONVERSION"
   ]
  },
  {
   "cell_type": "markdown",
   "id": "72a8d063-6fa2-4e90-bf06-5e7231466a05",
   "metadata": {},
   "source": [
    "Types of Number System Conversion\n",
    "1. Binary Number System ( 0 & 1 )\n",
    "2. Octal Binary Number System ( 0,1,2,--- 7)\n",
    "3. Decimal Number System (0,1,2,--- 9)\n",
    "4. Hexadecimal Binary Number System (0,1,---9, a-10, b=11, c=12, d=13, e=14, f=15)\n",
    "    + a is considered as 10, b is considered as 11 ....."
   ]
  },
  {
   "cell_type": "markdown",
   "id": "6a3bd3d2-1e8a-4c29-bcab-cb7fd388fd28",
   "metadata": {},
   "source": [
    "### 1. Binary Number System (Base 2)"
   ]
  },
  {
   "cell_type": "markdown",
   "id": "b0e48067-1ec3-4ccd-9e05-6a9ff7eabde1",
   "metadata": {},
   "source": [
    "+ Definition: Uses only two digits 0 & 1 to represent numbers.\n",
    "+ Binary number system is written as \"0b\"\n",
    "+ ShortForm : bin"
   ]
  },
  {
   "cell_type": "markdown",
   "id": "6ee2185d-9187-447c-a46d-6c80136b2c8b",
   "metadata": {},
   "source": [
    "### 2. Octal Number System (Base 8)"
   ]
  },
  {
   "cell_type": "markdown",
   "id": "450421a7-28d7-434e-8180-e9d672da1253",
   "metadata": {},
   "source": [
    "+ Definition: Uses digits 0 to 7 to represent numbers.\n",
    "+ Octal number system is written as \"0o\"\n",
    "+ ShortForm : oct"
   ]
  },
  {
   "cell_type": "markdown",
   "id": "20b29993-30f1-4e28-a247-bc22fd210059",
   "metadata": {},
   "source": [
    "### 3. Decimal Number System (Base 10)"
   ]
  },
  {
   "cell_type": "markdown",
   "id": "4aabdff0-b5ea-480a-964e-03ba9a22d8b7",
   "metadata": {},
   "source": [
    "+ Definition: The standard number system used in daily life, using digits 0 to 9.\n",
    "+ Decimal Number System is written as \"0x\"`"
   ]
  },
  {
   "cell_type": "markdown",
   "id": "77259cdd-bf24-43c9-8c61-bbb7daf58661",
   "metadata": {},
   "source": [
    "### 4. Hexadecimal Number System (Base 16)"
   ]
  },
  {
   "cell_type": "markdown",
   "id": "d84fd7b6-66dd-46c4-a688-2f131c4be9f4",
   "metadata": {},
   "source": [
    "+ Definition: Uses digits 0 to 9 and letters A–F (A=10, B=11, …, F=15).\n",
    "+ Hexadecimal Number System is also written as \"0x\""
   ]
  },
  {
   "cell_type": "code",
   "execution_count": 21,
   "id": "0d1b3f0f-196d-41dd-a612-4886cb01a08d",
   "metadata": {},
   "outputs": [
    {
     "data": {
      "text/plain": [
       "25"
      ]
     },
     "execution_count": 21,
     "metadata": {},
     "output_type": "execute_result"
    }
   ],
   "source": [
    "25"
   ]
  },
  {
   "cell_type": "code",
   "execution_count": 23,
   "id": "2d1db4d5-7993-4ffc-a1a9-f72a24eab473",
   "metadata": {},
   "outputs": [
    {
     "data": {
      "text/plain": [
       "'0b11001'"
      ]
     },
     "execution_count": 23,
     "metadata": {},
     "output_type": "execute_result"
    }
   ],
   "source": [
    "bin(25)"
   ]
  },
  {
   "cell_type": "markdown",
   "id": "205d8131-52ad-49a4-a405-1ce2afe606c7",
   "metadata": {},
   "source": [
    "#### How This Came \"0b11001\"\n",
    "2|25  (Divide value by 2 and write the Remainder in Right)  \n",
    "2|12 - 1  \n",
    "2| 6 - 0  \n",
    "2| 3 - 0  \n",
    "2| 1 - 1  \n",
    "Count from bottom : 11001"
   ]
  },
  {
   "cell_type": "code",
   "execution_count": 40,
   "id": "8f966e6e-f14c-4f26-a07e-3ea70cbf6b01",
   "metadata": {},
   "outputs": [
    {
     "data": {
      "text/plain": [
       "25"
      ]
     },
     "execution_count": 40,
     "metadata": {},
     "output_type": "execute_result"
    }
   ],
   "source": [
    "int(0b11001)"
   ]
  },
  {
   "cell_type": "markdown",
   "id": "addcada1-239c-423c-b289-26d2f7eefea7",
   "metadata": {},
   "source": [
    "0b11001\n",
    "remove 0b (It is Binary Representation)\n",
    "\n",
    "#### 11001 (write values fron right side like this)  \n",
    "(1×2⁴) + (1×2³) + (0×2²) + (0×2¹) + (1×2⁰)  \n",
    "(1×16) + (1×8) + (0×4) + (0×2) + (1×1)  \n",
    "16 + 8 + 0 + 0 + 1  \n",
    "25  "
   ]
  },
  {
   "cell_type": "code",
   "execution_count": 48,
   "id": "63967202-9263-44b4-9eb3-41f70b91a33b",
   "metadata": {},
   "outputs": [
    {
     "data": {
      "text/plain": [
       "'0b11110'"
      ]
     },
     "execution_count": 48,
     "metadata": {},
     "output_type": "execute_result"
    }
   ],
   "source": [
    "bin(30)"
   ]
  },
  {
   "cell_type": "markdown",
   "id": "3755453e-3cd2-44b2-94b8-85fd22f97050",
   "metadata": {},
   "source": [
    "2|30  \n",
    "2|15- 0  \n",
    "2| 7- 1  \n",
    "2| 3- 1  \n",
    "2| 1- 1\n",
    "\n",
    "+ 11110"
   ]
  },
  {
   "cell_type": "code",
   "execution_count": 52,
   "id": "48ef1ca0-a7df-4383-b5b9-08c9370f4dc2",
   "metadata": {},
   "outputs": [
    {
     "data": {
      "text/plain": [
       "30"
      ]
     },
     "execution_count": 52,
     "metadata": {},
     "output_type": "execute_result"
    }
   ],
   "source": [
    "int(0b11110)"
   ]
  },
  {
   "cell_type": "markdown",
   "id": "c8cac95a-a183-40eb-80bf-0fd1f7c891cb",
   "metadata": {},
   "source": [
    "0b11110 =  \n",
    "(1×2⁴) + (1×2³) + (1×2²) + (1×2¹) + (0×2⁰)  \n",
    "(1×16) + (1×8) + (1×4) + (1×2) + (0×1)  \n",
    "16 + 8 + 4 + 2 + 0  \n",
    "30"
   ]
  },
  {
   "cell_type": "code",
   "execution_count": 58,
   "id": "a418db15-95ba-4e44-8cc8-65b96b0d50b7",
   "metadata": {},
   "outputs": [
    {
     "data": {
      "text/plain": [
       "25"
      ]
     },
     "execution_count": 58,
     "metadata": {},
     "output_type": "execute_result"
    }
   ],
   "source": [
    "int(0b11001)"
   ]
  },
  {
   "cell_type": "markdown",
   "id": "e24cd3d5-9455-4737-9cb8-5c6d9f44f120",
   "metadata": {},
   "source": [
    "0b11001 =  \n",
    "(1×2⁴) + (1×2³) + (0×2²) + (0×2¹) + (1×2⁰)  \n",
    "(1×16) + (1×8) + (0×4) + (0×2) + (1×1)  \n",
    "16 + 8 + 0 + 0 +1  \n",
    "25 "
   ]
  },
  {
   "cell_type": "code",
   "execution_count": 64,
   "id": "ff4d603d-a7c1-48e6-bbe0-4cdc936c2bb2",
   "metadata": {},
   "outputs": [
    {
     "data": {
      "text/plain": [
       "'0o31'"
      ]
     },
     "execution_count": 64,
     "metadata": {},
     "output_type": "execute_result"
    }
   ],
   "source": [
    "oct(25)"
   ]
  },
  {
   "cell_type": "markdown",
   "id": "50e49bef-f064-4ef7-b06b-bba33837a0cf",
   "metadata": {},
   "source": [
    "8|25  \n",
    ". | 3- 1  \n",
    "Therefore: 31 is the ans with oct representation it would be 0o31 "
   ]
  },
  {
   "cell_type": "code",
   "execution_count": 70,
   "id": "0c590cf8-c592-4bd7-b726-58ea5daa3925",
   "metadata": {},
   "outputs": [
    {
     "data": {
      "text/plain": [
       "25"
      ]
     },
     "execution_count": 70,
     "metadata": {},
     "output_type": "execute_result"
    }
   ],
   "source": [
    "int(0o31)"
   ]
  },
  {
   "cell_type": "markdown",
   "id": "305e7703-2457-4f33-8710-9551cfb76330",
   "metadata": {},
   "source": [
    " 0o31 =  \n",
    "(3×8¹) + (1×8⁰)  \n",
    "(3x8) + (1x1)  \n",
    "24 + 1  \n",
    "25"
   ]
  },
  {
   "cell_type": "markdown",
   "id": "43e63e8f-4b82-4e54-ab32-0cc9a8f5c0d5",
   "metadata": {},
   "source": [
    "## hex concept\n",
    "hex(1) == '0x1'  \n",
    "hex(2) == '0x2'  \n",
    ".  \n",
    ".  \n",
    "hex(8) == '0x8'  \n",
    "hex(9) == '0x9' (UPTO THIS COMES UNDER DECIMAL)  \n",
    "\n",
    "hex(10) == '0xa' (AFTER '0xa' hexadecimal comes under)    \n",
    "hex(11) == '0xb'"
   ]
  },
  {
   "cell_type": "code",
   "execution_count": 79,
   "id": "40a0f5af-5cda-4fa8-ba5c-06a3ebb2dc8f",
   "metadata": {},
   "outputs": [
    {
     "data": {
      "text/plain": [
       "'0x19'"
      ]
     },
     "execution_count": 79,
     "metadata": {},
     "output_type": "execute_result"
    }
   ],
   "source": [
    "hex(25)"
   ]
  },
  {
   "cell_type": "markdown",
   "id": "b9e931cf-3513-4f44-8863-72295bf4da54",
   "metadata": {},
   "source": [
    "0x19 =  \n",
    "16|25  \n",
    "  | 1- 9  \n",
    "Therefor '19' with representation it would be \"0x19\""
   ]
  },
  {
   "cell_type": "code",
   "execution_count": 98,
   "id": "fc4d8815-b313-4823-b0e5-a66507712982",
   "metadata": {},
   "outputs": [
    {
     "data": {
      "text/plain": [
       "25"
      ]
     },
     "execution_count": 98,
     "metadata": {},
     "output_type": "execute_result"
    }
   ],
   "source": [
    "0x19"
   ]
  },
  {
   "cell_type": "markdown",
   "id": "82cb4b14-a727-4421-a094-6b9b9c857ad4",
   "metadata": {},
   "source": [
    "0x19 =  \n",
    "(1×16¹) + (9×16⁰)  \n",
    "(1x16) + (9x1)  \n",
    "16 + 9  \n",
    "25"
   ]
  },
  {
   "cell_type": "code",
   "execution_count": 101,
   "id": "30e52400-3b13-4ed0-aac4-f8c00ed8389e",
   "metadata": {},
   "outputs": [
    {
     "data": {
      "text/plain": [
       "21"
      ]
     },
     "execution_count": 101,
     "metadata": {},
     "output_type": "execute_result"
    }
   ],
   "source": [
    "0x15"
   ]
  },
  {
   "cell_type": "markdown",
   "id": "cb7056fd-1213-4301-bbcc-5a84b473ab66",
   "metadata": {},
   "source": [
    "0x15 =  \n",
    "(1×16¹) + (5×16⁰)  \n",
    "(1x16) + (5x1)  \n",
    "16 + 5  \n",
    "25"
   ]
  }
 ],
 "metadata": {
  "kernelspec": {
   "display_name": "Python [conda env:base] *",
   "language": "python",
   "name": "conda-base-py"
  },
  "language_info": {
   "codemirror_mode": {
    "name": "ipython",
    "version": 3
   },
   "file_extension": ".py",
   "mimetype": "text/x-python",
   "name": "python",
   "nbconvert_exporter": "python",
   "pygments_lexer": "ipython3",
   "version": "3.12.4"
  }
 },
 "nbformat": 4,
 "nbformat_minor": 5
}
