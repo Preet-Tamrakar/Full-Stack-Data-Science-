{
 "cells": [
  {
   "cell_type": "markdown",
   "id": "892e596d-0594-4e3c-bd53-4d00e560bd1b",
   "metadata": {},
   "source": [
    "# Conditional Statements"
   ]
  },
  {
   "cell_type": "markdown",
   "id": "babe28bd-d5be-4822-bd84-dbc7ddbc5580",
   "metadata": {},
   "source": [
    "+ Conditional statements are used to make decisions in a program.  \n",
    "+ They allow the program to execute certain blocks of code only if a given condition is true, and optionally execute another block if the condition is false."
   ]
  },
  {
   "cell_type": "markdown",
   "id": "b64e2d04-9d4a-4b8d-b801-02161be89dc0",
   "metadata": {},
   "source": [
    "## If Conditional Statement"
   ]
  },
  {
   "cell_type": "markdown",
   "id": "401c89f8-1774-4f05-ad88-2b949dcee1aa",
   "metadata": {},
   "source": [
    "+ If statement is the simplest form of a conditional statement. It executes a block of code if the given condition is true."
   ]
  },
  {
   "cell_type": "code",
   "execution_count": 6,
   "id": "76a23b87-49ba-4273-a8ab-5ae164e7e635",
   "metadata": {},
   "outputs": [
    {
     "name": "stdout",
     "output_type": "stream",
     "text": [
      "Eligible to Vote\n"
     ]
    }
   ],
   "source": [
    "age = 20\n",
    "\n",
    "if age >= 18:\n",
    "    print(\"Eligible to Vote\")"
   ]
  },
  {
   "cell_type": "markdown",
   "id": "cbdb9f51-06ce-4b2a-8304-9c13b474f747",
   "metadata": {},
   "source": [
    "## If else Conditional Statements"
   ]
  },
  {
   "cell_type": "markdown",
   "id": "58befff9-cc0e-426f-8559-aa395c99b60d",
   "metadata": {},
   "source": [
    "+ Else allows us to specify a block of code that will execute if the condition(s) associated with an if or elif statement evaluates to False. Else block provides a way to handle all other cases that don't meet the specified conditions."
   ]
  },
  {
   "cell_type": "code",
   "execution_count": 10,
   "id": "62d42fb6-c710-4f9e-ad18-8da0f735ce3d",
   "metadata": {},
   "outputs": [
    {
     "name": "stdout",
     "output_type": "stream",
     "text": [
      "Travel for Free.\n"
     ]
    }
   ],
   "source": [
    "age = 10\n",
    "\n",
    "if age <= 12:\n",
    "    print(\"Travel for Free.\")\n",
    "else:\n",
    "    print(\"Pay for Ticket.\")"
   ]
  },
  {
   "cell_type": "code",
   "execution_count": 12,
   "id": "80c7c36e-213d-4fbf-813c-e3e282a0311e",
   "metadata": {},
   "outputs": [
    {
     "name": "stdout",
     "output_type": "stream",
     "text": [
      "Pass\n"
     ]
    }
   ],
   "source": [
    "marks = 45\n",
    "\n",
    "if marks >= 40:\n",
    "    print(\"Pass\")\n",
    "else:\n",
    "    print(\"Fail\")"
   ]
  },
  {
   "cell_type": "markdown",
   "id": "c04e3daf-b328-4e3c-8091-99abc47be963",
   "metadata": {},
   "source": [
    "## elif Conditional Statements"
   ]
  },
  {
   "cell_type": "markdown",
   "id": "8350a60b-5660-4bda-a9a7-2346fb0d3bc2",
   "metadata": {},
   "source": [
    "+ elif statement in Python stands for \"else if.\" It allows us to check multiple conditions , providing a way to execute different blocks of code based on which condition is true. Using elif statements makes our code more readable and efficient by eliminating the need for multiple nested if statements."
   ]
  },
  {
   "cell_type": "code",
   "execution_count": 18,
   "id": "fa3a3b40-7fb7-46b7-9298-5b04b49c7e3d",
   "metadata": {},
   "outputs": [
    {
     "name": "stdout",
     "output_type": "stream",
     "text": [
      "Young adult.\n"
     ]
    }
   ],
   "source": [
    "age = 23\n",
    "\n",
    "if age <= 12:\n",
    "    print(\"Child.\")\n",
    "elif age <= 19:\n",
    "    print(\"Teenager.\")\n",
    "elif age <= 35:\n",
    "    print(\"Young adult.\")\n",
    "else:\n",
    "    print(\"Adult.\")"
   ]
  },
  {
   "cell_type": "markdown",
   "id": "e16fd9e4-e9c8-4c83-be9d-05b817cb2802",
   "metadata": {},
   "source": [
    "## Nested if else Conditional Statements"
   ]
  },
  {
   "cell_type": "markdown",
   "id": "20ce48e9-240e-46e4-8f25-425c9c6e0f24",
   "metadata": {},
   "source": [
    "+ Nested if..else means an if-else statement inside another if statement. We can use nested if statements to check conditions within conditions."
   ]
  },
  {
   "cell_type": "code",
   "execution_count": 23,
   "id": "48e723b8-6735-4161-a58b-7262003e89ee",
   "metadata": {},
   "outputs": [
    {
     "name": "stdout",
     "output_type": "stream",
     "text": [
      "30% senior discount!\n"
     ]
    }
   ],
   "source": [
    "age = 70\n",
    "is_member = True\n",
    "\n",
    "if age >= 60:\n",
    "    if is_member:\n",
    "        print(\"30% senior discount!\")\n",
    "    else:\n",
    "        print(\"20% senior discount.\")\n",
    "else:\n",
    "    print(\"Not eligible for a senior discount.\")"
   ]
  },
  {
   "cell_type": "markdown",
   "id": "35f4e78b-640f-4a9d-bc4e-a6deb184b972",
   "metadata": {},
   "source": [
    "# PRACTICE QUESTION "
   ]
  },
  {
   "cell_type": "markdown",
   "id": "46874e09-a418-45b2-84bb-66aa0e753100",
   "metadata": {},
   "source": [
    "## Easy Level"
   ]
  },
  {
   "cell_type": "markdown",
   "id": "8854c71e-fcf8-49ef-a916-8361152dec5b",
   "metadata": {},
   "source": [
    "### Q1. Write a program to check if a number is even or odd."
   ]
  },
  {
   "cell_type": "code",
   "execution_count": 6,
   "id": "52d51a19-f275-4f38-b190-43fb5da6d4f3",
   "metadata": {},
   "outputs": [
    {
     "name": "stdin",
     "output_type": "stream",
     "text": [
      "Enter a Number :  20\n"
     ]
    },
    {
     "name": "stdout",
     "output_type": "stream",
     "text": [
      "Even Number\n"
     ]
    }
   ],
   "source": [
    "num = int(input(\"Enter a Number : \"))\n",
    "\n",
    "if num % 2 == 0:\n",
    "    print(\"Even Number\")\n",
    "else:\n",
    "    print(\"Odd Number\")"
   ]
  },
  {
   "cell_type": "code",
   "execution_count": 8,
   "id": "42387592-80b1-4317-8a58-379723908f6f",
   "metadata": {},
   "outputs": [
    {
     "name": "stdin",
     "output_type": "stream",
     "text": [
      "Enter a Number :  11\n"
     ]
    },
    {
     "name": "stdout",
     "output_type": "stream",
     "text": [
      "Odd Number\n"
     ]
    }
   ],
   "source": [
    "num = int(input(\"Enter a Number : \"))\n",
    "\n",
    "if num % 2 == 0:\n",
    "    print(\"Even Number\")\n",
    "else:\n",
    "    print(\"Odd Number\")"
   ]
  },
  {
   "cell_type": "markdown",
   "id": "13f38b1f-4b10-419a-ae02-367d9ffebe65",
   "metadata": {},
   "source": [
    "### Q2. Check if a person is eligible to vote (age 18 or above)."
   ]
  },
  {
   "cell_type": "code",
   "execution_count": 13,
   "id": "eda37dae-bba9-44db-a160-57fefb9a49e5",
   "metadata": {},
   "outputs": [
    {
     "name": "stdin",
     "output_type": "stream",
     "text": [
      "Enter your Age :  18\n"
     ]
    },
    {
     "name": "stdout",
     "output_type": "stream",
     "text": [
      "Eligible to VOTE\n"
     ]
    }
   ],
   "source": [
    "age = int(input(\"Enter your Age : \"))\n",
    "\n",
    "if age >= 18:\n",
    "    print(\"Eligible to VOTE\")\n",
    "else:\n",
    "    print(\"Not, Eligible to Vote\")"
   ]
  },
  {
   "cell_type": "code",
   "execution_count": 15,
   "id": "0fe38e11-1760-430c-a550-cac45b80254f",
   "metadata": {},
   "outputs": [
    {
     "name": "stdin",
     "output_type": "stream",
     "text": [
      "Enter your Age :  16\n"
     ]
    },
    {
     "name": "stdout",
     "output_type": "stream",
     "text": [
      "Not, Eligible to Vote\n"
     ]
    }
   ],
   "source": [
    "age = int(input(\"Enter your Age : \"))\n",
    "\n",
    "if age >= 18:\n",
    "    print(\"Eligible to VOTE\")\n",
    "else:\n",
    "    print(\"Not, Eligible to Vote\")"
   ]
  },
  {
   "cell_type": "code",
   "execution_count": 17,
   "id": "c6d4cf1e-ec87-4cbb-8459-04c638999778",
   "metadata": {},
   "outputs": [
    {
     "name": "stdin",
     "output_type": "stream",
     "text": [
      "Enter your Age :  78\n"
     ]
    },
    {
     "name": "stdout",
     "output_type": "stream",
     "text": [
      "Eligible to VOTE\n"
     ]
    }
   ],
   "source": [
    "age = int(input(\"Enter your Age : \"))\n",
    "\n",
    "if age >= 18:\n",
    "    print(\"Eligible to VOTE\")\n",
    "else:\n",
    "    print(\"Not, Eligible to Vote\")"
   ]
  },
  {
   "cell_type": "markdown",
   "id": "5cfd87b7-bcb5-403f-a598-1464746eaa21",
   "metadata": {},
   "source": [
    "### Q3. Determine if a given year is a leap year or not."
   ]
  },
  {
   "cell_type": "code",
   "execution_count": 34,
   "id": "acfb47fa-4f99-4cd5-bed2-c79cb382e7aa",
   "metadata": {},
   "outputs": [
    {
     "name": "stdin",
     "output_type": "stream",
     "text": [
      "Enter Year :  2024\n"
     ]
    },
    {
     "name": "stdout",
     "output_type": "stream",
     "text": [
      "This is Leap Year!\n"
     ]
    }
   ],
   "source": [
    "year = int(input(\"Enter Year : \"))\n",
    "\n",
    "if year % 4 == 0:\n",
    "    print(\"This is Leap Year!\")\n",
    "else:\n",
    "    print(\"This is Not Leap Year.\")"
   ]
  },
  {
   "cell_type": "code",
   "execution_count": 36,
   "id": "32b41977-dd6d-4d80-9d00-a839a39b0154",
   "metadata": {},
   "outputs": [
    {
     "name": "stdin",
     "output_type": "stream",
     "text": [
      "Enter Year :  2025\n"
     ]
    },
    {
     "name": "stdout",
     "output_type": "stream",
     "text": [
      "This is Not Leap Year.\n"
     ]
    }
   ],
   "source": [
    "year = int(input(\"Enter Year : \"))\n",
    "\n",
    "if year % 4 == 0:\n",
    "    print(\"This is Leap Year!\")\n",
    "else:\n",
    "    print(\"This is Not Leap Year.\")"
   ]
  },
  {
   "cell_type": "markdown",
   "id": "c61fa0bf-a056-4e93-a05f-c528d964e01c",
   "metadata": {},
   "source": [
    "### Q4. Check if a number is positive, negative, or zero."
   ]
  },
  {
   "cell_type": "code",
   "execution_count": 39,
   "id": "8843ef3f-501f-421c-8410-7a34ce21b57e",
   "metadata": {},
   "outputs": [
    {
     "name": "stdin",
     "output_type": "stream",
     "text": [
      "Enter your Number :  6\n"
     ]
    },
    {
     "name": "stdout",
     "output_type": "stream",
     "text": [
      "Positive Number\n"
     ]
    }
   ],
   "source": [
    "num = int(input(\"Enter your Number : \"))\n",
    "\n",
    "if num > 0:\n",
    "    print(\"Positive Number\")\n",
    "elif num < 0:\n",
    "    print(\"Negative Number\")\n",
    "else:\n",
    "    print(\"Number is Zero!\")"
   ]
  },
  {
   "cell_type": "code",
   "execution_count": 41,
   "id": "6234ee2b-085b-4cb5-986a-40b0d7d559b1",
   "metadata": {},
   "outputs": [
    {
     "name": "stdin",
     "output_type": "stream",
     "text": [
      "Enter your Number :  0\n"
     ]
    },
    {
     "name": "stdout",
     "output_type": "stream",
     "text": [
      "Number is Zero!\n"
     ]
    }
   ],
   "source": [
    "num = int(input(\"Enter your Number : \"))\n",
    "\n",
    "if num > 0:\n",
    "    print(\"Positive Number\")\n",
    "elif num < 0:\n",
    "    print(\"Negative Number\")\n",
    "else:\n",
    "    print(\"Number is Zero!\")"
   ]
  },
  {
   "cell_type": "code",
   "execution_count": 43,
   "id": "fc5623b9-e6b9-4af7-a768-2d399e791bd2",
   "metadata": {},
   "outputs": [
    {
     "name": "stdin",
     "output_type": "stream",
     "text": [
      "Enter your Number :  -3\n"
     ]
    },
    {
     "name": "stdout",
     "output_type": "stream",
     "text": [
      "Negative Number\n"
     ]
    }
   ],
   "source": [
    "num = int(input(\"Enter your Number : \"))\n",
    "\n",
    "if num > 0:\n",
    "    print(\"Positive Number\")\n",
    "elif num < 0:\n",
    "    print(\"Negative Number\")\n",
    "else:\n",
    "    print(\"Number is Zero!\")"
   ]
  },
  {
   "cell_type": "markdown",
   "id": "b5acec9e-e613-4eb3-8bae-021d0b83f58b",
   "metadata": {},
   "source": [
    "### Q5. Write a program to find the greatest of two numbers."
   ]
  },
  {
   "cell_type": "code",
   "execution_count": 50,
   "id": "8289f35c-a18c-497b-80cd-503cb3998e3c",
   "metadata": {},
   "outputs": [
    {
     "name": "stdin",
     "output_type": "stream",
     "text": [
      "Enter first number :  1\n",
      "Enter secound number :  10\n"
     ]
    },
    {
     "name": "stdout",
     "output_type": "stream",
     "text": [
      "Greater Number is  10\n"
     ]
    }
   ],
   "source": [
    "num1 = int(input(\"Enter first number : \"))\n",
    "num2 = int(input(\"Enter secound number : \"))\n",
    "\n",
    "if num1 > num2:\n",
    "    print(\"Greater Number is \", num1)\n",
    "else:\n",
    "    print(\"Greater Number is \", num2)"
   ]
  },
  {
   "cell_type": "code",
   "execution_count": 52,
   "id": "328e9e50-043d-4bd2-a73f-87fb5dc77230",
   "metadata": {},
   "outputs": [
    {
     "name": "stdin",
     "output_type": "stream",
     "text": [
      "Enter first number :  100\n",
      "Enter secound number :  10\n"
     ]
    },
    {
     "name": "stdout",
     "output_type": "stream",
     "text": [
      "Greater Number is  100\n"
     ]
    }
   ],
   "source": [
    "num1 = int(input(\"Enter first number : \"))\n",
    "num2 = int(input(\"Enter secound number : \"))\n",
    "\n",
    "if num1 > num2:\n",
    "    print(\"Greater Number is \", num1)\n",
    "else:\n",
    "    print(\"Greater Number is \", num2)"
   ]
  },
  {
   "cell_type": "code",
   "execution_count": 54,
   "id": "60c3cc6a-4423-485b-94f1-70f3b97c7861",
   "metadata": {},
   "outputs": [
    {
     "name": "stdin",
     "output_type": "stream",
     "text": [
      "Enter first number :  50\n",
      "Enter secound number :  60\n"
     ]
    },
    {
     "name": "stdout",
     "output_type": "stream",
     "text": [
      "60 is the Greater Number!!\n"
     ]
    }
   ],
   "source": [
    "# This can also be done using f string\n",
    "\n",
    "num1 = int(input(\"Enter first number : \"))\n",
    "num2 = int(input(\"Enter secound number : \"))\n",
    "\n",
    "if num1 > num2:\n",
    "    print(f\"{num1} is the Greater Number!\")\n",
    "else: \n",
    "    print(f\"{num2} is the Greater Number!!\")"
   ]
  },
  {
   "cell_type": "markdown",
   "id": "726d5628-cefe-4920-99a4-a8547d71fe65",
   "metadata": {},
   "source": [
    "### Q6. Determine if a number is a multiple of 5."
   ]
  },
  {
   "cell_type": "code",
   "execution_count": 57,
   "id": "713378b3-f028-4976-a3c9-9fb3d414e19b",
   "metadata": {},
   "outputs": [
    {
     "name": "stdin",
     "output_type": "stream",
     "text": [
      "Enter a Number:  100\n"
     ]
    },
    {
     "name": "stdout",
     "output_type": "stream",
     "text": [
      "Yes, This is multiple of 5.\n"
     ]
    }
   ],
   "source": [
    "num = int(input(\"Enter a Number: \"))\n",
    "\n",
    "if num % 5 == 0:\n",
    "    print(\"Yes, This is multiple of 5.\")\n",
    "else: \n",
    "    print(\"No, This is not multiple of 5.\")"
   ]
  },
  {
   "cell_type": "code",
   "execution_count": 59,
   "id": "20e2a838-fba8-4148-83e1-d8940eb56668",
   "metadata": {},
   "outputs": [
    {
     "name": "stdin",
     "output_type": "stream",
     "text": [
      "Enter a Number:  99\n"
     ]
    },
    {
     "name": "stdout",
     "output_type": "stream",
     "text": [
      "No, This is not multiple of 5.\n"
     ]
    }
   ],
   "source": [
    "num = int(input(\"Enter a Number: \"))\n",
    "\n",
    "if num % 5 == 0:\n",
    "    print(\"Yes, This is multiple of 5.\")\n",
    "else: \n",
    "    print(\"No, This is not multiple of 5.\")"
   ]
  },
  {
   "cell_type": "markdown",
   "id": "688f886a-3ad2-4f31-a78c-ffe0d149c6c6",
   "metadata": {},
   "source": [
    "### Q7. Check if a character is a vowel or consonant."
   ]
  },
  {
   "cell_type": "code",
   "execution_count": 62,
   "id": "d42f3bf8-c4d4-4848-ae1c-d7784c1dcf7b",
   "metadata": {},
   "outputs": [
    {
     "name": "stdin",
     "output_type": "stream",
     "text": [
      "Enter your Character:  a\n"
     ]
    },
    {
     "name": "stdout",
     "output_type": "stream",
     "text": [
      "You entered Vowel!\n"
     ]
    }
   ],
   "source": [
    "char = input(\"Enter your Character: \")\n",
    "\n",
    "if char in 'aeiouAEIOU':\n",
    "    print(\"You entered Vowel!\")\n",
    "else:\n",
    "    print(\"You entered Consonant\")"
   ]
  },
  {
   "cell_type": "code",
   "execution_count": 64,
   "id": "4d2ce77d-221d-42da-be17-900ead53d373",
   "metadata": {},
   "outputs": [
    {
     "name": "stdin",
     "output_type": "stream",
     "text": [
      "Enter your Character:  I\n"
     ]
    },
    {
     "name": "stdout",
     "output_type": "stream",
     "text": [
      "You entered Vowel!\n"
     ]
    }
   ],
   "source": [
    "char = input(\"Enter your Character: \")\n",
    "\n",
    "if char in 'aeiouAEIOU':\n",
    "    print(\"You entered Vowel!\")\n",
    "else:\n",
    "    print(\"You entered Consonant\")"
   ]
  },
  {
   "cell_type": "code",
   "execution_count": 66,
   "id": "356ce84f-1302-48a7-8ad0-b2e79be7153b",
   "metadata": {},
   "outputs": [
    {
     "name": "stdin",
     "output_type": "stream",
     "text": [
      "Enter your Character:  P\n"
     ]
    },
    {
     "name": "stdout",
     "output_type": "stream",
     "text": [
      "You entered Consonant\n"
     ]
    }
   ],
   "source": [
    "char = input(\"Enter your Character: \")\n",
    "\n",
    "if char in 'aeiouAEIOU':\n",
    "    print(\"You entered Vowel!\")\n",
    "else:\n",
    "    print(\"You entered Consonant\")"
   ]
  },
  {
   "cell_type": "code",
   "execution_count": 72,
   "id": "55cf81ba-b5d2-4ef8-91b1-3700207b8a8d",
   "metadata": {},
   "outputs": [
    {
     "name": "stdin",
     "output_type": "stream",
     "text": [
      "Enter your Character:  o\n"
     ]
    },
    {
     "name": "stdout",
     "output_type": "stream",
     "text": [
      "You entered Vowel!\n"
     ]
    }
   ],
   "source": [
    "# Another Method\n",
    "\n",
    "char = input(\"Enter your Character: \").upper()\n",
    "\n",
    "if char in 'AEIOU':\n",
    "    print(\"You entered Vowel!\")\n",
    "else:\n",
    "    print(\"You entered Consonant\")"
   ]
  },
  {
   "cell_type": "code",
   "execution_count": 74,
   "id": "b2960fc7-11ca-4346-8809-25c1d2a5ebec",
   "metadata": {},
   "outputs": [
    {
     "name": "stdin",
     "output_type": "stream",
     "text": [
      "Enter your Character:  p\n"
     ]
    },
    {
     "name": "stdout",
     "output_type": "stream",
     "text": [
      "You entered Consonant\n"
     ]
    }
   ],
   "source": [
    "char = input(\"Enter your Character: \").upper()\n",
    "\n",
    "if char in 'AEIOU':\n",
    "    print(\"You entered Vowel!\")\n",
    "else:\n",
    "    print(\"You entered Consonant\")"
   ]
  },
  {
   "cell_type": "code",
   "execution_count": 78,
   "id": "1a86acae-908c-4c60-9ae6-6884d90029a1",
   "metadata": {},
   "outputs": [
    {
     "name": "stdin",
     "output_type": "stream",
     "text": [
      "Enter a character: z\n"
     ]
    },
    {
     "name": "stdout",
     "output_type": "stream",
     "text": [
      "You entered Z which is Consonant\n"
     ]
    }
   ],
   "source": [
    "# using f string\n",
    "\n",
    "char = input(\"Enter a character:\").upper()\n",
    "if char in 'AEIOU':\n",
    "    print (f\"You entered {char} which is Vowel\")\n",
    "else:\n",
    "    print (f\"You entered {char} which is Consonant\")"
   ]
  },
  {
   "cell_type": "markdown",
   "id": "867aae36-8dab-4a4e-861c-8f48249db41b",
   "metadata": {},
   "source": [
    "### 8. Determine if a person is eligible for a senior citizen discount (age 60+)."
   ]
  },
  {
   "cell_type": "code",
   "execution_count": 83,
   "id": "bbc6ed8a-54f0-4226-badf-6dc344808dc9",
   "metadata": {},
   "outputs": [
    {
     "name": "stdin",
     "output_type": "stream",
     "text": [
      "Enter you Age:  18\n"
     ]
    },
    {
     "name": "stdout",
     "output_type": "stream",
     "text": [
      "You are not Senior citizen, and NOT Eligible for Senior Citizen Discount.\n"
     ]
    }
   ],
   "source": [
    "age = int(input(\"Enter you Age: \"))\n",
    "\n",
    "if age > 60:\n",
    "    print(\"You are Senior citizen, and Eligible for Senior Citizen Discount!\")\n",
    "else: \n",
    "    print(\"You are not Senior citizen, and NOT Eligible for Senior Citizen Discount.\")"
   ]
  },
  {
   "cell_type": "code",
   "execution_count": 85,
   "id": "51221869-97d1-4a1f-a754-981afb2ecb19",
   "metadata": {},
   "outputs": [
    {
     "name": "stdin",
     "output_type": "stream",
     "text": [
      "Enter you Age:  75\n"
     ]
    },
    {
     "name": "stdout",
     "output_type": "stream",
     "text": [
      "You are Senior citizen, and Eligible for Senior Citizen Discount!\n"
     ]
    }
   ],
   "source": [
    "age = int(input(\"Enter you Age: \"))\n",
    "\n",
    "if age > 60:\n",
    "    print(\"You are Senior citizen, and Eligible for Senior Citizen Discount!\")\n",
    "else: \n",
    "    print(\"You are not Senior citizen, and NOT Eligible for Senior Citizen Discount.\")"
   ]
  },
  {
   "cell_type": "code",
   "execution_count": 87,
   "id": "6364aaf1-005b-498f-9a94-20e7682159ab",
   "metadata": {},
   "outputs": [
    {
     "name": "stdin",
     "output_type": "stream",
     "text": [
      "Enter you Age:  60\n"
     ]
    },
    {
     "name": "stdout",
     "output_type": "stream",
     "text": [
      "You are not Senior citizen, and NOT Eligible for Senior Citizen Discount.\n"
     ]
    }
   ],
   "source": [
    "age = int(input(\"Enter you Age: \"))\n",
    "\n",
    "if age > 60:\n",
    "    print(\"You are Senior citizen, and Eligible for Senior Citizen Discount!\")\n",
    "else: \n",
    "    print(\"You are not Senior citizen, and NOT Eligible for Senior Citizen Discount.\")"
   ]
  },
  {
   "cell_type": "markdown",
   "id": "a5463c76-028d-4855-b485-60f72cdd4fe4",
   "metadata": {},
   "source": [
    "### Q9. Write a program to check if a number is a single-digit number."
   ]
  },
  {
   "cell_type": "code",
   "execution_count": 102,
   "id": "e998514e-49c1-41fd-a882-990b083d2a98",
   "metadata": {},
   "outputs": [
    {
     "name": "stdin",
     "output_type": "stream",
     "text": [
      "Enter the Number:  5\n"
     ]
    },
    {
     "name": "stdout",
     "output_type": "stream",
     "text": [
      "You entered a SINGLE DIGIT NUMBER\n"
     ]
    }
   ],
   "source": [
    "import math\n",
    "\n",
    "num = input(\"Enter the Number: \")\n",
    "\n",
    "if len(num) <= 1:\n",
    "    print(\"You entered a SINGLE DIGIT NUMBER\")\n",
    "else:\n",
    "    print(\"This is not SINGLE DIGIT NUMBER\")"
   ]
  },
  {
   "cell_type": "code",
   "execution_count": 104,
   "id": "1a6ab705-1345-4097-b5c3-11596f7afbfe",
   "metadata": {},
   "outputs": [
    {
     "name": "stdin",
     "output_type": "stream",
     "text": [
      "Enter the Number:  55\n"
     ]
    },
    {
     "name": "stdout",
     "output_type": "stream",
     "text": [
      "This is not SINGLE DIGIT NUMBER\n"
     ]
    }
   ],
   "source": [
    "import math\n",
    "\n",
    "num = input(\"Enter the Number: \")\n",
    "\n",
    "if len(num) <= 1:\n",
    "    print(\"You entered a SINGLE DIGIT NUMBER\")\n",
    "else:\n",
    "    print(\"This is not SINGLE DIGIT NUMBER\")"
   ]
  },
  {
   "cell_type": "markdown",
   "id": "dce03598-9f91-46e1-9c29-0ea7707429e6",
   "metadata": {},
   "source": [
    "### Q10. Print \"Good Morning\" if the time is before 12 PM, otherwise print \"Good Afternoon\"."
   ]
  },
  {
   "cell_type": "code",
   "execution_count": 107,
   "id": "ed4bc85a-92d7-463d-a698-b3f5eb389fb9",
   "metadata": {},
   "outputs": [
    {
     "name": "stdin",
     "output_type": "stream",
     "text": [
      "What is the time? Enter number using 24hrs clock:  15\n"
     ]
    },
    {
     "name": "stdout",
     "output_type": "stream",
     "text": [
      "Hello, Good Afternoon\n"
     ]
    }
   ],
   "source": [
    "time = int(input(\"What is the time? Enter number using 24hrs clock: \"))\n",
    "\n",
    "if time < 12 :\n",
    "    print(\"Hello, Good Moring\")\n",
    "else: \n",
    "    print(\"Hello, Good Afternoon\")"
   ]
  },
  {
   "cell_type": "code",
   "execution_count": 109,
   "id": "ee29f0ce-9ec8-4436-8f86-40ab10654f76",
   "metadata": {},
   "outputs": [
    {
     "name": "stdin",
     "output_type": "stream",
     "text": [
      "What is the time? Enter number using 24hrs clock:  11\n"
     ]
    },
    {
     "name": "stdout",
     "output_type": "stream",
     "text": [
      "Hello, Good Moring\n"
     ]
    }
   ],
   "source": [
    "time = int(input(\"What is the time? Enter number using 24hrs clock: \"))\n",
    "\n",
    "if time < 12 :\n",
    "    print(\"Hello, Good Moring\")\n",
    "else: \n",
    "    print(\"Hello, Good Afternoon\")"
   ]
  },
  {
   "cell_type": "code",
   "execution_count": 111,
   "id": "316e9bc7-aa52-48fc-b8ea-0f6e7519d3d0",
   "metadata": {},
   "outputs": [
    {
     "name": "stdin",
     "output_type": "stream",
     "text": [
      "What is the time? Enter number using 24hrs clock:  12\n"
     ]
    },
    {
     "name": "stdout",
     "output_type": "stream",
     "text": [
      "Hello, Good Afternoon\n"
     ]
    }
   ],
   "source": [
    "time = int(input(\"What is the time? Enter number using 24hrs clock: \"))\n",
    "\n",
    "if time < 12 :\n",
    "    print(\"Hello, Good Moring\")\n",
    "else: \n",
    "    print(\"Hello, Good Afternoon\")"
   ]
  },
  {
   "cell_type": "markdown",
   "id": "f5133cd5-0bf2-4804-ad07-e3e36b7efb31",
   "metadata": {},
   "source": [
    "### Q11. Check if a string is empty or not."
   ]
  },
  {
   "cell_type": "code",
   "execution_count": 2,
   "id": "7590b4a5-30b2-4829-aa01-839d14397a3d",
   "metadata": {},
   "outputs": [
    {
     "name": "stdin",
     "output_type": "stream",
     "text": [
      "Enter a String:  \n"
     ]
    },
    {
     "name": "stdout",
     "output_type": "stream",
     "text": [
      "String is Empty!\n"
     ]
    }
   ],
   "source": [
    "string = input(\"Enter a String: \")\n",
    "\n",
    "if string.strip():\n",
    "    print(\"String is NOT Empty\")\n",
    "else:\n",
    "    print(\"String is Empty!\")"
   ]
  },
  {
   "cell_type": "markdown",
   "id": "2a5faee4-9103-4f4c-a995-0c1fa94abe11",
   "metadata": {},
   "source": [
    "### Q12. Verify if a number is a perfect square."
   ]
  },
  {
   "cell_type": "code",
   "execution_count": 11,
   "id": "55425941-c7c9-4e5b-971b-a5500b447d94",
   "metadata": {},
   "outputs": [
    {
     "name": "stdin",
     "output_type": "stream",
     "text": [
      "Enter a Number, I can tell you if it is a perfect square:  9\n"
     ]
    },
    {
     "name": "stdout",
     "output_type": "stream",
     "text": [
      "9 is a perfect square number.\n"
     ]
    }
   ],
   "source": [
    "import math\n",
    "\n",
    "num = int(input(\"Enter a Number, I can tell you if it is a perfect square: \"))\n",
    "if math.isqrt(num) ** 2 == num:\n",
    "    print(f\"{num} is a perfect square number.\")\n",
    "else:\n",
    "    print(f\"{num} is NOT a perfect square number.\")"
   ]
  },
  {
   "cell_type": "code",
   "execution_count": 9,
   "id": "b79f3c7d-4316-4cda-a7ad-6fa48c6742be",
   "metadata": {},
   "outputs": [
    {
     "name": "stdin",
     "output_type": "stream",
     "text": [
      "Enter a Number, I can tell you if it is a perfect square:  5\n"
     ]
    },
    {
     "name": "stdout",
     "output_type": "stream",
     "text": [
      "5 is NOT a perfect square number.\n"
     ]
    }
   ],
   "source": [
    "import math\n",
    "\n",
    "num = int(input(\"Enter a Number, I can tell you if it is a perfect square: \"))\n",
    "if math.isqrt(num) ** 2 == num:\n",
    "    print(f\"{num} is a perfect square number.\")\n",
    "else:\n",
    "    print(f\"{num} is NOT a perfect square number.\")"
   ]
  },
  {
   "cell_type": "markdown",
   "id": "cb15efaa-40f4-42dc-be81-90b8feac3d31",
   "metadata": {},
   "source": [
    "### Q13. Determine if a number is between 1 and 100."
   ]
  },
  {
   "cell_type": "code",
   "execution_count": 14,
   "id": "f2f20b64-0997-40e2-ad0a-b284f1053dfd",
   "metadata": {},
   "outputs": [
    {
     "name": "stdin",
     "output_type": "stream",
     "text": [
      "Enter a Number:  69\n"
     ]
    },
    {
     "name": "stdout",
     "output_type": "stream",
     "text": [
      "You entered a number that is between 1 & 100\n"
     ]
    }
   ],
   "source": [
    "num = int(input(\"Enter a Number: \"))\n",
    "\n",
    "if num <= 100:\n",
    "    print(\"You entered a number that is between 1 & 100\")\n",
    "else:\n",
    "    print(\"You entered a number that is NOT between 1 & 100\")"
   ]
  },
  {
   "cell_type": "code",
   "execution_count": 16,
   "id": "ddbe64a6-0aa4-4587-974f-a4dee503856c",
   "metadata": {},
   "outputs": [
    {
     "name": "stdin",
     "output_type": "stream",
     "text": [
      "Enter a Number:  101\n"
     ]
    },
    {
     "name": "stdout",
     "output_type": "stream",
     "text": [
      "You entered a number that is NOT between 1 & 100\n"
     ]
    }
   ],
   "source": [
    "num = int(input(\"Enter a Number: \"))\n",
    "\n",
    "if num <= 100:\n",
    "    print(\"You entered a number that is between 1 & 100\")\n",
    "else:\n",
    "    print(\"You entered a number that is NOT between 1 & 100\")\n",
    "    "
   ]
  },
  {
   "cell_type": "markdown",
   "id": "21099265-9cd0-4e7b-88e4-08267350b001",
   "metadata": {},
   "source": [
    "### Q14. Print \"Weekend\" if the day is Saturday or Sunday; otherwise, print \"Weekday\"."
   ]
  },
  {
   "cell_type": "code",
   "execution_count": 23,
   "id": "37b0a61c-15d7-4e59-ba60-45e695e6e45e",
   "metadata": {},
   "outputs": [
    {
     "name": "stdin",
     "output_type": "stream",
     "text": [
      "Enter a Day sunday\n"
     ]
    },
    {
     "name": "stdout",
     "output_type": "stream",
     "text": [
      "Sunday is a Weekend, enjoy!\n"
     ]
    }
   ],
   "source": [
    "day = input(\"Enter a Day\").capitalize()\n",
    "\n",
    "if day in ('Saturday , Sunday'):\n",
    "    print(f\"{day} is a Weekend, enjoy!\")\n",
    "else:\n",
    "    print(f\"{day} is a Weekday, Work Hard!\")"
   ]
  },
  {
   "cell_type": "code",
   "execution_count": 27,
   "id": "1b7b87e4-1d28-412f-a037-66ed1ca1a39d",
   "metadata": {},
   "outputs": [
    {
     "name": "stdin",
     "output_type": "stream",
     "text": [
      "Enter a Day monday\n"
     ]
    },
    {
     "name": "stdout",
     "output_type": "stream",
     "text": [
      "Monday is a Weekday, Work Hard!\n"
     ]
    }
   ],
   "source": [
    "day = input(\"Enter a Day\").capitalize()\n",
    "\n",
    "if day in ('Saturday , Sunday'):\n",
    "    print(f\"{day} is a Weekend, enjoy!\")\n",
    "else:\n",
    "    print(f\"{day} is a Weekday, Work Hard!\")"
   ]
  },
  {
   "cell_type": "markdown",
   "id": "f0ef46f7-7a0c-4c52-bd9e-4b0d031675b6",
   "metadata": {},
   "source": [
    "### Q15. Find if a given number is exactly divisible by both 3 and 7."
   ]
  },
  {
   "cell_type": "code",
   "execution_count": 34,
   "id": "1fc31a17-6841-4ee3-b93d-46f2a766e441",
   "metadata": {},
   "outputs": [
    {
     "name": "stdin",
     "output_type": "stream",
     "text": [
      "Enter a Number:  21\n"
     ]
    },
    {
     "name": "stdout",
     "output_type": "stream",
     "text": [
      "It is divisible by 3\n"
     ]
    }
   ],
   "source": [
    "import math \n",
    "\n",
    "num = int(input(\"Enter a Number: \"))\n",
    "\n",
    "if num % 3 == 0:\n",
    "    print(\"It is divisible by 3\")\n",
    "elif num % 7 == 0:\n",
    "    print(\"It is divisible by 7\")\n",
    "else: \n",
    "    print(\"It is not divisible by 3 or 7\")"
   ]
  },
  {
   "cell_type": "code",
   "execution_count": 38,
   "id": "1e643aa3-30df-46b4-b897-94e201d90b72",
   "metadata": {},
   "outputs": [
    {
     "name": "stdin",
     "output_type": "stream",
     "text": [
      "Enter a Number:  35\n"
     ]
    },
    {
     "name": "stdout",
     "output_type": "stream",
     "text": [
      "It is divisible by 7\n"
     ]
    }
   ],
   "source": [
    "import math \n",
    "\n",
    "num = int(input(\"Enter a Number: \"))\n",
    "\n",
    "if num % 3 == 0:\n",
    "    print(\"It is divisible by 3\")\n",
    "elif num % 7 == 0:\n",
    "    print(\"It is divisible by 7\")\n",
    "else: \n",
    "    print(\"It is not divisible by 3 or 7\")"
   ]
  },
  {
   "cell_type": "code",
   "execution_count": 40,
   "id": "1ac356d3-efe0-4101-9719-315a3ace3b46",
   "metadata": {},
   "outputs": [
    {
     "name": "stdin",
     "output_type": "stream",
     "text": [
      "Enter a Number:  100\n"
     ]
    },
    {
     "name": "stdout",
     "output_type": "stream",
     "text": [
      "It is not divisible by 3 or 7\n"
     ]
    }
   ],
   "source": [
    "import math \n",
    "\n",
    "num = int(input(\"Enter a Number: \"))\n",
    "\n",
    "if num % 3 == 0:\n",
    "    print(\"It is divisible by 3\")\n",
    "elif num % 7 == 0:\n",
    "    print(\"It is divisible by 7\")\n",
    "else: \n",
    "    print(\"It is not divisible by 3 or 7\")"
   ]
  },
  {
   "cell_type": "markdown",
   "id": "b3fbec40-fb9a-4076-bc4c-86b3418514c1",
   "metadata": {},
   "source": [
    "### Q16. Check if the sum of two numbers is greater than 100."
   ]
  },
  {
   "cell_type": "code",
   "execution_count": 43,
   "id": "41774d22-760d-4230-bebe-f0b8e0de0d72",
   "metadata": {},
   "outputs": [
    {
     "name": "stdin",
     "output_type": "stream",
     "text": [
      "Enter 1st Number 60\n",
      "Enter 2nd Number 50\n"
     ]
    },
    {
     "name": "stdout",
     "output_type": "stream",
     "text": [
      "The sum of two number is Greater than 100\n"
     ]
    }
   ],
   "source": [
    "num1 = int(input(\"Enter 1st Number\"))\n",
    "num2 = int(input(\"Enter 2nd Number\"))\n",
    "\n",
    "num = num1 + num2\n",
    "\n",
    "if num > 100:\n",
    "    print(\"The sum of two number is Greater than 100\")\n",
    "else:\n",
    "    print(\"The sum is not greater than 100\")"
   ]
  },
  {
   "cell_type": "code",
   "execution_count": 45,
   "id": "404dab42-5a0e-4d69-86c2-b28b429350e5",
   "metadata": {},
   "outputs": [
    {
     "name": "stdin",
     "output_type": "stream",
     "text": [
      "Enter 1st Number 20\n",
      "Enter 2nd Number 30\n"
     ]
    },
    {
     "name": "stdout",
     "output_type": "stream",
     "text": [
      "The sum is not greater than 100\n"
     ]
    }
   ],
   "source": [
    "num1 = int(input(\"Enter 1st Number\"))\n",
    "num2 = int(input(\"Enter 2nd Number\"))\n",
    "\n",
    "num = num1 + num2\n",
    "\n",
    "if num > 100:\n",
    "    print(\"The sum of two number is Greater than 100\")\n",
    "else:\n",
    "    print(\"The sum is not greater than 100\")"
   ]
  },
  {
   "cell_type": "code",
   "execution_count": 47,
   "id": "a843a8ee-6531-4507-8b55-e5b639c30afa",
   "metadata": {},
   "outputs": [
    {
     "name": "stdin",
     "output_type": "stream",
     "text": [
      "Enter 1st Number 50\n",
      "Enter 2nd Number 100\n"
     ]
    },
    {
     "name": "stdout",
     "output_type": "stream",
     "text": [
      "The sum of 50 and 100 is Greater than 100\n"
     ]
    }
   ],
   "source": [
    "num1 = int(input(\"Enter 1st Number\"))\n",
    "num2 = int(input(\"Enter 2nd Number\"))\n",
    "\n",
    "num = num1 + num2\n",
    "\n",
    "if num > 100:\n",
    "    print(f\"The sum of {num1} and {num2} is Greater than 100\")\n",
    "else:\n",
    "    print(f\"The sum of {num1} and {num2} not greater than 100\")"
   ]
  },
  {
   "cell_type": "markdown",
   "id": "52977b27-f917-4402-aad1-d59e8212b6d2",
   "metadata": {},
   "source": [
    "### Q17. Write a program to find the minimum of two numbers."
   ]
  },
  {
   "cell_type": "code",
   "execution_count": 50,
   "id": "e29e7df3-cbce-4d85-990d-11fbe9d7a3a4",
   "metadata": {},
   "outputs": [
    {
     "name": "stdin",
     "output_type": "stream",
     "text": [
      "Enter 1st Number 8\n",
      "Enter 2nd Number 10\n"
     ]
    },
    {
     "name": "stdout",
     "output_type": "stream",
     "text": [
      "8 is minimum.\n"
     ]
    }
   ],
   "source": [
    "num1 = int(input(\"Enter 1st Number\"))\n",
    "num2 = int(input(\"Enter 2nd Number\"))\n",
    "\n",
    "if num1 < num2 :\n",
    "    print(f\"{num1} is minimum.\")\n",
    "else:\n",
    "    print(f\"{num2} is minimum.\")"
   ]
  },
  {
   "cell_type": "code",
   "execution_count": 52,
   "id": "c7651fe3-e7c7-4c80-a57e-dec0812a6bfc",
   "metadata": {},
   "outputs": [
    {
     "name": "stdin",
     "output_type": "stream",
     "text": [
      "Enter 1st Number 20\n",
      "Enter 2nd Number 1\n"
     ]
    },
    {
     "name": "stdout",
     "output_type": "stream",
     "text": [
      "1 is minimum.\n"
     ]
    }
   ],
   "source": [
    "num1 = int(input(\"Enter 1st Number\"))\n",
    "num2 = int(input(\"Enter 2nd Number\"))\n",
    "\n",
    "if num1 < num2 :\n",
    "    print(f\"{num1} is minimum.\")\n",
    "else:\n",
    "    print(f\"{num2} is minimum.\")"
   ]
  },
  {
   "cell_type": "markdown",
   "id": "37543ee4-2e63-4b6c-8bcd-b9b376efc20d",
   "metadata": {},
   "source": [
    "### Q18. Check if a number is divisible by 2 but not by 3."
   ]
  },
  {
   "cell_type": "code",
   "execution_count": 55,
   "id": "e5d44dc1-7af6-4f95-9a7d-86a534fb2c9f",
   "metadata": {},
   "outputs": [
    {
     "name": "stdin",
     "output_type": "stream",
     "text": [
      "Enter a number: 30\n"
     ]
    },
    {
     "name": "stdout",
     "output_type": "stream",
     "text": [
      "30 is divisible by 2\n"
     ]
    }
   ],
   "source": [
    "num = int(input(\"Enter a number:\"))\n",
    "\n",
    "if num % 2 == 0:\n",
    "    print (f\"{num} is divisible by 2\")\n",
    "else:\n",
    "    print (f\"{num} is not divisible by 2\")"
   ]
  },
  {
   "cell_type": "code",
   "execution_count": 57,
   "id": "76425a7b-28ac-4957-b2fb-aa3962b85776",
   "metadata": {},
   "outputs": [
    {
     "name": "stdin",
     "output_type": "stream",
     "text": [
      "Enter a number: 15\n"
     ]
    },
    {
     "name": "stdout",
     "output_type": "stream",
     "text": [
      "15 is not divisible by 2\n"
     ]
    }
   ],
   "source": [
    "num = int(input(\"Enter a number:\"))\n",
    "\n",
    "if num % 2 == 0:\n",
    "    print (f\"{num} is divisible by 2\")\n",
    "else:\n",
    "    print (f\"{num} is not divisible by 2\")"
   ]
  },
  {
   "cell_type": "markdown",
   "id": "b6812536-c5d5-4141-b6a9-11fb35c64eab",
   "metadata": {},
   "source": [
    "### Q19. Determine if a given alphabet is uppercase or lowercase."
   ]
  },
  {
   "cell_type": "code",
   "execution_count": 62,
   "id": "d7f2bda8-acb3-4dfa-9433-33af3eb5cda0",
   "metadata": {},
   "outputs": [
    {
     "name": "stdin",
     "output_type": "stream",
     "text": [
      "Enter a alphabet so that I can find out if it is a uppercase or lowercase P\n"
     ]
    },
    {
     "name": "stdout",
     "output_type": "stream",
     "text": [
      "You entered uppercase alphabet.\n"
     ]
    }
   ],
   "source": [
    "char = str(input(\"Enter a alphabet so that I can find out if it is a uppercase or lowercase\"))\n",
    "\n",
    "if char.isupper():\n",
    "    print (\"You entered uppercase alphabet.\")\n",
    "else:\n",
    "    print(\"You entered lowercase alphabet.\")"
   ]
  },
  {
   "cell_type": "code",
   "execution_count": 64,
   "id": "c087b7b2-a35b-4f8f-913c-e67224df096d",
   "metadata": {},
   "outputs": [
    {
     "name": "stdin",
     "output_type": "stream",
     "text": [
      "Enter a alphabet so that I can find out if it is a uppercase or lowercase s\n"
     ]
    },
    {
     "name": "stdout",
     "output_type": "stream",
     "text": [
      "You entered lowercase alphabet.\n"
     ]
    }
   ],
   "source": [
    "char = str(input(\"Enter a alphabet so that I can find out if it is a uppercase or lowercase\"))\n",
    "\n",
    "if char.isupper():\n",
    "    print (\"You entered uppercase alphabet.\")\n",
    "else:\n",
    "    print(\"You entered lowercase alphabet.\")"
   ]
  },
  {
   "cell_type": "markdown",
   "id": "85e20afd-2523-4af9-85e6-6409245fa496",
   "metadata": {},
   "source": [
    "### Q20. Check if a triangle is valid given three side lengths (sum of any two sides must be greater than the third)."
   ]
  },
  {
   "cell_type": "code",
   "execution_count": 77,
   "id": "a127a4d8-b233-4a1c-aa3c-bbe43f9d4935",
   "metadata": {},
   "outputs": [
    {
     "name": "stdin",
     "output_type": "stream",
     "text": [
      "Enter First Side:  20\n",
      "Enter Second Side:  20\n",
      "Enter Third Side:  10\n"
     ]
    },
    {
     "name": "stdout",
     "output_type": "stream",
     "text": [
      "It is valid Triangle.\n"
     ]
    }
   ],
   "source": [
    "x = int(input(\"Enter First Side: \"))\n",
    "y = int(input(\"Enter Second Side: \"))\n",
    "z = int(input(\"Enter Third Side: \"))\n",
    "\n",
    "if (x+y > z) and (x+z > y) and (y+z > x):\n",
    "    print(\"It is valid Triangle.\")\n",
    "else: \n",
    "    print(\"It is not a valid Triangle.\")"
   ]
  },
  {
   "cell_type": "code",
   "execution_count": 79,
   "id": "59a1456a-48b3-4aaf-a68b-d95b0145d0f4",
   "metadata": {},
   "outputs": [
    {
     "name": "stdin",
     "output_type": "stream",
     "text": [
      "Enter First Side:  15\n",
      "Enter Second Side:  10\n",
      "Enter Third Side:  5\n"
     ]
    },
    {
     "name": "stdout",
     "output_type": "stream",
     "text": [
      "It is not a valid Triangle.\n"
     ]
    }
   ],
   "source": [
    "x = int(input(\"Enter First Side: \"))\n",
    "y = int(input(\"Enter Second Side: \"))\n",
    "z = int(input(\"Enter Third Side: \"))\n",
    "\n",
    "if (x+y > z) and (x+z > y) and (y+z > x):\n",
    "    print(\"It is valid Triangle.\")\n",
    "else: \n",
    "    print(\"It is not a valid Triangle.\")"
   ]
  },
  {
   "cell_type": "code",
   "execution_count": null,
   "id": "a4cd265c-2e51-4550-9a84-32e7ce8097c8",
   "metadata": {},
   "outputs": [],
   "source": []
  }
 ],
 "metadata": {
  "kernelspec": {
   "display_name": "Python [conda env:base] *",
   "language": "python",
   "name": "conda-base-py"
  },
  "language_info": {
   "codemirror_mode": {
    "name": "ipython",
    "version": 3
   },
   "file_extension": ".py",
   "mimetype": "text/x-python",
   "name": "python",
   "nbconvert_exporter": "python",
   "pygments_lexer": "ipython3",
   "version": "3.12.4"
  }
 },
 "nbformat": 4,
 "nbformat_minor": 5
}
