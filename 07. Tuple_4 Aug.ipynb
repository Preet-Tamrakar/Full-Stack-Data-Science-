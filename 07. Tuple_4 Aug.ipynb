{
 "cells": [
  {
   "cell_type": "markdown",
   "id": "f273a87c-0847-4757-a7fb-55f803d3fc94",
   "metadata": {},
   "source": [
    "# TUPLE"
   ]
  },
  {
   "cell_type": "markdown",
   "id": "92e29837-73a6-41ed-8ac3-f088a44b623d",
   "metadata": {},
   "source": [
    "A tuple is an ordered, immutable collection of items in Python, defined using parentheses ()"
   ]
  },
  {
   "cell_type": "markdown",
   "id": "6fd16399-62a7-420e-8ce3-352a8dfcadb0",
   "metadata": {},
   "source": [
    " 1. Tuple are defined using ()\n",
    " 2. Tuples are Immutable\n",
    " 3. Tuples are Faster than Lists"
   ]
  },
  {
   "cell_type": "markdown",
   "id": "f49ae666-2a1a-4393-9ecd-40114b130034",
   "metadata": {},
   "source": [
    "# TUPLE CREATION"
   ]
  },
  {
   "cell_type": "code",
   "execution_count": 7,
   "id": "b34244fb-58fc-4606-a969-3eb3354c8026",
   "metadata": {},
   "outputs": [],
   "source": [
    "tup1 = () # Empty Tuple"
   ]
  },
  {
   "cell_type": "code",
   "execution_count": 9,
   "id": "e27beeea-35c1-4a2f-86a4-e60b99d00362",
   "metadata": {},
   "outputs": [],
   "source": [
    "tup2 = (10,30,60) # Tuple of integers numbers"
   ]
  },
  {
   "cell_type": "code",
   "execution_count": 11,
   "id": "4b4510ed-9a49-4274-a1b7-3f61691ec93e",
   "metadata": {},
   "outputs": [],
   "source": [
    "tup3 = (10.77,30.66,6,89) # Tuple of Float Number"
   ]
  },
  {
   "cell_type": "code",
   "execution_count": 13,
   "id": "6fe7c97f-c4e0-4aac-bd20-a5e5e493cda7",
   "metadata": {},
   "outputs": [],
   "source": [
    "tup4 = ('one' , 'two' , 'three') # Tuple of strings"
   ]
  },
  {
   "cell_type": "code",
   "execution_count": 15,
   "id": "50200540-7abc-40ff-bef6-d8289c75df10",
   "metadata": {},
   "outputs": [],
   "source": [
    "tup5 = ('Preet' , 25 , (50,100) , (150,90)) # Nested Tuple"
   ]
  },
  {
   "cell_type": "code",
   "execution_count": 17,
   "id": "5de31c46-20fb-49c5-b976-f4a5c73cebb8",
   "metadata": {},
   "outputs": [],
   "source": [
    "tup6 = (100, 'Preet', 17.765) # Tuple of mixed data types"
   ]
  },
  {
   "cell_type": "code",
   "execution_count": 19,
   "id": "990d58c7-0098-4d99-b733-5f7d9c390e15",
   "metadata": {},
   "outputs": [],
   "source": [
    "tup7 = ('Preet', 25 , [50, 100] , [150, 90] , {'John' , 'David'} , (99,22,33))"
   ]
  },
  {
   "cell_type": "code",
   "execution_count": 21,
   "id": "2f5199d2-8b55-4335-bf62-3d2849eab784",
   "metadata": {},
   "outputs": [
    {
     "data": {
      "text/plain": [
       "6"
      ]
     },
     "execution_count": 21,
     "metadata": {},
     "output_type": "execute_result"
    }
   ],
   "source": [
    "len(tup7) # Length of List"
   ]
  },
  {
   "cell_type": "markdown",
   "id": "3e8c04a4-ea97-4752-8b72-cbb03774176b",
   "metadata": {},
   "source": [
    "# TUPLE INDEXING"
   ]
  },
  {
   "cell_type": "code",
   "execution_count": 24,
   "id": "c83e6874-5e12-4b5f-bb05-a8e9db9c577c",
   "metadata": {},
   "outputs": [
    {
     "data": {
      "text/plain": [
       "10"
      ]
     },
     "execution_count": 24,
     "metadata": {},
     "output_type": "execute_result"
    }
   ],
   "source": [
    "tup2[0] # Retrive first element of thr tuple"
   ]
  },
  {
   "cell_type": "code",
   "execution_count": 26,
   "id": "55baf46b-365e-4ce4-87fa-e5737105219b",
   "metadata": {},
   "outputs": [
    {
     "data": {
      "text/plain": [
       "'one'"
      ]
     },
     "execution_count": 26,
     "metadata": {},
     "output_type": "execute_result"
    }
   ],
   "source": [
    "tup4[0] # Retrive first element of thr tuple"
   ]
  },
  {
   "cell_type": "code",
   "execution_count": 28,
   "id": "159be391-cb80-43ce-bac8-4c822f0e360c",
   "metadata": {},
   "outputs": [
    {
     "data": {
      "text/plain": [
       "'o'"
      ]
     },
     "execution_count": 28,
     "metadata": {},
     "output_type": "execute_result"
    }
   ],
   "source": [
    "tup4[0][0] # Nested indexing - Access the first charcter of the first tuple element"
   ]
  },
  {
   "cell_type": "code",
   "execution_count": 30,
   "id": "356ed65a-6b2a-4d3c-adea-a412fb2f50a7",
   "metadata": {},
   "outputs": [
    {
     "data": {
      "text/plain": [
       "'three'"
      ]
     },
     "execution_count": 30,
     "metadata": {},
     "output_type": "execute_result"
    }
   ],
   "source": [
    "tup4[-1] # last item of the tuple "
   ]
  },
  {
   "cell_type": "code",
   "execution_count": 32,
   "id": "02be2950-e855-4aa9-8af6-66d9d44b775b",
   "metadata": {},
   "outputs": [
    {
     "data": {
      "text/plain": [
       "(150, 90)"
      ]
     },
     "execution_count": 32,
     "metadata": {},
     "output_type": "execute_result"
    }
   ],
   "source": [
    "tup5[-1] # last item of the tuple "
   ]
  },
  {
   "cell_type": "markdown",
   "id": "4dc5cc3b-8e0d-47c3-b84c-4175fde6d8db",
   "metadata": {},
   "source": [
    "# TUPLE SLICING"
   ]
  },
  {
   "cell_type": "code",
   "execution_count": 67,
   "id": "8a982d85-565f-45e7-ae99-152147d08760",
   "metadata": {},
   "outputs": [],
   "source": [
    "mytuple = ('one' , 'two' , 'three' , 'four' , 'five' , 'six' , 'seven' , 'eight')"
   ]
  },
  {
   "cell_type": "code",
   "execution_count": 37,
   "id": "9b63d98f-2006-472e-b2ec-101a5e7b4eb1",
   "metadata": {},
   "outputs": [
    {
     "data": {
      "text/plain": [
       "('one', 'two', 'three')"
      ]
     },
     "execution_count": 37,
     "metadata": {},
     "output_type": "execute_result"
    }
   ],
   "source": [
    "mytuple[0:3] # Return all items from 0th to 3ed index Location Excluding the items"
   ]
  },
  {
   "cell_type": "code",
   "execution_count": 39,
   "id": "0926df38-0cd7-4bab-8077-9bd2245c7493",
   "metadata": {},
   "outputs": [
    {
     "data": {
      "text/plain": [
       "('three', 'four', 'five')"
      ]
     },
     "execution_count": 39,
     "metadata": {},
     "output_type": "execute_result"
    }
   ],
   "source": [
    "mytuple[2:5] # Return all items from 0th to 3ed index Location Excluding the items"
   ]
  },
  {
   "cell_type": "code",
   "execution_count": 41,
   "id": "4d5c206d-b351-4a94-8456-78b2aa763352",
   "metadata": {},
   "outputs": [
    {
     "data": {
      "text/plain": [
       "('one', 'two', 'three')"
      ]
     },
     "execution_count": 41,
     "metadata": {},
     "output_type": "execute_result"
    }
   ],
   "source": [
    "mytuple[:3] # Return first three items "
   ]
  },
  {
   "cell_type": "code",
   "execution_count": 43,
   "id": "354910c7-f6fe-47b7-a1e4-13c0a50cade6",
   "metadata": {},
   "outputs": [
    {
     "data": {
      "text/plain": [
       "('one', 'two')"
      ]
     },
     "execution_count": 43,
     "metadata": {},
     "output_type": "execute_result"
    }
   ],
   "source": [
    "mytuple[:2] # Return first two items "
   ]
  },
  {
   "cell_type": "code",
   "execution_count": 45,
   "id": "b5991b64-9e7f-4b54-8067-9e38d5b25501",
   "metadata": {},
   "outputs": [
    {
     "data": {
      "text/plain": [
       "('six', 'seven', 'eight')"
      ]
     },
     "execution_count": 45,
     "metadata": {},
     "output_type": "execute_result"
    }
   ],
   "source": [
    "mytuple[-3:] # Returns last three items "
   ]
  },
  {
   "cell_type": "code",
   "execution_count": 47,
   "id": "340d3d11-b978-4107-9154-e3b17ba9f6ca",
   "metadata": {},
   "outputs": [
    {
     "data": {
      "text/plain": [
       "('seven', 'eight')"
      ]
     },
     "execution_count": 47,
     "metadata": {},
     "output_type": "execute_result"
    }
   ],
   "source": [
    "mytuple[-2:] # Returns last two items "
   ]
  },
  {
   "cell_type": "code",
   "execution_count": 49,
   "id": "cc72f0cd-71a7-4ce0-b62d-4951e2368236",
   "metadata": {},
   "outputs": [
    {
     "data": {
      "text/plain": [
       "('eight',)"
      ]
     },
     "execution_count": 49,
     "metadata": {},
     "output_type": "execute_result"
    }
   ],
   "source": [
    "mytuple[-1:] # Returns last item of the tuple"
   ]
  },
  {
   "cell_type": "code",
   "execution_count": 51,
   "id": "b347fb98-a2dd-407e-9d30-f701e37c8100",
   "metadata": {},
   "outputs": [
    {
     "data": {
      "text/plain": [
       "('one', 'two', 'three', 'four', 'five', 'six', 'seven', 'eight')"
      ]
     },
     "execution_count": 51,
     "metadata": {},
     "output_type": "execute_result"
    }
   ],
   "source": [
    "mytuple[:] # Return whole tuple "
   ]
  },
  {
   "cell_type": "markdown",
   "id": "bff68e44-c756-4e9a-a445-7f3017e7c8ae",
   "metadata": {},
   "source": [
    "# REMOVE & CHNAGE ITEMS "
   ]
  },
  {
   "cell_type": "code",
   "execution_count": 54,
   "id": "0dc8eabb-4f2e-4564-a29f-d98addea98e8",
   "metadata": {},
   "outputs": [
    {
     "data": {
      "text/plain": [
       "('one', 'two', 'three', 'four', 'five', 'six', 'seven', 'eight')"
      ]
     },
     "execution_count": 54,
     "metadata": {},
     "output_type": "execute_result"
    }
   ],
   "source": [
    "mytuple"
   ]
  },
  {
   "cell_type": "code",
   "execution_count": 58,
   "id": "ce0038e5-fd37-4e0e-9d38-01d4daec307b",
   "metadata": {},
   "outputs": [
    {
     "ename": "TypeError",
     "evalue": "'tuple' object doesn't support item deletion",
     "output_type": "error",
     "traceback": [
      "\u001b[1;31m---------------------------------------------------------------------------\u001b[0m",
      "\u001b[1;31mTypeError\u001b[0m                                 Traceback (most recent call last)",
      "Cell \u001b[1;32mIn[58], line 1\u001b[0m\n\u001b[1;32m----> 1\u001b[0m \u001b[38;5;28;01mdel\u001b[39;00m mytuple[\u001b[38;5;241m0\u001b[39m]\n",
      "\u001b[1;31mTypeError\u001b[0m: 'tuple' object doesn't support item deletion"
     ]
    }
   ],
   "source": [
    "del mytuple[0] # Tuple are immutable which means we can't DELETE tuple items"
   ]
  },
  {
   "cell_type": "code",
   "execution_count": 60,
   "id": "123d66fc-79d4-4c3c-9205-503083b703ba",
   "metadata": {},
   "outputs": [
    {
     "ename": "SyntaxError",
     "evalue": "invalid syntax (459922107.py, line 1)",
     "output_type": "error",
     "traceback": [
      "\u001b[1;36m  Cell \u001b[1;32mIn[60], line 1\u001b[1;36m\u001b[0m\n\u001b[1;33m    del mytuple[0] = 1 # Tuple are immutable which means we can't CHANGE tuple items\u001b[0m\n\u001b[1;37m                   ^\u001b[0m\n\u001b[1;31mSyntaxError\u001b[0m\u001b[1;31m:\u001b[0m invalid syntax\n"
     ]
    }
   ],
   "source": [
    "del mytuple[0] = 1 # Tuple are immutable which means we can't CHANGE tuple items"
   ]
  },
  {
   "cell_type": "code",
   "execution_count": 62,
   "id": "8bdaa3e1-b778-4369-a1ac-f825aa5696a4",
   "metadata": {},
   "outputs": [],
   "source": [
    "del mytuple # Deleting entire tuple object is possible"
   ]
  },
  {
   "cell_type": "markdown",
   "id": "606cc525-1dc2-49d5-b9b1-1aec97e35c39",
   "metadata": {},
   "source": [
    "# LOOP THROUGH A TUPLE "
   ]
  },
  {
   "cell_type": "code",
   "execution_count": 69,
   "id": "be4c5dd1-6c62-42f7-8bb2-133117120c10",
   "metadata": {},
   "outputs": [
    {
     "data": {
      "text/plain": [
       "('one', 'two', 'three', 'four', 'five', 'six', 'seven', 'eight')"
      ]
     },
     "execution_count": 69,
     "metadata": {},
     "output_type": "execute_result"
    }
   ],
   "source": [
    "mytuple "
   ]
  },
  {
   "cell_type": "code",
   "execution_count": 71,
   "id": "67ff95ed-bc54-4df0-ae33-adbf4c6c3b80",
   "metadata": {},
   "outputs": [
    {
     "name": "stdout",
     "output_type": "stream",
     "text": [
      "one\n",
      "two\n",
      "three\n",
      "four\n",
      "five\n",
      "six\n",
      "seven\n",
      "eight\n"
     ]
    }
   ],
   "source": [
    "for i in mytuple:\n",
    "    print(i)"
   ]
  },
  {
   "cell_type": "code",
   "execution_count": 73,
   "id": "8528806f-7164-4aaf-916b-9444da2e1a6f",
   "metadata": {},
   "outputs": [
    {
     "name": "stdout",
     "output_type": "stream",
     "text": [
      "(0, 'one')\n",
      "(1, 'two')\n",
      "(2, 'three')\n",
      "(3, 'four')\n",
      "(4, 'five')\n",
      "(5, 'six')\n",
      "(6, 'seven')\n",
      "(7, 'eight')\n"
     ]
    }
   ],
   "source": [
    "for i in enumerate(mytuple):\n",
    "    print(i)"
   ]
  },
  {
   "cell_type": "markdown",
   "id": "75759b16-7b41-4367-b94b-b2684c2513bb",
   "metadata": {},
   "source": [
    "# TUPLE MEMBERSHIP"
   ]
  },
  {
   "cell_type": "code",
   "execution_count": 76,
   "id": "4b9b0f6b-d363-45bb-95dc-2d41cddde829",
   "metadata": {},
   "outputs": [
    {
     "data": {
      "text/plain": [
       "('one', 'two', 'three', 'four', 'five', 'six', 'seven', 'eight')"
      ]
     },
     "execution_count": 76,
     "metadata": {},
     "output_type": "execute_result"
    }
   ],
   "source": [
    "mytuple "
   ]
  },
  {
   "cell_type": "code",
   "execution_count": 78,
   "id": "84fac164-06cf-488a-8918-59eef99dcd60",
   "metadata": {},
   "outputs": [
    {
     "data": {
      "text/plain": [
       "True"
      ]
     },
     "execution_count": 78,
     "metadata": {},
     "output_type": "execute_result"
    }
   ],
   "source": [
    "'one' in mytuple # Check if 'one' exist in the list"
   ]
  },
  {
   "cell_type": "code",
   "execution_count": 80,
   "id": "83e77846-a563-4045-a11e-8d35ff744940",
   "metadata": {},
   "outputs": [
    {
     "data": {
      "text/plain": [
       "False"
      ]
     },
     "execution_count": 80,
     "metadata": {},
     "output_type": "execute_result"
    }
   ],
   "source": [
    "'ten' in mytuple # Check if 'ten' exist in the list"
   ]
  },
  {
   "cell_type": "code",
   "execution_count": 86,
   "id": "a8d23d9e-95d8-43c1-a01b-6d54eace5302",
   "metadata": {},
   "outputs": [
    {
     "name": "stdout",
     "output_type": "stream",
     "text": [
      "Three is present in the tuple\n"
     ]
    }
   ],
   "source": [
    "if 'three' in mytuple: # Check if 'three'exeist in the list\n",
    "    print('Three is present in the tuple')\n",
    "else:\n",
    "    print('Three is not present in the tuple')"
   ]
  },
  {
   "cell_type": "code",
   "execution_count": 88,
   "id": "621f9885-7f3b-40c8-90ef-5c74da0883be",
   "metadata": {},
   "outputs": [
    {
     "name": "stdout",
     "output_type": "stream",
     "text": [
      "eleven is not present in the tuple\n"
     ]
    }
   ],
   "source": [
    "if 'eleven' in mytuple: # Check if 'eleven'exeist in the list\n",
    "    print('eleven is present in the tuple')\n",
    "else:\n",
    "    print('eleven is not present in the tuple')"
   ]
  },
  {
   "cell_type": "markdown",
   "id": "dcd91ba2-ce04-40d8-bb46-46510acce7e7",
   "metadata": {},
   "source": [
    "# INDEX POSITION"
   ]
  },
  {
   "cell_type": "code",
   "execution_count": 91,
   "id": "8d806ffc-a910-421b-a84d-25bd91407353",
   "metadata": {},
   "outputs": [
    {
     "data": {
      "text/plain": [
       "('one', 'two', 'three', 'four', 'five', 'six', 'seven', 'eight')"
      ]
     },
     "execution_count": 91,
     "metadata": {},
     "output_type": "execute_result"
    }
   ],
   "source": [
    "mytuple"
   ]
  },
  {
   "cell_type": "code",
   "execution_count": 93,
   "id": "9d989161-3bb8-46eb-a45f-6d631bbfe47a",
   "metadata": {},
   "outputs": [
    {
     "data": {
      "text/plain": [
       "0"
      ]
     },
     "execution_count": 93,
     "metadata": {},
     "output_type": "execute_result"
    }
   ],
   "source": [
    "mytuple.index('one') # Index of first element equal to 'one'"
   ]
  },
  {
   "cell_type": "code",
   "execution_count": 95,
   "id": "0d844d9e-69b4-4843-83cb-4638f618a3ae",
   "metadata": {},
   "outputs": [
    {
     "data": {
      "text/plain": [
       "4"
      ]
     },
     "execution_count": 95,
     "metadata": {},
     "output_type": "execute_result"
    }
   ],
   "source": [
    "mytuple.index('five') # Index of first element equal to 'five'"
   ]
  },
  {
   "cell_type": "code",
   "execution_count": 99,
   "id": "346af12f-10cf-4571-9d8b-c3da27a2abf5",
   "metadata": {},
   "outputs": [
    {
     "data": {
      "text/plain": [
       "('one', 'two', 'three', 'four', 'one', ' one', 'two', 'three')"
      ]
     },
     "execution_count": 99,
     "metadata": {},
     "output_type": "execute_result"
    }
   ],
   "source": [
    "mytuple1 = ('one' , 'two' , 'three' , 'four' , 'one' , ' one' , 'two' , 'three')\n",
    "mytuple1"
   ]
  },
  {
   "cell_type": "code",
   "execution_count": 101,
   "id": "d531d3de-a1d4-40b1-a386-25cf36cc5b1e",
   "metadata": {},
   "outputs": [
    {
     "data": {
      "text/plain": [
       "0"
      ]
     },
     "execution_count": 101,
     "metadata": {},
     "output_type": "execute_result"
    }
   ],
   "source": [
    "mytuple1.index('one') # Index of first element equal to 'one'"
   ]
  },
  {
   "cell_type": "markdown",
   "id": "05778895-f657-4b78-8ceb-a14579b711fe",
   "metadata": {},
   "source": [
    "# SORTING"
   ]
  },
  {
   "cell_type": "code",
   "execution_count": 104,
   "id": "2c27aeac-cca9-45f7-8fc2-9e92e35cab19",
   "metadata": {},
   "outputs": [],
   "source": [
    "mytuple2 = (43,67,99,12,6,90,67)"
   ]
  },
  {
   "cell_type": "code",
   "execution_count": 106,
   "id": "269962cb-a772-41b7-8765-31059342bef0",
   "metadata": {},
   "outputs": [
    {
     "data": {
      "text/plain": [
       "[6, 12, 43, 67, 67, 90, 99]"
      ]
     },
     "execution_count": 106,
     "metadata": {},
     "output_type": "execute_result"
    }
   ],
   "source": [
    "sorted(mytuple2) # Returns a new sorted list & doesn't change original tuple"
   ]
  },
  {
   "cell_type": "code",
   "execution_count": 108,
   "id": "014c0c02-bab1-4fd5-bb32-fc661861b41b",
   "metadata": {},
   "outputs": [
    {
     "data": {
      "text/plain": [
       "[99, 90, 67, 67, 43, 12, 6]"
      ]
     },
     "execution_count": 108,
     "metadata": {},
     "output_type": "execute_result"
    }
   ],
   "source": [
    "sorted(mytuple2 , reverse=True) # Sort is desceding order"
   ]
  }
 ],
 "metadata": {
  "kernelspec": {
   "display_name": "Python [conda env:base] *",
   "language": "python",
   "name": "conda-base-py"
  },
  "language_info": {
   "codemirror_mode": {
    "name": "ipython",
    "version": 3
   },
   "file_extension": ".py",
   "mimetype": "text/x-python",
   "name": "python",
   "nbconvert_exporter": "python",
   "pygments_lexer": "ipython3",
   "version": "3.12.4"
  }
 },
 "nbformat": 4,
 "nbformat_minor": 5
}
