{
 "cells": [
  {
   "cell_type": "markdown",
   "id": "a3ac0997-f793-4f06-853a-82adb07f4ec9",
   "metadata": {},
   "source": [
    "# PANDAS - SERIES & DATAFRAMES"
   ]
  },
  {
   "cell_type": "code",
   "execution_count": 70,
   "id": "e6b01e07-2032-443b-9fd9-af1e589cb8a2",
   "metadata": {},
   "outputs": [],
   "source": [
    "import numpy as np      # For numerical operations and arrays\n",
    "import pandas as pd     # For data manipulation and analysis\n",
    "import matplotlib.pyplot as plt   # For plotting and data visualization\n",
    "import glob             # For file pattern matching (e.g., batch file reading)\n",
    "import re               # For working with regular expressions (pattern matching in text)\n",
    "import math             # For mathematical functions and constants"
   ]
  },
  {
   "cell_type": "code",
   "execution_count": 71,
   "id": "fde363cb-ba7d-47c6-b87b-9df86fc57b8f",
   "metadata": {},
   "outputs": [],
   "source": [
    "import warnings\n",
    "warnings.filterwarnings(\"ignore\")"
   ]
  },
  {
   "cell_type": "markdown",
   "id": "ee3cf683-26c7-44bf-824e-6ae1f616da96",
   "metadata": {},
   "source": [
    "# SERIES"
   ]
  },
  {
   "cell_type": "markdown",
   "id": "9a8dc058-8df1-4576-99a7-a76b386db83f",
   "metadata": {},
   "source": [
    "## Create Series"
   ]
  },
  {
   "cell_type": "code",
   "execution_count": 143,
   "id": "14961d30-2fbd-4515-b666-95bd7b1332a6",
   "metadata": {},
   "outputs": [
    {
     "data": {
      "text/plain": [
       "0    1\n",
       "1    2\n",
       "2    3\n",
       "3    4\n",
       "4    5\n",
       "5    6\n",
       "6    7\n",
       "dtype: int32"
      ]
     },
     "execution_count": 143,
     "metadata": {},
     "output_type": "execute_result"
    }
   ],
   "source": [
    "# Create series from Nump Array\n",
    "v = np.array([1,2,3,4,5,6,7])\n",
    "s1 = pd.Series(v)\n",
    "s1"
   ]
  },
  {
   "cell_type": "code",
   "execution_count": 145,
   "id": "253a7929-568a-4381-8329-f1e2c31aaa4f",
   "metadata": {},
   "outputs": [
    {
     "data": {
      "text/plain": [
       "dtype('int32')"
      ]
     },
     "execution_count": 145,
     "metadata": {},
     "output_type": "execute_result"
    }
   ],
   "source": [
    "# Datatypes of Series\n",
    "s1.dtype"
   ]
  },
  {
   "cell_type": "code",
   "execution_count": 76,
   "id": "27de9403-50dd-4ef3-8577-9db3f8d4f9ff",
   "metadata": {},
   "outputs": [
    {
     "name": "stdout",
     "output_type": "stream",
     "text": [
      "4\n"
     ]
    }
   ],
   "source": [
    "# number of bytes allocated to each item\n",
    "print(s1.dtype.itemsize) "
   ]
  },
  {
   "cell_type": "code",
   "execution_count": 77,
   "id": "76b94f00-07eb-448e-8297-4652cdf1bca6",
   "metadata": {},
   "outputs": [
    {
     "data": {
      "text/plain": [
       "28"
      ]
     },
     "execution_count": 77,
     "metadata": {},
     "output_type": "execute_result"
    }
   ],
   "source": [
    "# Number of bytes consumed by Series\n",
    "s1.nbytes"
   ]
  },
  {
   "cell_type": "code",
   "execution_count": 78,
   "id": "d9240434-4bab-4b48-b014-d5db59a6e49e",
   "metadata": {},
   "outputs": [
    {
     "data": {
      "text/plain": [
       "(7,)"
      ]
     },
     "execution_count": 78,
     "metadata": {},
     "output_type": "execute_result"
    }
   ],
   "source": [
    "# Shape of the Series\n",
    "s1.shape"
   ]
  },
  {
   "cell_type": "code",
   "execution_count": 79,
   "id": "5f1e5510-08db-43f0-9e06-defc2d03b826",
   "metadata": {},
   "outputs": [
    {
     "data": {
      "text/plain": [
       "1"
      ]
     },
     "execution_count": 79,
     "metadata": {},
     "output_type": "execute_result"
    }
   ],
   "source": [
    "# Number of Dimensions\n",
    "s1.ndim"
   ]
  },
  {
   "cell_type": "code",
   "execution_count": 80,
   "id": "6856b09f-752a-4e79-963d-8ea38a9fa02c",
   "metadata": {},
   "outputs": [
    {
     "data": {
      "text/plain": [
       "7"
      ]
     },
     "execution_count": 80,
     "metadata": {},
     "output_type": "execute_result"
    }
   ],
   "source": [
    "# Length of Series\n",
    "len(s1)"
   ]
  },
  {
   "cell_type": "code",
   "execution_count": 81,
   "id": "9086be23-39b7-44c5-8405-fd69877cbbad",
   "metadata": {},
   "outputs": [
    {
     "data": {
      "text/plain": [
       "7"
      ]
     },
     "execution_count": 81,
     "metadata": {},
     "output_type": "execute_result"
    }
   ],
   "source": [
    "s1.count()"
   ]
  },
  {
   "cell_type": "code",
   "execution_count": 82,
   "id": "bd0ee5ff-f729-4b7e-b451-c8299137c118",
   "metadata": {},
   "outputs": [
    {
     "data": {
      "text/plain": [
       "7"
      ]
     },
     "execution_count": 82,
     "metadata": {},
     "output_type": "execute_result"
    }
   ],
   "source": [
    "s1.size"
   ]
  },
  {
   "cell_type": "code",
   "execution_count": 83,
   "id": "74c17ffa-2b2c-4a5a-bc3e-1c2321c0e9a0",
   "metadata": {},
   "outputs": [
    {
     "data": {
      "text/plain": [
       "a    1\n",
       "b    2\n",
       "c    3\n",
       "dtype: int64"
      ]
     },
     "execution_count": 83,
     "metadata": {},
     "output_type": "execute_result"
    }
   ],
   "source": [
    "# Create series for List \n",
    "s0 = pd.Series([1,2,3], index =['a','b','c'])\n",
    "s0"
   ]
  },
  {
   "cell_type": "code",
   "execution_count": 84,
   "id": "83192f29-7d2b-40d7-a98d-0a9294d0d7fd",
   "metadata": {},
   "outputs": [
    {
     "data": {
      "text/plain": [
       "a    1\n",
       "b    2\n",
       "c    3\n",
       "d    4\n",
       "e    5\n",
       "f    6\n",
       "g    7\n",
       "dtype: int32"
      ]
     },
     "execution_count": 84,
     "metadata": {},
     "output_type": "execute_result"
    }
   ],
   "source": [
    "# Modify index in Series \n",
    "s1.index = ['a','b','c','d','e','f','g']\n",
    "s1"
   ]
  },
  {
   "cell_type": "code",
   "execution_count": 85,
   "id": "d0ff9ff3-32c1-4bed-a81a-fed00918785e",
   "metadata": {},
   "outputs": [
    {
     "data": {
      "text/plain": [
       "(array([0.85652124, 0.59950467, 0.33345802, 0.07683699, 0.42582631,\n",
       "        0.67116761, 0.16606728, 0.24029077, 0.61673574, 0.61140212]),\n",
       " array([0, 1, 2, 3, 4, 5, 6, 7, 8, 9]),\n",
       " 0    0.856521\n",
       " 1    0.599505\n",
       " 2    0.333458\n",
       " 3    0.076837\n",
       " 4    0.425826\n",
       " 5    0.671168\n",
       " 6    0.166067\n",
       " 7    0.240291\n",
       " 8    0.616736\n",
       " 9    0.611402\n",
       " dtype: float64)"
      ]
     },
     "execution_count": 85,
     "metadata": {},
     "output_type": "execute_result"
    }
   ],
   "source": [
    "# Create Series using Random and Range Function\n",
    "v2 = np.random.random(10)    # generates 10 random float numbers between 0 and 1\n",
    "ind2 = np.arange(0,10)       # creates an array [0,1,2,...,9]\n",
    "s = pd.Series(v2, ind2)      # creates a Pandas Series with v2 as values and ind2 as index\n",
    "v2, ind2, s                  # displays all three"
   ]
  },
  {
   "cell_type": "code",
   "execution_count": 86,
   "id": "de25e727-6939-41f5-8af4-56a19db5f5b0",
   "metadata": {},
   "outputs": [
    {
     "data": {
      "text/plain": [
       "a1    10\n",
       "a2    20\n",
       "a3    30\n",
       "a4    40\n",
       "dtype: int64"
      ]
     },
     "execution_count": 86,
     "metadata": {},
     "output_type": "execute_result"
    }
   ],
   "source": [
    "# Create Series from Dictionary\n",
    "dict1 = {'a1':10 , 'a2':20 , 'a3':30 , 'a4':40}\n",
    "s3 = pd.Series(dict1)\n",
    "s3"
   ]
  },
  {
   "cell_type": "code",
   "execution_count": 87,
   "id": "f310272d-2d63-4a5b-b801-247fd77d321e",
   "metadata": {},
   "outputs": [
    {
     "data": {
      "text/plain": [
       "0    99\n",
       "1    99\n",
       "2    99\n",
       "3    99\n",
       "4    99\n",
       "5    99\n",
       "dtype: int64"
      ]
     },
     "execution_count": 87,
     "metadata": {},
     "output_type": "execute_result"
    }
   ],
   "source": [
    "# Creates a Series with value 99 repeated for indices 0–5\n",
    "pd.Series(99, index=[0,1,2,3,4,5])   "
   ]
  },
  {
   "cell_type": "markdown",
   "id": "e0328a9c-b9f9-4535-873a-2ccbe7a6f581",
   "metadata": {},
   "source": [
    "## Slicing Series"
   ]
  },
  {
   "cell_type": "code",
   "execution_count": 89,
   "id": "79c88bec-ed1a-4d87-abb2-425a431dceda",
   "metadata": {},
   "outputs": [
    {
     "data": {
      "text/plain": [
       "0    0.856521\n",
       "1    0.599505\n",
       "2    0.333458\n",
       "3    0.076837\n",
       "4    0.425826\n",
       "5    0.671168\n",
       "6    0.166067\n",
       "7    0.240291\n",
       "8    0.616736\n",
       "9    0.611402\n",
       "dtype: float64"
      ]
     },
     "execution_count": 89,
     "metadata": {},
     "output_type": "execute_result"
    }
   ],
   "source": [
    "s"
   ]
  },
  {
   "cell_type": "code",
   "execution_count": 90,
   "id": "5c3ec966-a95e-49ab-87d8-1c332942913a",
   "metadata": {},
   "outputs": [
    {
     "data": {
      "text/plain": [
       "0    0.856521\n",
       "1    0.599505\n",
       "2    0.333458\n",
       "3    0.076837\n",
       "4    0.425826\n",
       "5    0.671168\n",
       "6    0.166067\n",
       "7    0.240291\n",
       "8    0.616736\n",
       "9    0.611402\n",
       "dtype: float64"
      ]
     },
     "execution_count": 90,
     "metadata": {},
     "output_type": "execute_result"
    }
   ],
   "source": [
    "# Return all element of the series\n",
    "s[:]"
   ]
  },
  {
   "cell_type": "code",
   "execution_count": 91,
   "id": "9fcf1e8e-e9f2-4e78-8c00-8a157d7b7cbf",
   "metadata": {},
   "outputs": [
    {
     "data": {
      "text/plain": [
       "0    0.856521\n",
       "1    0.599505\n",
       "2    0.333458\n",
       "dtype: float64"
      ]
     },
     "execution_count": 91,
     "metadata": {},
     "output_type": "execute_result"
    }
   ],
   "source": [
    "# First three element of the Series\n",
    "s[0:3]"
   ]
  },
  {
   "cell_type": "code",
   "execution_count": 92,
   "id": "b087a027-d190-4aee-ae98-35a9741b6755",
   "metadata": {},
   "outputs": [
    {
     "data": {
      "text/plain": [
       "9    0.611402\n",
       "dtype: float64"
      ]
     },
     "execution_count": 92,
     "metadata": {},
     "output_type": "execute_result"
    }
   ],
   "source": [
    "# LAst element of the Series \n",
    "s[-1:]"
   ]
  },
  {
   "cell_type": "code",
   "execution_count": 93,
   "id": "89c3470a-7431-4581-9945-7c19a63e47f0",
   "metadata": {},
   "outputs": [
    {
     "data": {
      "text/plain": [
       "0    0.856521\n",
       "1    0.599505\n",
       "2    0.333458\n",
       "3    0.076837\n",
       "dtype: float64"
      ]
     },
     "execution_count": 93,
     "metadata": {},
     "output_type": "execute_result"
    }
   ],
   "source": [
    "# Fetch forst 4 element in a series \n",
    "s[:4]"
   ]
  },
  {
   "cell_type": "code",
   "execution_count": 94,
   "id": "bfc55876-8b8d-4a80-8dd6-628f3b2be3ea",
   "metadata": {},
   "outputs": [
    {
     "data": {
      "text/plain": [
       "0    0.856521\n",
       "1    0.599505\n",
       "2    0.333458\n",
       "3    0.076837\n",
       "4    0.425826\n",
       "5    0.671168\n",
       "6    0.166067\n",
       "7    0.240291\n",
       "dtype: float64"
      ]
     },
     "execution_count": 94,
     "metadata": {},
     "output_type": "execute_result"
    }
   ],
   "source": [
    "# Return all elements of the series except last two element \n",
    "s[:-2]"
   ]
  },
  {
   "cell_type": "code",
   "execution_count": 95,
   "id": "e332eaa3-2b50-4f80-8b0b-62d367dc2f97",
   "metadata": {},
   "outputs": [
    {
     "data": {
      "text/plain": [
       "0    0.856521\n",
       "1    0.599505\n",
       "2    0.333458\n",
       "3    0.076837\n",
       "4    0.425826\n",
       "5    0.671168\n",
       "6    0.166067\n",
       "7    0.240291\n",
       "8    0.616736\n",
       "dtype: float64"
      ]
     },
     "execution_count": 95,
     "metadata": {},
     "output_type": "execute_result"
    }
   ],
   "source": [
    "# Return all elements of the series except last element \n",
    "s[:-1]"
   ]
  },
  {
   "cell_type": "code",
   "execution_count": 96,
   "id": "b8dd585e-e66d-4733-bbbf-5498fc94d6b6",
   "metadata": {},
   "outputs": [
    {
     "data": {
      "text/plain": [
       "8    0.616736\n",
       "9    0.611402\n",
       "dtype: float64"
      ]
     },
     "execution_count": 96,
     "metadata": {},
     "output_type": "execute_result"
    }
   ],
   "source": [
    "# Return last two elements of the series\n",
    "s[-2:]"
   ]
  },
  {
   "cell_type": "code",
   "execution_count": 97,
   "id": "a838309c-fe70-4cf7-8233-746c9a1cba54",
   "metadata": {},
   "outputs": [
    {
     "data": {
      "text/plain": [
       "9    0.611402\n",
       "dtype: float64"
      ]
     },
     "execution_count": 97,
     "metadata": {},
     "output_type": "execute_result"
    }
   ],
   "source": [
    "# Return last element of the Series\n",
    "s[-1:]"
   ]
  },
  {
   "cell_type": "code",
   "execution_count": 98,
   "id": "4b6c4d87-a88b-40a6-8ee3-7cc74a2c7b52",
   "metadata": {},
   "outputs": [
    {
     "data": {
      "text/plain": [
       "7    0.240291\n",
       "8    0.616736\n",
       "dtype: float64"
      ]
     },
     "execution_count": 98,
     "metadata": {},
     "output_type": "execute_result"
    }
   ],
   "source": [
    "s[-3:-1]"
   ]
  },
  {
   "cell_type": "markdown",
   "id": "24c35e6d-5c4d-4d50-8d4d-d9e5966eef6b",
   "metadata": {},
   "source": [
    "## Append Series"
   ]
  },
  {
   "cell_type": "code",
   "execution_count": 159,
   "id": "9ac61bba-f928-456f-bd60-df21dea73984",
   "metadata": {},
   "outputs": [],
   "source": [
    "s1 = pd.Series([10, 20, 30])   # original Series"
   ]
  },
  {
   "cell_type": "code",
   "execution_count": 167,
   "id": "bdb7f830-ec35-44de-88fe-519a3c307285",
   "metadata": {},
   "outputs": [
    {
     "data": {
      "text/plain": [
       "0    10\n",
       "1    20\n",
       "2    30\n",
       "dtype: int64"
      ]
     },
     "execution_count": 167,
     "metadata": {},
     "output_type": "execute_result"
    }
   ],
   "source": [
    "s2 = s1.copy()                 # makes a copy of s1\n",
    "s2"
   ]
  },
  {
   "cell_type": "code",
   "execution_count": 169,
   "id": "27a5bf9b-6b79-4507-94b5-506b0dd2f0e6",
   "metadata": {},
   "outputs": [
    {
     "data": {
      "text/plain": [
       "a1    10\n",
       "a2    20\n",
       "a3    30\n",
       "a4    40\n",
       "dtype: int64"
      ]
     },
     "execution_count": 169,
     "metadata": {},
     "output_type": "execute_result"
    }
   ],
   "source": [
    "s3"
   ]
  },
  {
   "cell_type": "code",
   "execution_count": 173,
   "id": "9ebb56f3-cf59-4228-a40c-93e1d91e5df1",
   "metadata": {},
   "outputs": [
    {
     "data": {
      "text/plain": [
       "0     10\n",
       "1     20\n",
       "2     30\n",
       "a1    10\n",
       "a2    20\n",
       "a3    30\n",
       "a4    40\n",
       "dtype: int64"
      ]
     },
     "execution_count": 173,
     "metadata": {},
     "output_type": "execute_result"
    }
   ],
   "source": [
    "# Append s2 & s3 Series\n",
    "s4 = pd.concat([s2, s3])\n",
    "s4"
   ]
  },
  {
   "cell_type": "markdown",
   "id": "8d9a4a7a-ee08-4d65-92e0-804dbe7a1c09",
   "metadata": {},
   "source": [
    "Append was removed in Pandas Version 2.0. Instead of that \"concat\" is used "
   ]
  },
  {
   "cell_type": "code",
   "execution_count": 177,
   "id": "a821d833-8d08-4d32-8597-d3a4ae38a7d2",
   "metadata": {},
   "outputs": [
    {
     "data": {
      "text/plain": [
       "0     10\n",
       "1     20\n",
       "2     30\n",
       "a1    10\n",
       "a2    20\n",
       "a3    30\n",
       "dtype: int64"
      ]
     },
     "execution_count": 177,
     "metadata": {},
     "output_type": "execute_result"
    }
   ],
   "source": [
    "# When \"inplace=False\" it will return a new copy of data with the operation performed\n",
    "s4.drop('a4' , inplace=False)"
   ]
  },
  {
   "cell_type": "code",
   "execution_count": 179,
   "id": "c6c05a8f-975c-4f0d-ab87-7c75605940df",
   "metadata": {},
   "outputs": [
    {
     "data": {
      "text/plain": [
       "0     10\n",
       "1     20\n",
       "2     30\n",
       "a1    10\n",
       "a2    20\n",
       "a3    30\n",
       "a4    40\n",
       "dtype: int64"
      ]
     },
     "execution_count": 179,
     "metadata": {},
     "output_type": "execute_result"
    }
   ],
   "source": [
    "s4"
   ]
  },
  {
   "cell_type": "code",
   "execution_count": 181,
   "id": "72ed4cf9-bf8a-4fa2-9e91-46875a84c11e",
   "metadata": {},
   "outputs": [
    {
     "data": {
      "text/plain": [
       "0     10\n",
       "1     20\n",
       "2     30\n",
       "a1    10\n",
       "a2    20\n",
       "a3    30\n",
       "dtype: int64"
      ]
     },
     "execution_count": 181,
     "metadata": {},
     "output_type": "execute_result"
    }
   ],
   "source": [
    "# When we use \"inplace=True\" it will affect the dataframe\n",
    "s4.drop('a4', inplace=True)\n",
    "s4"
   ]
  },
  {
   "cell_type": "code",
   "execution_count": 183,
   "id": "fdc679ef-6365-4331-aec7-d5e062fd2083",
   "metadata": {},
   "outputs": [
    {
     "data": {
      "text/plain": [
       "0     10\n",
       "1     20\n",
       "2     30\n",
       "a1    10\n",
       "a2    20\n",
       "a3    30\n",
       "dtype: int64"
      ]
     },
     "execution_count": 183,
     "metadata": {},
     "output_type": "execute_result"
    }
   ],
   "source": [
    "s4"
   ]
  },
  {
   "cell_type": "code",
   "execution_count": 189,
   "id": "83334da9-599f-4415-83bb-2f34572da88f",
   "metadata": {},
   "outputs": [
    {
     "data": {
      "text/plain": [
       "0     10\n",
       "1     20\n",
       "2     30\n",
       "a1    10\n",
       "a2    20\n",
       "a3    30\n",
       "a4     7\n",
       "a4     7\n",
       "dtype: int64"
      ]
     },
     "execution_count": 189,
     "metadata": {},
     "output_type": "execute_result"
    }
   ],
   "source": [
    "s4 = pd.concat([s4, pd.Series({'a4': 7})])\n",
    "s4"
   ]
  },
  {
   "cell_type": "markdown",
   "id": "f5eb6af2-25f0-406a-9bdd-8a1d3544c180",
   "metadata": {},
   "source": [
    "## Operation on Series"
   ]
  },
  {
   "cell_type": "code",
   "execution_count": 194,
   "id": "a8b4be77-a22d-460c-a80b-d43202241189",
   "metadata": {},
   "outputs": [
    {
     "data": {
      "text/plain": [
       "(0    10\n",
       " 1    20\n",
       " 2    30\n",
       " dtype: int32,\n",
       " 0    1\n",
       " 1    2\n",
       " 2    3\n",
       " dtype: int32)"
      ]
     },
     "execution_count": 194,
     "metadata": {},
     "output_type": "execute_result"
    }
   ],
   "source": [
    "v1 = np.array([10,20,30])\n",
    "v2 = np.array([1,2,3])\n",
    "s1 = pd.Series(v1)\n",
    "s2 = pd.Series(v2)\n",
    "s1,s2"
   ]
  },
  {
   "cell_type": "code",
   "execution_count": 196,
   "id": "366b05fd-1724-4668-b75c-281b7605817d",
   "metadata": {},
   "outputs": [
    {
     "data": {
      "text/plain": [
       "0    11\n",
       "1    22\n",
       "2    33\n",
       "dtype: int32"
      ]
     },
     "execution_count": 196,
     "metadata": {},
     "output_type": "execute_result"
    }
   ],
   "source": [
    "# Addition of Two Series\n",
    "s1.add(s2)"
   ]
  },
  {
   "cell_type": "code",
   "execution_count": 200,
   "id": "59552772-d4b5-4ea0-b0c0-284483eb3516",
   "metadata": {},
   "outputs": [
    {
     "data": {
      "text/plain": [
       "0     9\n",
       "1    18\n",
       "2    27\n",
       "dtype: int32"
      ]
     },
     "execution_count": 200,
     "metadata": {},
     "output_type": "execute_result"
    }
   ],
   "source": [
    "# Substraction of Two Series\n",
    "s1.sub(s2)"
   ]
  },
  {
   "cell_type": "code",
   "execution_count": 202,
   "id": "fe003524-7e1e-4d2f-a2b1-90a9869694f5",
   "metadata": {},
   "outputs": [
    {
     "data": {
      "text/plain": [
       "0     9\n",
       "1    18\n",
       "2    27\n",
       "dtype: int32"
      ]
     },
     "execution_count": 202,
     "metadata": {},
     "output_type": "execute_result"
    }
   ],
   "source": [
    "# Subtraction of two series\n",
    "s1.subtract(s2)"
   ]
  },
  {
   "cell_type": "code",
   "execution_count": 204,
   "id": "4cc3408f-4f0e-4125-92e5-3ba11a545309",
   "metadata": {},
   "outputs": [
    {
     "data": {
      "text/plain": [
       "0    19\n",
       "1    29\n",
       "2    39\n",
       "dtype: int32"
      ]
     },
     "execution_count": 204,
     "metadata": {},
     "output_type": "execute_result"
    }
   ],
   "source": [
    "# Increment all numbers in a series by 9\n",
    "s1.add(9)"
   ]
  },
  {
   "cell_type": "code",
   "execution_count": 210,
   "id": "3e17a423-840c-4dd7-9205-ff1d6a4b4fda",
   "metadata": {},
   "outputs": [
    {
     "data": {
      "text/plain": [
       "0    10\n",
       "1    40\n",
       "2    90\n",
       "dtype: int32"
      ]
     },
     "execution_count": 210,
     "metadata": {},
     "output_type": "execute_result"
    }
   ],
   "source": [
    "# Multiplication of two series\n",
    "s1.mul(s2)"
   ]
  },
  {
   "cell_type": "code",
   "execution_count": 208,
   "id": "cd74c346-ce8a-4fea-a2fb-3492489e5e1b",
   "metadata": {},
   "outputs": [
    {
     "data": {
      "text/plain": [
       "0    10\n",
       "1    40\n",
       "2    90\n",
       "dtype: int32"
      ]
     },
     "execution_count": 208,
     "metadata": {},
     "output_type": "execute_result"
    }
   ],
   "source": [
    "# Multiplication of two series\n",
    "s1.multiply(s2)"
   ]
  },
  {
   "cell_type": "code",
   "execution_count": 212,
   "id": "739433c4-d40d-4890-bf06-f14ba3a28707",
   "metadata": {},
   "outputs": [
    {
     "data": {
      "text/plain": [
       "0    10000\n",
       "1    20000\n",
       "2    30000\n",
       "dtype: int32"
      ]
     },
     "execution_count": 212,
     "metadata": {},
     "output_type": "execute_result"
    }
   ],
   "source": [
    "# Multiply each element by 1000\n",
    "s1.multiply(1000)"
   ]
  },
  {
   "cell_type": "code",
   "execution_count": 214,
   "id": "79a4dbc9-f16d-4c29-b5c1-1648a803e31c",
   "metadata": {},
   "outputs": [
    {
     "data": {
      "text/plain": [
       "0    10.0\n",
       "1    10.0\n",
       "2    10.0\n",
       "dtype: float64"
      ]
     },
     "execution_count": 214,
     "metadata": {},
     "output_type": "execute_result"
    }
   ],
   "source": [
    "# Division\n",
    "s1.divide(s2)"
   ]
  },
  {
   "cell_type": "code",
   "execution_count": 216,
   "id": "b87a3f29-1d2f-4391-9d14-08e10172347c",
   "metadata": {},
   "outputs": [
    {
     "data": {
      "text/plain": [
       "0    10.0\n",
       "1    10.0\n",
       "2    10.0\n",
       "dtype: float64"
      ]
     },
     "execution_count": 216,
     "metadata": {},
     "output_type": "execute_result"
    }
   ],
   "source": [
    "# Division\n",
    "s1.div(s2)"
   ]
  },
  {
   "cell_type": "code",
   "execution_count": 218,
   "id": "60594c19-8e5b-4078-ae45-c4938c0440f2",
   "metadata": {},
   "outputs": [
    {
     "data": {
      "text/plain": [
       "30"
      ]
     },
     "execution_count": 218,
     "metadata": {},
     "output_type": "execute_result"
    }
   ],
   "source": [
    "# MAX number in a series\n",
    "s1.max()"
   ]
  },
  {
   "cell_type": "code",
   "execution_count": 220,
   "id": "94271d6e-9a1b-4cc5-a6ba-4080b2753c97",
   "metadata": {},
   "outputs": [
    {
     "data": {
      "text/plain": [
       "10"
      ]
     },
     "execution_count": 220,
     "metadata": {},
     "output_type": "execute_result"
    }
   ],
   "source": [
    "# Min number in a series\n",
    "s1.min()"
   ]
  },
  {
   "cell_type": "code",
   "execution_count": 222,
   "id": "616b1525-eaf4-4bac-b1e7-a52a15576e41",
   "metadata": {},
   "outputs": [
    {
     "data": {
      "text/plain": [
       "20.0"
      ]
     },
     "execution_count": 222,
     "metadata": {},
     "output_type": "execute_result"
    }
   ],
   "source": [
    "# Average\n",
    "s1.mean()"
   ]
  },
  {
   "cell_type": "code",
   "execution_count": 226,
   "id": "836de39d-5b6c-47a8-bbb6-e3ca231f6b7b",
   "metadata": {},
   "outputs": [
    {
     "data": {
      "text/plain": [
       "20.0"
      ]
     },
     "execution_count": 226,
     "metadata": {},
     "output_type": "execute_result"
    }
   ],
   "source": [
    "# Median\n",
    "s1.median()"
   ]
  },
  {
   "cell_type": "code",
   "execution_count": 228,
   "id": "eddf7412-3004-47e9-9268-d073c2edbcdf",
   "metadata": {},
   "outputs": [
    {
     "data": {
      "text/plain": [
       "10.0"
      ]
     },
     "execution_count": 228,
     "metadata": {},
     "output_type": "execute_result"
    }
   ],
   "source": [
    "# Standard Deviation\n",
    "s1.std()"
   ]
  },
  {
   "cell_type": "code",
   "execution_count": 230,
   "id": "8aa5b3d1-aade-4d06-bf95-1ea4b14d2313",
   "metadata": {},
   "outputs": [
    {
     "data": {
      "text/plain": [
       "False"
      ]
     },
     "execution_count": 230,
     "metadata": {},
     "output_type": "execute_result"
    }
   ],
   "source": [
    "# Series comparison\n",
    "s1.equals(s2)"
   ]
  },
  {
   "cell_type": "code",
   "execution_count": 232,
   "id": "c8d58e8e-e5d0-4d3a-a974-19e5721be931",
   "metadata": {},
   "outputs": [],
   "source": [
    "s4 = s1"
   ]
  },
  {
   "cell_type": "code",
   "execution_count": 234,
   "id": "021c278d-930e-4d44-b5b9-30af8fabe78e",
   "metadata": {},
   "outputs": [
    {
     "data": {
      "text/plain": [
       "True"
      ]
     },
     "execution_count": 234,
     "metadata": {},
     "output_type": "execute_result"
    }
   ],
   "source": [
    "# Series comparison\n",
    "s1.equals(s4)\n"
   ]
  },
  {
   "cell_type": "code",
   "execution_count": 236,
   "id": "1e35aeaf-6f8c-44d0-9691-25a1fc96a209",
   "metadata": {},
   "outputs": [
    {
     "data": {
      "text/plain": [
       "0    1\n",
       "1    1\n",
       "2    2\n",
       "3    2\n",
       "4    3\n",
       "5    3\n",
       "dtype: int64"
      ]
     },
     "execution_count": 236,
     "metadata": {},
     "output_type": "execute_result"
    }
   ],
   "source": [
    "s5 = pd.Series([1,1,2,2,3,3], index=[0, 1, 2, 3, 4, 5])\n",
    "s5"
   ]
  },
  {
   "cell_type": "code",
   "execution_count": 238,
   "id": "e56c0700-6e1c-41fe-a8e9-4227cd4634a9",
   "metadata": {},
   "outputs": [
    {
     "data": {
      "text/plain": [
       "1    2\n",
       "2    2\n",
       "3    2\n",
       "Name: count, dtype: int64"
      ]
     },
     "execution_count": 238,
     "metadata": {},
     "output_type": "execute_result"
    }
   ],
   "source": [
    "s5.value_counts()"
   ]
  },
  {
   "cell_type": "code",
   "execution_count": null,
   "id": "1bc0da64-c3a3-411c-a8a3-5e41d529fba2",
   "metadata": {},
   "outputs": [],
   "source": []
  }
 ],
 "metadata": {
  "kernelspec": {
   "display_name": "Python [conda env:base] *",
   "language": "python",
   "name": "conda-base-py"
  },
  "language_info": {
   "codemirror_mode": {
    "name": "ipython",
    "version": 3
   },
   "file_extension": ".py",
   "mimetype": "text/x-python",
   "name": "python",
   "nbconvert_exporter": "python",
   "pygments_lexer": "ipython3",
   "version": "3.12.4"
  }
 },
 "nbformat": 4,
 "nbformat_minor": 5
}
