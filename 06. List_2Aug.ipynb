{
 "cells": [
  {
   "cell_type": "markdown",
   "id": "3ddb7aea-4d72-45cd-8f02-410792f115ca",
   "metadata": {},
   "source": [
    "# LIST"
   ]
  },
  {
   "cell_type": "markdown",
   "id": "5deffa0d-9ab3-4bbe-b555-edccb48397d2",
   "metadata": {},
   "source": [
    "1) List is an ordered sequence of items.\n",
    "2) We can have differnt data types under a list. (Eg: We can have Integer, Float & String itmens in a same list)"
   ]
  },
  {
   "cell_type": "markdown",
   "id": "87ea6baf-83b6-4eb7-ab1c-5cea1d53ef4a",
   "metadata": {},
   "source": [
    "# LIST CREATION"
   ]
  },
  {
   "cell_type": "markdown",
   "id": "92db024d-1fe9-47ed-a4cb-49b22c37dc55",
   "metadata": {},
   "source": [
    "1) A LIST is like a container or a basket that can hold many things together.\n",
    "\n",
    "2) LIST CREATION is when you make that basket and put items inside it."
   ]
  },
  {
   "cell_type": "code",
   "execution_count": 8,
   "id": "488e0835-d96a-4f56-b561-96148ef744d4",
   "metadata": {},
   "outputs": [],
   "source": [
    "list1 = [] # Empty List"
   ]
  },
  {
   "cell_type": "code",
   "execution_count": 10,
   "id": "ab5d6c78-15b9-449c-a172-ed8c5cfd487e",
   "metadata": {},
   "outputs": [
    {
     "name": "stdout",
     "output_type": "stream",
     "text": [
      "<class 'list'>\n"
     ]
    }
   ],
   "source": [
    "print(type(list1))"
   ]
  },
  {
   "cell_type": "code",
   "execution_count": 12,
   "id": "f3107742-b5e6-4a8d-86ee-f8b872d8b72c",
   "metadata": {},
   "outputs": [],
   "source": [
    "list2 = [10,30,60] # List of Integer Number"
   ]
  },
  {
   "cell_type": "code",
   "execution_count": 14,
   "id": "ab6ff1bd-6411-4179-a1da-f3fa65dfcfc6",
   "metadata": {},
   "outputs": [],
   "source": [
    "list3 = [10.77 , 30.66 , 69.69] # List of Float number "
   ]
  },
  {
   "cell_type": "code",
   "execution_count": 16,
   "id": "fdd4fa6d-15f6-4d9e-aa4e-dea7b572fe12",
   "metadata": {},
   "outputs": [],
   "source": [
    "list4 = ['one' , 'two' , 'three'] # List of Strings"
   ]
  },
  {
   "cell_type": "code",
   "execution_count": 18,
   "id": "1729b3b6-65a6-4661-8b88-a2d00e6065d2",
   "metadata": {},
   "outputs": [],
   "source": [
    "list5 = ['Preet' , 25 , [50,100] , [150,90]] # Nested List"
   ]
  },
  {
   "cell_type": "code",
   "execution_count": 20,
   "id": "55d72a96-d9bb-4467-ba23-7c2292d7185e",
   "metadata": {},
   "outputs": [],
   "source": [
    "list6 = [100 , 'Preet' , 17.765] # List of Mixed Data Types"
   ]
  },
  {
   "cell_type": "code",
   "execution_count": 22,
   "id": "e4234d95-daa0-4a5f-bb05-5070bf465832",
   "metadata": {},
   "outputs": [],
   "source": [
    "list7 = ['Preet' , 25 , [50,100] , [150,90] , {'John' , 'David'}]"
   ]
  },
  {
   "cell_type": "code",
   "execution_count": 24,
   "id": "02261daa-4cfb-48a2-8fb2-828932b98f48",
   "metadata": {},
   "outputs": [
    {
     "data": {
      "text/plain": [
       "3"
      ]
     },
     "execution_count": 24,
     "metadata": {},
     "output_type": "execute_result"
    }
   ],
   "source": [
    "len(list6) #Length of List"
   ]
  },
  {
   "cell_type": "markdown",
   "id": "47bfbeb1-94dc-4e6a-bb3d-777ed4a631bb",
   "metadata": {},
   "source": [
    "# LIST INDEXING "
   ]
  },
  {
   "cell_type": "code",
   "execution_count": 27,
   "id": "ac07ba51-0a8e-465a-b2bc-294614cb86ac",
   "metadata": {},
   "outputs": [
    {
     "data": {
      "text/plain": [
       "10"
      ]
     },
     "execution_count": 27,
     "metadata": {},
     "output_type": "execute_result"
    }
   ],
   "source": [
    "list2[0] # Retrive first element of the list"
   ]
  },
  {
   "cell_type": "code",
   "execution_count": 29,
   "id": "be064303-6c6b-4e08-b714-7ffafe1c1ab9",
   "metadata": {},
   "outputs": [
    {
     "data": {
      "text/plain": [
       "'one'"
      ]
     },
     "execution_count": 29,
     "metadata": {},
     "output_type": "execute_result"
    }
   ],
   "source": [
    "list4[0] # Retrive first element of the list "
   ]
  },
  {
   "cell_type": "code",
   "execution_count": 31,
   "id": "cfaffe69-8b43-4c43-94da-9404b3d7aee8",
   "metadata": {},
   "outputs": [
    {
     "data": {
      "text/plain": [
       "'o'"
      ]
     },
     "execution_count": 31,
     "metadata": {},
     "output_type": "execute_result"
    }
   ],
   "source": [
    "list4[0][0] # Nested indexing - Access the first character of the first list element"
   ]
  },
  {
   "cell_type": "code",
   "execution_count": 33,
   "id": "ce6d1396-7224-4c96-b07a-eddceb6b30d6",
   "metadata": {},
   "outputs": [
    {
     "data": {
      "text/plain": [
       "50"
      ]
     },
     "execution_count": 33,
     "metadata": {},
     "output_type": "execute_result"
    }
   ],
   "source": [
    "list5[2][0] # Nested indexing - Access the first character of the third list element"
   ]
  },
  {
   "cell_type": "code",
   "execution_count": 35,
   "id": "ef0e5d12-d6ab-4944-bfc7-7cc3c66f17cc",
   "metadata": {},
   "outputs": [
    {
     "data": {
      "text/plain": [
       "'three'"
      ]
     },
     "execution_count": 35,
     "metadata": {},
     "output_type": "execute_result"
    }
   ],
   "source": [
    "list4[-1] # Last element of the list "
   ]
  },
  {
   "cell_type": "code",
   "execution_count": 37,
   "id": "a3255e7a-cd7b-4f60-b4d5-1a58b89c87c6",
   "metadata": {},
   "outputs": [
    {
     "data": {
      "text/plain": [
       "[150, 90]"
      ]
     },
     "execution_count": 37,
     "metadata": {},
     "output_type": "execute_result"
    }
   ],
   "source": [
    "list5[-1] # Last element of the list "
   ]
  },
  {
   "cell_type": "markdown",
   "id": "7255db3e-a327-46da-8379-41117b0939f9",
   "metadata": {},
   "source": [
    "# LIST SLICING\n",
    "mylist[ start : stop : step ]\n"
   ]
  },
  {
   "cell_type": "code",
   "execution_count": 40,
   "id": "4751aa25-6190-4e69-a417-a4742ecf9f6b",
   "metadata": {},
   "outputs": [],
   "source": [
    "mylist = ['one' , 'two' , 'three' , 'four' , 'five' , 'six' , 'seven' , 'eight']"
   ]
  },
  {
   "cell_type": "code",
   "execution_count": 46,
   "id": "77c9cf84-7114-4d42-8909-9d3841a55d1c",
   "metadata": {},
   "outputs": [
    {
     "data": {
      "text/plain": [
       "['one', 'two', 'three']"
      ]
     },
     "execution_count": 46,
     "metadata": {},
     "output_type": "execute_result"
    }
   ],
   "source": [
    "mylist[0:3] #Return all itmes from 0th to 3ed index loaction, exclud's the remaining items "
   ]
  },
  {
   "cell_type": "code",
   "execution_count": 48,
   "id": "4b897d5d-d605-4d33-aa6c-e0246f82806c",
   "metadata": {},
   "outputs": [
    {
     "data": {
      "text/plain": [
       "['three', 'four', 'five']"
      ]
     },
     "execution_count": 48,
     "metadata": {},
     "output_type": "execute_result"
    }
   ],
   "source": [
    "mylist[2:5] # Return all itmes from 2nd to 5th index loaction"
   ]
  },
  {
   "cell_type": "code",
   "execution_count": 50,
   "id": "cfc6f381-39eb-4891-879a-fbf3f6a5c2e8",
   "metadata": {},
   "outputs": [
    {
     "data": {
      "text/plain": [
       "['one', 'two', 'three']"
      ]
     },
     "execution_count": 50,
     "metadata": {},
     "output_type": "execute_result"
    }
   ],
   "source": [
    "mylist[:3] # Return first three items "
   ]
  },
  {
   "cell_type": "code",
   "execution_count": 52,
   "id": "75a8870a-c4a2-48d0-ae9e-85e66345d677",
   "metadata": {},
   "outputs": [
    {
     "data": {
      "text/plain": [
       "['one', 'two']"
      ]
     },
     "execution_count": 52,
     "metadata": {},
     "output_type": "execute_result"
    }
   ],
   "source": [
    "mylist[:2] # Returns first two items "
   ]
  },
  {
   "cell_type": "code",
   "execution_count": 58,
   "id": "f28e64fa-6bbd-406a-b88e-02db8fef821e",
   "metadata": {},
   "outputs": [
    {
     "data": {
      "text/plain": [
       "['six', 'seven', 'eight']"
      ]
     },
     "execution_count": 58,
     "metadata": {},
     "output_type": "execute_result"
    }
   ],
   "source": [
    "mylist[-3:] # Returns last three items"
   ]
  },
  {
   "cell_type": "code",
   "execution_count": 56,
   "id": "d2b5da78-49e7-47bd-ac5f-3c12fd13be65",
   "metadata": {},
   "outputs": [
    {
     "data": {
      "text/plain": [
       "['seven', 'eight']"
      ]
     },
     "execution_count": 56,
     "metadata": {},
     "output_type": "execute_result"
    }
   ],
   "source": [
    "mylist[-2:] # Reeturns last two items "
   ]
  },
  {
   "cell_type": "code",
   "execution_count": 60,
   "id": "94416875-73ce-450d-9322-23d4f25c32b5",
   "metadata": {},
   "outputs": [
    {
     "data": {
      "text/plain": [
       "['eight']"
      ]
     },
     "execution_count": 60,
     "metadata": {},
     "output_type": "execute_result"
    }
   ],
   "source": [
    "mylist[-1:] # Returns last item of the list "
   ]
  },
  {
   "cell_type": "code",
   "execution_count": 62,
   "id": "dd5dde0b-a2d1-4679-99b5-8e449bc84df8",
   "metadata": {},
   "outputs": [
    {
     "data": {
      "text/plain": [
       "['one', 'two', 'three', 'four', 'five', 'six', 'seven', 'eight']"
      ]
     },
     "execution_count": 62,
     "metadata": {},
     "output_type": "execute_result"
    }
   ],
   "source": [
    "mylist[:] # Returns whole list"
   ]
  },
  {
   "cell_type": "code",
   "execution_count": 64,
   "id": "1a62dd4f-68f8-4d60-a657-5951363095db",
   "metadata": {},
   "outputs": [
    {
     "data": {
      "text/plain": [
       "['one', 'three', 'five', 'seven']"
      ]
     },
     "execution_count": 64,
     "metadata": {},
     "output_type": "execute_result"
    }
   ],
   "source": [
    "mylist[::2] # Returns whole list with one gaps "
   ]
  },
  {
   "cell_type": "markdown",
   "id": "d76de853-bf31-4eb6-864e-5cc91e61132c",
   "metadata": {},
   "source": [
    "# ADD , REMOVE & CHANGE ITEMS "
   ]
  },
  {
   "cell_type": "code",
   "execution_count": 67,
   "id": "0e7580e6-07c8-42ae-b34e-8aa35d6f629a",
   "metadata": {},
   "outputs": [
    {
     "data": {
      "text/plain": [
       "['one', 'two', 'three', 'four', 'five', 'six', 'seven', 'eight']"
      ]
     },
     "execution_count": 67,
     "metadata": {},
     "output_type": "execute_result"
    }
   ],
   "source": [
    "mylist"
   ]
  },
  {
   "cell_type": "code",
   "execution_count": 115,
   "id": "685b6a81-cf0a-49b8-aa74-fcbbdfeeb426",
   "metadata": {},
   "outputs": [
    {
     "data": {
      "text/plain": [
       "['one', 'two', 'three', 'four', 'five', 'six', 'seven', 'eight', 'nine']"
      ]
     },
     "execution_count": 115,
     "metadata": {},
     "output_type": "execute_result"
    }
   ],
   "source": [
    "mylist.append('nine') # Add an item in the end of the list \n",
    "mylist"
   ]
  },
  {
   "cell_type": "code",
   "execution_count": 117,
   "id": "a4349b3f-c22f-48a4-a12f-858366b1d028",
   "metadata": {},
   "outputs": [
    {
     "data": {
      "text/plain": [
       "['one', 'two', 'three', 'four', 'five', 'six', 'seven', 'eight', 'nine', 'ten']"
      ]
     },
     "execution_count": 117,
     "metadata": {},
     "output_type": "execute_result"
    }
   ],
   "source": [
    "mylist.insert(9,'ten') # Add item at index location 9\n",
    "mylist"
   ]
  },
  {
   "cell_type": "code",
   "execution_count": 119,
   "id": "b65f056e-cf92-4d14-8128-9d8cbd4eaa92",
   "metadata": {},
   "outputs": [
    {
     "data": {
      "text/plain": [
       "['one',\n",
       " 'PREET',\n",
       " 'two',\n",
       " 'three',\n",
       " 'four',\n",
       " 'five',\n",
       " 'six',\n",
       " 'seven',\n",
       " 'eight',\n",
       " 'nine',\n",
       " 'ten']"
      ]
     },
     "execution_count": 119,
     "metadata": {},
     "output_type": "execute_result"
    }
   ],
   "source": [
    "mylist.insert(1,'PREET') # Add item at index location 1 \n",
    "mylist"
   ]
  },
  {
   "cell_type": "code",
   "execution_count": 121,
   "id": "cb8371f7-03fe-4d1a-b404-8e257676ae4b",
   "metadata": {},
   "outputs": [
    {
     "data": {
      "text/plain": [
       "['one', 'two', 'three', 'four', 'five', 'six', 'seven', 'eight', 'nine', 'ten']"
      ]
     },
     "execution_count": 121,
     "metadata": {},
     "output_type": "execute_result"
    }
   ],
   "source": [
    "mylist.remove('PREET') #Remove item \"PREET\"\n",
    "mylist"
   ]
  },
  {
   "cell_type": "code",
   "execution_count": 123,
   "id": "0c8ac20b-ef4b-4e6b-bdd2-2e114f0ded93",
   "metadata": {},
   "outputs": [
    {
     "data": {
      "text/plain": [
       "['one', 'two', 'three', 'four', 'five', 'six', 'seven', 'eight', 'nine']"
      ]
     },
     "execution_count": 123,
     "metadata": {},
     "output_type": "execute_result"
    }
   ],
   "source": [
    "mylist.pop() # Remove last item of the list\n",
    "mylist"
   ]
  },
  {
   "cell_type": "code",
   "execution_count": 125,
   "id": "9a431ab6-f1db-4f78-9423-099059faf73b",
   "metadata": {},
   "outputs": [
    {
     "data": {
      "text/plain": [
       "['one', 'two', 'three', 'four', 'five', 'six', 'seven', 'eight']"
      ]
     },
     "execution_count": 125,
     "metadata": {},
     "output_type": "execute_result"
    }
   ],
   "source": [
    "mylist.pop(8) # Remove item at index location 8 \n",
    "mylist"
   ]
  },
  {
   "cell_type": "code",
   "execution_count": 127,
   "id": "735a0f80-8ef3-48e4-92a2-cff5ec1c4571",
   "metadata": {},
   "outputs": [
    {
     "data": {
      "text/plain": [
       "['one', 'two', 'three', 'four', 'five', 'six', 'seven']"
      ]
     },
     "execution_count": 127,
     "metadata": {},
     "output_type": "execute_result"
    }
   ],
   "source": [
    "del mylist[7] # Remove item at index loaction 7\n",
    "mylist"
   ]
  },
  {
   "cell_type": "code",
   "execution_count": 133,
   "id": "0d363f28-2e6b-491c-ab17-9c26fae215da",
   "metadata": {},
   "outputs": [
    {
     "data": {
      "text/plain": [
       "[1, 2, 3, 'four', 'five', 'six', 'seven']"
      ]
     },
     "execution_count": 133,
     "metadata": {},
     "output_type": "execute_result"
    }
   ],
   "source": [
    "# Change value of the string\n",
    "mylist[0] = 1\n",
    "mylist[1] = 2\n",
    "mylist[2] = 3\n",
    "mylist"
   ]
  },
  {
   "cell_type": "code",
   "execution_count": 135,
   "id": "3aab29a6-d9ac-4a23-bc5d-9e596e6f33a3",
   "metadata": {},
   "outputs": [
    {
     "data": {
      "text/plain": [
       "[]"
      ]
     },
     "execution_count": 135,
     "metadata": {},
     "output_type": "execute_result"
    }
   ],
   "source": [
    "mylist.clear() # Empty list / Delete all items in the list\n",
    "mylist"
   ]
  },
  {
   "cell_type": "code",
   "execution_count": 137,
   "id": "e9bef25d-0fcf-4862-aa7b-5216a315cdd5",
   "metadata": {},
   "outputs": [
    {
     "ename": "NameError",
     "evalue": "name 'mylist' is not defined",
     "output_type": "error",
     "traceback": [
      "\u001b[1;31m---------------------------------------------------------------------------\u001b[0m",
      "\u001b[1;31mNameError\u001b[0m                                 Traceback (most recent call last)",
      "Cell \u001b[1;32mIn[137], line 2\u001b[0m\n\u001b[0;32m      1\u001b[0m \u001b[38;5;28;01mdel\u001b[39;00m mylist \u001b[38;5;66;03m# Delete the whole list\u001b[39;00m\n\u001b[1;32m----> 2\u001b[0m mylist\n",
      "\u001b[1;31mNameError\u001b[0m: name 'mylist' is not defined"
     ]
    }
   ],
   "source": [
    "del mylist # Delete the whole list\n",
    "mylist"
   ]
  },
  {
   "cell_type": "markdown",
   "id": "c25ee51d-82a6-41af-b4fa-d80f108db706",
   "metadata": {},
   "source": [
    "# COPY LIST"
   ]
  },
  {
   "cell_type": "code",
   "execution_count": 6,
   "id": "028ffac6-3b66-4f86-b63d-4a97fc62c03e",
   "metadata": {},
   "outputs": [],
   "source": [
    "mylist = ['one', 'two', 'three', 'four', 'five', 'six', 'seven', 'eight', 'nine' , 'ten']"
   ]
  },
  {
   "cell_type": "code",
   "execution_count": 8,
   "id": "4405657e-261f-4f04-b6e7-5eaf32e7899d",
   "metadata": {},
   "outputs": [],
   "source": [
    "mylist1 = mylist # Create a new referance \"mylist1\""
   ]
  },
  {
   "cell_type": "code",
   "execution_count": 10,
   "id": "8b525617-c620-404e-9105-dfc69078d380",
   "metadata": {},
   "outputs": [
    {
     "data": {
      "text/plain": [
       "(2202916423360, 2202916423360)"
      ]
     },
     "execution_count": 10,
     "metadata": {},
     "output_type": "execute_result"
    }
   ],
   "source": [
    "id(mylist) , id(mylist1) # The address of both mylist & mylist1 will be same "
   ]
  },
  {
   "cell_type": "code",
   "execution_count": 14,
   "id": "c181c30e-5e91-4094-9914-be9e21ec5c41",
   "metadata": {},
   "outputs": [],
   "source": [
    "mylist2 = mylist.copy() # Create a copy of list"
   ]
  },
  {
   "cell_type": "code",
   "execution_count": 16,
   "id": "2880f511-e713-46f6-82a3-30cb102fe7c9",
   "metadata": {},
   "outputs": [
    {
     "data": {
      "text/plain": [
       "2202915943168"
      ]
     },
     "execution_count": 16,
     "metadata": {},
     "output_type": "execute_result"
    }
   ],
   "source": [
    "id(mylist2) # The address of mylist2 will be different from mylist "
   ]
  },
  {
   "cell_type": "code",
   "execution_count": 18,
   "id": "361685d6-47db-4430-85f4-f6041bbe7ced",
   "metadata": {},
   "outputs": [],
   "source": [
    "mylist[0] = 1"
   ]
  },
  {
   "cell_type": "code",
   "execution_count": 20,
   "id": "b8bfebe0-8357-4206-9174-6dda38e194cc",
   "metadata": {},
   "outputs": [
    {
     "data": {
      "text/plain": [
       "[1, 'two', 'three', 'four', 'five', 'six', 'seven', 'eight', 'nine', 'ten']"
      ]
     },
     "execution_count": 20,
     "metadata": {},
     "output_type": "execute_result"
    }
   ],
   "source": [
    "mylist"
   ]
  },
  {
   "cell_type": "code",
   "execution_count": 26,
   "id": "3690c486-bdb3-4c25-8832-431213fd9998",
   "metadata": {},
   "outputs": [
    {
     "data": {
      "text/plain": [
       "[1, 'two', 'three', 'four', 'five', 'six', 'seven', 'eight', 'nine', 'ten']"
      ]
     },
     "execution_count": 26,
     "metadata": {},
     "output_type": "execute_result"
    }
   ],
   "source": [
    "mylist1 # mylist1 will be also imopacted as it is pointing to the same list"
   ]
  },
  {
   "cell_type": "code",
   "execution_count": 28,
   "id": "cce518c7-0e41-43d0-b8ba-d0bc04ae034e",
   "metadata": {},
   "outputs": [
    {
     "data": {
      "text/plain": [
       "['one', 'two', 'three', 'four', 'five', 'six', 'seven', 'eight', 'nine', 'ten']"
      ]
     },
     "execution_count": 28,
     "metadata": {},
     "output_type": "execute_result"
    }
   ],
   "source": [
    "mylist2 # Copy of list won't be impact due to changes made on the original list"
   ]
  },
  {
   "cell_type": "markdown",
   "id": "70bd286b-404a-4036-b04a-c05300de65e6",
   "metadata": {},
   "source": [
    "# JOIN LISTS "
   ]
  },
  {
   "cell_type": "code",
   "execution_count": 31,
   "id": "6dfbcd27-4464-4166-88a3-1b2ea580db0b",
   "metadata": {},
   "outputs": [],
   "source": [
    "list1 = ['one' , ' two' , 'three' , 'four']\n",
    "list2 = ['five' , 'six' , 'seven' , 'eight']"
   ]
  },
  {
   "cell_type": "code",
   "execution_count": 35,
   "id": "a91e95b4-8fcb-4832-84fd-47a26c4d0728",
   "metadata": {},
   "outputs": [
    {
     "data": {
      "text/plain": [
       "['one', ' two', 'three', 'four', 'five', 'six', 'seven', 'eight']"
      ]
     },
     "execution_count": 35,
     "metadata": {},
     "output_type": "execute_result"
    }
   ],
   "source": [
    "list3 = list1 + list2 # Join two lists by '+' operator \n",
    "list3 "
   ]
  },
  {
   "cell_type": "code",
   "execution_count": 53,
   "id": "5687d075-07ba-4274-8ebb-a6eb49f04fca",
   "metadata": {},
   "outputs": [
    {
     "data": {
      "text/plain": [
       "['one', ' two', 'three', 'four', 'five', 'six', 'seven', 'eight']"
      ]
     },
     "execution_count": 53,
     "metadata": {},
     "output_type": "execute_result"
    }
   ],
   "source": [
    "list1.extend(list2) # Append list2 with list1 \n",
    "list1"
   ]
  },
  {
   "cell_type": "markdown",
   "id": "775bf5b5-4dd1-4ac9-b432-252c3e46e9f2",
   "metadata": {},
   "source": [
    "# LIST MEMBERSHIP "
   ]
  },
  {
   "cell_type": "code",
   "execution_count": 56,
   "id": "d9276037-1948-43f6-8a3e-861650fe0a94",
   "metadata": {},
   "outputs": [
    {
     "data": {
      "text/plain": [
       "['one', ' two', 'three', 'four', 'five', 'six', 'seven', 'eight']"
      ]
     },
     "execution_count": 56,
     "metadata": {},
     "output_type": "execute_result"
    }
   ],
   "source": [
    "list1"
   ]
  },
  {
   "cell_type": "code",
   "execution_count": 58,
   "id": "c82e0f1d-3569-4af3-97fa-98fd5c994871",
   "metadata": {},
   "outputs": [
    {
     "data": {
      "text/plain": [
       "True"
      ]
     },
     "execution_count": 58,
     "metadata": {},
     "output_type": "execute_result"
    }
   ],
   "source": [
    "'one' in list1 # Check if 'one' exist in the list"
   ]
  },
  {
   "cell_type": "code",
   "execution_count": 60,
   "id": "d7bd7d49-ee0b-4bf8-87f8-1e9aebf7528a",
   "metadata": {},
   "outputs": [
    {
     "data": {
      "text/plain": [
       "False"
      ]
     },
     "execution_count": 60,
     "metadata": {},
     "output_type": "execute_result"
    }
   ],
   "source": [
    "'ten' in list1 # Check if 'ten' exist in the list"
   ]
  },
  {
   "cell_type": "code",
   "execution_count": 64,
   "id": "438ccd88-7145-46a4-bf76-851dfe22e96d",
   "metadata": {},
   "outputs": [
    {
     "name": "stdout",
     "output_type": "stream",
     "text": [
      "Three is present in the list\n"
     ]
    }
   ],
   "source": [
    "if 'three' in list1: # Check if 'three' exist in the list\n",
    "    print('Three is present in the list')\n",
    "else:\n",
    "    print('Three is not present in the list')"
   ]
  },
  {
   "cell_type": "code",
   "execution_count": 66,
   "id": "311a2df9-33a5-4680-b57f-75fbe8470bd7",
   "metadata": {},
   "outputs": [
    {
     "name": "stdout",
     "output_type": "stream",
     "text": [
      "Eleven is not present in the list\n"
     ]
    }
   ],
   "source": [
    "if 'eleven' in list1: # Check if 'eleven\" exist in the list\n",
    "    print('Eleven is present in the list')\n",
    "else:\n",
    "    print('Eleven is not present in the list')"
   ]
  },
  {
   "cell_type": "markdown",
   "id": "eb6ae685-d6bc-4445-a220-277f0159f2c1",
   "metadata": {},
   "source": [
    "# REVERSE & SORT LIST"
   ]
  },
  {
   "cell_type": "code",
   "execution_count": 69,
   "id": "0f9b5d6b-ab5c-4e0d-bf08-649b5d13c05a",
   "metadata": {},
   "outputs": [
    {
     "data": {
      "text/plain": [
       "['one', ' two', 'three', 'four', 'five', 'six', 'seven', 'eight']"
      ]
     },
     "execution_count": 69,
     "metadata": {},
     "output_type": "execute_result"
    }
   ],
   "source": [
    "list1"
   ]
  },
  {
   "cell_type": "code",
   "execution_count": 71,
   "id": "5b6596b1-f6d2-4bb4-addf-627399f67410",
   "metadata": {},
   "outputs": [
    {
     "data": {
      "text/plain": [
       "['eight', 'seven', 'six', 'five', 'four', 'three', ' two', 'one']"
      ]
     },
     "execution_count": 71,
     "metadata": {},
     "output_type": "execute_result"
    }
   ],
   "source": [
    "list1.reverse() # Reverse the list\n",
    "list1"
   ]
  },
  {
   "cell_type": "code",
   "execution_count": 77,
   "id": "2d15a749-f50d-4fa1-a414-27d1d66209a9",
   "metadata": {},
   "outputs": [
    {
     "data": {
      "text/plain": [
       "['one', ' two', 'three', 'four', 'five', 'six', 'seven', 'eight']"
      ]
     },
     "execution_count": 77,
     "metadata": {},
     "output_type": "execute_result"
    }
   ],
   "source": [
    "list1 = list1[::-1] # Reverse the list\n",
    "list1"
   ]
  },
  {
   "cell_type": "code",
   "execution_count": 87,
   "id": "78c48bbc-f0e6-4c15-8606-23284e95e5b6",
   "metadata": {},
   "outputs": [
    {
     "data": {
      "text/plain": [
       "[2, 5, 9, 12, 34, 88, 99]"
      ]
     },
     "execution_count": 87,
     "metadata": {},
     "output_type": "execute_result"
    }
   ],
   "source": [
    "mylist3 = [9,5,2,99,12,88,34]\n",
    "mylist3.sort() #Sort list in ascending order\n",
    "mylist3"
   ]
  },
  {
   "cell_type": "code",
   "execution_count": 89,
   "id": "c2d0369c-43fc-4d76-9dce-6a558006dba3",
   "metadata": {},
   "outputs": [
    {
     "data": {
      "text/plain": [
       "[99, 88, 34, 12, 9, 5, 2]"
      ]
     },
     "execution_count": 89,
     "metadata": {},
     "output_type": "execute_result"
    }
   ],
   "source": [
    "mylist3 = [9,5,2,99,12,88,34]\n",
    "mylist3.sort(reverse=True) # Sort list in descending order  \n",
    "mylist3"
   ]
  },
  {
   "cell_type": "code",
   "execution_count": 91,
   "id": "13c8e227-328e-4745-a3da-f79ab1a85b85",
   "metadata": {},
   "outputs": [
    {
     "data": {
      "text/plain": [
       "[11, 21, 33, 65, 88, 98]"
      ]
     },
     "execution_count": 91,
     "metadata": {},
     "output_type": "execute_result"
    }
   ],
   "source": [
    "mylist4 = [88,65,33,21,11,98]\n",
    "sorted(mylist4)   # Retuns a new list and doesn't change origial list"
   ]
  },
  {
   "cell_type": "code",
   "execution_count": 93,
   "id": "224a6bee-925a-452f-ad1e-8668ff20727d",
   "metadata": {},
   "outputs": [
    {
     "data": {
      "text/plain": [
       "[88, 65, 33, 21, 11, 98]"
      ]
     },
     "execution_count": 93,
     "metadata": {},
     "output_type": "execute_result"
    }
   ],
   "source": [
    "mylist4"
   ]
  },
  {
   "cell_type": "markdown",
   "id": "70cb7c58-a353-4a58-aab2-73f402971dcf",
   "metadata": {},
   "source": [
    "# LOOP THROUGH A LIST"
   ]
  },
  {
   "cell_type": "code",
   "execution_count": 96,
   "id": "182ec317-800b-4c11-8d2f-90026c52d578",
   "metadata": {},
   "outputs": [
    {
     "data": {
      "text/plain": [
       "['one', ' two', 'three', 'four', 'five', 'six', 'seven', 'eight']"
      ]
     },
     "execution_count": 96,
     "metadata": {},
     "output_type": "execute_result"
    }
   ],
   "source": [
    "list1"
   ]
  },
  {
   "cell_type": "code",
   "execution_count": 98,
   "id": "f90e20ce-8d0f-422d-88fa-8c6d4e1ccdbf",
   "metadata": {},
   "outputs": [
    {
     "name": "stdout",
     "output_type": "stream",
     "text": [
      "one\n",
      " two\n",
      "three\n",
      "four\n",
      "five\n",
      "six\n",
      "seven\n",
      "eight\n"
     ]
    }
   ],
   "source": [
    "for i in list1:\n",
    "    print(i)"
   ]
  },
  {
   "cell_type": "code",
   "execution_count": 102,
   "id": "d998a43d-8e1d-497b-9a56-ae2bee2b32c3",
   "metadata": {},
   "outputs": [
    {
     "name": "stdout",
     "output_type": "stream",
     "text": [
      "(0, 'one')\n",
      "(1, ' two')\n",
      "(2, 'three')\n",
      "(3, 'four')\n",
      "(4, 'five')\n",
      "(5, 'six')\n",
      "(6, 'seven')\n",
      "(7, 'eight')\n"
     ]
    }
   ],
   "source": [
    "for i in enumerate(list1): # enumerate() gives index and value while looping\n",
    "    print(i)"
   ]
  },
  {
   "cell_type": "markdown",
   "id": "cba115b3-9af6-45db-8a27-b5da860fa940",
   "metadata": {},
   "source": [
    "# COUNT"
   ]
  },
  {
   "cell_type": "code",
   "execution_count": 105,
   "id": "83751132-eecd-4ff9-a40e-37efd96c1495",
   "metadata": {},
   "outputs": [],
   "source": [
    "list10 = ['one' , 'two' , 'three' , 'four' , 'one' , 'one' , 'two' , 'three']"
   ]
  },
  {
   "cell_type": "code",
   "execution_count": 107,
   "id": "0f9968e1-de99-4332-b6f6-da8ffdae2af5",
   "metadata": {},
   "outputs": [
    {
     "data": {
      "text/plain": [
       "3"
      ]
     },
     "execution_count": 107,
     "metadata": {},
     "output_type": "execute_result"
    }
   ],
   "source": [
    "list10.count('one') # Number of items \"one\" occuring in the list "
   ]
  },
  {
   "cell_type": "code",
   "execution_count": 109,
   "id": "d2d0d8c1-f196-4a05-a5cc-d56adaad212f",
   "metadata": {},
   "outputs": [
    {
     "data": {
      "text/plain": [
       "2"
      ]
     },
     "execution_count": 109,
     "metadata": {},
     "output_type": "execute_result"
    }
   ],
   "source": [
    "list10.count('two') # Occurence of item 'two' in the list"
   ]
  },
  {
   "cell_type": "code",
   "execution_count": 111,
   "id": "be4c7fd4-a4ba-48c3-8e80-92db55f9db80",
   "metadata": {},
   "outputs": [
    {
     "data": {
      "text/plain": [
       "1"
      ]
     },
     "execution_count": 111,
     "metadata": {},
     "output_type": "execute_result"
    }
   ],
   "source": [
    "list10.count('four') # Occurence of item 'four' in the list"
   ]
  },
  {
   "cell_type": "markdown",
   "id": "dd98888e-1d6d-4bb9-b0b8-561815263649",
   "metadata": {},
   "source": [
    "# ALL / ANY"
   ]
  },
  {
   "cell_type": "markdown",
   "id": "010c49c3-42cf-4866-bef5-4e5b8610002f",
   "metadata": {},
   "source": [
    "The **all()** method returns:\n",
    "1. **True** - If all elements in a list are true\n",
    "2. **False** - If any element in a list is false"
   ]
  },
  {
   "cell_type": "markdown",
   "id": "fd4afce5-cd14-4eb7-a49f-7b253a7b3baf",
   "metadata": {},
   "source": [
    "The **any** function returns True if any element in the list is True. If not, any() returns False"
   ]
  },
  {
   "cell_type": "code",
   "execution_count": 119,
   "id": "1ea45a3d-7831-44e6-9691-b4ff6353bde8",
   "metadata": {},
   "outputs": [],
   "source": [
    "L1 = [1,2,3,4,0]"
   ]
  },
  {
   "cell_type": "code",
   "execution_count": 121,
   "id": "a10d51b6-439f-42c4-b653-260eb85e041b",
   "metadata": {},
   "outputs": [
    {
     "data": {
      "text/plain": [
       "False"
      ]
     },
     "execution_count": 121,
     "metadata": {},
     "output_type": "execute_result"
    }
   ],
   "source": [
    "all(L1) # Will Return false as one value is false (Value 0)"
   ]
  },
  {
   "cell_type": "code",
   "execution_count": 123,
   "id": "a80c150f-1239-4f17-a173-bc9a6d318982",
   "metadata": {},
   "outputs": [
    {
     "data": {
      "text/plain": [
       "True"
      ]
     },
     "execution_count": 123,
     "metadata": {},
     "output_type": "execute_result"
    }
   ],
   "source": [
    "any(L1) # Will Return True as we have items in the list with True value"
   ]
  },
  {
   "cell_type": "code",
   "execution_count": 125,
   "id": "0cf34ef4-35ea-42aa-8541-2c34519c7134",
   "metadata": {},
   "outputs": [],
   "source": [
    "L2 = [1,2,3,4,True,False]"
   ]
  },
  {
   "cell_type": "code",
   "execution_count": 127,
   "id": "9790ce46-5667-4d36-b46a-4f4809aa9a20",
   "metadata": {},
   "outputs": [
    {
     "data": {
      "text/plain": [
       "False"
      ]
     },
     "execution_count": 127,
     "metadata": {},
     "output_type": "execute_result"
    }
   ],
   "source": [
    "all(L2) # Returns false as one value is false"
   ]
  },
  {
   "cell_type": "code",
   "execution_count": 129,
   "id": "73ad4221-cb0d-4c71-9d63-5aa42d9f97b4",
   "metadata": {},
   "outputs": [
    {
     "data": {
      "text/plain": [
       "True"
      ]
     },
     "execution_count": 129,
     "metadata": {},
     "output_type": "execute_result"
    }
   ],
   "source": [
    "any(L2) # Will Return True as we have items in the list with True value"
   ]
  },
  {
   "cell_type": "code",
   "execution_count": 131,
   "id": "79c6d99d-7781-45e1-8597-181bbfd59bd6",
   "metadata": {},
   "outputs": [],
   "source": [
    "L3 = [1,2,3,True]"
   ]
  },
  {
   "cell_type": "code",
   "execution_count": 133,
   "id": "adbb7711-7509-4106-bb65-00a359c5af68",
   "metadata": {},
   "outputs": [
    {
     "data": {
      "text/plain": [
       "True"
      ]
     },
     "execution_count": 133,
     "metadata": {},
     "output_type": "execute_result"
    }
   ],
   "source": [
    "all(L3) # Will return True as all items in the list are True"
   ]
  }
 ],
 "metadata": {
  "kernelspec": {
   "display_name": "Python [conda env:base] *",
   "language": "python",
   "name": "conda-base-py"
  },
  "language_info": {
   "codemirror_mode": {
    "name": "ipython",
    "version": 3
   },
   "file_extension": ".py",
   "mimetype": "text/x-python",
   "name": "python",
   "nbconvert_exporter": "python",
   "pygments_lexer": "ipython3",
   "version": "3.12.4"
  }
 },
 "nbformat": 4,
 "nbformat_minor": 5
}
