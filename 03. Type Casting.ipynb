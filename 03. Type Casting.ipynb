{
 "cells": [
  {
   "cell_type": "markdown",
   "id": "2db2f5e0-c48a-4dc4-89d8-8a36f0bb5976",
   "metadata": {},
   "source": [
    "# TYPE CASTING"
   ]
  },
  {
   "cell_type": "markdown",
   "id": "05151d76-3ce1-4a5c-b089-df8aaa70a8fe",
   "metadata": {},
   "source": [
    "Type casting means converting one data type into another."
   ]
  },
  {
   "cell_type": "markdown",
   "id": "464b338e-0002-4347-a64f-70b8b82a48a5",
   "metadata": {},
   "source": [
    "## converting other types to int "
   ]
  },
  {
   "cell_type": "markdown",
   "id": "4cb2c1b9-feb9-4726-b084-6d5c7ba78056",
   "metadata": {},
   "source": [
    "We can convert any type into another type except complex types."
   ]
  },
  {
   "cell_type": "markdown",
   "id": "c30cf027-d948-47e4-8446-8f31332c0a5a",
   "metadata": {},
   "source": [
    "If we want to convert str() to int(). \n",
    "str should only an integral value & sould be specified in decimal form."
   ]
  },
  {
   "cell_type": "code",
   "execution_count": 9,
   "id": "64e79735-1b0a-40dc-a638-d64f3cf70cf5",
   "metadata": {},
   "outputs": [
    {
     "name": "stdout",
     "output_type": "stream",
     "text": [
      "10\n"
     ]
    },
    {
     "ename": "TypeError",
     "evalue": "int() argument must be a string, a bytes-like object or a real number, not 'complex'",
     "output_type": "error",
     "traceback": [
      "\u001b[1;31m---------------------------------------------------------------------------\u001b[0m",
      "\u001b[1;31mTypeError\u001b[0m                                 Traceback (most recent call last)",
      "Cell \u001b[1;32mIn[9], line 2\u001b[0m\n\u001b[0;32m      1\u001b[0m \u001b[38;5;28mprint\u001b[39m(\u001b[38;5;28mint\u001b[39m(\u001b[38;5;241m10.5\u001b[39m))\n\u001b[1;32m----> 2\u001b[0m \u001b[38;5;28mprint\u001b[39m(\u001b[38;5;28mint\u001b[39m(\u001b[38;5;241m10\u001b[39m\u001b[38;5;241m+\u001b[39m\u001b[38;5;241m20\u001b[39mj))\n\u001b[0;32m      3\u001b[0m \u001b[38;5;28mprint\u001b[39m(\u001b[38;5;28mint\u001b[39m(\u001b[38;5;28;01mTrue\u001b[39;00m))\n",
      "\u001b[1;31mTypeError\u001b[0m: int() argument must be a string, a bytes-like object or a real number, not 'complex'"
     ]
    }
   ],
   "source": [
    "print(int(10.5))\n",
    "print(int(10+20j))\n",
    "print(int(True))"
   ]
  },
  {
   "cell_type": "code",
   "execution_count": 11,
   "id": "4dff8576-169d-4908-9f85-00722185d5cb",
   "metadata": {},
   "outputs": [
    {
     "name": "stdout",
     "output_type": "stream",
     "text": [
      "1\n"
     ]
    }
   ],
   "source": [
    "print(int(True))"
   ]
  },
  {
   "cell_type": "code",
   "execution_count": 15,
   "id": "717b3036-bec9-4470-a8b8-01174eca6beb",
   "metadata": {},
   "outputs": [
    {
     "name": "stdout",
     "output_type": "stream",
     "text": [
      "0\n",
      "100\n"
     ]
    }
   ],
   "source": [
    "print(int(False))\n",
    "print(int('100'))"
   ]
  },
  {
   "cell_type": "code",
   "execution_count": 19,
   "id": "aafa364b-f46e-47ee-8091-ca55e5a2c9bc",
   "metadata": {},
   "outputs": [
    {
     "ename": "ValueError",
     "evalue": "invalid literal for int() with base 10: '10.5'",
     "output_type": "error",
     "traceback": [
      "\u001b[1;31m---------------------------------------------------------------------------\u001b[0m",
      "\u001b[1;31mValueError\u001b[0m                                Traceback (most recent call last)",
      "Cell \u001b[1;32mIn[19], line 1\u001b[0m\n\u001b[1;32m----> 1\u001b[0m \u001b[38;5;28mprint\u001b[39m(\u001b[38;5;28mint\u001b[39m(\u001b[38;5;124m'\u001b[39m\u001b[38;5;124m10.5\u001b[39m\u001b[38;5;124m'\u001b[39m))\n",
      "\u001b[1;31mValueError\u001b[0m: invalid literal for int() with base 10: '10.5'"
     ]
    }
   ],
   "source": [
    "print(int('10.5'))"
   ]
  },
  {
   "cell_type": "markdown",
   "id": "30327e58-b8dd-46e7-b035-b8b810a4434e",
   "metadata": {},
   "source": [
    "# Converting from other typr to float"
   ]
  },
  {
   "cell_type": "markdown",
   "id": "a4767776-9e0f-4622-a30c-e85ed4f1754f",
   "metadata": {},
   "source": [
    "1. We can convert any type of value to a float except a complex type."
   ]
  },
  {
   "cell_type": "markdown",
   "id": "c61dd6c2-f31b-47e4-b0e3-00d4d47a3e64",
   "metadata": {},
   "source": [
    "2. Whenever we are trying to convert str to float type compulsary str should be either integral or float literal."
   ]
  },
  {
   "cell_type": "code",
   "execution_count": 24,
   "id": "6178f42b-f1c8-483b-9e93-815cdf9d82dc",
   "metadata": {},
   "outputs": [
    {
     "data": {
      "text/plain": [
       "10.0"
      ]
     },
     "execution_count": 24,
     "metadata": {},
     "output_type": "execute_result"
    }
   ],
   "source": [
    "float(10)"
   ]
  },
  {
   "cell_type": "code",
   "execution_count": 26,
   "id": "c94e990f-272a-4004-aa2c-368309e665de",
   "metadata": {},
   "outputs": [
    {
     "ename": "TypeError",
     "evalue": "float() argument must be a string or a real number, not 'complex'",
     "output_type": "error",
     "traceback": [
      "\u001b[1;31m---------------------------------------------------------------------------\u001b[0m",
      "\u001b[1;31mTypeError\u001b[0m                                 Traceback (most recent call last)",
      "Cell \u001b[1;32mIn[26], line 1\u001b[0m\n\u001b[1;32m----> 1\u001b[0m \u001b[38;5;28mfloat\u001b[39m(\u001b[38;5;241m10\u001b[39m\u001b[38;5;241m+\u001b[39m\u001b[38;5;241m20\u001b[39mj)\n",
      "\u001b[1;31mTypeError\u001b[0m: float() argument must be a string or a real number, not 'complex'"
     ]
    }
   ],
   "source": [
    "float(10+20j)"
   ]
  },
  {
   "cell_type": "code",
   "execution_count": 28,
   "id": "f817ec2a-89f8-47d1-b717-b29e790fe778",
   "metadata": {},
   "outputs": [
    {
     "data": {
      "text/plain": [
       "1.0"
      ]
     },
     "execution_count": 28,
     "metadata": {},
     "output_type": "execute_result"
    }
   ],
   "source": [
    "float(True)"
   ]
  },
  {
   "cell_type": "code",
   "execution_count": 30,
   "id": "b058d0c4-664a-4749-9d80-7cbaae936f31",
   "metadata": {},
   "outputs": [
    {
     "data": {
      "text/plain": [
       "0.0"
      ]
     },
     "execution_count": 30,
     "metadata": {},
     "output_type": "execute_result"
    }
   ],
   "source": [
    "float(False)"
   ]
  },
  {
   "cell_type": "code",
   "execution_count": 32,
   "id": "a385c716-df07-4a57-915b-27cc0a30742e",
   "metadata": {},
   "outputs": [
    {
     "ename": "ValueError",
     "evalue": "could not convert string to float: 'ten'",
     "output_type": "error",
     "traceback": [
      "\u001b[1;31m---------------------------------------------------------------------------\u001b[0m",
      "\u001b[1;31mValueError\u001b[0m                                Traceback (most recent call last)",
      "Cell \u001b[1;32mIn[32], line 1\u001b[0m\n\u001b[1;32m----> 1\u001b[0m \u001b[38;5;28mfloat\u001b[39m(\u001b[38;5;124m'\u001b[39m\u001b[38;5;124mten\u001b[39m\u001b[38;5;124m'\u001b[39m)\n",
      "\u001b[1;31mValueError\u001b[0m: could not convert string to float: 'ten'"
     ]
    }
   ],
   "source": [
    "float('ten')"
   ]
  },
  {
   "cell_type": "code",
   "execution_count": 34,
   "id": "d9eb8cff-315c-4917-a656-1a610cc3dea0",
   "metadata": {},
   "outputs": [
    {
     "data": {
      "text/plain": [
       "10.0"
      ]
     },
     "execution_count": 34,
     "metadata": {},
     "output_type": "execute_result"
    }
   ],
   "source": [
    "float('10')"
   ]
  },
  {
   "cell_type": "markdown",
   "id": "2e36b3c2-eda5-4740-b7ea-94a9b7505686",
   "metadata": {},
   "source": [
    "# Convert other type to bool"
   ]
  },
  {
   "cell_type": "markdown",
   "id": "93c5d42a-02c7-4b41-8024-145962806da9",
   "metadata": {},
   "source": [
    "if x is in data type "
   ]
  },
  {
   "cell_type": "markdown",
   "id": "7cb23efe-cb52-4e5c-b7b2-8a6e26442f48",
   "metadata": {},
   "source": [
    "Zero (0) means False"
   ]
  },
  {
   "cell_type": "markdown",
   "id": "544a0108-31d6-40dd-9386-960d32ea3a48",
   "metadata": {},
   "source": [
    "Non-zero (Any Number) is True"
   ]
  },
  {
   "cell_type": "code",
   "execution_count": 40,
   "id": "f7c1c12a-5e84-41ce-909f-df2b3e9401c5",
   "metadata": {},
   "outputs": [
    {
     "data": {
      "text/plain": [
       "False"
      ]
     },
     "execution_count": 40,
     "metadata": {},
     "output_type": "execute_result"
    }
   ],
   "source": [
    "bool(0)"
   ]
  },
  {
   "cell_type": "code",
   "execution_count": 42,
   "id": "afd723dc-0f0e-49f1-81a5-b1cb6054a9b8",
   "metadata": {},
   "outputs": [
    {
     "data": {
      "text/plain": [
       "True"
      ]
     },
     "execution_count": 42,
     "metadata": {},
     "output_type": "execute_result"
    }
   ],
   "source": [
    "bool(1)"
   ]
  },
  {
   "cell_type": "markdown",
   "id": "2a41bbe1-254f-4673-b7d1-2ab6eb67df88",
   "metadata": {},
   "source": [
    "### if x is a float data type "
   ]
  },
  {
   "cell_type": "markdown",
   "id": "fa0917a5-fff1-4361-afe8-a72451e4aa4a",
   "metadata": {},
   "source": [
    "If the total number value is zero, then the result is False; otherwise True"
   ]
  },
  {
   "cell_type": "code",
   "execution_count": 54,
   "id": "45c6ff45-d2ba-4a72-80bd-362ccb11d84f",
   "metadata": {},
   "outputs": [
    {
     "data": {
      "text/plain": [
       "True"
      ]
     },
     "execution_count": 54,
     "metadata": {},
     "output_type": "execute_result"
    }
   ],
   "source": [
    "bool(1.0)"
   ]
  },
  {
   "cell_type": "code",
   "execution_count": 56,
   "id": "0ab6a315-ffe5-4a83-8fbf-1d9dbeffcd21",
   "metadata": {},
   "outputs": [
    {
     "data": {
      "text/plain": [
       "False"
      ]
     },
     "execution_count": 56,
     "metadata": {},
     "output_type": "execute_result"
    }
   ],
   "source": [
    "bool(0.0)"
   ]
  },
  {
   "cell_type": "markdown",
   "id": "d096c3cb-78dd-4709-9035-a9884b7bf944",
   "metadata": {},
   "source": [
    "### if x is a complex data type."
   ]
  },
  {
   "cell_type": "markdown",
   "id": "e564c9d8-5c99-48ce-95df-44478d6635c2",
   "metadata": {},
   "source": [
    "if both real and imaginary parts are zero then the result is false otherise result is True."
   ]
  },
  {
   "cell_type": "code",
   "execution_count": 60,
   "id": "483ebecb-81da-44b1-8a15-fdd42917dc56",
   "metadata": {},
   "outputs": [
    {
     "name": "stdout",
     "output_type": "stream",
     "text": [
      "False\n",
      "True\n",
      "True\n",
      "True\n"
     ]
    }
   ],
   "source": [
    "print(bool(0+0j))\n",
    "print(bool(1+20j))\n",
    "print(bool(0+20j))\n",
    "print(bool(1+0j))"
   ]
  },
  {
   "cell_type": "markdown",
   "id": "6a2b7493-d0f5-4670-bda6-32e5dcf4d5d5",
   "metadata": {},
   "source": [
    "# Convert other type values to str type"
   ]
  },
  {
   "cell_type": "code",
   "execution_count": null,
   "id": "bd3abc1d-cfeb-400d-a356-bae7d8f0ad85",
   "metadata": {},
   "outputs": [],
   "source": []
  }
 ],
 "metadata": {
  "kernelspec": {
   "display_name": "Python [conda env:base] *",
   "language": "python",
   "name": "conda-base-py"
  },
  "language_info": {
   "codemirror_mode": {
    "name": "ipython",
    "version": 3
   },
   "file_extension": ".py",
   "mimetype": "text/x-python",
   "name": "python",
   "nbconvert_exporter": "python",
   "pygments_lexer": "ipython3",
   "version": "3.12.4"
  }
 },
 "nbformat": 4,
 "nbformat_minor": 5
}
