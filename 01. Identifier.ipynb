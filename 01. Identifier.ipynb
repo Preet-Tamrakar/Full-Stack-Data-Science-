{
 "cells": [
  {
   "cell_type": "markdown",
   "id": "628ea00d-9840-494e-b0ad-f72598f89c1e",
   "metadata": {},
   "source": [
    "# IDENTIFIER"
   ]
  },
  {
   "cell_type": "markdown",
   "id": "e277aa2d-a67c-4e49-9150-fe4c18e691f0",
   "metadata": {},
   "source": [
    "In Python, an idenrifier is the name used to identify a variable, function, class, module, or object "
   ]
  },
  {
   "cell_type": "markdown",
   "id": "fbc48640-fa4b-45b2-93ed-daeec6d41d51",
   "metadata": {},
   "source": [
    "Rules to define Identifier "
   ]
  },
  {
   "cell_type": "markdown",
   "id": "7e9cb541-f6d3-47a6-bde8-7e4d12c6ab49",
   "metadata": {},
   "source": [
    "The only allowerd Characters"
   ]
  },
  {
   "cell_type": "markdown",
   "id": "23e8a554-634e-4cb8-902e-c614f7a972c1",
   "metadata": {},
   "source": [
    "1. Alphaber symbols, either lower case or upper case "
   ]
  },
  {
   "cell_type": "markdown",
   "id": "dcebc33f-de10-41a0-be2a-c4ec54a7ac54",
   "metadata": {},
   "source": [
    "By mistake if we using any other symbol like $ then we will get syntax error"
   ]
  },
  {
   "cell_type": "code",
   "execution_count": 21,
   "id": "06d4df84-1da2-48de-bd47-3d71ffb8e719",
   "metadata": {},
   "outputs": [
    {
     "data": {
      "text/plain": [
       "10"
      ]
     },
     "execution_count": 21,
     "metadata": {},
     "output_type": "execute_result"
    }
   ],
   "source": [
    "cash = 10\n",
    "cash"
   ]
  },
  {
   "cell_type": "code",
   "execution_count": 23,
   "id": "53c63f34-856a-46d9-8ba9-be16a76dd206",
   "metadata": {},
   "outputs": [
    {
     "ename": "SyntaxError",
     "evalue": "invalid syntax (3648802222.py, line 1)",
     "output_type": "error",
     "traceback": [
      "\u001b[1;36m  Cell \u001b[1;32mIn[23], line 1\u001b[1;36m\u001b[0m\n\u001b[1;33m    ca$h = 10\u001b[0m\n\u001b[1;37m      ^\u001b[0m\n\u001b[1;31mSyntaxError\u001b[0m\u001b[1;31m:\u001b[0m invalid syntax\n"
     ]
    }
   ],
   "source": [
    "ca$h = 10"
   ]
  },
  {
   "cell_type": "markdown",
   "id": "9641ecfa-4dd9-4d9b-bfbe-eaa3c393c9db",
   "metadata": {},
   "source": [
    "Identifier should not start with number"
   ]
  },
  {
   "cell_type": "code",
   "execution_count": 26,
   "id": "2b338103-5fb1-42c2-a75f-c25e9eb0d5b0",
   "metadata": {},
   "outputs": [
    {
     "ename": "SyntaxError",
     "evalue": "invalid decimal literal (2989942625.py, line 1)",
     "output_type": "error",
     "traceback": [
      "\u001b[1;36m  Cell \u001b[1;32mIn[26], line 1\u001b[1;36m\u001b[0m\n\u001b[1;33m    123se = 10\u001b[0m\n\u001b[1;37m      ^\u001b[0m\n\u001b[1;31mSyntaxError\u001b[0m\u001b[1;31m:\u001b[0m invalid decimal literal\n"
     ]
    }
   ],
   "source": [
    "123se = 10"
   ]
  },
  {
   "cell_type": "markdown",
   "id": "c9b6d0ac-18fd-4ff0-b1ee-1e0ef7cd8af6",
   "metadata": {},
   "source": [
    "Indentifier are case sensitive. of course python language is case sensitive language "
   ]
  },
  {
   "cell_type": "code",
   "execution_count": 31,
   "id": "4406b283-4e04-4fe6-a506-c67d572e3b0d",
   "metadata": {},
   "outputs": [
    {
     "name": "stdout",
     "output_type": "stream",
     "text": [
      "10\n",
      "20\n"
     ]
    }
   ],
   "source": [
    "a = 10\n",
    "A = 20\n",
    "print(a)\n",
    "print(A)"
   ]
  }
 ],
 "metadata": {
  "kernelspec": {
   "display_name": "Python [conda env:base] *",
   "language": "python",
   "name": "conda-base-py"
  },
  "language_info": {
   "codemirror_mode": {
    "name": "ipython",
    "version": 3
   },
   "file_extension": ".py",
   "mimetype": "text/x-python",
   "name": "python",
   "nbconvert_exporter": "python",
   "pygments_lexer": "ipython3",
   "version": "3.12.4"
  }
 },
 "nbformat": 4,
 "nbformat_minor": 5
}
