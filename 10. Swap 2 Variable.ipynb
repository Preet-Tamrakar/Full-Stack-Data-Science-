{
 "cells": [
  {
   "cell_type": "markdown",
   "id": "95f2e92f-a082-4f51-bc56-cb4f38915097",
   "metadata": {},
   "source": [
    "# HOW TO SWAP 2 VARIABLE IN PYTHON?"
   ]
  },
  {
   "cell_type": "code",
   "execution_count": 2,
   "id": "a94f98a4-957d-4c24-8751-839a84c2cdcf",
   "metadata": {},
   "outputs": [],
   "source": [
    "a,b = 5,6"
   ]
  },
  {
   "cell_type": "markdown",
   "id": "c7ec6c20-2c0e-436e-a72e-a5b47ec88421",
   "metadata": {},
   "source": [
    "a = 5 & b = 6"
   ]
  },
  {
   "cell_type": "markdown",
   "id": "cb80e413-dd26-44da-9d08-eb8cb87a21b2",
   "metadata": {},
   "source": [
    "#### Write a py code to swap a = 6 and b = 5"
   ]
  },
  {
   "cell_type": "markdown",
   "id": "f630999a-b9ac-467f-bad5-46cf3de7e0a5",
   "metadata": {},
   "source": [
    "GIVEN : a=5 , b=6\n",
    "OUTPUT : a=6 , b=5"
   ]
  },
  {
   "cell_type": "code",
   "execution_count": 10,
   "id": "e401f78d-3318-4ef3-adf1-475071275aa1",
   "metadata": {},
   "outputs": [],
   "source": [
    "a = 5 \n",
    "b = 6"
   ]
  },
  {
   "cell_type": "code",
   "execution_count": 14,
   "id": "112f4322-dd18-42a8-bd45-81f0e1bcca24",
   "metadata": {},
   "outputs": [],
   "source": [
    "a = b # TRY 1\n",
    "b = a"
   ]
  },
  {
   "cell_type": "code",
   "execution_count": 16,
   "id": "e9f8b0f4-214c-4a4b-8ca3-8df24b0f94e9",
   "metadata": {},
   "outputs": [
    {
     "name": "stdout",
     "output_type": "stream",
     "text": [
      "6\n",
      "6\n"
     ]
    }
   ],
   "source": [
    "print(a)\n",
    "print(b)"
   ]
  },
  {
   "cell_type": "markdown",
   "id": "d6555f85-7479-4d6d-93aa-298bedc1a1b0",
   "metadata": {},
   "source": [
    "In above scenario we Lost the value 5  \n",
    "Swaping not DONE"
   ]
  },
  {
   "cell_type": "code",
   "execution_count": 18,
   "id": "91880f46-b316-4017-ba77-4fc988952cb3",
   "metadata": {},
   "outputs": [],
   "source": [
    "a1 = 7\n",
    "b1 = 8"
   ]
  },
  {
   "cell_type": "code",
   "execution_count": 26,
   "id": "6f896236-97a8-4e44-90a8-73cba8a504bf",
   "metadata": {},
   "outputs": [],
   "source": [
    "temp = a1 # METHOD 1 --> 3ed variable is CREATED \n",
    "a1 = b1\n",
    "b1 = temp"
   ]
  },
  {
   "cell_type": "code",
   "execution_count": 28,
   "id": "012d022e-39a7-4d1c-ad6f-16610239ef77",
   "metadata": {},
   "outputs": [
    {
     "name": "stdout",
     "output_type": "stream",
     "text": [
      "8\n",
      "7\n"
     ]
    }
   ],
   "source": [
    "print(a1)\n",
    "print(b1)"
   ]
  },
  {
   "cell_type": "markdown",
   "id": "9e2f61f0-9261-4047-a8cf-4e2fc9baab94",
   "metadata": {},
   "source": [
    "#### But if Interviewer asked Can We SWAP without third variable"
   ]
  },
  {
   "cell_type": "markdown",
   "id": "c820a8b3-840d-4f41-b94b-15836d36c09d",
   "metadata": {},
   "source": [
    "METHOD 2: By using swap variable formula we can SWAP variable without using 3ed variable "
   ]
  },
  {
   "cell_type": "code",
   "execution_count": 31,
   "id": "3843445b-f1bb-4dca-96b1-237d4b283872",
   "metadata": {},
   "outputs": [],
   "source": [
    "a2 = 5\n",
    "b2 = 6"
   ]
  },
  {
   "cell_type": "code",
   "execution_count": 33,
   "id": "e5c80ee7-d42b-442f-8d05-93d280e74983",
   "metadata": {},
   "outputs": [],
   "source": [
    "# swap variable formulas without using 3ed variable\n",
    "a2 = a2 + b2 # 5+6 = 11\n",
    "b2 = a2 - b2 # 11-6 = 5\n",
    "a2 = a2 - b2  # 11 - 5 = 6"
   ]
  },
  {
   "cell_type": "code",
   "execution_count": 35,
   "id": "83bcfa8e-72e4-43b1-af11-e3b50e4ad94a",
   "metadata": {},
   "outputs": [
    {
     "name": "stdout",
     "output_type": "stream",
     "text": [
      "6\n",
      "5\n"
     ]
    }
   ],
   "source": [
    "print(a2)\n",
    "print(b2)"
   ]
  },
  {
   "cell_type": "markdown",
   "id": "29178453-051e-4dd5-8961-fc977fec63e0",
   "metadata": {},
   "source": [
    "We got desired output now  \n",
    "swaping done "
   ]
  },
  {
   "cell_type": "markdown",
   "id": "f5fe4806-7498-491b-a431-5c41a1152e83",
   "metadata": {},
   "source": [
    "### BEST METHOD TO SWAP "
   ]
  },
  {
   "cell_type": "markdown",
   "id": "898881e5-6341-463b-9224-3b041e8621bc",
   "metadata": {},
   "source": [
    "Behind this method ROT_TWO() Concept is applied. Swaps the two topmost stack items\n",
    "\n",
    "+ internally it uses the rotational concept"
   ]
  },
  {
   "cell_type": "code",
   "execution_count": 39,
   "id": "836eaf5a-436a-42c3-a6f6-dd7069ab15f1",
   "metadata": {},
   "outputs": [
    {
     "data": {
      "text/plain": [
       "(6, 5)"
      ]
     },
     "execution_count": 39,
     "metadata": {},
     "output_type": "execute_result"
    }
   ],
   "source": [
    "a2, b2"
   ]
  },
  {
   "cell_type": "code",
   "execution_count": 41,
   "id": "49e97705-9de2-4a95-8984-97be3f9d52c6",
   "metadata": {},
   "outputs": [],
   "source": [
    "a2 , b2 = b2 , a2"
   ]
  },
  {
   "cell_type": "code",
   "execution_count": 43,
   "id": "1dca006f-c86d-4f77-823b-2fce251c18f2",
   "metadata": {},
   "outputs": [
    {
     "name": "stdout",
     "output_type": "stream",
     "text": [
      "5\n",
      "6\n"
     ]
    }
   ],
   "source": [
    "print(a2)\n",
    "print(b2)"
   ]
  }
 ],
 "metadata": {
  "kernelspec": {
   "display_name": "Python [conda env:base] *",
   "language": "python",
   "name": "conda-base-py"
  },
  "language_info": {
   "codemirror_mode": {
    "name": "ipython",
    "version": 3
   },
   "file_extension": ".py",
   "mimetype": "text/x-python",
   "name": "python",
   "nbconvert_exporter": "python",
   "pygments_lexer": "ipython3",
   "version": "3.12.4"
  }
 },
 "nbformat": 4,
 "nbformat_minor": 5
}
