{
 "cells": [
  {
   "cell_type": "markdown",
   "id": "3cd3cecc-3de7-4358-958b-0388e147c26b",
   "metadata": {},
   "source": [
    "# SET & DICTIONARY"
   ]
  },
  {
   "cell_type": "markdown",
   "id": "73f47e61-0529-41f0-b390-b02e7e7bc026",
   "metadata": {},
   "source": [
    "SET & DICT both are denoted with {}"
   ]
  },
  {
   "cell_type": "markdown",
   "id": "6bf578d2-cf33-4d83-bf4f-23a605082c6b",
   "metadata": {},
   "source": [
    "{} -- bydefault it is dictionary"
   ]
  },
  {
   "cell_type": "markdown",
   "id": "0ad0f331-3c65-4e18-a4dd-23ce48db8876",
   "metadata": {},
   "source": [
    "If we create set() & then we work {} it becomes set ."
   ]
  },
  {
   "cell_type": "code",
   "execution_count": 17,
   "id": "843acec6-ebcb-49cf-a304-07aac3d51f53",
   "metadata": {},
   "outputs": [
    {
     "data": {
      "text/plain": [
       "dict"
      ]
     },
     "execution_count": 17,
     "metadata": {},
     "output_type": "execute_result"
    }
   ],
   "source": [
    "s = {} #Empty \n",
    "type(s)"
   ]
  },
  {
   "cell_type": "code",
   "execution_count": 19,
   "id": "cc7918b9-93c2-4117-9e57-98df0ff803f3",
   "metadata": {},
   "outputs": [
    {
     "data": {
      "text/plain": [
       "set()"
      ]
     },
     "execution_count": 19,
     "metadata": {},
     "output_type": "execute_result"
    }
   ],
   "source": [
    "s1 = set() #Empty SET\n",
    "s1"
   ]
  },
  {
   "cell_type": "code",
   "execution_count": 21,
   "id": "8ff11f82-295c-4a82-9af6-068dc67f94b2",
   "metadata": {},
   "outputs": [
    {
     "data": {
      "text/plain": [
       "{1, 3, 4, 32, 50, 90}"
      ]
     },
     "execution_count": 21,
     "metadata": {},
     "output_type": "execute_result"
    }
   ],
   "source": [
    "s1 = {90, 4 , 50 , 32 , 3 , 1}\n",
    "s1"
   ]
  },
  {
   "cell_type": "code",
   "execution_count": 27,
   "id": "d2f6ce2c-c8fb-45f0-bdaa-981060a53fd5",
   "metadata": {},
   "outputs": [
    {
     "data": {
      "text/plain": [
       "set"
      ]
     },
     "execution_count": 27,
     "metadata": {},
     "output_type": "execute_result"
    }
   ],
   "source": [
    "type(s1)"
   ]
  },
  {
   "cell_type": "markdown",
   "id": "7314ff3f-e1b4-4711-94c4-525732de353f",
   "metadata": {},
   "source": [
    "1. If you define random number IN SET (all are similar datatype)\n",
    "2. SET : SET is ORDERED and Non ORDERES"
   ]
  },
  {
   "cell_type": "code",
   "execution_count": 29,
   "id": "d9d1c58a-2c89-4d64-883e-9a863352e542",
   "metadata": {},
   "outputs": [
    {
     "data": {
      "text/plain": [
       "{'a', 'd', 'm', 'o', 'z'}"
      ]
     },
     "execution_count": 29,
     "metadata": {},
     "output_type": "execute_result"
    }
   ],
   "source": [
    "s2 = {'z' , 'm' , 'a' , 'o' , 'd'}\n",
    "s2"
   ]
  },
  {
   "cell_type": "code",
   "execution_count": 31,
   "id": "e9cc5aab-c350-4a61-a5e4-27cebfaee072",
   "metadata": {},
   "outputs": [
    {
     "data": {
      "text/plain": [
       "set"
      ]
     },
     "execution_count": 31,
     "metadata": {},
     "output_type": "execute_result"
    }
   ],
   "source": [
    "type(s2)"
   ]
  },
  {
   "cell_type": "code",
   "execution_count": 33,
   "id": "db1b49a9-13d5-46c2-b720-80323b3c11db",
   "metadata": {},
   "outputs": [
    {
     "name": "stdout",
     "output_type": "stream",
     "text": [
      "{32, 1, 50, 3, 4, 90}\n",
      "{'z', 'd', 'o', 'a', 'm'}\n"
     ]
    }
   ],
   "source": [
    "print(s1)\n",
    "print(s2)"
   ]
  },
  {
   "cell_type": "code",
   "execution_count": 35,
   "id": "7eb70f99-4d2f-4c0c-853d-c185dbae916a",
   "metadata": {},
   "outputs": [
    {
     "data": {
      "text/plain": [
       "5"
      ]
     },
     "execution_count": 35,
     "metadata": {},
     "output_type": "execute_result"
    }
   ],
   "source": [
    "len(s2)"
   ]
  },
  {
   "cell_type": "code",
   "execution_count": 39,
   "id": "f2e4dc1d-8799-4e13-b905-64b0c0f0394a",
   "metadata": {},
   "outputs": [
    {
     "data": {
      "text/plain": [
       "{(1+2j), 1, 3.2, 'nit'}"
      ]
     },
     "execution_count": 39,
     "metadata": {},
     "output_type": "execute_result"
    }
   ],
   "source": [
    "s3 = {1, 3.2 ,'nit' , 1+2j , True}\n",
    "s3"
   ]
  },
  {
   "cell_type": "markdown",
   "id": "e59154ba-7126-46f3-9f9f-0aa64cfb1dbe",
   "metadata": {},
   "source": [
    "# FUNCTION of SET"
   ]
  },
  {
   "cell_type": "code",
   "execution_count": 44,
   "id": "01f4ba67-a21e-40fb-9f1d-ae450bccd7b5",
   "metadata": {},
   "outputs": [],
   "source": [
    "s1.add(1) # ADD FUNCTION"
   ]
  },
  {
   "cell_type": "code",
   "execution_count": 46,
   "id": "014c44b1-a5f7-4551-a0f1-34c058ad5e53",
   "metadata": {},
   "outputs": [
    {
     "data": {
      "text/plain": [
       "{1, 3, 4, 32, 50, 90}"
      ]
     },
     "execution_count": 46,
     "metadata": {},
     "output_type": "execute_result"
    }
   ],
   "source": [
    "s1"
   ]
  },
  {
   "cell_type": "markdown",
   "id": "ee8a7ebb-19b8-452a-8c17-75d32778cdf9",
   "metadata": {},
   "source": [
    "In SET **DUPLICATE** is not allowed"
   ]
  },
  {
   "cell_type": "code",
   "execution_count": 52,
   "id": "0214ccb1-f7b3-4a3e-ac05-982cc95f3771",
   "metadata": {},
   "outputs": [
    {
     "data": {
      "text/plain": [
       "{1, 3, 4, 32, 50, 90, 100}"
      ]
     },
     "execution_count": 52,
     "metadata": {},
     "output_type": "execute_result"
    }
   ],
   "source": [
    "s1.add(100)\n",
    "s1"
   ]
  },
  {
   "cell_type": "code",
   "execution_count": 54,
   "id": "bf677dc9-df32-43d3-b9bf-f8b73d599c49",
   "metadata": {},
   "outputs": [
    {
     "data": {
      "text/plain": [
       "{1, 3, 4, 5, 32, 50, 90, 100}"
      ]
     },
     "execution_count": 54,
     "metadata": {},
     "output_type": "execute_result"
    }
   ],
   "source": [
    "s1.add(5)\n",
    "s1"
   ]
  },
  {
   "cell_type": "code",
   "execution_count": 56,
   "id": "241d46e2-a026-4666-b66b-1c851eeb0450",
   "metadata": {},
   "outputs": [
    {
     "name": "stdout",
     "output_type": "stream",
     "text": [
      "{32, 1, 50, 3, 4, 100, 5, 90}\n"
     ]
    }
   ],
   "source": [
    "print(s1)"
   ]
  },
  {
   "cell_type": "code",
   "execution_count": 58,
   "id": "182b828a-f5ce-4a10-8573-f1f099ebb259",
   "metadata": {},
   "outputs": [
    {
     "data": {
      "text/plain": [
       "{(1+2j), 1, 3.2, 'nit'}"
      ]
     },
     "execution_count": 58,
     "metadata": {},
     "output_type": "execute_result"
    }
   ],
   "source": [
    "s3"
   ]
  },
  {
   "cell_type": "code",
   "execution_count": 72,
   "id": "835a0c75-0b87-421a-8e21-905e358b94a5",
   "metadata": {},
   "outputs": [],
   "source": [
    "s3.clear() # CLEAR FUNCTION"
   ]
  },
  {
   "cell_type": "code",
   "execution_count": 62,
   "id": "dada46be-044e-49f1-9db6-98f7040dd52c",
   "metadata": {},
   "outputs": [
    {
     "data": {
      "text/plain": [
       "set()"
      ]
     },
     "execution_count": 62,
     "metadata": {},
     "output_type": "execute_result"
    }
   ],
   "source": [
    "s3"
   ]
  },
  {
   "cell_type": "code",
   "execution_count": 74,
   "id": "651f52c1-2d2d-4a95-bf41-a1528241a293",
   "metadata": {},
   "outputs": [
    {
     "data": {
      "text/plain": [
       "{1, 3, 4, 5, 32, 50, 90, 100}"
      ]
     },
     "execution_count": 74,
     "metadata": {},
     "output_type": "execute_result"
    }
   ],
   "source": [
    "s4 = s1.copy() # COPY FUNCTION\n",
    "s4"
   ]
  },
  {
   "cell_type": "code",
   "execution_count": 76,
   "id": "57caed6d-6e1a-4baa-9239-e6c16f74f049",
   "metadata": {},
   "outputs": [
    {
     "data": {
      "text/plain": [
       "{1, 3, 4, 5, 32, 50, 90, 100}"
      ]
     },
     "execution_count": 76,
     "metadata": {},
     "output_type": "execute_result"
    }
   ],
   "source": [
    "s1"
   ]
  },
  {
   "cell_type": "code",
   "execution_count": 78,
   "id": "5085983e-fdd1-4617-a9c1-8e08bae0f8c6",
   "metadata": {},
   "outputs": [
    {
     "ename": "TypeError",
     "evalue": "'set' object is not subscriptable",
     "output_type": "error",
     "traceback": [
      "\u001b[1;31m---------------------------------------------------------------------------\u001b[0m",
      "\u001b[1;31mTypeError\u001b[0m                                 Traceback (most recent call last)",
      "Cell \u001b[1;32mIn[78], line 1\u001b[0m\n\u001b[1;32m----> 1\u001b[0m s1[\u001b[38;5;241m0\u001b[39m]\n",
      "\u001b[1;31mTypeError\u001b[0m: 'set' object is not subscriptable"
     ]
    }
   ],
   "source": [
    "s1[0]"
   ]
  },
  {
   "cell_type": "markdown",
   "id": "96a10619-8a81-4d0e-922e-44e579a2a6bc",
   "metadata": {},
   "source": [
    "### Indexing & SLicing are not allowed in SET"
   ]
  },
  {
   "cell_type": "code",
   "execution_count": 84,
   "id": "c7eeee99-6422-442e-b3da-4f8056296367",
   "metadata": {},
   "outputs": [
    {
     "data": {
      "text/plain": [
       "{1, 3, 4, 5, 32, 50, 90, 100}"
      ]
     },
     "execution_count": 84,
     "metadata": {},
     "output_type": "execute_result"
    }
   ],
   "source": [
    "s1"
   ]
  },
  {
   "cell_type": "code",
   "execution_count": 88,
   "id": "961ba9dd-2083-43a5-bb1e-b0b76d45f68b",
   "metadata": {},
   "outputs": [
    {
     "data": {
      "text/plain": [
       "1"
      ]
     },
     "execution_count": 88,
     "metadata": {},
     "output_type": "execute_result"
    }
   ],
   "source": [
    "s1.pop() # POP FUNCTION"
   ]
  },
  {
   "cell_type": "markdown",
   "id": "4f7f8dc9-bbff-4a51-9fbf-406afc6de2a3",
   "metadata": {},
   "source": [
    "### POP Function POP's Random numbers "
   ]
  },
  {
   "cell_type": "code",
   "execution_count": 91,
   "id": "2dbd2214-a2ae-4aa7-b32e-15290f572cbd",
   "metadata": {},
   "outputs": [
    {
     "ename": "TypeError",
     "evalue": "set.pop() takes no arguments (1 given)",
     "output_type": "error",
     "traceback": [
      "\u001b[1;31m---------------------------------------------------------------------------\u001b[0m",
      "\u001b[1;31mTypeError\u001b[0m                                 Traceback (most recent call last)",
      "Cell \u001b[1;32mIn[91], line 1\u001b[0m\n\u001b[1;32m----> 1\u001b[0m s1\u001b[38;5;241m.\u001b[39mpop(\u001b[38;5;241m0\u001b[39m)\n",
      "\u001b[1;31mTypeError\u001b[0m: set.pop() takes no arguments (1 given)"
     ]
    }
   ],
   "source": [
    "s1.pop(0)"
   ]
  },
  {
   "cell_type": "code",
   "execution_count": 93,
   "id": "04956e46-60a5-46bf-9e64-552af333de28",
   "metadata": {},
   "outputs": [
    {
     "data": {
      "text/plain": [
       "{3, 4, 5, 50, 90, 100}"
      ]
     },
     "execution_count": 93,
     "metadata": {},
     "output_type": "execute_result"
    }
   ],
   "source": [
    "s1"
   ]
  },
  {
   "cell_type": "code",
   "execution_count": 103,
   "id": "3552dd4a-1260-407b-b02b-5ff7a51a1cc7",
   "metadata": {},
   "outputs": [
    {
     "data": {
      "text/plain": [
       "{3, 50, 90, 100}"
      ]
     },
     "execution_count": 103,
     "metadata": {},
     "output_type": "execute_result"
    }
   ],
   "source": [
    "s1.remove(5) # REMOVE FUNCTION\n",
    "s1"
   ]
  },
  {
   "cell_type": "code",
   "execution_count": 101,
   "id": "2b4e7b13-6a1d-4e5f-859a-bcd4f3ff8c08",
   "metadata": {},
   "outputs": [
    {
     "ename": "KeyError",
     "evalue": "1000",
     "output_type": "error",
     "traceback": [
      "\u001b[1;31m---------------------------------------------------------------------------\u001b[0m",
      "\u001b[1;31mKeyError\u001b[0m                                  Traceback (most recent call last)",
      "Cell \u001b[1;32mIn[101], line 1\u001b[0m\n\u001b[1;32m----> 1\u001b[0m s1\u001b[38;5;241m.\u001b[39mremove(\u001b[38;5;241m1000\u001b[39m)\n\u001b[0;32m      2\u001b[0m s1\n",
      "\u001b[1;31mKeyError\u001b[0m: 1000"
     ]
    }
   ],
   "source": [
    "s1.remove(1000)\n",
    "s1"
   ]
  },
  {
   "cell_type": "code",
   "execution_count": 115,
   "id": "c3eaab94-f0e0-4eac-88d2-ea6e338dc1d4",
   "metadata": {},
   "outputs": [],
   "source": [
    "s1.discard(1000) # DISCARD FUNCTION"
   ]
  },
  {
   "cell_type": "code",
   "execution_count": 105,
   "id": "99dcb5e4-3f19-49b1-8506-4432d2900c92",
   "metadata": {},
   "outputs": [],
   "source": [
    "s1.discard(3)"
   ]
  },
  {
   "cell_type": "code",
   "execution_count": 107,
   "id": "246bfff1-163c-4777-809a-76f0ed4623d6",
   "metadata": {},
   "outputs": [
    {
     "data": {
      "text/plain": [
       "{50, 90, 100}"
      ]
     },
     "execution_count": 107,
     "metadata": {},
     "output_type": "execute_result"
    }
   ],
   "source": [
    "s1"
   ]
  },
  {
   "cell_type": "markdown",
   "id": "69e4516d-2083-4e49-bb8a-620ceeba7fda",
   "metadata": {},
   "source": [
    "### remove() - remove the element if element is memeber, not memeber then through an error"
   ]
  },
  {
   "cell_type": "markdown",
   "id": "b42976d4-0b14-4d2e-8724-3757f9c82f0e",
   "metadata": {},
   "source": [
    "### discard() - remove the element if element is memeber , not member never show you the error "
   ]
  },
  {
   "cell_type": "code",
   "execution_count": 113,
   "id": "39e967ce-227c-45bb-a624-92db07c3fd66",
   "metadata": {},
   "outputs": [
    {
     "data": {
      "text/plain": [
       "{50, 90, 100, 1000}"
      ]
     },
     "execution_count": 113,
     "metadata": {},
     "output_type": "execute_result"
    }
   ],
   "source": [
    "s1.add(1000)\n",
    "s1"
   ]
  },
  {
   "cell_type": "markdown",
   "id": "7b8116f8-f491-4f5d-afe1-6a2631a28bce",
   "metadata": {},
   "source": [
    "# SET OPERATIONS"
   ]
  },
  {
   "cell_type": "markdown",
   "id": "59325b80-d783-4171-92c7-18f5a19e6c94",
   "metadata": {},
   "source": [
    "1. union\n",
    "2. intersect\n",
    "3. difference\n",
    "4. symmetric difference\n",
    "5. "
   ]
  },
  {
   "cell_type": "markdown",
   "id": "a68ea2fd-ce83-4b03-ab59-328c748db6bc",
   "metadata": {},
   "source": [
    "## 1) UNION"
   ]
  },
  {
   "cell_type": "code",
   "execution_count": 119,
   "id": "881512a1-0886-4abf-b7e4-3b195179f09a",
   "metadata": {},
   "outputs": [],
   "source": [
    "a = {1,2,3,4,5}\n",
    "b = {4,5,6,7,8}\n",
    "c = {8,9,10}"
   ]
  },
  {
   "cell_type": "code",
   "execution_count": 121,
   "id": "e8bfaa37-a79a-4e68-980b-b52aff5a4bef",
   "metadata": {},
   "outputs": [
    {
     "data": {
      "text/plain": [
       "{1, 2, 3, 4, 5, 6, 7, 8}"
      ]
     },
     "execution_count": 121,
     "metadata": {},
     "output_type": "execute_result"
    }
   ],
   "source": [
    "a.union(b) # UNION SET OPERATION"
   ]
  },
  {
   "cell_type": "code",
   "execution_count": 123,
   "id": "79c95478-79a9-4c21-862d-2bf47b4c4a16",
   "metadata": {},
   "outputs": [
    {
     "data": {
      "text/plain": [
       "{1, 2, 3, 4, 5, 6, 7, 8, 9, 10}"
      ]
     },
     "execution_count": 123,
     "metadata": {},
     "output_type": "execute_result"
    }
   ],
   "source": [
    "a.union(b,c) "
   ]
  },
  {
   "cell_type": "markdown",
   "id": "75ea4b44-3316-4bbe-901b-2078c2459284",
   "metadata": {},
   "source": [
    "#### union symbol = |"
   ]
  },
  {
   "cell_type": "code",
   "execution_count": 126,
   "id": "da189a0f-d5fe-4b4e-9957-e20d22fe04de",
   "metadata": {},
   "outputs": [
    {
     "data": {
      "text/plain": [
       "{1, 2, 3, 4, 5, 6, 7, 8}"
      ]
     },
     "execution_count": 126,
     "metadata": {},
     "output_type": "execute_result"
    }
   ],
   "source": [
    "a.union(b)"
   ]
  },
  {
   "cell_type": "code",
   "execution_count": 128,
   "id": "83823200-c6d0-4e87-a03b-ff297313b5ca",
   "metadata": {},
   "outputs": [
    {
     "data": {
      "text/plain": [
       "{1, 2, 3, 4, 5, 6, 7, 8}"
      ]
     },
     "execution_count": 128,
     "metadata": {},
     "output_type": "execute_result"
    }
   ],
   "source": [
    "a | b"
   ]
  },
  {
   "cell_type": "code",
   "execution_count": 130,
   "id": "1683cdb2-5e4d-4506-b0f3-87ad6419bf13",
   "metadata": {},
   "outputs": [
    {
     "data": {
      "text/plain": [
       "{1, 2, 3, 4, 5, 6, 7, 8, 9, 10}"
      ]
     },
     "execution_count": 130,
     "metadata": {},
     "output_type": "execute_result"
    }
   ],
   "source": [
    "a | b | c"
   ]
  },
  {
   "cell_type": "markdown",
   "id": "bf06f5a1-1f7e-4a3a-9fe1-156d0afea29c",
   "metadata": {},
   "source": [
    "## 2) INTERSECTION"
   ]
  },
  {
   "cell_type": "code",
   "execution_count": 133,
   "id": "d2f131bb-d9ce-4128-8805-44b8626073f8",
   "metadata": {},
   "outputs": [
    {
     "data": {
      "text/plain": [
       "{4, 5}"
      ]
     },
     "execution_count": 133,
     "metadata": {},
     "output_type": "execute_result"
    }
   ],
   "source": [
    "a.intersection(b)"
   ]
  },
  {
   "cell_type": "code",
   "execution_count": 135,
   "id": "b692ca42-02cf-4efd-bd4c-f799a860320c",
   "metadata": {},
   "outputs": [
    {
     "data": {
      "text/plain": [
       "set()"
      ]
     },
     "execution_count": 135,
     "metadata": {},
     "output_type": "execute_result"
    }
   ],
   "source": [
    "a.intersection(c)"
   ]
  },
  {
   "cell_type": "markdown",
   "id": "1e3b8bcd-ff02-4808-b2c7-c9a04da7410c",
   "metadata": {},
   "source": [
    "#### Intersection symbol = &"
   ]
  },
  {
   "cell_type": "code",
   "execution_count": 141,
   "id": "75658a99-8d31-4f2d-af8a-a57d12e02ba2",
   "metadata": {},
   "outputs": [
    {
     "data": {
      "text/plain": [
       "{4, 5}"
      ]
     },
     "execution_count": 141,
     "metadata": {},
     "output_type": "execute_result"
    }
   ],
   "source": [
    "a & b"
   ]
  },
  {
   "cell_type": "markdown",
   "id": "2b7bfbc9-6cce-4d41-8c2a-0491bc4ae8ba",
   "metadata": {},
   "source": [
    "## 3) DIFFERENCE"
   ]
  },
  {
   "cell_type": "code",
   "execution_count": 148,
   "id": "9b51baa3-1beb-40f7-b1c5-16401b6929b9",
   "metadata": {},
   "outputs": [
    {
     "name": "stdout",
     "output_type": "stream",
     "text": [
      "{1, 2, 3, 4, 5}\n",
      "{4, 5, 6, 7, 8}\n",
      "{8, 9, 10}\n"
     ]
    }
   ],
   "source": [
    "print(a)\n",
    "print(b)\n",
    "print(c)"
   ]
  },
  {
   "cell_type": "code",
   "execution_count": 150,
   "id": "47536a09-8db4-4783-8b38-31d1e7cb97d8",
   "metadata": {},
   "outputs": [
    {
     "data": {
      "text/plain": [
       "{1, 2, 3}"
      ]
     },
     "execution_count": 150,
     "metadata": {},
     "output_type": "execute_result"
    }
   ],
   "source": [
    "a.difference(b)"
   ]
  },
  {
   "cell_type": "code",
   "execution_count": 152,
   "id": "dd0ced97-6370-4e87-9fd9-b3e003708722",
   "metadata": {},
   "outputs": [
    {
     "data": {
      "text/plain": [
       "{6, 7, 8}"
      ]
     },
     "execution_count": 152,
     "metadata": {},
     "output_type": "execute_result"
    }
   ],
   "source": [
    "b.difference(a)"
   ]
  },
  {
   "cell_type": "markdown",
   "id": "8d2858ad-9c15-4d9c-a175-0617dff111ed",
   "metadata": {},
   "source": [
    "#### Difference symbol = -"
   ]
  },
  {
   "cell_type": "code",
   "execution_count": 155,
   "id": "b84884c2-ee36-4d1c-9148-a5b0dac55be8",
   "metadata": {},
   "outputs": [
    {
     "data": {
      "text/plain": [
       "{4, 5, 6, 7}"
      ]
     },
     "execution_count": 155,
     "metadata": {},
     "output_type": "execute_result"
    }
   ],
   "source": [
    "b - c "
   ]
  },
  {
   "cell_type": "markdown",
   "id": "b8b0aae0-e722-4374-8fed-c73d4964ec8a",
   "metadata": {},
   "source": [
    "## 4) Difference Update  "
   ]
  },
  {
   "cell_type": "code",
   "execution_count": 166,
   "id": "390ff9dc-47b8-4182-b430-4d719e55dce3",
   "metadata": {},
   "outputs": [
    {
     "name": "stdout",
     "output_type": "stream",
     "text": [
      "{1, 2, 3, 4, 5}\n",
      "{4, 5, 6, 7, 8}\n",
      "{8, 9, 10}\n"
     ]
    }
   ],
   "source": [
    "print(a)\n",
    "print(b)\n",
    "print(c)"
   ]
  },
  {
   "cell_type": "code",
   "execution_count": 168,
   "id": "7f2ebd92-aeeb-4885-bea8-d4ae6836fa66",
   "metadata": {},
   "outputs": [],
   "source": [
    "b.difference_update(c) "
   ]
  },
  {
   "cell_type": "code",
   "execution_count": 170,
   "id": "bbe50d8b-f0cc-40b0-9105-eabc49aa7151",
   "metadata": {},
   "outputs": [
    {
     "data": {
      "text/plain": [
       "{4, 5, 6, 7}"
      ]
     },
     "execution_count": 170,
     "metadata": {},
     "output_type": "execute_result"
    }
   ],
   "source": [
    "b"
   ]
  },
  {
   "cell_type": "markdown",
   "id": "8db10a90-8292-444e-ac8b-c1b471f007cc",
   "metadata": {},
   "source": [
    "## 5) SYMMETRIC DIFFERENCE"
   ]
  },
  {
   "cell_type": "code",
   "execution_count": 173,
   "id": "e5af24a8-9ae2-45cc-8d38-7dff97e7cc4e",
   "metadata": {},
   "outputs": [
    {
     "name": "stdout",
     "output_type": "stream",
     "text": [
      "{1, 2, 3, 4, 5}\n",
      "{4, 5, 6, 7}\n",
      "{8, 9, 10}\n"
     ]
    }
   ],
   "source": [
    "print(a)\n",
    "print(b)\n",
    "print(c)"
   ]
  },
  {
   "cell_type": "code",
   "execution_count": 175,
   "id": "099f179c-3681-4487-a999-68e177bc6179",
   "metadata": {},
   "outputs": [
    {
     "data": {
      "text/plain": [
       "{1, 2, 3, 6, 7}"
      ]
     },
     "execution_count": 175,
     "metadata": {},
     "output_type": "execute_result"
    }
   ],
   "source": [
    "a.symmetric_difference(b) #COMMON REOMVED"
   ]
  },
  {
   "cell_type": "markdown",
   "id": "f944173e-c6e8-4212-afb8-ee3ac0e197dc",
   "metadata": {},
   "source": [
    "#### SYMMETRIC DIFFERENCE symbol = ^"
   ]
  },
  {
   "cell_type": "code",
   "execution_count": 178,
   "id": "e0072958-fcaa-4d2e-aa9c-9ab07679de68",
   "metadata": {},
   "outputs": [
    {
     "data": {
      "text/plain": [
       "{1, 2, 3, 6, 7}"
      ]
     },
     "execution_count": 178,
     "metadata": {},
     "output_type": "execute_result"
    }
   ],
   "source": [
    "a^b"
   ]
  },
  {
   "cell_type": "markdown",
   "id": "2396a44c-62af-43c4-8f0a-1fe4ee9d50a4",
   "metadata": {},
   "source": [
    "# Superset, Subset, Disjoint"
   ]
  },
  {
   "cell_type": "markdown",
   "id": "a2c6b576-c7b5-4c5f-88cf-390d7d6a07d8",
   "metadata": {},
   "source": [
    "1. Superset -- DAD\n",
    "2. Subset -- SON\n",
    "3. Disjoint -- Neighbour"
   ]
  },
  {
   "cell_type": "code",
   "execution_count": 3,
   "id": "b516cbb8-dd9d-4e05-9af6-b279792c2715",
   "metadata": {},
   "outputs": [],
   "source": [
    "a1 = {1,2,3,4,5,6,7,8,9}\n",
    "b1 = {3,4,5,6,7,8}\n",
    "c1 = {10,20,30,40}"
   ]
  },
  {
   "cell_type": "code",
   "execution_count": 5,
   "id": "cc626053-b0c9-4a52-b617-c53ee86ab217",
   "metadata": {},
   "outputs": [
    {
     "data": {
      "text/plain": [
       "True"
      ]
     },
     "execution_count": 5,
     "metadata": {},
     "output_type": "execute_result"
    }
   ],
   "source": [
    "a1.issuperset(b1) "
   ]
  },
  {
   "cell_type": "code",
   "execution_count": 7,
   "id": "c3e5b96a-b81e-4072-a1cb-65d4c30c40d1",
   "metadata": {},
   "outputs": [
    {
     "data": {
      "text/plain": [
       "True"
      ]
     },
     "execution_count": 7,
     "metadata": {},
     "output_type": "execute_result"
    }
   ],
   "source": [
    "b1.issubset(b1)"
   ]
  },
  {
   "cell_type": "code",
   "execution_count": 9,
   "id": "89d55e65-018d-413d-a896-d7cd3b190a99",
   "metadata": {},
   "outputs": [
    {
     "data": {
      "text/plain": [
       "True"
      ]
     },
     "execution_count": 9,
     "metadata": {},
     "output_type": "execute_result"
    }
   ],
   "source": [
    "c1.isdisjoint(a1) # No Connection with a1"
   ]
  },
  {
   "cell_type": "code",
   "execution_count": 11,
   "id": "d321b7b9-0ec4-4718-99c3-55a4ed99f13b",
   "metadata": {},
   "outputs": [
    {
     "data": {
      "text/plain": [
       "False"
      ]
     },
     "execution_count": 11,
     "metadata": {},
     "output_type": "execute_result"
    }
   ],
   "source": [
    "b1.isdisjoint(a1)"
   ]
  },
  {
   "cell_type": "code",
   "execution_count": 13,
   "id": "74e69aca-0044-4778-92bb-10cd2cfd6ad2",
   "metadata": {},
   "outputs": [
    {
     "data": {
      "text/plain": [
       "True"
      ]
     },
     "execution_count": 13,
     "metadata": {},
     "output_type": "execute_result"
    }
   ],
   "source": [
    "b1.isdisjoint(c1)"
   ]
  },
  {
   "cell_type": "code",
   "execution_count": 15,
   "id": "e57890d7-f26a-4574-a8bc-fc583fa86fc9",
   "metadata": {},
   "outputs": [],
   "source": [
    "a2 = {1,2,3,4,5,6,7,8,9}\n",
    "b2 = {35,45,55,65,75,58}\n",
    "c2 = {10,20,30,40}"
   ]
  },
  {
   "cell_type": "code",
   "execution_count": 17,
   "id": "3da6d454-9658-4369-8f1c-cc8aec592051",
   "metadata": {},
   "outputs": [
    {
     "data": {
      "text/plain": [
       "True"
      ]
     },
     "execution_count": 17,
     "metadata": {},
     "output_type": "execute_result"
    }
   ],
   "source": [
    "a2.isdisjoint(b2)"
   ]
  },
  {
   "cell_type": "code",
   "execution_count": 19,
   "id": "925d9fbd-eb71-4f5b-b4ee-dbb2389267ab",
   "metadata": {},
   "outputs": [
    {
     "data": {
      "text/plain": [
       "False"
      ]
     },
     "execution_count": 19,
     "metadata": {},
     "output_type": "execute_result"
    }
   ],
   "source": [
    "a2.issubset(b2)"
   ]
  },
  {
   "cell_type": "markdown",
   "id": "5da1c4bc-5bb8-4b41-b5f4-f8befecf3824",
   "metadata": {},
   "source": [
    "### OTHER BUILDIN FUNCTION"
   ]
  },
  {
   "cell_type": "code",
   "execution_count": 2,
   "id": "3258989d-6394-4572-8982-ceb623133d21",
   "metadata": {},
   "outputs": [],
   "source": [
    "A = {1,2,3,4,5,6,7,8,9}\n",
    "B = {3,4,5,6,7,8}\n",
    "C = {10,20,30,40}"
   ]
  },
  {
   "cell_type": "code",
   "execution_count": 4,
   "id": "0e2f7efe-6657-4f39-8629-d07cf83b9634",
   "metadata": {},
   "outputs": [
    {
     "data": {
      "text/plain": [
       "{1, 2, 3, 4, 5, 6, 7, 8, 9}"
      ]
     },
     "execution_count": 4,
     "metadata": {},
     "output_type": "execute_result"
    }
   ],
   "source": [
    "A "
   ]
  },
  {
   "cell_type": "code",
   "execution_count": 6,
   "id": "90f0a5ab-aee6-4e0a-9a75-b863b4802772",
   "metadata": {},
   "outputs": [
    {
     "data": {
      "text/plain": [
       "45"
      ]
     },
     "execution_count": 6,
     "metadata": {},
     "output_type": "execute_result"
    }
   ],
   "source": [
    "sum(A)"
   ]
  },
  {
   "cell_type": "code",
   "execution_count": 9,
   "id": "329954d7-4088-47c6-9ceb-4498cbfb1fae",
   "metadata": {},
   "outputs": [
    {
     "data": {
      "text/plain": [
       "9"
      ]
     },
     "execution_count": 9,
     "metadata": {},
     "output_type": "execute_result"
    }
   ],
   "source": [
    "max(A)"
   ]
  },
  {
   "cell_type": "code",
   "execution_count": 12,
   "id": "4bdca74f-ea72-49cb-a710-bab8d3d6278a",
   "metadata": {},
   "outputs": [
    {
     "data": {
      "text/plain": [
       "1"
      ]
     },
     "execution_count": 12,
     "metadata": {},
     "output_type": "execute_result"
    }
   ],
   "source": [
    "min(A)"
   ]
  },
  {
   "cell_type": "code",
   "execution_count": 14,
   "id": "b3b281da-c142-4e4d-a4b5-8b584d8b8db8",
   "metadata": {},
   "outputs": [
    {
     "data": {
      "text/plain": [
       "9"
      ]
     },
     "execution_count": 14,
     "metadata": {},
     "output_type": "execute_result"
    }
   ],
   "source": [
    "len(A)"
   ]
  },
  {
   "cell_type": "code",
   "execution_count": 17,
   "id": "1ceba638-fa4e-486d-b4c6-cd121332e64a",
   "metadata": {},
   "outputs": [
    {
     "data": {
      "text/plain": [
       "[(0, 1), (1, 2), (2, 3), (3, 4), (4, 5), (5, 6), (6, 7), (7, 8), (8, 9)]"
      ]
     },
     "execution_count": 17,
     "metadata": {},
     "output_type": "execute_result"
    }
   ],
   "source": [
    "list(enumerate(A))"
   ]
  },
  {
   "cell_type": "code",
   "execution_count": 19,
   "id": "8e8e2159-8276-4ba3-8cd1-625c8ebb5625",
   "metadata": {},
   "outputs": [
    {
     "data": {
      "text/plain": [
       "[9, 8, 7, 6, 5, 4, 3, 2, 1]"
      ]
     },
     "execution_count": 19,
     "metadata": {},
     "output_type": "execute_result"
    }
   ],
   "source": [
    "D = sorted(A,reverse=True)\n",
    "D"
   ]
  },
  {
   "cell_type": "code",
   "execution_count": 21,
   "id": "cd25b8df-2626-4785-93a5-dfd703f12f59",
   "metadata": {},
   "outputs": [
    {
     "data": {
      "text/plain": [
       "[1, 2, 3, 4, 5, 6, 7, 8, 9]"
      ]
     },
     "execution_count": 21,
     "metadata": {},
     "output_type": "execute_result"
    }
   ],
   "source": [
    "sorted(D)"
   ]
  },
  {
   "cell_type": "markdown",
   "id": "cd45ed37-7b61-43ec-8a5a-151d094e95fe",
   "metadata": {},
   "source": [
    "# DICTIONARY"
   ]
  },
  {
   "cell_type": "markdown",
   "id": "a6fad82a-cb1a-4a83-9fba-fd4af1d3806f",
   "metadata": {},
   "source": [
    "Dictionary the value is stored in **Key : Value** pair "
   ]
  },
  {
   "cell_type": "markdown",
   "id": "7a6b60a1-3e75-401d-87be-363b56e2c9f0",
   "metadata": {},
   "source": [
    "In dictionary -- more priority will goes to **Keys**, Values can be duplicates but key can't be duplicate "
   ]
  },
  {
   "cell_type": "markdown",
   "id": "6650a589-b8bf-4117-a907-6a0254b52a52",
   "metadata": {},
   "source": [
    "Dict is **MUTABLE**"
   ]
  },
  {
   "cell_type": "code",
   "execution_count": 28,
   "id": "7052a5ed-e499-4f9c-a211-234053a2ac8e",
   "metadata": {},
   "outputs": [
    {
     "data": {
      "text/plain": [
       "{}"
      ]
     },
     "execution_count": 28,
     "metadata": {},
     "output_type": "execute_result"
    }
   ],
   "source": [
    "d = {}\n",
    "d"
   ]
  },
  {
   "cell_type": "code",
   "execution_count": 30,
   "id": "9f63b271-082e-4ee5-aac8-4362a1dd112e",
   "metadata": {},
   "outputs": [
    {
     "data": {
      "text/plain": [
       "dict"
      ]
     },
     "execution_count": 30,
     "metadata": {},
     "output_type": "execute_result"
    }
   ],
   "source": [
    "type(d)"
   ]
  },
  {
   "cell_type": "code",
   "execution_count": 42,
   "id": "99b7fb49-57a8-4f7d-8d94-0420f58fdf38",
   "metadata": {},
   "outputs": [
    {
     "data": {
      "text/plain": [
       "{1: 'one', 2: 'two', 3: 'three'}"
      ]
     },
     "execution_count": 42,
     "metadata": {},
     "output_type": "execute_result"
    }
   ],
   "source": [
    "d1 = {1:'one' , 2:'two' , 3:'three'}\n",
    "d1"
   ]
  },
  {
   "cell_type": "code",
   "execution_count": 39,
   "id": "90123c3c-459d-4ef8-a30d-bb9c4542e4a2",
   "metadata": {},
   "outputs": [
    {
     "data": {
      "text/plain": [
       "dict_keys([1, 2, 3])"
      ]
     },
     "execution_count": 39,
     "metadata": {},
     "output_type": "execute_result"
    }
   ],
   "source": [
    "d1.keys() # Return Dictionary Keys using keys() method"
   ]
  },
  {
   "cell_type": "code",
   "execution_count": 41,
   "id": "b46421c2-534c-46b2-9ca9-bdd49428cd16",
   "metadata": {},
   "outputs": [
    {
     "data": {
      "text/plain": [
       "dict_values(['one', 'two', 'three'])"
      ]
     },
     "execution_count": 41,
     "metadata": {},
     "output_type": "execute_result"
    }
   ],
   "source": [
    "d1.values() # Access each key-value pair within a dictionary"
   ]
  },
  {
   "cell_type": "code",
   "execution_count": 43,
   "id": "e6288327-d6b0-4ff8-91f0-9acc7d737809",
   "metadata": {},
   "outputs": [
    {
     "data": {
      "text/plain": [
       "dict_items([(1, 'one'), (2, 'two'), (3, 'three')])"
      ]
     },
     "execution_count": 43,
     "metadata": {},
     "output_type": "execute_result"
    }
   ],
   "source": [
    "d1.items() # Access each key-value pair within a dictionary"
   ]
  },
  {
   "cell_type": "code",
   "execution_count": 44,
   "id": "8dfebd13-067a-4b1e-9ebe-4d56387e9548",
   "metadata": {},
   "outputs": [
    {
     "ename": "KeyError",
     "evalue": "0",
     "output_type": "error",
     "traceback": [
      "\u001b[1;31m---------------------------------------------------------------------------\u001b[0m",
      "\u001b[1;31mKeyError\u001b[0m                                  Traceback (most recent call last)",
      "Cell \u001b[1;32mIn[44], line 1\u001b[0m\n\u001b[1;32m----> 1\u001b[0m d1[\u001b[38;5;241m0\u001b[39m]\n",
      "\u001b[1;31mKeyError\u001b[0m: 0"
     ]
    }
   ],
   "source": [
    "d1[0]"
   ]
  },
  {
   "cell_type": "markdown",
   "id": "26f8ca55-7ed1-441a-851a-73888c32f23d",
   "metadata": {},
   "source": [
    "#### Indeing is not Allowed insted of that call **KEYS**"
   ]
  },
  {
   "cell_type": "markdown",
   "id": "2bd7f673-e5d7-46ea-941d-2e5e3bd8fa13",
   "metadata": {},
   "source": [
    "## Accessing Items"
   ]
  },
  {
   "cell_type": "code",
   "execution_count": 46,
   "id": "392ab0c9-5534-438d-b9af-d6205ab51995",
   "metadata": {},
   "outputs": [
    {
     "data": {
      "text/plain": [
       "{1: 'one', 2: 'two', 3: 'three'}"
      ]
     },
     "execution_count": 46,
     "metadata": {},
     "output_type": "execute_result"
    }
   ],
   "source": [
    "d1"
   ]
  },
  {
   "cell_type": "code",
   "execution_count": 50,
   "id": "d6e84aa8-ac29-40e4-9cfb-68b03de1208c",
   "metadata": {},
   "outputs": [
    {
     "data": {
      "text/plain": [
       "'one'"
      ]
     },
     "execution_count": 50,
     "metadata": {},
     "output_type": "execute_result"
    }
   ],
   "source": [
    "d1.get(1)# Access item using get() method"
   ]
  },
  {
   "cell_type": "code",
   "execution_count": 52,
   "id": "2f90a082-8a8d-476c-b8a7-c56876aafdda",
   "metadata": {},
   "outputs": [
    {
     "data": {
      "text/plain": [
       "'two'"
      ]
     },
     "execution_count": 52,
     "metadata": {},
     "output_type": "execute_result"
    }
   ],
   "source": [
    "d1.get(2)"
   ]
  },
  {
   "cell_type": "code",
   "execution_count": 54,
   "id": "55941e91-c68a-4213-a465-52866951d7cc",
   "metadata": {},
   "outputs": [
    {
     "data": {
      "text/plain": [
       "'three'"
      ]
     },
     "execution_count": 54,
     "metadata": {},
     "output_type": "execute_result"
    }
   ],
   "source": [
    "d1.get(3)"
   ]
  },
  {
   "cell_type": "code",
   "execution_count": 50,
   "id": "341779b4-ae6a-4bef-904d-7d919fba3336",
   "metadata": {},
   "outputs": [],
   "source": [
    "d1.get(4) # there is no key for 4"
   ]
  },
  {
   "cell_type": "code",
   "execution_count": 54,
   "id": "30bf1a9f-0a05-4de3-b37f-14f9ee43bf7d",
   "metadata": {},
   "outputs": [
    {
     "data": {
      "text/plain": [
       "{'Name': 'Preet', 'ID': 74123, 'DOB': 1991, 'job': 'Analyst'}"
      ]
     },
     "execution_count": 54,
     "metadata": {},
     "output_type": "execute_result"
    }
   ],
   "source": [
    "mydict1 = {'Name':'Preet' , 'ID': 74123 , 'DOB': 1991 , 'job' :'Analyst'}\n",
    "mydict1"
   ]
  },
  {
   "cell_type": "code",
   "execution_count": 56,
   "id": "1d3cba19-480b-4cf5-bcdc-93bb94dc6587",
   "metadata": {},
   "outputs": [
    {
     "data": {
      "text/plain": [
       "'Preet'"
      ]
     },
     "execution_count": 56,
     "metadata": {},
     "output_type": "execute_result"
    }
   ],
   "source": [
    "mydict1['Name'] # Access item using key"
   ]
  },
  {
   "cell_type": "code",
   "execution_count": 58,
   "id": "cd343085-4306-439a-8b1e-8a7d8133845d",
   "metadata": {},
   "outputs": [
    {
     "data": {
      "text/plain": [
       "'Analyst'"
      ]
     },
     "execution_count": 58,
     "metadata": {},
     "output_type": "execute_result"
    }
   ],
   "source": [
    "mydict1.get('job') # Access item using get() method"
   ]
  },
  {
   "cell_type": "code",
   "execution_count": 58,
   "id": "6f9f48b2-bc58-44a1-a4bc-4a188dc415fe",
   "metadata": {},
   "outputs": [
    {
     "name": "stdout",
     "output_type": "stream",
     "text": [
      "1\n",
      "2\n",
      "3\n"
     ]
    }
   ],
   "source": [
    "for i in d1:\n",
    "    print(i)"
   ]
  },
  {
   "cell_type": "code",
   "execution_count": 60,
   "id": "0e16c123-b284-445c-ab67-e28a5e2a32e3",
   "metadata": {},
   "outputs": [
    {
     "name": "stdout",
     "output_type": "stream",
     "text": [
      "1 : one\n",
      "2 : two\n",
      "3 : three\n"
     ]
    }
   ],
   "source": [
    "for i in d1:\n",
    "    print(i , ':' , d1[i])"
   ]
  },
  {
   "cell_type": "code",
   "execution_count": 25,
   "id": "e8b09ffe-d093-4a52-826a-36cdf4f45642",
   "metadata": {},
   "outputs": [
    {
     "data": {
      "text/plain": [
       "{1: 'one',\n",
       " 2: 'two',\n",
       " 'A': ['preet', 'vaibhav', 'Mohit'],\n",
       " 'B': ('Bat', 'cat', 'hat')}"
      ]
     },
     "execution_count": 25,
     "metadata": {},
     "output_type": "execute_result"
    }
   ],
   "source": [
    "mydict = { 1:'one' , 2:'two' , 'A':['preet' , 'vaibhav' , 'Mohit'] , 'B':('Bat' , 'cat' , 'hat')}\n",
    "mydict"
   ]
  },
  {
   "cell_type": "code",
   "execution_count": 29,
   "id": "21444f2d-c623-454c-a033-2176f3cc525b",
   "metadata": {},
   "outputs": [
    {
     "data": {
      "text/plain": [
       "{'d': None, 'a': None, 'c': None, 'b': None}"
      ]
     },
     "execution_count": 29,
     "metadata": {},
     "output_type": "execute_result"
    }
   ],
   "source": [
    "keys = {'a' , 'b' , 'c' , 'd'}\n",
    "mydict3 = dict.fromkeys(keys)  # Create a dictionary from a sequence of keys\n",
    "mydict3"
   ]
  },
  {
   "cell_type": "code",
   "execution_count": 31,
   "id": "b4c6349d-66ea-4b38-be7b-fc7974f6f241",
   "metadata": {},
   "outputs": [
    {
     "data": {
      "text/plain": [
       "{'d': 10, 'a': 10, 'c': 10, 'b': 10}"
      ]
     },
     "execution_count": 31,
     "metadata": {},
     "output_type": "execute_result"
    }
   ],
   "source": [
    "keys = {'a' , 'b' , 'c' , 'd'}\n",
    "value = 10\n",
    "mydict3 = dict.fromkeys(keys , value) # Create a dictionary from a sequence of\n",
    "mydict3"
   ]
  },
  {
   "cell_type": "code",
   "execution_count": 33,
   "id": "722d6af3-0e79-4b9d-8be5-ce009aaf3c5c",
   "metadata": {},
   "outputs": [
    {
     "data": {
      "text/plain": [
       "{'d': [10, 20, 30], 'a': [10, 20, 30], 'c': [10, 20, 30], 'b': [10, 20, 30]}"
      ]
     },
     "execution_count": 33,
     "metadata": {},
     "output_type": "execute_result"
    }
   ],
   "source": [
    "keys = {'a' , 'b' , 'c' , 'd'}\n",
    "value = [10,20,30]\n",
    "mydict3 = dict.fromkeys(keys , value) # Create a dictionary from a sequence of\n",
    "mydict3"
   ]
  },
  {
   "cell_type": "code",
   "execution_count": 35,
   "id": "757e81b1-ab9d-4a0c-b7c0-bf00b96e46d3",
   "metadata": {},
   "outputs": [
    {
     "data": {
      "text/plain": [
       "{'d': [10, 20, 30, 40],\n",
       " 'a': [10, 20, 30, 40],\n",
       " 'c': [10, 20, 30, 40],\n",
       " 'b': [10, 20, 30, 40]}"
      ]
     },
     "execution_count": 35,
     "metadata": {},
     "output_type": "execute_result"
    }
   ],
   "source": [
    "value.append(40)\n",
    "mydict3"
   ]
  },
  {
   "cell_type": "markdown",
   "id": "ddbb8b07-b5cd-48f3-bdcb-f888ab692080",
   "metadata": {},
   "source": [
    "## Add, Remove & Change Items"
   ]
  },
  {
   "cell_type": "code",
   "execution_count": 90,
   "id": "a9acad92-7a6b-42e5-90f4-2c97f53aae81",
   "metadata": {},
   "outputs": [
    {
     "data": {
      "text/plain": [
       "{'Name': 'Preet', 'ID': 12345, 'DOB': 2002, 'Address': 'Indore'}"
      ]
     },
     "execution_count": 90,
     "metadata": {},
     "output_type": "execute_result"
    }
   ],
   "source": [
    "mydict1 = {'Name':'Preet' , 'ID': 12345 , 'DOB': 2002 , 'Address' : 'Indore'}\n",
    "mydict1"
   ]
  },
  {
   "cell_type": "code",
   "execution_count": 92,
   "id": "bd6473f7-f044-45fb-8ff9-b20a2fe7f8b8",
   "metadata": {},
   "outputs": [
    {
     "data": {
      "text/plain": [
       "{'Name': 'Preet', 'ID': 12345, 'DOB': 2002, 'Address': 'Bhopal'}"
      ]
     },
     "execution_count": 92,
     "metadata": {},
     "output_type": "execute_result"
    }
   ],
   "source": [
    "mydict1['DOB'] = 2002 # Changing Dictionary Items\n",
    "mydict1['Address'] = 'Bhopal'\n",
    "mydict1"
   ]
  },
  {
   "cell_type": "code",
   "execution_count": 94,
   "id": "d70ff7be-d3b4-4c2b-a4c6-334de4f1bced",
   "metadata": {},
   "outputs": [
    {
     "data": {
      "text/plain": [
       "{'Name': 'Preet', 'ID': 12345, 'DOB': 2003, 'Address': 'Bhopal'}"
      ]
     },
     "execution_count": 94,
     "metadata": {},
     "output_type": "execute_result"
    }
   ],
   "source": [
    "dict1 = {'DOB' : 2003}\n",
    "mydict1.update(dict1)\n",
    "mydict1"
   ]
  },
  {
   "cell_type": "code",
   "execution_count": 96,
   "id": "4e1dc581-8273-44eb-b82a-377b5b917ff9",
   "metadata": {},
   "outputs": [
    {
     "data": {
      "text/plain": [
       "{'Name': 'Preet',\n",
       " 'ID': 12345,\n",
       " 'DOB': 2003,\n",
       " 'Address': 'Bhopal',\n",
       " 'Job': 'AI Engineer'}"
      ]
     },
     "execution_count": 96,
     "metadata": {},
     "output_type": "execute_result"
    }
   ],
   "source": [
    "mydict1['Job'] = 'AI Engineer' # Adding items in the Dictionary\n",
    "mydict1"
   ]
  },
  {
   "cell_type": "code",
   "execution_count": 98,
   "id": "aa5faa34-346a-45a8-9381-e01c73e1a3a7",
   "metadata": {},
   "outputs": [
    {
     "data": {
      "text/plain": [
       "{'Name': 'Preet', 'ID': 12345, 'DOB': 2003, 'Address': 'Bhopal'}"
      ]
     },
     "execution_count": 98,
     "metadata": {},
     "output_type": "execute_result"
    }
   ],
   "source": [
    "mydict1.pop('Job') # Removing items in the dictionary using POP Method\n",
    "mydict1"
   ]
  },
  {
   "cell_type": "code",
   "execution_count": 100,
   "id": "db50b2a6-bbf0-482a-b677-1abe0bc5a818",
   "metadata": {},
   "outputs": [
    {
     "data": {
      "text/plain": [
       "('Address', 'Bhopal')"
      ]
     },
     "execution_count": 100,
     "metadata": {},
     "output_type": "execute_result"
    }
   ],
   "source": [
    "mydict1.popitem() # A random item is removed "
   ]
  },
  {
   "cell_type": "code",
   "execution_count": 102,
   "id": "6397a22f-4088-4da5-8409-4fb3de115ad7",
   "metadata": {},
   "outputs": [
    {
     "data": {
      "text/plain": [
       "{'Name': 'Preet', 'ID': 12345, 'DOB': 2003}"
      ]
     },
     "execution_count": 102,
     "metadata": {},
     "output_type": "execute_result"
    }
   ],
   "source": [
    "mydict1"
   ]
  },
  {
   "cell_type": "code",
   "execution_count": 104,
   "id": "0611147d-24f6-4987-9f03-2c609ad0f841",
   "metadata": {},
   "outputs": [
    {
     "data": {
      "text/plain": [
       "{'Name': 'Preet', 'DOB': 2003}"
      ]
     },
     "execution_count": 104,
     "metadata": {},
     "output_type": "execute_result"
    }
   ],
   "source": [
    "del[mydict1['ID']] # Removing item using del method\n",
    "mydict1"
   ]
  },
  {
   "cell_type": "code",
   "execution_count": 106,
   "id": "6abdb64d-d5b3-4340-be61-677b6deab4e7",
   "metadata": {},
   "outputs": [
    {
     "data": {
      "text/plain": [
       "{}"
      ]
     },
     "execution_count": 106,
     "metadata": {},
     "output_type": "execute_result"
    }
   ],
   "source": [
    "mydict1.clear() # Delete all items of the dictionary using clean method \n",
    "mydict1"
   ]
  },
  {
   "cell_type": "code",
   "execution_count": 108,
   "id": "dca7ab17-e474-417c-902d-3cfead1b24d3",
   "metadata": {},
   "outputs": [
    {
     "ename": "NameError",
     "evalue": "name 'mydict1' is not defined",
     "output_type": "error",
     "traceback": [
      "\u001b[1;31m---------------------------------------------------------------------------\u001b[0m",
      "\u001b[1;31mNameError\u001b[0m                                 Traceback (most recent call last)",
      "Cell \u001b[1;32mIn[108], line 2\u001b[0m\n\u001b[0;32m      1\u001b[0m \u001b[38;5;28;01mdel\u001b[39;00m mydict1 \u001b[38;5;66;03m# Delete the dictionay object\u001b[39;00m\n\u001b[1;32m----> 2\u001b[0m mydict1\n",
      "\u001b[1;31mNameError\u001b[0m: name 'mydict1' is not defined"
     ]
    }
   ],
   "source": [
    "del mydict1 # Delete the dictionay object\n",
    "mydict1"
   ]
  },
  {
   "cell_type": "markdown",
   "id": "0b3ada85-7946-423e-bc34-caa65d71596b",
   "metadata": {},
   "source": [
    "## COPY DICTIONARY"
   ]
  },
  {
   "cell_type": "code",
   "execution_count": 142,
   "id": "3837acf2-3aa1-4cb9-aae2-1eb8b3874609",
   "metadata": {},
   "outputs": [
    {
     "data": {
      "text/plain": [
       "{'Name': 'Preet', 'ID': 12345, 'DOB': 2002, 'Address': 'Indore'}"
      ]
     },
     "execution_count": 142,
     "metadata": {},
     "output_type": "execute_result"
    }
   ],
   "source": [
    "mydict = {'Name':'Preet' , 'ID': 12345 , 'DOB': 2002 , 'Address' : 'Indore'}\n",
    "mydict"
   ]
  },
  {
   "cell_type": "code",
   "execution_count": 144,
   "id": "6da33105-2e8e-4f01-9f95-7a1f6a0b989f",
   "metadata": {},
   "outputs": [],
   "source": [
    "mydict1 = mydict # Create a new reference \"mydict1\""
   ]
  },
  {
   "cell_type": "code",
   "execution_count": 146,
   "id": "e059b207-dd2c-4ba5-bb3a-4027c690a811",
   "metadata": {},
   "outputs": [
    {
     "data": {
      "text/plain": [
       "(2098575168576, 2098575168576)"
      ]
     },
     "execution_count": 146,
     "metadata": {},
     "output_type": "execute_result"
    }
   ],
   "source": [
    "id(mydict) , id(mydict1) # The address of both mydict & mydict1 will be the same "
   ]
  },
  {
   "cell_type": "code",
   "execution_count": 148,
   "id": "fb613847-5de6-4c08-b0f3-89693fbb34cd",
   "metadata": {},
   "outputs": [],
   "source": [
    "mydict2 = mydict.copy() # Create a copy of the dictionary "
   ]
  },
  {
   "cell_type": "code",
   "execution_count": 150,
   "id": "36308e91-0cfd-425b-b47f-4799c4c358ab",
   "metadata": {},
   "outputs": [
    {
     "data": {
      "text/plain": [
       "2098550831232"
      ]
     },
     "execution_count": 150,
     "metadata": {},
     "output_type": "execute_result"
    }
   ],
   "source": [
    "id(mydict2) # The address of mydict2 will be different from mydict "
   ]
  },
  {
   "cell_type": "code",
   "execution_count": 152,
   "id": "2cca8574-757c-480e-afa0-0a69cd5c1dc4",
   "metadata": {},
   "outputs": [],
   "source": [
    "mydict['Address'] = 'Bhopal'"
   ]
  },
  {
   "cell_type": "code",
   "execution_count": 154,
   "id": "3e9d4e3b-6199-4caa-aef7-5d3679893993",
   "metadata": {},
   "outputs": [
    {
     "data": {
      "text/plain": [
       "{'Name': 'Preet', 'ID': 12345, 'DOB': 2002, 'Address': 'Bhopal'}"
      ]
     },
     "execution_count": 154,
     "metadata": {},
     "output_type": "execute_result"
    }
   ],
   "source": [
    "mydict"
   ]
  },
  {
   "cell_type": "code",
   "execution_count": 156,
   "id": "e47314d6-5197-475a-8c30-fda8563a9640",
   "metadata": {},
   "outputs": [
    {
     "data": {
      "text/plain": [
       "{'Name': 'Preet', 'ID': 12345, 'DOB': 2002, 'Address': 'Bhopal'}"
      ]
     },
     "execution_count": 156,
     "metadata": {},
     "output_type": "execute_result"
    }
   ],
   "source": [
    "mydict1 # mydict1 will be also impacted as it is pointing to the same dictionary"
   ]
  },
  {
   "cell_type": "code",
   "execution_count": 158,
   "id": "f2496c14-23cb-408e-bf50-566fc46ffdc1",
   "metadata": {},
   "outputs": [
    {
     "data": {
      "text/plain": [
       "{'Name': 'Preet', 'ID': 12345, 'DOB': 2002, 'Address': 'Indore'}"
      ]
     },
     "execution_count": 158,
     "metadata": {},
     "output_type": "execute_result"
    }
   ],
   "source": [
    "mydict2 # Copy of list won't be impacted due to the changes made in the original"
   ]
  },
  {
   "cell_type": "markdown",
   "id": "2d16b42f-10e7-41ae-a9e4-ae344e1c6f82",
   "metadata": {},
   "source": [
    "## Loop through a Dictionary\n"
   ]
  },
  {
   "cell_type": "code",
   "execution_count": 161,
   "id": "23b4b52b-64c4-4014-9337-ef2350dab61b",
   "metadata": {},
   "outputs": [
    {
     "data": {
      "text/plain": [
       "{'Name': 'Preet',\n",
       " 'ID': 12345,\n",
       " 'DOB': 2002,\n",
       " 'Address': 'Indore',\n",
       " 'Job': 'AI Engineer'}"
      ]
     },
     "execution_count": 161,
     "metadata": {},
     "output_type": "execute_result"
    }
   ],
   "source": [
    "mydict1 = {'Name':'Preet' , 'ID': 12345 , 'DOB': 2002 , 'Address' : 'Indore' , 'Job' : 'AI Engineer'}\n",
    "mydict1"
   ]
  },
  {
   "cell_type": "code",
   "execution_count": 163,
   "id": "8ecc194d-af0e-4a27-969b-38911227d02d",
   "metadata": {},
   "outputs": [
    {
     "name": "stdout",
     "output_type": "stream",
     "text": [
      "Name : Preet\n",
      "ID : 12345\n",
      "DOB : 2002\n",
      "Address : Indore\n",
      "Job : AI Engineer\n"
     ]
    }
   ],
   "source": [
    "for i in mydict1:\n",
    "    print(i , ':' , mydict1[i]) # Key & value pair"
   ]
  },
  {
   "cell_type": "code",
   "execution_count": 165,
   "id": "0e2720a8-580b-41f7-b799-c610264157b1",
   "metadata": {},
   "outputs": [
    {
     "name": "stdout",
     "output_type": "stream",
     "text": [
      "Preet\n",
      "12345\n",
      "2002\n",
      "Indore\n",
      "AI Engineer\n"
     ]
    }
   ],
   "source": [
    "for i in mydict1:\n",
    "    print(mydict1[i]) # Dictionary items"
   ]
  },
  {
   "cell_type": "markdown",
   "id": "581c7092-f18e-4da2-b9f3-4843ae572672",
   "metadata": {},
   "source": [
    "## Dictionary Membership"
   ]
  },
  {
   "cell_type": "code",
   "execution_count": 168,
   "id": "0c7f7176-ba00-4b9a-986f-13e7a4137f71",
   "metadata": {},
   "outputs": [
    {
     "data": {
      "text/plain": [
       "{'Name': 'Preet', 'ID': 12345, 'DOB': 2002, 'Job': 'AI Engineer'}"
      ]
     },
     "execution_count": 168,
     "metadata": {},
     "output_type": "execute_result"
    }
   ],
   "source": [
    "mydict1 = {'Name':'Preet' , 'ID': 12345 , 'DOB': 2002  , 'Job' : 'AI Engineer'}\n",
    "mydict1"
   ]
  },
  {
   "cell_type": "code",
   "execution_count": 170,
   "id": "12fbe807-3f28-47dd-b1c6-5a5f824e7919",
   "metadata": {},
   "outputs": [
    {
     "data": {
      "text/plain": [
       "True"
      ]
     },
     "execution_count": 170,
     "metadata": {},
     "output_type": "execute_result"
    }
   ],
   "source": [
    "'Name' in mydict1 # Test if a key is in a dictionary or not."
   ]
  },
  {
   "cell_type": "code",
   "execution_count": 172,
   "id": "f7f676e5-d329-4534-a155-854f92f21e44",
   "metadata": {},
   "outputs": [
    {
     "data": {
      "text/plain": [
       "False"
      ]
     },
     "execution_count": 172,
     "metadata": {},
     "output_type": "execute_result"
    }
   ],
   "source": [
    "'Preet' in mydict1 # Membership test can be only done for keys."
   ]
  },
  {
   "cell_type": "code",
   "execution_count": 174,
   "id": "a64f79c1-99b6-44cd-b1f6-b3b27b141bbb",
   "metadata": {},
   "outputs": [
    {
     "data": {
      "text/plain": [
       "True"
      ]
     },
     "execution_count": 174,
     "metadata": {},
     "output_type": "execute_result"
    }
   ],
   "source": [
    "'ID' in mydict1"
   ]
  },
  {
   "cell_type": "code",
   "execution_count": 176,
   "id": "b03d17df-7a6a-4285-8be2-235a6cfaca0b",
   "metadata": {},
   "outputs": [
    {
     "data": {
      "text/plain": [
       "False"
      ]
     },
     "execution_count": 176,
     "metadata": {},
     "output_type": "execute_result"
    }
   ],
   "source": [
    "'Address' in mydict1"
   ]
  },
  {
   "cell_type": "markdown",
   "id": "244fb443-2872-496b-b532-7366623a07d0",
   "metadata": {},
   "source": [
    "## All / Any"
   ]
  },
  {
   "cell_type": "markdown",
   "id": "24a7e72d-68da-4a69-a714-c1c4bc0d3f47",
   "metadata": {},
   "source": [
    "The all() method returns:"
   ]
  },
  {
   "cell_type": "markdown",
   "id": "1624fc05-50c0-4a19-a1f0-8a3ba0e1110b",
   "metadata": {},
   "source": [
    "1. **True** - If all keys of the dictionary are true\n",
    "2. **False** - If any key of the dictionary is false"
   ]
  },
  {
   "cell_type": "markdown",
   "id": "eacf08ae-3baa-4c85-89a6-e756d28c812a",
   "metadata": {},
   "source": [
    "The any() function returns True if any key of the dictionary is True. If not, any() returns False."
   ]
  },
  {
   "cell_type": "code",
   "execution_count": 182,
   "id": "33d3d4b5-4cb2-4f38-8f34-6af5d36db214",
   "metadata": {},
   "outputs": [
    {
     "data": {
      "text/plain": [
       "{'Name': 'Preet', 'ID': 12345, 'DOB': 2002, 'Job': 'AI Engineer'}"
      ]
     },
     "execution_count": 182,
     "metadata": {},
     "output_type": "execute_result"
    }
   ],
   "source": [
    "mydict1 = {'Name':'Preet' , 'ID': 12345 , 'DOB': 2002  , 'Job' : 'AI Engineer'}\n",
    "mydict1"
   ]
  },
  {
   "cell_type": "code",
   "execution_count": 184,
   "id": "32b18a6f-1f47-4a4f-9c7a-f54bfdb40b19",
   "metadata": {},
   "outputs": [
    {
     "data": {
      "text/plain": [
       "True"
      ]
     },
     "execution_count": 184,
     "metadata": {},
     "output_type": "execute_result"
    }
   ],
   "source": [
    "all(mydict1) # Will Return false as one value is false (Value 0)"
   ]
  }
 ],
 "metadata": {
  "kernelspec": {
   "display_name": "Python [conda env:base] *",
   "language": "python",
   "name": "conda-base-py"
  },
  "language_info": {
   "codemirror_mode": {
    "name": "ipython",
    "version": 3
   },
   "file_extension": ".py",
   "mimetype": "text/x-python",
   "name": "python",
   "nbconvert_exporter": "python",
   "pygments_lexer": "ipython3",
   "version": "3.12.4"
  }
 },
 "nbformat": 4,
 "nbformat_minor": 5
}
