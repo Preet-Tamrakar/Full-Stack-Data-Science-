{
 "cells": [
  {
   "cell_type": "markdown",
   "id": "20b6be8a-84cd-4dcd-823c-3443e936083f",
   "metadata": {},
   "source": [
    "# NumPy"
   ]
  },
  {
   "cell_type": "markdown",
   "id": "86b9734a-09ad-46b6-ba0f-d8348424a1a4",
   "metadata": {},
   "source": [
    "NumPy (Numerical Python) is an open-source Python library used for numerical computing."
   ]
  },
  {
   "cell_type": "markdown",
   "id": "18970ffe-d54b-441a-a10e-55ccb065ca18",
   "metadata": {},
   "source": [
    "It provides support for:\n",
    "\n",
    "+ Multi-dimensional arrays (ndarrays) for storing and manipulating large datasets.\n",
    "+ Mathematical functions for operations like linear algebra, statistics, and Fourier transforms.\n",
    "+ High performance due to implementation in C, making it much faster than Python lists for numerical tasks."
   ]
  },
  {
   "cell_type": "markdown",
   "id": "09a1cbe5-6219-4069-9e18-0ae514942ce3",
   "metadata": {},
   "source": [
    "In short: NumPy is the backbone of scientific computing in Python."
   ]
  },
  {
   "cell_type": "code",
   "execution_count": 5,
   "id": "8c169ce4-86c6-4ea7-aeb0-571802e328ae",
   "metadata": {},
   "outputs": [],
   "source": [
    "import numpy as np # IMPORTING NumPy"
   ]
  },
  {
   "cell_type": "code",
   "execution_count": 14,
   "id": "ebf0c1ae-e96e-4332-8370-0ee13047c812",
   "metadata": {},
   "outputs": [
    {
     "data": {
      "text/plain": [
       "'1.26.4'"
      ]
     },
     "execution_count": 14,
     "metadata": {},
     "output_type": "execute_result"
    }
   ],
   "source": [
    "np.__version__"
   ]
  },
  {
   "cell_type": "markdown",
   "id": "fc3689e6-0214-4a99-9cbf-de6e4c4c7e1e",
   "metadata": {},
   "source": [
    "# 1) ARRAY CREATION FUNCTIONS"
   ]
  },
  {
   "cell_type": "code",
   "execution_count": 19,
   "id": "7ae553cc-fc0d-48a1-b3f2-fe0191a14ac7",
   "metadata": {},
   "outputs": [
    {
     "data": {
      "text/plain": [
       "[0, 1, 2, 3, 4, 5]"
      ]
     },
     "execution_count": 19,
     "metadata": {},
     "output_type": "execute_result"
    }
   ],
   "source": [
    "my_list = [0,1,2,3,4,5]\n",
    "my_list"
   ]
  },
  {
   "cell_type": "code",
   "execution_count": 21,
   "id": "7c91013f-05e9-4202-857c-65ac1bb74b86",
   "metadata": {},
   "outputs": [
    {
     "data": {
      "text/plain": [
       "list"
      ]
     },
     "execution_count": 21,
     "metadata": {},
     "output_type": "execute_result"
    }
   ],
   "source": [
    "type(my_list)"
   ]
  },
  {
   "cell_type": "markdown",
   "id": "22bf1c5a-59ca-44fc-8270-c86e415fd6a9",
   "metadata": {},
   "source": [
    "### Convert List to Array "
   ]
  },
  {
   "cell_type": "code",
   "execution_count": 24,
   "id": "826cf590-35fe-4169-b7f6-4c60bcd85ec1",
   "metadata": {},
   "outputs": [
    {
     "data": {
      "text/plain": [
       "[0, 1, 2, 3, 4, 5]"
      ]
     },
     "execution_count": 24,
     "metadata": {},
     "output_type": "execute_result"
    }
   ],
   "source": [
    "my_list"
   ]
  },
  {
   "cell_type": "code",
   "execution_count": 26,
   "id": "ca2f8bde-4d6c-41ff-8210-4b3ca48c8f34",
   "metadata": {},
   "outputs": [
    {
     "data": {
      "text/plain": [
       "array([0, 1, 2, 3, 4, 5])"
      ]
     },
     "execution_count": 26,
     "metadata": {},
     "output_type": "execute_result"
    }
   ],
   "source": [
    "arr = np.array(my_list)\n",
    "arr"
   ]
  },
  {
   "cell_type": "code",
   "execution_count": 28,
   "id": "3815631d-c21e-4d9f-8d2e-5e0e95e66bea",
   "metadata": {},
   "outputs": [
    {
     "name": "stdout",
     "output_type": "stream",
     "text": [
      "<class 'numpy.ndarray'>\n"
     ]
    }
   ],
   "source": [
    "print(type(arr))"
   ]
  },
  {
   "cell_type": "markdown",
   "id": "2d006f79-d96f-4474-ba3e-d76aa7278900",
   "metadata": {},
   "source": [
    "## Difference between List & Array"
   ]
  },
  {
   "cell_type": "markdown",
   "id": "a49013ed-4505-402b-bc3f-bd30d6e93f23",
   "metadata": {},
   "source": [
    "| Feature            | List                                                                 | NumPy Array                                                                 |\r\n",
    "|--------------------|----------------------------------------------------------------------|------------------------------------------------------------------------------|\r\n",
    "| **Type of Elements** | Can store heterogeneous types (different data types)                | Can only store homogeneous types (same data type)                           |\r\n",
    "| **Performance**     | Slower for large data, especially in numerical operations           | Optimized for performance, faster for large numerical datasets              |\r\n",
    "| **Memory Efficiency**| Less memory efficient for large datasets                            | More memory efficient for large datasets                                    |\r\n",
    "| **Operations**      | Cannot perform vectorized operations directly                        | Supports vectorized operations (faster element-wise calculations)           |\r\n",
    "| **Use Case**        | General-purpose collection                                           | Scientific computing, numerical computations, large datasets                |\r\n",
    "| **Methods/Functions**| Built-in Python methods (e.g., `.append()`, `.extend()`, `.remove()`) | A vast set of numerical operations like `np.add()`, `np.mean()`, `np.dot()` |\r\n"
   ]
  },
  {
   "cell_type": "markdown",
   "id": "ed601183-b0e0-4731-b268-fa222aa848f8",
   "metadata": {},
   "source": [
    "### Zeros & Ones Arrays "
   ]
  },
  {
   "cell_type": "markdown",
   "id": "f586497d-d7b7-4c95-a193-b4322f96837a",
   "metadata": {},
   "source": [
    "#### Zeros Array"
   ]
  },
  {
   "cell_type": "markdown",
   "id": "1b87f690-e8c0-411f-a3c8-06412aa83b71",
   "metadata": {},
   "source": [
    "A Zeros Array is an array where all elements are 0, created using numpy.zeros().  \n",
    "\n",
    "Important Points:  \n",
    "\n",
    "+ Syntax: np.zeros(shape, dtype=float)  \n",
    "+ Default dtype is float.  \n",
    "+ Commonly used to initialize arrays before filling them with values.  \n",
    "+ Shape can be 1D, 2D, or multi-dimensional.  "
   ]
  },
  {
   "cell_type": "markdown",
   "id": "028f0167-5b8c-49e1-828f-cc451d13675b",
   "metadata": {},
   "source": [
    "EXAMPLE :  \n",
    "import numpy as np  \n",
    "zeros_arr = np.zeros((2, 3))  \n",
    "print(zeros_arr)  \n",
    "Output:  \n",
    "[[0. 0. 0.]  \r\n",
    " [0. 0. 0.]  ]"
   ]
  },
  {
   "cell_type": "code",
   "execution_count": 37,
   "id": "474ea539-1415-4dfa-924d-040ebca615d7",
   "metadata": {},
   "outputs": [
    {
     "data": {
      "text/plain": [
       "array([0., 0., 0., 0., 0.])"
      ]
     },
     "execution_count": 37,
     "metadata": {},
     "output_type": "execute_result"
    }
   ],
   "source": [
    "np.zeros(5) #Parameter tunning"
   ]
  },
  {
   "cell_type": "code",
   "execution_count": 39,
   "id": "f3f0b302-dacf-4232-8333-78fb3fc78381",
   "metadata": {},
   "outputs": [
    {
     "data": {
      "text/plain": [
       "array([0, 0, 0, 0, 0])"
      ]
     },
     "execution_count": 39,
     "metadata": {},
     "output_type": "execute_result"
    }
   ],
   "source": [
    "np.zeros(5, dtype=int) #Hyperparameter tunning"
   ]
  },
  {
   "cell_type": "code",
   "execution_count": 41,
   "id": "c3402a38-c612-40f7-b126-e09c174aff65",
   "metadata": {},
   "outputs": [
    {
     "data": {
      "text/plain": [
       "array([[0., 0.],\n",
       "       [0., 0.]])"
      ]
     },
     "execution_count": 41,
     "metadata": {},
     "output_type": "execute_result"
    }
   ],
   "source": [
    "np.zeros([2,2])"
   ]
  },
  {
   "cell_type": "code",
   "execution_count": 43,
   "id": "b6d014d6-741c-4174-830c-d99f409e53fe",
   "metadata": {},
   "outputs": [
    {
     "data": {
      "text/plain": [
       "array([[0., 0., 0., 0.],\n",
       "       [0., 0., 0., 0.],\n",
       "       [0., 0., 0., 0.],\n",
       "       [0., 0., 0., 0.],\n",
       "       [0., 0., 0., 0.]])"
      ]
     },
     "execution_count": 43,
     "metadata": {},
     "output_type": "execute_result"
    }
   ],
   "source": [
    "np.zeros([5,4])"
   ]
  },
  {
   "cell_type": "markdown",
   "id": "e61d184c-ef01-4159-bb47-5fdf5294b8fb",
   "metadata": {},
   "source": [
    "### np.zeros([2,10])\n",
    "\n",
    "### 2 -- always be rows  \n",
    "### 10 -- always be column "
   ]
  },
  {
   "cell_type": "markdown",
   "id": "764a3b80-c171-492a-b719-ba7a35057180",
   "metadata": {},
   "source": [
    "#### Ones Array"
   ]
  },
  {
   "cell_type": "markdown",
   "id": "bd2bc583-aa48-4b85-8ce9-83dddeab5c66",
   "metadata": {},
   "source": [
    "A Ones Array is an array where all elements are 1, created using numpy.ones().  \n",
    "\n",
    "Important Points:  \n",
    "\n",
    "+ Syntax: np.ones(shape, dtype=float)  \n",
    "+ Default dtype is float.  \n",
    "+ Useful for placeholders or mathematical operations where a base value of 1 is needed.  \n",
    "+ Shape can be 1D, 2D, or multi-dimensional.  "
   ]
  },
  {
   "cell_type": "markdown",
   "id": "bfa5fc26-eca7-4148-92b5-23e29c73b325",
   "metadata": {},
   "source": [
    "Example:  \n",
    "ones_arr = np.ones((2, 3))  \n",
    "print(ones_arr)  \n",
    "Output:  \n",
    "[[1. 1. 1.]  \n",
    "[1. 1. 1.]]  \n"
   ]
  },
  {
   "cell_type": "code",
   "execution_count": 64,
   "id": "814e499d-00d2-49e2-872f-c8c2e8e8e688",
   "metadata": {},
   "outputs": [
    {
     "data": {
      "text/plain": [
       "array([1., 1.])"
      ]
     },
     "execution_count": 64,
     "metadata": {},
     "output_type": "execute_result"
    }
   ],
   "source": [
    "np.ones(2)"
   ]
  },
  {
   "cell_type": "code",
   "execution_count": 66,
   "id": "eb64a3f7-dc90-4471-b9a1-043526a4fa5f",
   "metadata": {},
   "outputs": [
    {
     "data": {
      "text/plain": [
       "array([1, 1])"
      ]
     },
     "execution_count": 66,
     "metadata": {},
     "output_type": "execute_result"
    }
   ],
   "source": [
    "np.ones(2, dtype=int)"
   ]
  },
  {
   "cell_type": "code",
   "execution_count": 68,
   "id": "1a229935-e391-4222-ada4-befda0138c6a",
   "metadata": {},
   "outputs": [
    {
     "data": {
      "text/plain": [
       "array([[1., 1., 1., 1., 1.],\n",
       "       [1., 1., 1., 1., 1.],\n",
       "       [1., 1., 1., 1., 1.],\n",
       "       [1., 1., 1., 1., 1.]])"
      ]
     },
     "execution_count": 68,
     "metadata": {},
     "output_type": "execute_result"
    }
   ],
   "source": [
    "np.ones([4,5])"
   ]
  },
  {
   "cell_type": "markdown",
   "id": "1a959fa8-c751-4200-ba1f-2d28d6da8c34",
   "metadata": {},
   "source": [
    "### Arange Function"
   ]
  },
  {
   "cell_type": "markdown",
   "id": "1ff246b5-8470-4448-91e8-275cbcfa26f1",
   "metadata": {},
   "source": [
    "np.arange() creates an array with evenly spaced values within a given range, similar to Python’s built-in range(), but returns a NumPy array instead of a list."
   ]
  },
  {
   "cell_type": "markdown",
   "id": "ffa70586-8eb8-4b4a-af67-6caf009a7389",
   "metadata": {},
   "source": [
    "**numpy.arange(start, stop, step, dtype=None)**  \n",
    "\n",
    "Parameters:   \n",
    "\n",
    "+ start (optional) → Starting value (default: 0).  \n",
    "+ stop (required) → End value (not included).  \n",
    "+ step (optional) → Interval between values (default: 1).  \n",
    "+ dtype (optional) → Data type of the output array.  "
   ]
  },
  {
   "cell_type": "code",
   "execution_count": 7,
   "id": "ca08f410-8cca-4f43-93d4-c289a862b7d6",
   "metadata": {},
   "outputs": [],
   "source": [
    "import numpy as np"
   ]
  },
  {
   "cell_type": "code",
   "execution_count": 11,
   "id": "ec20575d-2bcf-4b8e-9ea4-54d28d94ff7f",
   "metadata": {},
   "outputs": [
    {
     "name": "stdout",
     "output_type": "stream",
     "text": [
      "[0 1 2 3 4]\n"
     ]
    }
   ],
   "source": [
    "# Basic usage\n",
    "arr1 = np.arange(5)\n",
    "print(arr1)"
   ]
  },
  {
   "cell_type": "code",
   "execution_count": 13,
   "id": "63de6bda-faf9-4137-a986-c7f900fea6eb",
   "metadata": {},
   "outputs": [
    {
     "name": "stdout",
     "output_type": "stream",
     "text": [
      "[2 3 4 5 6 7 8 9]\n"
     ]
    }
   ],
   "source": [
    "# With start and stop\n",
    "arr2 = np.arange(2, 10)\n",
    "print(arr2) "
   ]
  },
  {
   "cell_type": "code",
   "execution_count": 15,
   "id": "4fc34f91-f7cd-48fb-b7a6-b7c690ef79a3",
   "metadata": {},
   "outputs": [
    {
     "name": "stdout",
     "output_type": "stream",
     "text": [
      "[2 4 6 8]\n"
     ]
    }
   ],
   "source": [
    "# With step\n",
    "arr3 = np.arange(2, 10, 2)\n",
    "print(arr3)  "
   ]
  },
  {
   "cell_type": "code",
   "execution_count": 17,
   "id": "9bfcb660-f8ec-4da0-8f02-05249976d4bf",
   "metadata": {},
   "outputs": [
    {
     "name": "stdout",
     "output_type": "stream",
     "text": [
      "[0.  0.2 0.4 0.6 0.8]\n"
     ]
    }
   ],
   "source": [
    "# With float step\n",
    "arr4 = np.arange(0, 1, 0.2)\n",
    "print(arr4) "
   ]
  },
  {
   "cell_type": "code",
   "execution_count": 19,
   "id": "5c906585-16e9-43be-8ac7-ca6d1ea112f8",
   "metadata": {},
   "outputs": [
    {
     "data": {
      "text/plain": [
       "array([], dtype=int32)"
      ]
     },
     "execution_count": 19,
     "metadata": {},
     "output_type": "execute_result"
    }
   ],
   "source": [
    "np.arange(20,10) # 1st Arg < 2nd Arg"
   ]
  },
  {
   "cell_type": "code",
   "execution_count": 21,
   "id": "d55fac6b-7e33-4ae0-91e2-ebd610e980bd",
   "metadata": {},
   "outputs": [
    {
     "data": {
      "text/plain": [
       "array([-20, -19, -18, -17, -16, -15, -14, -13, -12, -11, -10,  -9,  -8,\n",
       "        -7,  -6,  -5,  -4,  -3,  -2,  -1,   0,   1,   2,   3,   4,   5,\n",
       "         6,   7,   8,   9])"
      ]
     },
     "execution_count": 21,
     "metadata": {},
     "output_type": "execute_result"
    }
   ],
   "source": [
    "np.arange(-20,10)"
   ]
  },
  {
   "cell_type": "markdown",
   "id": "aea44e1c-7938-4777-83b2-cf9956104b2c",
   "metadata": {},
   "source": [
    "### Random Values"
   ]
  },
  {
   "cell_type": "markdown",
   "id": "efca5579-df21-4d1a-8708-09f630d94f65",
   "metadata": {},
   "source": [
    "NumPy’s random module allows us to generate random numbers for simulations, testing, and data science tasks."
   ]
  },
  {
   "cell_type": "markdown",
   "id": "8d7b687b-eb29-4692-9e7b-62961992935f",
   "metadata": {},
   "source": [
    "Important Points:  \n",
    "\n",
    "+ Use seed() to get the same random results every time (important in experiments).  \n",
    "+ Random values are useful in machine learning, simulations, data augmentation, etc.  \n",
    "+ rand() → 0 to 1, uniform distribution.  \n",
    "+ randn() → normal distribution (bell curve).  "
   ]
  },
  {
   "cell_type": "markdown",
   "id": "cb251d4f-a84e-4df6-8543-0eb4b2113857",
   "metadata": {},
   "source": [
    "| Function              | Description                                                                   | Example                                       |\n",
    "| --------------------- | ----------------------------------------------------------------------------- | --------------------------------------------- |\n",
    "| `np.random.rand()`    | Generates random floats between **0 and 1** (uniform distribution)            | `np.random.rand(3)` → `[0.54 0.72 0.14]`      |\n",
    "| `np.random.randn()`   | Generates random floats from **standard normal distribution** (mean=0, std=1) | `np.random.randn(3)` → `[0.12 -1.45 0.67]`    |\n",
    "| `np.random.randint()` | Generates random integers in a given range                                    | `np.random.randint(1, 10, 5)` → `[3 8 6 1 4]` |\n",
    "| `np.random.random()`  | Similar to `rand()` but takes shape as a tuple                                | `np.random.random((2,3))`                     |\n",
    "| `np.random.choice()`  | Picks random elements from a given array                                      | `np.random.choice([1, 2, 3], 2)` → `[2 1]`    |\n",
    "| `np.random.seed()`    | Sets the random seed for reproducibility                                      | `np.random.seed(42)`                          |\n"
   ]
  },
  {
   "cell_type": "code",
   "execution_count": 36,
   "id": "76fcef80-f18c-450b-b6f3-928072d6f112",
   "metadata": {},
   "outputs": [
    {
     "data": {
      "text/plain": [
       "array([[0.89615168, 0.6220608 ],\n",
       "       [0.23429748, 0.50514688],\n",
       "       [0.91737245, 0.81726347]])"
      ]
     },
     "execution_count": 36,
     "metadata": {},
     "output_type": "execute_result"
    }
   ],
   "source": [
    "np.random.rand(3,2) #  Creates a 3 rows × 2 columns array of random floats between 0 and 1"
   ]
  },
  {
   "cell_type": "code",
   "execution_count": 42,
   "id": "ae9fa1c7-6349-4587-9104-b11faf03c9e3",
   "metadata": {},
   "outputs": [
    {
     "data": {
      "text/plain": [
       "array([0.21659029, 0.37936707, 0.64558086])"
      ]
     },
     "execution_count": 42,
     "metadata": {},
     "output_type": "execute_result"
    }
   ],
   "source": [
    "np.random.rand(3) #  Creates a 1D array of 3 random floats between 0 and 1  \n",
    "\n",
    "# Shape = 1D\n",
    "# Length = 3\n",
    "# Range = [0, 1)"
   ]
  },
  {
   "cell_type": "code",
   "execution_count": 46,
   "id": "0083af44-9831-450c-b3e8-9a4234adfb48",
   "metadata": {},
   "outputs": [
    {
     "data": {
      "text/plain": [
       "5"
      ]
     },
     "execution_count": 46,
     "metadata": {},
     "output_type": "execute_result"
    }
   ],
   "source": [
    "np.random.randint(4,6)  # returns a random integer 4 or 5 (6 is excluded)"
   ]
  },
  {
   "cell_type": "code",
   "execution_count": 52,
   "id": "f0b9bdf7-e108-4947-b42a-1b8337c467d5",
   "metadata": {},
   "outputs": [
    {
     "data": {
      "text/plain": [
       "9"
      ]
     },
     "execution_count": 52,
     "metadata": {},
     "output_type": "execute_result"
    }
   ],
   "source": [
    "np.random.randint(0,10) # returns a random integer from 0 to 9 (10 is excluded)"
   ]
  },
  {
   "cell_type": "code",
   "execution_count": 54,
   "id": "2ac63f88-51bc-4a61-9d7d-c2ec0acb9648",
   "metadata": {},
   "outputs": [
    {
     "data": {
      "text/plain": [
       "array([6, 7, 4, 6])"
      ]
     },
     "execution_count": 54,
     "metadata": {},
     "output_type": "execute_result"
    }
   ],
   "source": [
    "np.random.randint(0,10,4) # Generate 4 random number"
   ]
  },
  {
   "cell_type": "code",
   "execution_count": 58,
   "id": "4a00a108-a31f-4f95-a576-21d79cda1cb3",
   "metadata": {},
   "outputs": [
    {
     "data": {
      "text/plain": [
       "array([3, 8, 1, 9, 8])"
      ]
     },
     "execution_count": 58,
     "metadata": {},
     "output_type": "execute_result"
    }
   ],
   "source": [
    "np.random.randint(0,10,5) # Generate 5 random number"
   ]
  },
  {
   "cell_type": "code",
   "execution_count": 13,
   "id": "1cfb58e6-ccf6-46d3-adda-db25adfa6e58",
   "metadata": {},
   "outputs": [],
   "source": [
    "n = np.random.randint(10,40,(8,10))\n",
    "# 8 rows and 10 coloumns with random number between 10 to 40"
   ]
  },
  {
   "cell_type": "code",
   "execution_count": 15,
   "id": "698e7add-7485-405c-a03a-3c176c8fc61f",
   "metadata": {},
   "outputs": [
    {
     "data": {
      "text/plain": [
       "array([[11, 32, 13, 21, 16, 20, 37, 29, 15, 10],\n",
       "       [25, 28, 29, 22, 16, 28, 31, 12, 20, 15],\n",
       "       [28, 37, 15, 19, 22, 17, 34, 17, 19, 27],\n",
       "       [13, 35, 37, 35, 22, 18, 17, 23, 29, 36],\n",
       "       [12, 12, 29, 11, 11, 34, 37, 21, 29, 31],\n",
       "       [29, 27, 15, 34, 26, 25, 12, 35, 30, 28],\n",
       "       [32, 31, 36, 28, 20, 36, 27, 30, 32, 30],\n",
       "       [12, 20, 34, 23, 30, 16, 12, 17, 29, 23]])"
      ]
     },
     "execution_count": 15,
     "metadata": {},
     "output_type": "execute_result"
    }
   ],
   "source": [
    "n"
   ]
  },
  {
   "cell_type": "markdown",
   "id": "dd23c7da-376b-45ec-88ae-eb8eb67599e3",
   "metadata": {},
   "source": [
    "## 2) ARRAY MANIPULATION FUNTION"
   ]
  },
  {
   "cell_type": "markdown",
   "id": "52158c53-a42c-4f68-b769-61362c90d746",
   "metadata": {},
   "source": [
    "Array manipulation in NumPy means reshaping, joining, splitting, or changing the arrangement of array elements without changing the actual data."
   ]
  },
  {
   "cell_type": "markdown",
   "id": "f4732b30-ba35-4a7e-87f3-e75ac1f20b6a",
   "metadata": {},
   "source": [
    "#### Reshaping – Change the shape of an array."
   ]
  },
  {
   "cell_type": "code",
   "execution_count": 91,
   "id": "e766d4cc-288f-413b-86d9-c7106718e3ab",
   "metadata": {},
   "outputs": [
    {
     "data": {
      "text/plain": [
       "array([[ 1,  2,  3,  4],\n",
       "       [ 5,  6,  7,  8],\n",
       "       [ 9, 10, 11, 12]])"
      ]
     },
     "execution_count": 91,
     "metadata": {},
     "output_type": "execute_result"
    }
   ],
   "source": [
    "np.arange(1,13).reshape(3,4) # print no. in 3x4 rowns and column "
   ]
  },
  {
   "cell_type": "code",
   "execution_count": 93,
   "id": "b4b70d48-9e46-43b3-a76a-7a739c1ea6f4",
   "metadata": {},
   "outputs": [
    {
     "ename": "ValueError",
     "evalue": "cannot reshape array of size 12 into shape (5,5)",
     "output_type": "error",
     "traceback": [
      "\u001b[1;31m---------------------------------------------------------------------------\u001b[0m",
      "\u001b[1;31mValueError\u001b[0m                                Traceback (most recent call last)",
      "Cell \u001b[1;32mIn[93], line 1\u001b[0m\n\u001b[1;32m----> 1\u001b[0m np\u001b[38;5;241m.\u001b[39marange(\u001b[38;5;241m1\u001b[39m,\u001b[38;5;241m13\u001b[39m)\u001b[38;5;241m.\u001b[39mreshape(\u001b[38;5;241m5\u001b[39m,\u001b[38;5;241m5\u001b[39m)\n",
      "\u001b[1;31mValueError\u001b[0m: cannot reshape array of size 12 into shape (5,5)"
     ]
    }
   ],
   "source": [
    "np.arange(1,13).reshape(5,5)"
   ]
  },
  {
   "cell_type": "code",
   "execution_count": 95,
   "id": "1e9ffb5f-e85f-4679-9bc2-378564fad2ae",
   "metadata": {},
   "outputs": [
    {
     "data": {
      "text/plain": [
       "array([[ 1],\n",
       "       [ 2],\n",
       "       [ 3],\n",
       "       [ 4],\n",
       "       [ 5],\n",
       "       [ 6],\n",
       "       [ 7],\n",
       "       [ 8],\n",
       "       [ 9],\n",
       "       [10],\n",
       "       [11],\n",
       "       [12]])"
      ]
     },
     "execution_count": 95,
     "metadata": {},
     "output_type": "execute_result"
    }
   ],
   "source": [
    "np.arange(1,13).reshape(12,1)"
   ]
  },
  {
   "cell_type": "code",
   "execution_count": 97,
   "id": "041035d9-3baa-4227-88e9-7e3d28e96a4e",
   "metadata": {},
   "outputs": [
    {
     "data": {
      "text/plain": [
       "array([[ 1,  2,  3,  4,  5,  6,  7,  8,  9, 10, 11, 12]])"
      ]
     },
     "execution_count": 97,
     "metadata": {},
     "output_type": "execute_result"
    }
   ],
   "source": [
    "np.arange(1,13).reshape(1,12)"
   ]
  },
  {
   "cell_type": "code",
   "execution_count": 99,
   "id": "ea591f3a-eb13-44ff-b431-71bb7dec91ff",
   "metadata": {},
   "outputs": [
    {
     "data": {
      "text/plain": [
       "array([[ 1,  2],\n",
       "       [ 3,  4],\n",
       "       [ 5,  6],\n",
       "       [ 7,  8],\n",
       "       [ 9, 10],\n",
       "       [11, 12]])"
      ]
     },
     "execution_count": 99,
     "metadata": {},
     "output_type": "execute_result"
    }
   ],
   "source": [
    "np.arange(1,13).reshape(6,2)"
   ]
  },
  {
   "cell_type": "code",
   "execution_count": 107,
   "id": "fe1c3e57-b573-4892-8aff-92fd2e1d166d",
   "metadata": {},
   "outputs": [
    {
     "name": "stdout",
     "output_type": "stream",
     "text": [
      "[[ 1  2  3  4]\n",
      " [ 5  6  7  8]\n",
      " [ 9 10 11 12]]\n"
     ]
    }
   ],
   "source": [
    "arr = np.arange(1, 13).reshape(3, 4)  # create 3x4 array from 1 to 12\n",
    "print(arr)"
   ]
  },
  {
   "cell_type": "markdown",
   "id": "94aa6580-5d2e-485a-9d2d-e1fe6cfc4810",
   "metadata": {},
   "source": [
    "#### Transpose\n",
    "Flips an array over its diagonal, swapping rows with columns."
   ]
  },
  {
   "cell_type": "code",
   "execution_count": 113,
   "id": "1469fdef-24c0-4fe4-9d09-3627944e66af",
   "metadata": {},
   "outputs": [
    {
     "data": {
      "text/plain": [
       "array([[ 1,  5,  9],\n",
       "       [ 2,  6, 10],\n",
       "       [ 3,  7, 11],\n",
       "       [ 4,  8, 12]])"
      ]
     },
     "execution_count": 113,
     "metadata": {},
     "output_type": "execute_result"
    }
   ],
   "source": [
    "arr.T # transpose: swap rows and columns"
   ]
  },
  {
   "cell_type": "markdown",
   "id": "5ed962d5-ed81-4d05-b226-885044dcd8f2",
   "metadata": {},
   "source": [
    "#### Flattening\n",
    "Converts a multi-dimensional array into a 1D array."
   ]
  },
  {
   "cell_type": "code",
   "execution_count": 115,
   "id": "60f40d2e-4799-4888-b218-8fcb983eda24",
   "metadata": {},
   "outputs": [
    {
     "data": {
      "text/plain": [
       "array([ 1,  2,  3,  4,  5,  6,  7,  8,  9, 10, 11, 12])"
      ]
     },
     "execution_count": 115,
     "metadata": {},
     "output_type": "execute_result"
    }
   ],
   "source": [
    "arr.flatten() # flatten: convert to 1D array"
   ]
  },
  {
   "cell_type": "markdown",
   "id": "20d76a49-a51d-4e61-a2ab-17fb6269db91",
   "metadata": {},
   "source": [
    "## 3) INDEXING & SLICING"
   ]
  },
  {
   "cell_type": "code",
   "execution_count": 27,
   "id": "c7ce7c95-1aae-4abe-b132-7f7f37f4e7b6",
   "metadata": {},
   "outputs": [],
   "source": [
    "mat = np.arange(0,100).reshape(10,10)"
   ]
  },
  {
   "cell_type": "code",
   "execution_count": 29,
   "id": "1c270dc8-2237-4565-80d8-de6b2c41e52f",
   "metadata": {},
   "outputs": [
    {
     "data": {
      "text/plain": [
       "array([[ 0,  1,  2,  3,  4,  5,  6,  7,  8,  9],\n",
       "       [10, 11, 12, 13, 14, 15, 16, 17, 18, 19],\n",
       "       [20, 21, 22, 23, 24, 25, 26, 27, 28, 29],\n",
       "       [30, 31, 32, 33, 34, 35, 36, 37, 38, 39],\n",
       "       [40, 41, 42, 43, 44, 45, 46, 47, 48, 49],\n",
       "       [50, 51, 52, 53, 54, 55, 56, 57, 58, 59],\n",
       "       [60, 61, 62, 63, 64, 65, 66, 67, 68, 69],\n",
       "       [70, 71, 72, 73, 74, 75, 76, 77, 78, 79],\n",
       "       [80, 81, 82, 83, 84, 85, 86, 87, 88, 89],\n",
       "       [90, 91, 92, 93, 94, 95, 96, 97, 98, 99]])"
      ]
     },
     "execution_count": 29,
     "metadata": {},
     "output_type": "execute_result"
    }
   ],
   "source": [
    "mat"
   ]
  },
  {
   "cell_type": "code",
   "execution_count": 31,
   "id": "37b8f414-7382-4a04-bdb5-08531ccee7c5",
   "metadata": {},
   "outputs": [
    {
     "data": {
      "text/plain": [
       "array([50, 51, 52, 53, 54, 55, 56, 57, 58, 59])"
      ]
     },
     "execution_count": 31,
     "metadata": {},
     "output_type": "execute_result"
    }
   ],
   "source": [
    "mat[5]  # element at index 5"
   ]
  },
  {
   "cell_type": "code",
   "execution_count": 45,
   "id": "8190dcbb-4250-4e3f-b33e-5f5f04332a54",
   "metadata": {},
   "outputs": [
    {
     "data": {
      "text/plain": [
       "array([[ 0,  1,  2,  3,  4,  5,  6,  7,  8,  9],\n",
       "       [10, 11, 12, 13, 14, 15, 16, 17, 18, 19],\n",
       "       [20, 21, 22, 23, 24, 25, 26, 27, 28, 29],\n",
       "       [30, 31, 32, 33, 34, 35, 36, 37, 38, 39],\n",
       "       [40, 41, 42, 43, 44, 45, 46, 47, 48, 49],\n",
       "       [50, 51, 52, 53, 54, 55, 56, 57, 58, 59]])"
      ]
     },
     "execution_count": 45,
     "metadata": {},
     "output_type": "execute_result"
    }
   ],
   "source": [
    "mat[0:6] # elements from index 0 to 5"
   ]
  },
  {
   "cell_type": "code",
   "execution_count": 33,
   "id": "051b8da1-2499-4068-927f-7055d45d5198",
   "metadata": {},
   "outputs": [
    {
     "data": {
      "text/plain": [
       "array([[90, 91, 92, 93, 94, 95, 96, 97, 98, 99],\n",
       "       [80, 81, 82, 83, 84, 85, 86, 87, 88, 89],\n",
       "       [70, 71, 72, 73, 74, 75, 76, 77, 78, 79],\n",
       "       [60, 61, 62, 63, 64, 65, 66, 67, 68, 69],\n",
       "       [50, 51, 52, 53, 54, 55, 56, 57, 58, 59],\n",
       "       [40, 41, 42, 43, 44, 45, 46, 47, 48, 49],\n",
       "       [30, 31, 32, 33, 34, 35, 36, 37, 38, 39],\n",
       "       [20, 21, 22, 23, 24, 25, 26, 27, 28, 29],\n",
       "       [10, 11, 12, 13, 14, 15, 16, 17, 18, 19],\n",
       "       [ 0,  1,  2,  3,  4,  5,  6,  7,  8,  9]])"
      ]
     },
     "execution_count": 33,
     "metadata": {},
     "output_type": "execute_result"
    }
   ],
   "source": [
    "mat[::-1]  # all elements in reverse order"
   ]
  },
  {
   "cell_type": "code",
   "execution_count": 35,
   "id": "f5ea6883-3939-43f9-b2b5-876a5f391234",
   "metadata": {},
   "outputs": [
    {
     "data": {
      "text/plain": [
       "array([[ 0,  1,  2,  3,  4,  5,  6,  7,  8,  9],\n",
       "       [20, 21, 22, 23, 24, 25, 26, 27, 28, 29],\n",
       "       [40, 41, 42, 43, 44, 45, 46, 47, 48, 49],\n",
       "       [60, 61, 62, 63, 64, 65, 66, 67, 68, 69],\n",
       "       [80, 81, 82, 83, 84, 85, 86, 87, 88, 89]])"
      ]
     },
     "execution_count": 35,
     "metadata": {},
     "output_type": "execute_result"
    }
   ],
   "source": [
    "mat[::2] # every 2nd element from start"
   ]
  },
  {
   "cell_type": "code",
   "execution_count": 39,
   "id": "697b1b72-6cc7-4218-970b-25e2bc798d0d",
   "metadata": {},
   "outputs": [
    {
     "data": {
      "text/plain": [
       "array([0, 1, 2, 3, 4, 5, 6, 7, 8, 9])"
      ]
     },
     "execution_count": 39,
     "metadata": {},
     "output_type": "execute_result"
    }
   ],
   "source": [
    "mat[0]  # element at index 0"
   ]
  },
  {
   "cell_type": "code",
   "execution_count": 41,
   "id": "9725384b-f833-4ff2-b3d0-b534410eea96",
   "metadata": {},
   "outputs": [
    {
     "data": {
      "text/plain": [
       "5"
      ]
     },
     "execution_count": 41,
     "metadata": {},
     "output_type": "execute_result"
    }
   ],
   "source": [
    "mat[0,5] # element at row 0, column 5 (2D array)"
   ]
  },
  {
   "cell_type": "code",
   "execution_count": 43,
   "id": "3dc4c522-4f0d-4d2f-b9df-10a72cd8056e",
   "metadata": {},
   "outputs": [
    {
     "data": {
      "text/plain": [
       "57"
      ]
     },
     "execution_count": 43,
     "metadata": {},
     "output_type": "execute_result"
    }
   ],
   "source": [
    "mat[5,-3] # element at row 5, 3rd column from end (2D array)"
   ]
  },
  {
   "cell_type": "markdown",
   "id": "906c5e74-4384-4eeb-bf2b-36c82bb9b6a3",
   "metadata": {},
   "source": [
    "### : in matrix --- records  \n",
    "### , in matrix --- specific position"
   ]
  },
  {
   "cell_type": "code",
   "execution_count": 48,
   "id": "974e23ef-8e21-4fea-99c3-962d896cb461",
   "metadata": {},
   "outputs": [],
   "source": [
    "# New "
   ]
  },
  {
   "cell_type": "code",
   "execution_count": 50,
   "id": "2266922e-96fe-4ebd-9586-7eddb91b319e",
   "metadata": {},
   "outputs": [
    {
     "data": {
      "text/plain": [
       "array([[ 0,  1,  2,  3,  4,  5,  6,  7,  8,  9],\n",
       "       [10, 11, 12, 13, 14, 15, 16, 17, 18, 19],\n",
       "       [20, 21, 22, 23, 24, 25, 26, 27, 28, 29],\n",
       "       [30, 31, 32, 33, 34, 35, 36, 37, 38, 39],\n",
       "       [40, 41, 42, 43, 44, 45, 46, 47, 48, 49],\n",
       "       [50, 51, 52, 53, 54, 55, 56, 57, 58, 59],\n",
       "       [60, 61, 62, 63, 64, 65, 66, 67, 68, 69],\n",
       "       [70, 71, 72, 73, 74, 75, 76, 77, 78, 79],\n",
       "       [80, 81, 82, 83, 84, 85, 86, 87, 88, 89],\n",
       "       [90, 91, 92, 93, 94, 95, 96, 97, 98, 99]])"
      ]
     },
     "execution_count": 50,
     "metadata": {},
     "output_type": "execute_result"
    }
   ],
   "source": [
    "mat"
   ]
  },
  {
   "cell_type": "code",
   "execution_count": 52,
   "id": "a2270f30-caca-4e8b-ae3d-4585fd116bb1",
   "metadata": {},
   "outputs": [],
   "source": [
    "row = 4\n",
    "col = 5"
   ]
  },
  {
   "cell_type": "code",
   "execution_count": 54,
   "id": "8588dff4-ad4d-4cdb-bd03-cccb585c938a",
   "metadata": {},
   "outputs": [
    {
     "data": {
      "text/plain": [
       "5"
      ]
     },
     "execution_count": 54,
     "metadata": {},
     "output_type": "execute_result"
    }
   ],
   "source": [
    "col"
   ]
  },
  {
   "cell_type": "code",
   "execution_count": 56,
   "id": "fa06fe99-b5a9-4a0d-8b06-466eb2244005",
   "metadata": {},
   "outputs": [
    {
     "data": {
      "text/plain": [
       "4"
      ]
     },
     "execution_count": 56,
     "metadata": {},
     "output_type": "execute_result"
    }
   ],
   "source": [
    "row"
   ]
  },
  {
   "cell_type": "code",
   "execution_count": 58,
   "id": "58d0e780-76be-43f9-aa9a-e249af75d861",
   "metadata": {},
   "outputs": [
    {
     "data": {
      "text/plain": [
       "45"
      ]
     },
     "execution_count": 58,
     "metadata": {},
     "output_type": "execute_result"
    }
   ],
   "source": [
    "mat[row,col]"
   ]
  },
  {
   "cell_type": "code",
   "execution_count": 60,
   "id": "4748946b-f818-4ceb-b3bf-d8cdd1718c82",
   "metadata": {},
   "outputs": [
    {
     "data": {
      "text/plain": [
       "array([[ 0,  1,  2,  3,  4,  5,  6,  7,  8,  9],\n",
       "       [10, 11, 12, 13, 14, 15, 16, 17, 18, 19],\n",
       "       [20, 21, 22, 23, 24, 25, 26, 27, 28, 29],\n",
       "       [30, 31, 32, 33, 34, 35, 36, 37, 38, 39],\n",
       "       [40, 41, 42, 43, 44, 45, 46, 47, 48, 49],\n",
       "       [50, 51, 52, 53, 54, 55, 56, 57, 58, 59],\n",
       "       [60, 61, 62, 63, 64, 65, 66, 67, 68, 69],\n",
       "       [70, 71, 72, 73, 74, 75, 76, 77, 78, 79],\n",
       "       [80, 81, 82, 83, 84, 85, 86, 87, 88, 89],\n",
       "       [90, 91, 92, 93, 94, 95, 96, 97, 98, 99]])"
      ]
     },
     "execution_count": 60,
     "metadata": {},
     "output_type": "execute_result"
    }
   ],
   "source": [
    "mat[:]"
   ]
  },
  {
   "cell_type": "code",
   "execution_count": 62,
   "id": "f35c0ac8-db7e-42fb-a7d0-041920ed2922",
   "metadata": {},
   "outputs": [
    {
     "data": {
      "text/plain": [
       "array([ 5, 15, 25, 35, 45, 55, 65, 75, 85, 95])"
      ]
     },
     "execution_count": 62,
     "metadata": {},
     "output_type": "execute_result"
    }
   ],
   "source": [
    "# With Slices\n",
    "mat[:,col] # HOW TO PRINT COLUMN INFOR"
   ]
  },
  {
   "cell_type": "code",
   "execution_count": 64,
   "id": "3666a813-28a9-4a4f-9be4-fa8b43b5c0c0",
   "metadata": {},
   "outputs": [
    {
     "data": {
      "text/plain": [
       "array([50, 51, 52, 53, 54, 55, 56, 57, 58, 59])"
      ]
     },
     "execution_count": 64,
     "metadata": {},
     "output_type": "execute_result"
    }
   ],
   "source": [
    "mat[col] # HOW TO PRINT ROWS"
   ]
  },
  {
   "cell_type": "code",
   "execution_count": 66,
   "id": "554efd07-fb8c-432f-902d-472171019012",
   "metadata": {},
   "outputs": [
    {
     "data": {
      "text/plain": [
       "array([ 9, 19, 29, 39, 49, 59, 69, 79, 89, 99])"
      ]
     },
     "execution_count": 66,
     "metadata": {},
     "output_type": "execute_result"
    }
   ],
   "source": [
    "mat[:,-1] # LAST COLUMN"
   ]
  },
  {
   "cell_type": "code",
   "execution_count": 68,
   "id": "eab8fe5f-f6b7-425e-b0b0-9ae9a7677e29",
   "metadata": {},
   "outputs": [
    {
     "data": {
      "text/plain": [
       "array([40, 41, 42, 43, 44, 45, 46, 47, 48, 49])"
      ]
     },
     "execution_count": 68,
     "metadata": {},
     "output_type": "execute_result"
    }
   ],
   "source": [
    "mat[row,:]"
   ]
  },
  {
   "cell_type": "markdown",
   "id": "a7294ffb-04c7-4bb7-9b5a-640b8d2231af",
   "metadata": {},
   "source": [
    "## mat[4,:] ---> It will print 4th row\n",
    "## mat[:,4] ---> It will print 4th column\n",
    "## mat[4:] ---> It will print the rows from 4th till lat rows\n",
    "## mat[:4] ---> print till 4th columns"
   ]
  },
  {
   "cell_type": "code",
   "execution_count": 73,
   "id": "e6737174-f2fd-48cb-a141-74adb3fa2cc5",
   "metadata": {},
   "outputs": [
    {
     "data": {
      "text/plain": [
       "array([[22, 23],\n",
       "       [32, 33],\n",
       "       [42, 43],\n",
       "       [52, 53]])"
      ]
     },
     "execution_count": 73,
     "metadata": {},
     "output_type": "execute_result"
    }
   ],
   "source": [
    "mat[2:6,2:4] # 1:5 --> only row part /// 1:3 --> It indicates only coulmn parts"
   ]
  },
  {
   "cell_type": "code",
   "execution_count": 75,
   "id": "71b8394f-beed-42c3-919c-1831686052c3",
   "metadata": {},
   "outputs": [
    {
     "data": {
      "text/plain": [
       "array([[12, 13]])"
      ]
     },
     "execution_count": 75,
     "metadata": {},
     "output_type": "execute_result"
    }
   ],
   "source": [
    "mat[1:2,2:4]"
   ]
  },
  {
   "cell_type": "code",
   "execution_count": 77,
   "id": "d6d1d2ad-628d-494f-87fc-8450cd9fbb2e",
   "metadata": {},
   "outputs": [
    {
     "data": {
      "text/plain": [
       "array([[23, 24],\n",
       "       [33, 34]])"
      ]
     },
     "execution_count": 77,
     "metadata": {},
     "output_type": "execute_result"
    }
   ],
   "source": [
    "mat[2:4,3:5]"
   ]
  },
  {
   "cell_type": "markdown",
   "id": "ed8e5184-eb4c-4e26-b5d6-cafcba4b33a4",
   "metadata": {},
   "source": [
    "### MASKING"
   ]
  },
  {
   "cell_type": "code",
   "execution_count": 80,
   "id": "9265357e-7720-43c5-aed5-72d11bbf2dd7",
   "metadata": {},
   "outputs": [
    {
     "data": {
      "text/plain": [
       "array([[ 0,  1,  2,  3,  4,  5,  6,  7,  8,  9],\n",
       "       [10, 11, 12, 13, 14, 15, 16, 17, 18, 19],\n",
       "       [20, 21, 22, 23, 24, 25, 26, 27, 28, 29],\n",
       "       [30, 31, 32, 33, 34, 35, 36, 37, 38, 39],\n",
       "       [40, 41, 42, 43, 44, 45, 46, 47, 48, 49],\n",
       "       [50, 51, 52, 53, 54, 55, 56, 57, 58, 59],\n",
       "       [60, 61, 62, 63, 64, 65, 66, 67, 68, 69],\n",
       "       [70, 71, 72, 73, 74, 75, 76, 77, 78, 79],\n",
       "       [80, 81, 82, 83, 84, 85, 86, 87, 88, 89],\n",
       "       [90, 91, 92, 93, 94, 95, 96, 97, 98, 99]])"
      ]
     },
     "execution_count": 80,
     "metadata": {},
     "output_type": "execute_result"
    }
   ],
   "source": [
    "mat"
   ]
  },
  {
   "cell_type": "code",
   "execution_count": 82,
   "id": "c19fd902-423d-4a58-b883-25b6389a4a7b",
   "metadata": {},
   "outputs": [
    {
     "data": {
      "text/plain": [
       "array([[ True,  True,  True,  True,  True,  True,  True,  True,  True,\n",
       "         True],\n",
       "       [ True,  True,  True,  True,  True,  True,  True,  True,  True,\n",
       "         True],\n",
       "       [ True,  True,  True,  True,  True,  True,  True,  True,  True,\n",
       "         True],\n",
       "       [ True,  True,  True,  True,  True,  True,  True,  True,  True,\n",
       "         True],\n",
       "       [ True,  True,  True,  True,  True,  True,  True,  True,  True,\n",
       "         True],\n",
       "       [False, False, False, False, False, False, False, False, False,\n",
       "        False],\n",
       "       [False, False, False, False, False, False, False, False, False,\n",
       "        False],\n",
       "       [False, False, False, False, False, False, False, False, False,\n",
       "        False],\n",
       "       [False, False, False, False, False, False, False, False, False,\n",
       "        False],\n",
       "       [False, False, False, False, False, False, False, False, False,\n",
       "        False]])"
      ]
     },
     "execution_count": 82,
     "metadata": {},
     "output_type": "execute_result"
    }
   ],
   "source": [
    "# Print no. less than 50 \n",
    "mat < 50 "
   ]
  },
  {
   "cell_type": "code",
   "execution_count": 84,
   "id": "47262ac7-06d8-4739-8f9c-8cb27e5837fa",
   "metadata": {},
   "outputs": [
    {
     "data": {
      "text/plain": [
       "array([ 0,  1,  2,  3,  4,  5,  6,  7,  8,  9, 10, 11, 12, 13, 14, 15, 16,\n",
       "       17, 18, 19, 20, 21, 22, 23, 24, 25, 26, 27, 28, 29, 30, 31, 32, 33,\n",
       "       34, 35, 36, 37, 38, 39, 40, 41, 42, 43, 44, 45, 46, 47, 48, 49])"
      ]
     },
     "execution_count": 84,
     "metadata": {},
     "output_type": "execute_result"
    }
   ],
   "source": [
    "# for no. \n",
    "\n",
    "mat[mat < 50] # Less than 50"
   ]
  },
  {
   "cell_type": "code",
   "execution_count": 86,
   "id": "df0cf58c-a444-4717-9776-6e61d17a0513",
   "metadata": {},
   "outputs": [
    {
     "data": {
      "text/plain": [
       "array([51, 52, 53, 54, 55, 56, 57, 58, 59, 60, 61, 62, 63, 64, 65, 66, 67,\n",
       "       68, 69, 70, 71, 72, 73, 74, 75, 76, 77, 78, 79, 80, 81, 82, 83, 84,\n",
       "       85, 86, 87, 88, 89, 90, 91, 92, 93, 94, 95, 96, 97, 98, 99])"
      ]
     },
     "execution_count": 86,
     "metadata": {},
     "output_type": "execute_result"
    }
   ],
   "source": [
    " mat[mat > 50] # More than 50"
   ]
  },
  {
   "cell_type": "code",
   "execution_count": 88,
   "id": "c9c3f5b2-dd65-4ff7-b33e-637e040ce9c9",
   "metadata": {},
   "outputs": [
    {
     "data": {
      "text/plain": [
       "array([50, 51, 52, 53, 54, 55, 56, 57, 58, 59, 60, 61, 62, 63, 64, 65, 66,\n",
       "       67, 68, 69, 70, 71, 72, 73, 74, 75, 76, 77, 78, 79, 80, 81, 82, 83,\n",
       "       84, 85, 86, 87, 88, 89, 90, 91, 92, 93, 94, 95, 96, 97, 98, 99])"
      ]
     },
     "execution_count": 88,
     "metadata": {},
     "output_type": "execute_result"
    }
   ],
   "source": [
    "mat[mat >= 50] # Less than 50"
   ]
  },
  {
   "cell_type": "markdown",
   "id": "defdab0c-0282-4c08-bf28-a06f7730e309",
   "metadata": {},
   "source": [
    "## 4) Array Operations"
   ]
  },
  {
   "cell_type": "markdown",
   "id": "884d7213-4d41-43f0-a59e-2abd8e3ad8d8",
   "metadata": {},
   "source": [
    "#### 1. Basic Arithmetic Operations  \n",
    "These are element-wise operations performed between two arrays of the same shape.  \n",
    "\n",
    "+  '+' → Adds elements of two arrays.  \n",
    "+  '-' → Subtracts elements of one array from another.  \n",
    "+  '*' → Multiplies elements of two arrays.  \n",
    "+  '/' → Divides elements of one array by another.  \n",
    "\n",
    "Important Points:  \n",
    "\n",
    "+ Arrays must have the same shape, or broadcasting rules apply.  \n",
    "+ Operations are much faster than Python lists due to NumPy's optimized C-based implementation.  "
   ]
  },
  {
   "cell_type": "markdown",
   "id": "ce6021dd-a25f-4f50-b819-cc645236c61c",
   "metadata": {},
   "source": [
    "Operations:\n",
    "+ result = arr1 + arr2   \n",
    "+ result = arr1 - arr2   \n",
    "+ result = arr1 * arr2   \n",
    "+ result = arr1 / arr2   "
   ]
  },
  {
   "cell_type": "markdown",
   "id": "f9631603-0d05-4847-bd87-97827cf079f5",
   "metadata": {},
   "source": [
    "**Example**"
   ]
  },
  {
   "cell_type": "code",
   "execution_count": 144,
   "id": "90cc786d-37e0-4284-8c28-7aaa822dd15b",
   "metadata": {},
   "outputs": [],
   "source": [
    "#Create two arrays  \n",
    "arr1 = np.array([10, 20, 30])  \n",
    "arr2 = np.array([1, 2, 3])  "
   ]
  },
  {
   "cell_type": "code",
   "execution_count": 146,
   "id": "d5e09455-f029-4acf-9ee5-b46a4b53a90d",
   "metadata": {},
   "outputs": [],
   "source": [
    "# Basic Arithmetic Operations "
   ]
  },
  {
   "cell_type": "code",
   "execution_count": 148,
   "id": "2530bf3e-d097-477b-86b1-cf26b4e94189",
   "metadata": {},
   "outputs": [
    {
     "name": "stdout",
     "output_type": "stream",
     "text": [
      "Addition: [11 22 33]\n"
     ]
    }
   ],
   "source": [
    "print(\"Addition:\", arr1 + arr2)    # Element-wise addition "
   ]
  },
  {
   "cell_type": "code",
   "execution_count": 150,
   "id": "bc6a0291-a1ac-4412-94d3-6975074f58c8",
   "metadata": {},
   "outputs": [
    {
     "name": "stdout",
     "output_type": "stream",
     "text": [
      "Subtraction: [ 9 18 27]\n"
     ]
    }
   ],
   "source": [
    "print(\"Subtraction:\", arr1 - arr2) # Element-wise subtraction"
   ]
  },
  {
   "cell_type": "code",
   "execution_count": 152,
   "id": "a929e090-7c5a-49dd-bb71-35bb429bf04d",
   "metadata": {},
   "outputs": [
    {
     "name": "stdout",
     "output_type": "stream",
     "text": [
      "Multiplication: [10 40 90]\n"
     ]
    }
   ],
   "source": [
    "print(\"Multiplication:\", arr1 * arr2) # Element-wise multiplication "
   ]
  },
  {
   "cell_type": "code",
   "execution_count": 154,
   "id": "42033eee-1c06-44be-9598-9cd2640a74c4",
   "metadata": {},
   "outputs": [
    {
     "name": "stdout",
     "output_type": "stream",
     "text": [
      "Division: [10. 10. 10.]\n"
     ]
    }
   ],
   "source": [
    "print(\"Division:\", arr1 / arr2)    # Element-wise division "
   ]
  },
  {
   "cell_type": "markdown",
   "id": "b0690158-f3fa-4403-9312-f23f6a40ecd4",
   "metadata": {},
   "source": [
    "#### 2. Element-wise Operations  \n",
    "\n",
    "Apply a function to each element of the array individually.  \n",
    "+ np.square(arr) → Squares each element.  \n",
    "+ np.sqrt(arr) → Takes the square root of each element.  \n",
    "+ np.exp(arr) → Calculates the exponential (e^x) for each element.  \n",
    "\n",
    "Important Points:  \n",
    "\n",
    "+ These operations are vectorized — no need for loops.  \n",
    "+ Faster and more memory-efficient than Python loops.  "
   ]
  },
  {
   "cell_type": "markdown",
   "id": "df89eae1-840b-4e8e-addb-21f6a99e7e78",
   "metadata": {},
   "source": [
    "Operations:\n",
    "+ result = np.square(arr)  \n",
    "+ result = np.sqrt(arr)  \n",
    "+ result = np.exp(arr)  "
   ]
  },
  {
   "cell_type": "markdown",
   "id": "0cdeac24-5fca-4780-9ccd-63e8f2cbca7e",
   "metadata": {},
   "source": [
    "**Example**"
   ]
  },
  {
   "cell_type": "code",
   "execution_count": 166,
   "id": "3028ca84-8127-4871-b3ce-968fca3160be",
   "metadata": {},
   "outputs": [],
   "source": [
    "# Create an array\n",
    "arr = np.array([1, 4, 9])"
   ]
  },
  {
   "cell_type": "code",
   "execution_count": 168,
   "id": "961874d2-edc8-4153-a78f-fb30123c4430",
   "metadata": {},
   "outputs": [
    {
     "name": "stdout",
     "output_type": "stream",
     "text": [
      "Square: [ 1 16 81]\n"
     ]
    }
   ],
   "source": [
    "# Element-wise operations\n",
    "print(\"Square:\", np.square(arr))  "
   ]
  },
  {
   "cell_type": "code",
   "execution_count": 170,
   "id": "d55e1515-580c-4032-874a-a52baff8de07",
   "metadata": {},
   "outputs": [
    {
     "name": "stdout",
     "output_type": "stream",
     "text": [
      "Square Root: [1. 2. 3.]\n"
     ]
    }
   ],
   "source": [
    "print(\"Square Root:\", np.sqrt(arr))  "
   ]
  },
  {
   "cell_type": "code",
   "execution_count": 172,
   "id": "0568fa7d-4f02-43e7-8bbf-518366334f2a",
   "metadata": {},
   "outputs": [
    {
     "name": "stdout",
     "output_type": "stream",
     "text": [
      "Exponential: [2.71828183e+00 5.45981500e+01 8.10308393e+03]\n"
     ]
    }
   ],
   "source": [
    "print(\"Exponential:\", np.exp(arr))   "
   ]
  },
  {
   "cell_type": "markdown",
   "id": "30ec4abc-d954-4c87-8bb4-ff66ae680698",
   "metadata": {},
   "source": [
    "#### 3. Dot Product\n",
    "+ np.dot(arr1, arr2) → Performs matrix multiplication (or inner product for 1D arrays).  \n",
    "\n",
    "Important Points:  \n",
    "\n",
    "+ Used in linear algebra, machine learning (e.g., weights × inputs), and graphics transformations.  \n",
    "+ Shape compatibility is important: (m×n) dot (n×p) → (m×p)  "
   ]
  },
  {
   "cell_type": "markdown",
   "id": "6b7740f6-efec-4039-a06e-53af963f8ffd",
   "metadata": {},
   "source": [
    "**Example**"
   ]
  },
  {
   "cell_type": "code",
   "execution_count": 184,
   "id": "2acc84b4-75ea-4ee2-b56b-2754fda64410",
   "metadata": {},
   "outputs": [],
   "source": [
    "# Create two arrays\n",
    "arr1 = np.array([1, 2, 3])\n",
    "arr2 = np.array([4, 5, 6])"
   ]
  },
  {
   "cell_type": "code",
   "execution_count": 186,
   "id": "2c8435e3-5d64-4433-8f69-9e99b1584857",
   "metadata": {},
   "outputs": [
    {
     "name": "stdout",
     "output_type": "stream",
     "text": [
      "Dot Product: 32\n"
     ]
    }
   ],
   "source": [
    "# Dot product\n",
    "dot_product = np.dot(arr1, arr2)\n",
    "\n",
    "print(\"Dot Product:\", dot_product)  # (1*4) + (2*5) + (3*6) = 32"
   ]
  },
  {
   "cell_type": "markdown",
   "id": "da1f22db-6f72-4914-8b87-840b44016f19",
   "metadata": {},
   "source": [
    "## 5) Statistical Operation"
   ]
  },
  {
   "cell_type": "markdown",
   "id": "f8a2bbb8-f380-461b-9014-0dc18e28e8c6",
   "metadata": {},
   "source": [
    "Statistical operations in NumPy help analyze data by finding measures like mean, median, standard deviation, and aggregate values like sum, min, and max.  \n",
    "\n",
    "Important Points:  \n",
    "\n",
    "+ Mean (np.mean) → Average value of array elements.  \n",
    "+ Median (np.median) → Middle value after sorting the array.  \n",
    "+ Standard Deviation (np.std) → Measures data spread from the mean.  \n",
    "+ Sum (np.sum) → Adds all array elements.  \n",
    "+ Min & Max (np.min, np.max) → Find smallest and largest values.  "
   ]
  },
  {
   "cell_type": "markdown",
   "id": "ad7aa15c-a0c0-49fc-8167-e7ce782ae8b9",
   "metadata": {},
   "source": [
    "**Example**"
   ]
  },
  {
   "cell_type": "code",
   "execution_count": 191,
   "id": "08f09844-4d54-4f2d-9289-d9de28305c1d",
   "metadata": {},
   "outputs": [],
   "source": [
    "arr = np.array([10, 20, 30, 40, 50])"
   ]
  },
  {
   "cell_type": "code",
   "execution_count": 207,
   "id": "c331f5cb-94de-40f8-82d1-14ffc721d912",
   "metadata": {},
   "outputs": [
    {
     "name": "stdout",
     "output_type": "stream",
     "text": [
      "Mean: 30.0\n"
     ]
    }
   ],
   "source": [
    "print(\"Mean:\", np.mean(arr))  \n",
    "# Mean: (sum of all elements) / (number of elements)"
   ]
  },
  {
   "cell_type": "code",
   "execution_count": 209,
   "id": "4a46b137-d45e-4929-8ae7-498fa38b6f51",
   "metadata": {},
   "outputs": [
    {
     "name": "stdout",
     "output_type": "stream",
     "text": [
      "Median: 30.0\n"
     ]
    }
   ],
   "source": [
    "print(\"Median:\", np.median(arr))\n",
    "# Median: Middle value after sorting (or avg of two middle values if even count)"
   ]
  },
  {
   "cell_type": "code",
   "execution_count": 211,
   "id": "21bde4a5-34ba-4e10-8dc8-89898df8878d",
   "metadata": {},
   "outputs": [
    {
     "name": "stdout",
     "output_type": "stream",
     "text": [
      "Std Dev: 14.142135623730951\n"
     ]
    }
   ],
   "source": [
    "print(\"Std Dev:\", np.std(arr))    \n",
    "# Standard Deviation: sqrt( sum( (x - mean)^2 ) / n )"
   ]
  },
  {
   "cell_type": "code",
   "execution_count": 213,
   "id": "9e1e0709-84d9-4ac9-875f-cd6a2ad3af2b",
   "metadata": {},
   "outputs": [
    {
     "name": "stdout",
     "output_type": "stream",
     "text": [
      "Sum: 150\n"
     ]
    }
   ],
   "source": [
    "print(\"Sum:\", np.sum(arr))  \n",
    "# Sum: total of all elements"
   ]
  },
  {
   "cell_type": "code",
   "execution_count": 215,
   "id": "66a495a1-7d27-4ec2-b9a9-6c72bccbad2b",
   "metadata": {},
   "outputs": [
    {
     "name": "stdout",
     "output_type": "stream",
     "text": [
      "Min: 10\n"
     ]
    }
   ],
   "source": [
    "print(\"Min:\", np.min(arr))      \n",
    "# Min: smallest value in array"
   ]
  },
  {
   "cell_type": "code",
   "execution_count": 217,
   "id": "2710e9c1-7f55-45fe-99e1-28c8a1ac471d",
   "metadata": {},
   "outputs": [
    {
     "name": "stdout",
     "output_type": "stream",
     "text": [
      "Max: 50\n"
     ]
    }
   ],
   "source": [
    "print(\"Max:\", np.max(arr))      \n",
    "# Max: largest value in array"
   ]
  },
  {
   "cell_type": "markdown",
   "id": "1836ed7c-969d-448b-a2ad-78a15c47c64a",
   "metadata": {},
   "source": [
    "## 6) Logical Operations"
   ]
  },
  {
   "cell_type": "markdown",
   "id": "ee09c5ba-e1f6-4421-b417-9eae05ef3474",
   "metadata": {},
   "source": [
    "Logical operations return boolean results (True/False) for each element based on a condition.  \n",
    "\n",
    "Important Points:   \n",
    "\n",
    "+ Used for filtering and conditional selection in arrays.  \n",
    "+ Supports comparisons (>, <, ==, !=) and logical functions (np.logical_and, np.logical_or).  "
   ]
  },
  {
   "cell_type": "markdown",
   "id": "76344b58-1c66-4e8f-8116-6fdd0743d71b",
   "metadata": {},
   "source": [
    "**Example**"
   ]
  },
  {
   "cell_type": "code",
   "execution_count": 222,
   "id": "9531b82b-6632-4a31-a8c5-1f02e5eee12a",
   "metadata": {},
   "outputs": [],
   "source": [
    "arr = np.array([1, 4, 7, 2, 5])"
   ]
  },
  {
   "cell_type": "code",
   "execution_count": 232,
   "id": "30307899-5561-4e8f-b589-741601fe95d4",
   "metadata": {},
   "outputs": [
    {
     "name": "stdout",
     "output_type": "stream",
     "text": [
      "Boolean Array: [False  True  True False  True]\n"
     ]
    }
   ],
   "source": [
    "# Condition: elements greater than 3\n",
    "bool_arr = arr > 3\n",
    "print(\"Boolean Array:\", bool_arr)   \n",
    "# Boolean condition: arr > value → True if element satisfies, else False"
   ]
  },
  {
   "cell_type": "code",
   "execution_count": 228,
   "id": "1b44a968-55a3-4ecf-91da-6564933b00e1",
   "metadata": {},
   "outputs": [
    {
     "name": "stdout",
     "output_type": "stream",
     "text": [
      "Filtered Values: [4 7 5]\n"
     ]
    }
   ],
   "source": [
    "# Extracting values greater than 3\n",
    "print(\"Filtered Values:\", arr[bool_arr])  "
   ]
  },
  {
   "cell_type": "code",
   "execution_count": 230,
   "id": "50fcd47f-f32c-4cd9-81f1-7f7dfb9fe222",
   "metadata": {},
   "outputs": [],
   "source": [
    "# Boolean condition: arr > value → True if element satisfies, else False\n",
    "# Logical AND: np.logical_and(cond1, cond2)\n",
    "# Logical OR: np.logical_or(cond1, cond2)\n",
    "# Usage: arr[condition] → returns filtered elements"
   ]
  },
  {
   "cell_type": "markdown",
   "id": "1062afc6-f8ec-42a6-a10c-b26a256e94de",
   "metadata": {},
   "source": [
    "## 7) Broadcasting"
   ]
  },
  {
   "cell_type": "markdown",
   "id": "e8cca977-5acd-497d-aba8-fc21594b308e",
   "metadata": {},
   "source": [
    "The ability of NumPy to perform arithmetic operations between arrays of different shapes by automatically expanding the smaller array to match the larger one."
   ]
  },
  {
   "cell_type": "markdown",
   "id": "dd8b0695-d403-47ac-9d4b-e5c472232806",
   "metadata": {},
   "source": [
    "Important Points:\n",
    "\n",
    "+ Saves time — no need for explicit loops.\n",
    "+ Works only if dimensions are compatible.\n",
    "+ Scalars (single values) can be broadcast to all elements."
   ]
  },
  {
   "cell_type": "code",
   "execution_count": 7,
   "id": "ee476530-0d54-417e-b05f-2b46aa58c280",
   "metadata": {},
   "outputs": [
    {
     "name": "stdout",
     "output_type": "stream",
     "text": [
      "[6 7 8]\n"
     ]
    }
   ],
   "source": [
    "arr = np.array([1, 2, 3])\n",
    "result = arr + 5  # Adds 5 to each element\n",
    "print(result)  # [6 7 8]"
   ]
  },
  {
   "cell_type": "code",
   "execution_count": 9,
   "id": "461ab2d9-ace5-44e6-a131-65e47f16fa25",
   "metadata": {},
   "outputs": [
    {
     "name": "stdout",
     "output_type": "stream",
     "text": [
      "[[11 12 13]\n",
      " [14 15 16]]\n"
     ]
    }
   ],
   "source": [
    "arr2 = np.array([[1, 2, 3], [4, 5, 6]])  \n",
    "scalar = 10  \n",
    "\n",
    "result = arr2 + scalar\n",
    "print(result)"
   ]
  },
  {
   "cell_type": "markdown",
   "id": "093d7f72-ee84-417e-a7f9-1519a9cf875b",
   "metadata": {},
   "source": [
    "## 8) Concatenation"
   ]
  },
  {
   "cell_type": "markdown",
   "id": "b49517e1-d5f1-4b8e-bba1-3f196cf91728",
   "metadata": {},
   "source": [
    "Joining two or more arrays along a specified axis."
   ]
  },
  {
   "cell_type": "markdown",
   "id": "58297a18-429c-4435-97b8-da2e249f1cbe",
   "metadata": {},
   "source": [
    "Important Points:\n",
    "\n",
    "+ axis=0 → stack rows (vertical).\n",
    "+ axis=1 → stack columns (horizontal).\n",
    "+ Arrays must have the same shape except in the concatenation axis."
   ]
  },
  {
   "cell_type": "code",
   "execution_count": 18,
   "id": "37cd8750-8211-441c-b208-57b851c7485f",
   "metadata": {},
   "outputs": [
    {
     "name": "stdout",
     "output_type": "stream",
     "text": [
      "[[1 2]\n",
      " [3 4]\n",
      " [5 6]\n",
      " [7 8]]\n"
     ]
    }
   ],
   "source": [
    "arr1 = np.array([[1, 2], [3, 4]])\n",
    "arr2 = np.array([[5, 6], [7, 8]])\n",
    "combined = np.concatenate((arr1, arr2), axis=0)\n",
    "print(combined)"
   ]
  },
  {
   "cell_type": "markdown",
   "id": "940d5634-20fa-4180-8abd-16061e31b99d",
   "metadata": {},
   "source": [
    "## 9) Stacking"
   ]
  },
  {
   "cell_type": "markdown",
   "id": "b56a9393-2da8-42d0-8252-f2b40286e0b1",
   "metadata": {},
   "source": [
    "Combining arrays into a new dimension (vertical or horizontal)."
   ]
  },
  {
   "cell_type": "markdown",
   "id": "3de6947e-00f6-4854-8e9d-0fdaa7726077",
   "metadata": {},
   "source": [
    "Important Points:\n",
    "\n",
    "+ np.vstack() → vertical stack.\n",
    "+ np.hstack() → horizontal stack.\n",
    "+ Similar to concatenation but easier to read."
   ]
  },
  {
   "cell_type": "code",
   "execution_count": 27,
   "id": "4700a94a-fac2-4042-9293-075b4f125f4a",
   "metadata": {},
   "outputs": [
    {
     "name": "stdout",
     "output_type": "stream",
     "text": [
      "[[1 2]\n",
      " [3 4]]\n"
     ]
    }
   ],
   "source": [
    "# vertical stack\n",
    "arr1 = np.array([1, 2])\n",
    "arr2 = np.array([3, 4])\n",
    "stacked = np.vstack((arr1, arr2))\n",
    "print(stacked)"
   ]
  },
  {
   "cell_type": "code",
   "execution_count": 29,
   "id": "6dceac18-19f3-4d0a-bc43-c229cdc67922",
   "metadata": {},
   "outputs": [
    {
     "name": "stdout",
     "output_type": "stream",
     "text": [
      "[1 2 3 4]\n"
     ]
    }
   ],
   "source": [
    "# horizontal stack.\n",
    "arr1 = np.array([1, 2])\n",
    "arr2 = np.array([3, 4])\n",
    "stacked = np.hstack((arr1, arr2))\n",
    "print(stacked)"
   ]
  },
  {
   "cell_type": "markdown",
   "id": "ed1e7374-c7cd-4f13-bde1-71feba018e63",
   "metadata": {},
   "source": [
    "## 10) Linear Algebra"
   ]
  },
  {
   "cell_type": "markdown",
   "id": "65430605-0dee-4e60-8a63-cb6f60419e2b",
   "metadata": {},
   "source": [
    "Mathematical operations on matrices such as finding eigenvalues and eigenvectors."
   ]
  },
  {
   "cell_type": "markdown",
   "id": "57779a7b-9e15-41c2-be59-1542f260dcbe",
   "metadata": {},
   "source": [
    "Important Points:\n",
    "\n",
    "+ np.linalg.eig() → returns eigenvalues and eigenvectors.\n",
    "+ Useful in machine learning, PCA, and transformations.\n"
   ]
  },
  {
   "cell_type": "code",
   "execution_count": 34,
   "id": "e5ec6ae9-64b2-4bc6-81d3-5e70dc2c7e16",
   "metadata": {},
   "outputs": [
    {
     "name": "stdout",
     "output_type": "stream",
     "text": [
      "Eigenvalues: [2. 3.]\n",
      "Eigenvectors:\n",
      " [[1. 0.]\n",
      " [0. 1.]]\n"
     ]
    }
   ],
   "source": [
    "matrix = np.array([[2, 0], [0, 3]])\n",
    "values, vectors = np.linalg.eig(matrix)\n",
    "print(\"Eigenvalues:\", values)\n",
    "print(\"Eigenvectors:\\n\", vectors)"
   ]
  },
  {
   "cell_type": "markdown",
   "id": "50049fa3-d322-4c24-88f1-6d0d561677de",
   "metadata": {},
   "source": [
    "## 11) Random Sampling"
   ]
  },
  {
   "cell_type": "markdown",
   "id": "24e837c9-eecf-49f5-ba5a-702a97716a97",
   "metadata": {},
   "source": [
    "Selecting random elements from an array."
   ]
  },
  {
   "cell_type": "markdown",
   "id": "97d42507-5401-4793-87af-cfa464293011",
   "metadata": {},
   "source": [
    "Important Points:\n",
    "\n",
    "+ replace=True → allows repetition.\n",
    "+ replace=False → no repetition.\n",
    "+ Useful for simulations and testing."
   ]
  },
  {
   "cell_type": "code",
   "execution_count": 39,
   "id": "a7a8ea1a-b205-45ab-a5f4-e1428eb5dd5c",
   "metadata": {},
   "outputs": [
    {
     "name": "stdout",
     "output_type": "stream",
     "text": [
      "[50 20 40]\n"
     ]
    }
   ],
   "source": [
    "arr = np.array([10, 20, 30, 40, 50])\n",
    "sample = np.random.choice(arr, size=3, replace=False)\n",
    "print(sample)"
   ]
  },
  {
   "cell_type": "markdown",
   "id": "36d7bc75-71c6-4afa-8111-b3fa8e22dcaa",
   "metadata": {},
   "source": [
    "## 12) Avoiding Copy`"
   ]
  },
  {
   "cell_type": "markdown",
   "id": "08defb3e-81cb-452d-92ba-0917c696320e",
   "metadata": {},
   "source": [
    "Create an independent copy of an array to avoid unintentional changes."
   ]
  },
  {
   "cell_type": "markdown",
   "id": "0f38483c-95f1-428b-911f-5af116bba72c",
   "metadata": {},
   "source": [
    "Important Points:\n",
    "\n",
    "+ Without .copy(), modifying one array may affect the original.\n",
    "+ Always use .copy() when you want a safe duplicate."
   ]
  },
  {
   "cell_type": "code",
   "execution_count": 48,
   "id": "d641ffc6-8395-4b8b-b78a-89a3013106ca",
   "metadata": {},
   "outputs": [
    {
     "name": "stdout",
     "output_type": "stream",
     "text": [
      "[1 2 3]\n",
      "[100   2   3]\n"
     ]
    }
   ],
   "source": [
    "arr = np.array([1, 2, 3])\n",
    "new_arr = arr.copy()\n",
    "new_arr[0] = 100\n",
    "print(arr)      # Original unchanged\n",
    "print(new_arr)  # Modified copy"
   ]
  },
  {
   "cell_type": "markdown",
   "id": "12b40960-7afa-4431-975a-9054c17c52df",
   "metadata": {},
   "source": [
    "## 13) Handling NaN"
   ]
  },
  {
   "cell_type": "markdown",
   "id": "0a7cab47-ec78-4cbc-beed-6dbf53394d58",
   "metadata": {},
   "source": [
    "Detecting and working with missing or invalid numerical values (NaN)."
   ]
  },
  {
   "cell_type": "markdown",
   "id": "206dd41d-265a-4a25-91d9-6085cde182fb",
   "metadata": {},
   "source": [
    "Important Points:\n",
    "\n",
    "+ np.isnan() → detects NaNs.\n",
    "+ .any() checks if any element is NaN.\n",
    "\n"
   ]
  },
  {
   "cell_type": "code",
   "execution_count": 59,
   "id": "5dcbbfb8-bc7f-4375-8216-f3d64c0b7661",
   "metadata": {},
   "outputs": [
    {
     "name": "stdout",
     "output_type": "stream",
     "text": [
      "Contains NaN? : True\n"
     ]
    }
   ],
   "source": [
    "arr = np.array([1, np.nan, 3])\n",
    "has_nan = np.isnan(arr).any()\n",
    "print(\"Contains NaN? :\", has_nan)"
   ]
  },
  {
   "cell_type": "markdown",
   "id": "99c4eec9-eb10-47f4-a7b7-e53226046c20",
   "metadata": {},
   "source": [
    "## 14) Vectorized Operations\n"
   ]
  },
  {
   "cell_type": "markdown",
   "id": "a4ba4f3d-4d68-4f6b-a2cd-aa591978f76a",
   "metadata": {},
   "source": [
    "Performing operations on entire arrays without using loops.\n",
    "\n"
   ]
  },
  {
   "cell_type": "markdown",
   "id": "b0a432f8-b45f-4382-81fc-370b3328ba97",
   "metadata": {},
   "source": [
    "Important Points:\n",
    "\n",
    "+ Faster than Python loops.\n",
    "+ Takes advantage of NumPy’s optimized C backend."
   ]
  },
  {
   "cell_type": "code",
   "execution_count": 64,
   "id": "823c8d2c-be5f-4929-9bed-de25bd3593dd",
   "metadata": {},
   "outputs": [
    {
     "name": "stdout",
     "output_type": "stream",
     "text": [
      "[0.0000000e+00 1.0000000e+00 1.2246468e-16]\n"
     ]
    }
   ],
   "source": [
    "arr = np.array([0, np.pi/2, np.pi])\n",
    "result = np.sin(arr)\n",
    "print(result)\n"
   ]
  },
  {
   "cell_type": "markdown",
   "id": "b7a5f6fa-6741-47bf-a11a-6ce352911dc8",
   "metadata": {},
   "source": [
    "## 15) Save and Load"
   ]
  },
  {
   "cell_type": "markdown",
   "id": "67dc4abc-d559-4eac-bef8-458f466acda0",
   "metadata": {},
   "source": [
    "Saving arrays to disk and loading them later."
   ]
  },
  {
   "cell_type": "markdown",
   "id": "e001524e-cccf-4486-8449-9852ff7026a7",
   "metadata": {},
   "source": [
    "Important Points:\n",
    "\n",
    "+ .npy format is NumPy’s native binary storage.\n",
    "+ Preserves data type and shape."
   ]
  },
  {
   "cell_type": "code",
   "execution_count": 69,
   "id": "9dc5d74c-7906-4f3f-9857-f884724253f7",
   "metadata": {},
   "outputs": [
    {
     "name": "stdout",
     "output_type": "stream",
     "text": [
      "[1 2 3]\n"
     ]
    }
   ],
   "source": [
    "arr = np.array([1, 2, 3])\n",
    "np.save('my_array.npy', arr)\n",
    "loaded_arr = np.load('my_array.npy')\n",
    "print(loaded_arr)"
   ]
  },
  {
   "cell_type": "markdown",
   "id": "e3143028-3bee-4f94-9eb8-9dec11c80db5",
   "metadata": {},
   "source": [
    "## 16) Memory Usage"
   ]
  },
  {
   "cell_type": "markdown",
   "id": "d0feae77-c5cb-43bc-8738-86c0b3a07482",
   "metadata": {},
   "source": [
    "Checking how much memory an array consumes.\n"
   ]
  },
  {
   "cell_type": "markdown",
   "id": "fe719a35-4f45-4492-97d9-2b4c204b3994",
   "metadata": {},
   "source": [
    "Important Points:\n",
    "\n",
    "+ .nbytes gives total memory in bytes.\n",
    "+ Memory depends on shape × element size."
   ]
  },
  {
   "cell_type": "code",
   "execution_count": null,
   "id": "9ab2f4d7-5c57-4486-b408-b799e806005b",
   "metadata": {},
   "outputs": [],
   "source": [
    "Example:\n",
    "\n",
    "arr = np.array([1, 2, 3], dtype=np.int32)\n",
    "print(\"Memory used:\", arr.nbytes, \"bytes\")"
   ]
  }
 ],
 "metadata": {
  "kernelspec": {
   "display_name": "Python [conda env:base] *",
   "language": "python",
   "name": "conda-base-py"
  },
  "language_info": {
   "codemirror_mode": {
    "name": "ipython",
    "version": 3
   },
   "file_extension": ".py",
   "mimetype": "text/x-python",
   "name": "python",
   "nbconvert_exporter": "python",
   "pygments_lexer": "ipython3",
   "version": "3.12.4"
  }
 },
 "nbformat": 4,
 "nbformat_minor": 5
}
