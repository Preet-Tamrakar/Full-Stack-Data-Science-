{
 "cells": [
  {
   "cell_type": "markdown",
   "id": "de0362b0-2a83-4012-a5db-cd587a1ac356",
   "metadata": {},
   "source": [
    "# input()"
   ]
  },
  {
   "cell_type": "markdown",
   "id": "a73b20ba-fc27-4b77-ac70-9e6e9e2a75ae",
   "metadata": {},
   "source": [
    "The input() function is used to take input from the user during program execution."
   ]
  },
  {
   "cell_type": "markdown",
   "id": "2e414338-b594-4729-bbed-98968a37a0cb",
   "metadata": {},
   "source": [
    "### Whenever the user types is always received as a string (text), ever if they enter a number."
   ]
  },
  {
   "cell_type": "code",
   "execution_count": 5,
   "id": "d95b6bdd-5095-4f45-b938-299597057d5d",
   "metadata": {},
   "outputs": [
    {
     "name": "stdin",
     "output_type": "stream",
     "text": [
      "evter values 10\n"
     ]
    },
    {
     "data": {
      "text/plain": [
       "str"
      ]
     },
     "execution_count": 5,
     "metadata": {},
     "output_type": "execute_result"
    }
   ],
   "source": [
    "x = input('evter values')\n",
    "type(x)"
   ]
  },
  {
   "cell_type": "markdown",
   "id": "24267bfc-53df-47a9-a32b-92824717e3e2",
   "metadata": {},
   "source": [
    "### Write a program to read 2 numbers from the keyboard & print sum"
   ]
  },
  {
   "cell_type": "code",
   "execution_count": 1,
   "id": "53a4dc35-bb57-4481-9ae4-b48ddcfabb0c",
   "metadata": {},
   "outputs": [
    {
     "name": "stdin",
     "output_type": "stream",
     "text": [
      "Enter 1st Number:  21\n",
      "Enter 2nd Number:  89\n"
     ]
    },
    {
     "name": "stdout",
     "output_type": "stream",
     "text": [
      "The sum of 21 and 89 is 110\n"
     ]
    }
   ],
   "source": [
    "a = int(input(\"Enter 1st Number: \"))\n",
    "b = int(input(\"Enter 2nd Number: \"))\n",
    "print(f'The sum of {a} and {b} is {a+b}')"
   ]
  },
  {
   "cell_type": "markdown",
   "id": "468a2d94-7282-4fe5-8783-e0353018b5c8",
   "metadata": {},
   "source": [
    "### How to read multiple values from the keyboard in a single line "
   ]
  },
  {
   "cell_type": "code",
   "execution_count": 8,
   "id": "11ae9392-bd8a-4ff4-a287-81ae8d479fb6",
   "metadata": {},
   "outputs": [
    {
     "name": "stdin",
     "output_type": "stream",
     "text": [
      "Enter 2 Numbers: 123456789,147258369\n"
     ]
    },
    {
     "name": "stdout",
     "output_type": "stream",
     "text": [
      "Product of 123456789 and 147258369 is 18180045390117141\n"
     ]
    }
   ],
   "source": [
    "a,b = [int(x) for x in input('Enter 2 Numbers:').split(\",\")]\n",
    "print(f'Product of {a} and {b} is {a*b}')"
   ]
  },
  {
   "cell_type": "code",
   "execution_count": 10,
   "id": "1c60a69f-df6b-4c38-9a5a-b74599f5468a",
   "metadata": {},
   "outputs": [
    {
     "name": "stdin",
     "output_type": "stream",
     "text": [
      "Enter 2 Numbers: 2,10\n"
     ]
    },
    {
     "name": "stdout",
     "output_type": "stream",
     "text": [
      "Product of 2 and 10 is 20\n"
     ]
    }
   ],
   "source": [
    "a,b = [int(x) for x in input('Enter 2 Numbers:').split(\",\")]\n",
    "print(f'Product of {a} and {b} is {a*b}')"
   ]
  },
  {
   "cell_type": "code",
   "execution_count": 12,
   "id": "0c51924a-853f-47bc-a57b-ceafebba2b46",
   "metadata": {},
   "outputs": [
    {
     "name": "stdin",
     "output_type": "stream",
     "text": [
      "Enter 3 float number: 29.9,30.5,50.2\n"
     ]
    },
    {
     "data": {
      "text/plain": [
       "'the product of 29.9 and 30.5 and 50.2 is 45779.89'"
      ]
     },
     "execution_count": 12,
     "metadata": {},
     "output_type": "execute_result"
    }
   ],
   "source": [
    "a,b,c = [float(x) for x in input('Enter 3 float number:').split(',')]\n",
    "f'the product of {a} and {b} and {c} is {a*b*c}'"
   ]
  },
  {
   "cell_type": "markdown",
   "id": "e5dfe9da-a05b-4c4e-9cc8-ef1320f37131",
   "metadata": {},
   "source": [
    "# eval()"
   ]
  },
  {
   "cell_type": "markdown",
   "id": "ea747d2d-d119-4927-8c60-ac60b3e6bf38",
   "metadata": {},
   "source": [
    "eval() function take string and eavaluate the result"
   ]
  },
  {
   "cell_type": "markdown",
   "id": "a328c5b7-b623-46a7-8b3a-1304a1972947",
   "metadata": {},
   "source": [
    "eval() is a built-in Python function that evaluates a string as a Python expression and returns the result."
   ]
  },
  {
   "cell_type": "code",
   "execution_count": 17,
   "id": "2c17f924-17eb-446d-af13-0bf5f6946629",
   "metadata": {},
   "outputs": [
    {
     "data": {
      "text/plain": [
       "(10, 20, 30)"
      ]
     },
     "execution_count": 17,
     "metadata": {},
     "output_type": "execute_result"
    }
   ],
   "source": [
    "x = eval('10,20,30')\n",
    "x"
   ]
  },
  {
   "cell_type": "code",
   "execution_count": 21,
   "id": "f975e75d-3403-476b-81a9-8c557865aec8",
   "metadata": {},
   "outputs": [
    {
     "name": "stdin",
     "output_type": "stream",
     "text": [
      "enter list 20,30,50\n"
     ]
    },
    {
     "data": {
      "text/plain": [
       "[20, 30, 50]"
      ]
     },
     "execution_count": 21,
     "metadata": {},
     "output_type": "execute_result"
    }
   ],
   "source": [
    "x = list(eval(input('enter list')))\n",
    "x"
   ]
  },
  {
   "cell_type": "code",
   "execution_count": 23,
   "id": "6ea45f51-0c10-4838-8ff2-9d80c03cfc41",
   "metadata": {},
   "outputs": [
    {
     "data": {
      "text/plain": [
       "[20, 30, 50]"
      ]
     },
     "execution_count": 23,
     "metadata": {},
     "output_type": "execute_result"
    }
   ],
   "source": [
    "list(x)"
   ]
  },
  {
   "cell_type": "code",
   "execution_count": 25,
   "id": "1a33e285-9e7a-42c7-b3df-b0e9d6d70b81",
   "metadata": {},
   "outputs": [
    {
     "name": "stdout",
     "output_type": "stream",
     "text": [
      "20\n",
      "30\n",
      "40\n"
     ]
    }
   ],
   "source": [
    "l = [20,30,40]\n",
    "for x in l:\n",
    "    print(x)"
   ]
  },
  {
   "cell_type": "markdown",
   "id": "ab3b41c5-3eb6-494c-bb10-4b3467f4c5c0",
   "metadata": {},
   "source": [
    "# Output Statements"
   ]
  },
  {
   "cell_type": "markdown",
   "id": "c175393d-4988-420f-85aa-563c720e3606",
   "metadata": {},
   "source": [
    "We can use print() function to display output."
   ]
  },
  {
   "cell_type": "markdown",
   "id": "6b0e9d21-ffde-45c7-905a-2a1c0d543160",
   "metadata": {},
   "source": [
    "### Form-1"
   ]
  },
  {
   "cell_type": "markdown",
   "id": "84697ac5-5ba3-4dca-8c6c-9312df0f4072",
   "metadata": {},
   "source": [
    "print() with out any argument just it print new line character."
   ]
  },
  {
   "cell_type": "code",
   "execution_count": 31,
   "id": "8830b858-3cf9-467b-90e9-263a1b3d5320",
   "metadata": {},
   "outputs": [
    {
     "name": "stdout",
     "output_type": "stream",
     "text": [
      "\n"
     ]
    }
   ],
   "source": [
    "print()"
   ]
  },
  {
   "cell_type": "markdown",
   "id": "1bbdcb04-75c8-4a02-9474-377ced5dcbe2",
   "metadata": {},
   "source": [
    "### Form-2"
   ]
  },
  {
   "cell_type": "code",
   "execution_count": 34,
   "id": "2ba291cb-a95d-445b-870e-92db499b622a",
   "metadata": {},
   "outputs": [
    {
     "name": "stdout",
     "output_type": "stream",
     "text": [
      "Hello World\n"
     ]
    }
   ],
   "source": [
    "print('Hello World')"
   ]
  },
  {
   "cell_type": "code",
   "execution_count": 36,
   "id": "75ff4642-65b0-4d73-a208-da6e683fe5ce",
   "metadata": {},
   "outputs": [],
   "source": [
    "#### \\n -> New line\n",
    "#### \\t -> Horizontal Tab\n",
    "#### \\r -> Carriage Return\n",
    "#### \\b -> Back Space\n",
    "#### \\f -> Form Feed\n",
    "#### \\v -> Vertical Tab\n",
    "#### \\' -> Single Quote\n",
    "#### \\\" -> Double Quote\n",
    "#### \\\\ -> Back Slash Symbol"
   ]
  },
  {
   "cell_type": "code",
   "execution_count": 38,
   "id": "f8e52a6e-f7f4-4598-a3f3-3455835fc7cb",
   "metadata": {},
   "outputs": [
    {
     "name": "stdout",
     "output_type": "stream",
     "text": [
      "Hello \n",
      " world\n"
     ]
    }
   ],
   "source": [
    "# we can use escape characters also\n",
    "print('Hello \\n world') # New line"
   ]
  },
  {
   "cell_type": "code",
   "execution_count": 40,
   "id": "b68a2bd7-7e3d-4394-a237-4986dfad3107",
   "metadata": {},
   "outputs": [
    {
     "name": "stdout",
     "output_type": "stream",
     "text": [
      "Hello \t world\n"
     ]
    }
   ],
   "source": [
    "print('Hello \\t world') # Horizontal Tab"
   ]
  },
  {
   "cell_type": "code",
   "execution_count": 42,
   "id": "969d6502-2ffb-459d-81b6-b16d194b3cc7",
   "metadata": {},
   "outputs": [
    {
     "name": "stdout",
     "output_type": "stream",
     "text": [
      " world\n"
     ]
    }
   ],
   "source": [
    "print('Hello \\r world') # Carriage Return"
   ]
  },
  {
   "cell_type": "markdown",
   "id": "25bc8fdb-74c5-4157-9a08-dab522cc1d32",
   "metadata": {},
   "source": [
    "### Form-3"
   ]
  },
  {
   "cell_type": "code",
   "execution_count": 45,
   "id": "18a753d5-4af6-40c2-a872-a7fd950421e5",
   "metadata": {},
   "outputs": [
    {
     "name": "stdout",
     "output_type": "stream",
     "text": [
      "The Values are: 10 20 30\n"
     ]
    }
   ],
   "source": [
    "# print() with variable number of arguments\n",
    "a,b,c = 10,20,30\n",
    "print('The Values are:',a,b,c)"
   ]
  },
  {
   "cell_type": "markdown",
   "id": "25eb1f55-0b9b-402c-99a6-9c678bce983c",
   "metadata": {},
   "source": [
    "by default output values are seperated by space. if we want we can specify seperator by usig 'sep' attribute"
   ]
  },
  {
   "cell_type": "code",
   "execution_count": 49,
   "id": "1393e956-d07b-40f6-9f30-3cbbf65a454d",
   "metadata": {},
   "outputs": [
    {
     "name": "stdout",
     "output_type": "stream",
     "text": [
      "10 - 20 - 30\n"
     ]
    }
   ],
   "source": [
    "print(a,b,c,sep=' - ')"
   ]
  },
  {
   "cell_type": "markdown",
   "id": "38223cb0-22c5-4788-ab0a-aa5d4e1985b1",
   "metadata": {},
   "source": [
    "### Form -4 print() with end attribute"
   ]
  },
  {
   "cell_type": "code",
   "execution_count": 52,
   "id": "9ee247f4-3e52-49c8-9731-d1c051f60ac4",
   "metadata": {},
   "outputs": [
    {
     "name": "stdout",
     "output_type": "stream",
     "text": [
      "Preet\n",
      "Learning\n",
      "DS\n"
     ]
    }
   ],
   "source": [
    "print('Preet')\n",
    "print('Learning')\n",
    "print('DS')"
   ]
  },
  {
   "cell_type": "code",
   "execution_count": 54,
   "id": "003b7d12-7362-41b0-b20f-c3856e60074b",
   "metadata": {},
   "outputs": [
    {
     "name": "stdout",
     "output_type": "stream",
     "text": [
      "Preet Learning DS\n"
     ]
    }
   ],
   "source": [
    "print('Preet',end=' ') # if we want output in the same line.\n",
    "print('Learning',end=' ')\n",
    "print('DS')"
   ]
  },
  {
   "cell_type": "markdown",
   "id": "7dda8446-d115-461b-8ecd-55a7cec5f9dd",
   "metadata": {},
   "source": [
    "### Using .format()"
   ]
  },
  {
   "cell_type": "code",
   "execution_count": 57,
   "id": "814e4f32-d303-40e6-beea-d515c70fa6db",
   "metadata": {},
   "outputs": [
    {
     "name": "stdout",
     "output_type": "stream",
     "text": [
      "My name is Preet and I am 23 years old.\n"
     ]
    }
   ],
   "source": [
    "name = \"Preet\"\n",
    "age = 23\n",
    "print(\"My name is {} and I am {} years old.\".format(name, age))"
   ]
  },
  {
   "cell_type": "markdown",
   "id": "cbf708ca-e37d-47f6-b158-9ec49186a68d",
   "metadata": {},
   "source": [
    "#### Using f-strings (Recommended in Python 3.6+)"
   ]
  },
  {
   "cell_type": "code",
   "execution_count": null,
   "id": "b48d6359-6ab9-4abb-8715-d9fa909c0c73",
   "metadata": {},
   "outputs": [],
   "source": []
  }
 ],
 "metadata": {
  "kernelspec": {
   "display_name": "Python [conda env:base] *",
   "language": "python",
   "name": "conda-base-py"
  },
  "language_info": {
   "codemirror_mode": {
    "name": "ipython",
    "version": 3
   },
   "file_extension": ".py",
   "mimetype": "text/x-python",
   "name": "python",
   "nbconvert_exporter": "python",
   "pygments_lexer": "ipython3",
   "version": "3.12.4"
  }
 },
 "nbformat": 4,
 "nbformat_minor": 5
}
